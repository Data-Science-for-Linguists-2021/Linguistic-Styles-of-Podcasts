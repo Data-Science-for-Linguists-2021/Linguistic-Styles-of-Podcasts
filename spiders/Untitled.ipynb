{
 "cells": [
  {
   "cell_type": "code",
   "execution_count": null,
   "metadata": {},
   "outputs": [],
   "source": [
    "import scrapy\n",
    "from scrapy.crawler import CrawlerProcess"
   ]
  },
  {
   "cell_type": "code",
   "execution_count": null,
   "metadata": {},
   "outputs": [],
   "source": [
    "eps = []\n",
    "titles = []\n",
    "text = []"
   ]
  },
  {
   "cell_type": "code",
   "execution_count": null,
   "metadata": {},
   "outputs": [],
   "source": [
    "# parses transcript links\n",
    "class Lore(scrapy.Spider):\n",
    "    name = 'Lore'\n",
    "    \n",
    "    def start_requests(self):\n",
    "        base_url = 'https://www.nutritiousmovement.com/category/podcast-transcripts/page/'\n",
    "        urls = []\n",
    "        for i in range(2, 15):\n",
    "            urls.append(base_url + str(i) + '/')\n",
    "        # print(urls) # Urls are correct\n",
    "        for url in urls:\n",
    "            yield scrapy.Request(url=url, callback=self.parse_episode)\n",
    "        \n",
    "    def parse_episode(self, response):\n",
    "        transcript_links = response.xpath('//main[@class=\"content\"]//article/div/header/h2/a/@href').extract() \n",
    "        # print([l for l in transcript_links])\n",
    "        for link in transcript_links:\n",
    "            yield response.follow(url=link, \n",
    "                                  callback =self.parse_transcript)\n",
    "    \n",
    "    def parse_transcript(self, response):        \n",
    "        # Title - done, clean\n",
    "        title = str(response.xpath('//h1[@itemprop=\"headline\"]/text()').extract())\n",
    "        clean_title = title[2:-2].split(' – Podcast Episode #')\n",
    "        ep_title = clean_title[0]\n",
    "        ep_number = clean_title[1]\n",
    "        \n",
    "        # Text - NEEDS CLEANED!\n",
    "        text = response.css(' div.entry-content p > *::text').extract()\n",
    "        text = [t.lower() for t in text]\n",
    "        text = text[text.index('podcast transcript') + 1:]\n",
    "        myDNA_data.append((ep_number, ep_title, text))"
   ]
  },
  {
   "cell_type": "code",
   "execution_count": null,
   "metadata": {},
   "outputs": [],
   "source": []
  },
  {
   "cell_type": "code",
   "execution_count": null,
   "metadata": {},
   "outputs": [],
   "source": []
  }
 ],
 "metadata": {
  "kernelspec": {
   "display_name": "Python 3",
   "language": "python",
   "name": "python3"
  },
  "language_info": {
   "codemirror_mode": {
    "name": "ipython",
    "version": 3
   },
   "file_extension": ".py",
   "mimetype": "text/x-python",
   "name": "python",
   "nbconvert_exporter": "python",
   "pygments_lexer": "ipython3",
   "version": "3.8.5"
  }
 },
 "nbformat": 4,
 "nbformat_minor": 4
}
