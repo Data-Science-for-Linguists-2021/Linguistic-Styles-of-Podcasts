{
 "cells": [
  {
   "cell_type": "code",
   "execution_count": 12,
   "metadata": {},
   "outputs": [
    {
     "ename": "ImportError",
     "evalue": "cannot import name 'getNumPages' from 'PyPDF2' (C:\\Users\\Abby\\anaconda3\\lib\\site-packages\\PyPDF2\\__init__.py)",
     "output_type": "error",
     "traceback": [
      "\u001b[1;31m---------------------------------------------------------------------------\u001b[0m",
      "\u001b[1;31mImportError\u001b[0m                               Traceback (most recent call last)",
      "\u001b[1;32m<ipython-input-12-7b6c532aa4ff>\u001b[0m in \u001b[0;36m<module>\u001b[1;34m\u001b[0m\n\u001b[0;32m      3\u001b[0m \u001b[1;32mimport\u001b[0m \u001b[0mrequests\u001b[0m\u001b[1;33m\u001b[0m\u001b[1;33m\u001b[0m\u001b[0m\n\u001b[0;32m      4\u001b[0m \u001b[1;32mfrom\u001b[0m \u001b[0mPyPDF2\u001b[0m \u001b[1;32mimport\u001b[0m \u001b[0mPdfFileReader\u001b[0m\u001b[1;33m\u001b[0m\u001b[1;33m\u001b[0m\u001b[0m\n\u001b[1;32m----> 5\u001b[1;33m \u001b[1;32mfrom\u001b[0m \u001b[0mPyPDF2\u001b[0m \u001b[1;32mimport\u001b[0m \u001b[0mgetNumPages\u001b[0m\u001b[1;33m\u001b[0m\u001b[1;33m\u001b[0m\u001b[0m\n\u001b[0m",
      "\u001b[1;31mImportError\u001b[0m: cannot import name 'getNumPages' from 'PyPDF2' (C:\\Users\\Abby\\anaconda3\\lib\\site-packages\\PyPDF2\\__init__.py)"
     ]
    }
   ],
   "source": [
    "import io\n",
    "import re\n",
    "import requests\n",
    "from PyPDF2 import PdfFileReader\n",
    "from PyPDF2 import getNumPages"
   ]
  },
  {
   "cell_type": "code",
   "execution_count": 2,
   "metadata": {},
   "outputs": [],
   "source": [
    "# import pdf_links from maxfun scraper\n",
    "%store -r pdf_links"
   ]
  },
  {
   "cell_type": "code",
   "execution_count": 3,
   "metadata": {},
   "outputs": [
    {
     "name": "stdout",
     "output_type": "stream",
     "text": [
      "['https://maximumfun.org/wp-content/uploads/2021/01/Sawbones-Ep347-Hypodermic-Needles.pdf', 'https://maximumfun.org/wp-content/uploads/2021/01/Shmanners-Ep236-Beatrix-Potter.pdf', 'https://maximumfun.org/wp-content/uploads/2021/02/TGG-Ep.-340_Final-Draft.pdf', 'https://maximumfun.org/wp-content/uploads/2021/01/MBMBaM-Ep535-Ethical-Joker-Termination.pdf', 'https://maximumfun.org/wp-content/uploads/2021/02/TGG-Ep.-332_Final-Draft.pdf']\n",
      "195\n"
     ]
    }
   ],
   "source": [
    "print(pdf_links[:5])\n",
    "print(len(pdf_links))\n"
   ]
  },
  {
   "cell_type": "code",
   "execution_count": 10,
   "metadata": {},
   "outputs": [
    {
     "ename": "NameError",
     "evalue": "name 'getNumPages' is not defined",
     "output_type": "error",
     "traceback": [
      "\u001b[1;31m---------------------------------------------------------------------------\u001b[0m",
      "\u001b[1;31mNameError\u001b[0m                                 Traceback (most recent call last)",
      "\u001b[1;32m<ipython-input-10-0e413f8ed67b>\u001b[0m in \u001b[0;36m<module>\u001b[1;34m\u001b[0m\n\u001b[1;32m----> 1\u001b[1;33m \u001b[0mgetNumPages\u001b[0m\u001b[1;33m(\u001b[0m\u001b[0mpdf_links\u001b[0m\u001b[1;33m[\u001b[0m\u001b[1;36m0\u001b[0m\u001b[1;33m]\u001b[0m\u001b[1;33m)\u001b[0m\u001b[1;33m\u001b[0m\u001b[1;33m\u001b[0m\u001b[0m\n\u001b[0m",
      "\u001b[1;31mNameError\u001b[0m: name 'getNumPages' is not defined"
     ]
    }
   ],
   "source": [
    "getNumPages(pdf_links[0])"
   ]
  },
  {
   "cell_type": "code",
   "execution_count": 4,
   "metadata": {},
   "outputs": [
    {
     "data": {
      "text/plain": [
       "'TGG-Ep.-332_Final-Draft'"
      ]
     },
     "execution_count": 4,
     "metadata": {},
     "output_type": "execute_result"
    }
   ],
   "source": [
    "def get_title(url):\n",
    "    title = url.split('/')[-1]\n",
    "    title = title.split('.pdf')[0]\n",
    "    return title\n",
    "\n",
    "get_title('https://maximumfun.org/wp-content/uploads/2021/02/TGG-Ep.-332_Final-Draft.pdf')"
   ]
  },
  {
   "cell_type": "code",
   "execution_count": 5,
   "metadata": {},
   "outputs": [],
   "source": [
    "for url in pdf_links:\n",
    "    title = get_title(url)\n",
    "    if len(title) == 0:\n",
    "        title += 'unknown'\n",
    "    r = requests.get(url)\n",
    "    f = io.BytesIO(r.content)\n",
    "    reader = PdfFileReader(f)\n",
    "    contents = []\n",
    "    \n",
    "    for i in range(getnumpages(url)):\n",
    "        text = reader.getPage(i).extractText()\n",
    "        contents.append((title, reader.getPage(i).extractText()))"
   ]
  },
  {
   "cell_type": "code",
   "execution_count": 6,
   "metadata": {},
   "outputs": [
    {
     "data": {
      "text/plain": [
       "[('FriendlyFire-Ep.129_Final-Draft',\n",
       "  ' \\n \\nN\\note:\\n \\nThis\\n \\nshow\\n \\nperiodically\\n \\nreplaces\\n \\ntheir\\n \\nad\\n \\nbreaks\\n \\nwith\\n \\nnew\\n \\npromotional\\n \\nclips.\\n \\nBecause\\n \\nof\\n \\nthis,\\n \\nboth\\n \\nthe\\n \\ntranscription\\n \\nfor\\n \\nthe\\n \\nclips\\n \\nand\\n \\nthe\\n \\ntimestamps\\n \\nafter\\n \\nthem\\n \\nmay\\n \\nbe\\n \\ninaccurate\\n \\nat\\n \\nthe\\n \\ntime\\n \\nof\\n \\nviewing\\n \\nthis\\n \\ntranscript.\\n \\n00:00:01\\n \\nMusic\\n \\nMusic\\n \\n\\nOtis\\n \\nand\\n \\nTien\\n \\nhave\\n \\nDinner\\n\\n \\nby\\n \\nTerence\\n \\nBla\\nnchard\\n \\nfrom\\n \\nDa\\n \\n5\\n \\nBloods\\n \\n(Original\\n \\nMotion\\n \\nPicture\\n \\nScore)\\n \\nplays\\n \\nin\\n \\nthe\\n \\nbackground.\\n \\nIt\\n\\ns\\n \\na\\n \\nslow,\\n \\nhaunting\\n \\nFrench\\n \\nhorn\\n \\nsolo.\\n \\n00:00:02\\n \\nAdam\\n \\nPranica\\n \\nHost\\n \\nWe\\n \\nall\\n \\nknow\\n \\nSpike\\n \\nLee.\\n \\nHe\\n\\ns\\n \\none\\n \\nof\\n \\na\\n \\nsmall\\n \\nhandful\\n \\nof\\n \\ndirectors\\n \\nthat\\n \\ntranscend\\n \\ntheir\\n \\nown\\n \\nmovies.\\n \\nAnd\\n \\nknow\\n \\nit\\n \\nor\\n \\nnot,\\n \\nwe\\n\\nve\\n \\nall\\n \\nbeen\\n \\nwaiting\\n \\nfor\\n \\nhim\\n \\nto\\n \\nmake\\n \\na\\n \\nwar\\n \\nmovie\\n \\nabout\\n \\nBlack\\n \\nsoldiers\\n \\nin\\n \\nVietnam.\\n \\nApparently,\\n \\nwe\\n\\nve\\n \\nbeen\\n \\nwaiting\\n \\nfor\\n \\nhim\\n \\nto\\n \\ndo\\n \\nit,\\n \\nbecause\\n \\ndespite\\n \\nthere\\n \\nbeing\\n \\na\\n \\nveritable\\n \\ngold\\n \\nmin\\ne\\n \\nof\\n \\nsource\\n \\nmaterial,\\n \\na\\n \\ntreasure\\n \\ntrove\\n \\nof\\n \\nexper\\nience\\n \\nand\\n \\nmemory\\n \\nfrom\\n \\nwhich\\n \\nto\\n \\ndraw,\\n \\nno\\n \\none\\n \\nelse\\n \\nhas\\n \\nyet\\n \\nmade\\n \\na\\n \\nmovie\\n \\nout\\n \\nof\\n \\nit\\n \\nwithout\\n \\nputting\\n \\nCharlie\\n \\nSheen\\n \\nor\\n \\nRobin\\n \\nWilliams\\n \\nin\\n \\nthere\\n \\nto\\n \\ninterrupt\\n \\nthe\\n \\nBlack\\n \\npeople\\n \\nwhile\\n \\nthey\\n\\nre\\n \\ntalking.\\n \\n \\nWhen\\n \\nDa\\n \\n5\\n \\nBloods\\n \\nw\\nas\\n \\nreleased,\\n \\nwe\\n \\nbounced\\n \\nit\\n \\nto\\n \\nthe\\n \\nfront\\n \\nof\\n \\nour\\n \\nqueue,\\n \\nas\\n \\nwe\\n \\nsometimes\\n \\ndo.\\n \\nAnd\\n \\nnot\\n \\njust\\n \\nbecause\\n \\nit\\n \\nwas\\n \\na\\n \\nmajor\\n \\nmotion\\n \\npicture\\n \\nevent,\\n \\nbut\\n \\nbecause\\n \\nit\\n \\nredressed\\n \\na\\n \\nglaring\\n \\nimbalance\\n \\nin\\n \\nthe\\n \\nwar\\n \\nmovie\\n \\npantheon\\n \\nand\\n \\nthe\\n \\nredresser\\n \\nwas\\n \\nfamous\\n \\nand\\n \\nfamously\\n \\nengaged\\n \\nin\\n \\nthe\\n \\nredressance.\\n \\n \\nWe\\n\\nre\\n \\ncoming\\n \\nup\\n \\non\\n \\nthe\\n \\nthird\\n \\nanniversary\\n \\nof\\n \\nFriendly\\n \\nFire\\n,\\n \\nand\\n \\none\\n \\nconsequence\\n \\nof\\n \\nwatching\\n \\nand\\n \\nreviewing\\n \\nclose\\n \\nto\\n \\n250\\n \\nmovies\\n \\nis\\n \\nthat\\n \\nwe\\n \\nall\\n \\nsee\\n \\nthe\\n \\nhand\\n \\nof\\n \\nthe\\n \\ndirector\\n \\nmuch\\n \\nmore\\n \\nreadily.\\n \\nThis\\n \\nhas\\n \\nbecome\\n \\nJohn\\n\\ns\\n \\njob\\n \\non\\n \\nFriendly\\n \\nFire\\n,\\n \\nand\\n \\nn\\not\\n \\njust\\n \\nbecause\\n \\nit\\n\\ns\\n \\na\\n \\nplace\\n \\nyou\\n \\ncan\\n \\nbe\\n \\ngracelessly\\n \\nmiddle\\n-\\naged,\\n \\nbearded,\\n \\nbespeckled,\\n \\nfat,\\n \\nand\\n \\nHawaiian\\n-\\nshirt\\n-\\nclad\\n \\nwith\\n \\nno\\n \\nconsequences.\\n \\nIt\\n\\ns\\n \\nmaybe\\n \\nthe\\n \\nmost\\n \\npowerful\\n \\nstorytelling\\n \\njob\\n \\nthere\\n \\nis,\\n \\nespecially\\n \\nwhen\\n \\nyou\\n \\ncan\\n \\nmarshal\\n \\nmillions\\n \\nof\\n \\ndollars\\n \\nand\\n \\nhundred\\ns\\n \\nof\\n \\npeople\\n \\ninto\\n \\nreal\\nizing\\n \\nyour\\n \\nvision.\\n \\n \\nMost\\n \\nof\\n \\nthe\\n \\ntime\\n \\na\\n \\nhandy\\n \\ndirector\\n \\nis\\n \\na\\n \\ndrawback.\\n \\nToo\\n \\nmany\\n \\nthink\\n-\\ny\\n \\neffects,\\n \\ntoo\\n \\nmuch\\n \\nscrewing\\n \\nwith\\n \\nthe\\n \\nstory\\n \\nunder\\n \\nthe\\n \\nguise\\n \\nof\\n \\ntelling\\n \\nthe\\n \\nstory,\\n \\nand\\n \\nalmost\\n \\nany\\n \\nfilm\\n \\ncan\\n \\ndevolve\\n \\ninto\\n \\nthe\\n \\nacid\\n \\ntrip\\n \\nsection\\n \\nof\\n \\nEasy\\n \\nRi\\nder\\n.\\n \\nSpike\\n \\nLee\\n \\nis\\n \\nuni\\nque\\n \\nin\\n \\nthis\\n \\nregard.\\n \\nDo\\n \\nyou\\n \\nfeel\\n \\nlike\\n \\nyou\\n \\nknow\\n \\nwho\\n \\nSteven\\n \\nSpielberg\\n \\nis\\n \\nwhen\\n \\nyou\\n \\nwatch\\n \\nJaws\\n?\\n \\nDoes\\n \\nGoodfellas\\n \\nilluminate\\n \\nwhat\\n \\nit\\n \\nmust\\n \\nbe\\n \\nlike\\n \\nto\\n \\nhave\\n \\na\\n \\nmeal\\n \\nwith\\n \\nMarty\\n \\nScorsese?\\n \\nBoy,\\n \\nwe\\n \\nsure\\n \\nlearned\\n \\na\\n \\nlot\\n \\nabout\\n \\nChristopher\\n \\nNolan\\n \\nafter\\n \\nDun\\nkirk\\n,\\n \\nright?\\n \\n \\nOf\\n \\ncour\\nse\\n \\nnot.\\n \\nAnd\\n \\nyet\\n \\nafter\\n \\na\\n \\nfew\\n \\nSpike\\n \\nLee\\n \\nfilms,\\n \\nit\\n \\nfeels\\n \\nlike\\n \\nhe\\n\\ns\\n \\nsaying\\n \\nsomething\\n \\ndirectly\\n \\nto\\n \\nyou\\n \\nabout\\n \\nhow\\n \\nhe\\n \\nsees\\n \\nthe\\n \\nworld.\\n \\nAnd\\n \\nhe\\n \\nwants\\n \\nyou\\n \\nto\\n \\nsee\\n \\nit\\n \\nto\\no\\n.\\n \\nIt\\n\\ns\\n \\na\\n \\nquality\\n \\nfelt\\n \\nstrongly\\n \\nin\\n \\nso\\n \\nmany\\n \\nof\\n \\nhis\\n \\nfilms\\n \\nand\\n \\nespecially\\n \\nin\\n \\nDa\\n \\n5\\n \\nB\\nloods\\n.\\n \\nIt\\n\\ns\\n \\nabout\\n \\nBlack\\n \\nwar\\n \\nveterans\\n \\nwho\\n \\nfought\\n \\ntogether\\n \\nin\\n \\nVietnam\\n \\nreturning\\n \\nthere\\n \\non\\n \\na\\n \\nperson\\nal\\n \\nmission\\n \\ndecades\\n \\nlater\\n \\nin\\n \\na\\n \\nfilm\\n \\nthat\\n \\nitself\\n \\nfeels\\n \\nlike\\n \\na\\n \\npersonal\\n \\nmission\\n \\nof\\n \\nSpike\\n \\nlee.\\n \\n'),\n",
       " ('FriendlyFire-Ep.129_Final-Draft',\n",
       "  \" \\n \\n00:02:14\\n \\nAdam\\n \\nHost\\n \\nDa\\n \\n5\\n \\nBloods\\n \\nis\\n \\nmore\\n \\nthan\\n \\na\\n \\nfilm\\n \\nabout\\n \\nthe\\n \\nVietnam\\n \\nW\\nar.\\n \\n\\n \\nabou\\nt\\n \\nthe\\n \\ntrauma\\n \\nendured\\n \\nby\\n \\nBlack\\n \\nservicemen,\\n \\nexploited\\n \\nand\\n \\ndisenfranchised\\n \\nby\\n \\nour\\n \\ncountry\\n \\nfor\\n \\ngenerations.\\n \\nFour\\n \\nof\\n \\nthe\\n \\nBloods\\n \\nvisit\\n \\nVietnam\\n \\nto\\n \\nrecover\\n \\nthe\\n \\nfifth\\n \\n\\n \\nremains,\\n \\nwith\\n \\na\\n \\nlittle\\n \\nside\\n \\ntrip\\n \\nto\\n \\nrecover\\n \\na\\n \\nColeman\\n \\nbeer\\n \\ncooler\\n \\nfull\\n \\nof\\n \\ngo\\nld\\n \\nbars.\\n \\nBut\\n \\ni\\n\\n \\nthe\\n \\nfifth\\n \\nBlood\\n \\nwhere\\n \\nI\\n \\nthink\\n \\nthe\\n \\nhand\\n \\nof\\n \\nthe\\n \\nfilmmaker\\n \\nis\\n \\nfelt\\n \\nthe\\n \\nmost.\\n \\nJust\\n \\nas\\n \\nin\\n \\nDo\\n \\nthe\\n \\nRight\\n \\nThing\\n \\nthere\\n \\nwas\\n \\nMookie,\\n \\n\\n \\nNorman\\n \\nis\\n \\nthere\\n \\nto\\n \\nmake\\n \\nthe\\n \\nBloods\\n \\nand\\n \\nus\\n \\nconfront\\n \\nthe\\n \\nhistoric\\n \\nand\\n \\npresent\\n-\\nday\\n \\ndevaluation\\n \\nof\\n \\nBlack\\n \\nlife\\n \\ni\\nn\\n \\na\\n \\nway\\n \\nthat\\n \\nf\\neels\\n \\ndirect\\n \\nand\\n \\npersonal.\\n \\n \\nBut\\n \\n\\n \\nPaul\\n \\nwho\\n \\nis\\n \\nour\\n \\nmain\\n \\ncharacter.\\n \\nAnd\\n \\nhis\\n \\ntrauma\\n \\nis\\n \\nat\\n \\nthe\\n \\nforefront\\n \\nin\\n \\na\\n \\nperformance\\n \\nhauntingly\\n \\nportrayed\\n \\nby\\n \\nDelroy\\n \\nLindo.\\n \\nThat\\n \\nhis\\n \\ndark\\n \\nsecret\\n \\n\\n \\nthe\\n \\nsource\\n \\nof\\n \\nhis\\n \\ntrauma,\\n \\nbut\\n \\nrather\\n \\none\\n \\nof\\n \\nthe\\n \\nmany\\n \\nface\\nts\\n \\nof\\n \\nit,\\n \\nis\\n \\na\\n \\nreminder\\n \\nthat\\n \\nguilt\\n \\ncan\\n \\ndestroy\\n \\na\\n \\nperson\\n \\njust\\n \\nas\\n \\neasily\\n \\nas\\n \\naddiction\\n \\nor\\n \\nbankruptcy\\n \\nor\\n \\na\\n \\nland\\n \\nmine.\\n \\nAnd\\n \\nso\\n \\nthe\\n \\nBloods\\n\\ninspired\\n \\nby\\n \\nthe\\n \\nmemories\\n \\nof\\n \\n\\n \\n\\n \\nmany\\n \\ncivics\\n \\nlessons\\n \\nwhile\\n \\non\\n \\npatrol\\n\\ndecide\\n \\nto\\n \\nuse\\n \\nthe\\n \\ngold\\n \\nfor\\n \\nthe\\n \\nbenefit\\n \\nof\\n \\ntheir\\n \\ncommunit\\nies,\\n \\nonce\\n \\nthey\\n \\nget\\n \\nit\\n \\nout\\n \\nof\\n \\nthe\\n \\ncountry.\\n \\n \\n\\n \\nthe\\n \\nplan,\\n \\nanyway.\\n \\nBut\\n \\nto\\n \\nsummarize\\n \\nthe\\n \\n\\n \\nstory\\n \\nas\\n \\na\\n \\nsearch\\n \\nfor\\n \\ngold\\n \\n\\n \\ncome\\n \\nclose\\n \\nto\\n \\nencapsulating\\n \\nit\\ns\\n \\nsprawl\\n \\nas\\n \\na\\n \\nheist\\n \\nfilm,\\n \\na\\n \\nwar\\n \\nfilm,\\n \\na\\n \\ncranky\\n-\\nold\\n-\\nman\\n \\ncomedy,\\n \\nand\\n \\na\\n \\nhistory\\n \\nles\\ns\\non\\n \\nthat\\n \\nyou\\n \\nw\\n\\n \\nfind\\n \\nin\\n \\nany\\n \\nhigh\\n \\nschool\\n \\nhistory\\n \\ntextbooks.\\n \\n\\n \\na\\n \\nproject\\n \\nof\\n \\nexcess\\n \\nand\\n \\nurgency\\n \\nfrom\\n \\na\\n \\nfilmmaker\\n \\nwho\\n \\nis\\n \\nmaking\\n \\nhis\\n \\nown\\n \\nkind\\n \\nof\\n \\nwar\\n \\nfilm\\n \\nin\\n \\nthe\\n \\ncontext\\n \\nof\\n \\nthe\\n \\nmany\\n \\nwars\\n \\nthat\\n \\nstill\\n \\npersist\\n \\ntoday.\\n \\n \\nAfter\\n \\nyou've\\n \\nbeen\\n \\nin\\n \\na\\n \\nwar\\n,\\n \\nyou\\n \\nunderstan\\nd:\\n \\nit\\n \\nnever\\n \\nre\\nally\\n \\nends.\\n \\nOn\\n \\n\\n \\nFriendly\\n \\nFire\\n:\\n \\nDa\\n \\n5\\n \\nBloods\\n.\\n \\n \\n[\\nTheme\\n \\nplays\\n \\nfor\\n \\na\\n \\nfew\\n \\nmore\\n \\nseconds,\\n \\nthen\\n \\nfades\\n.]\\n \\n00:04:03\\n \\nMusic\\n \\nTransition\\n \\n[The\\n \\ntheme\\n \\nplays\\n \\nfor\\n \\na\\n \\nfew\\n \\nmore\\n \\nseconds,\\n \\nthen\\n \\nfades\\n \\ninto\\n \\na\\n \\ndrumroll,\\n \\nwhich\\n \\nleads\\n \\ninto\\n \\nthe\\n \\ntheme\\n \\nsong.]\\n \\n \\n\\n \\noff\\n \\nt\\nh\\ne\\n \\nalbum\\n \\nWar\\n \\n&\\n \\nPeace\\n \\nby\\n \\nEdwin\\n \\nStarr.\\n \\nImpassioned,\\n \\nintense\\n \\nf\\nunk.\\n \\n \\nWar\\n!\\n \\nHuh\\n!\\n \\nYeah\\n!\\n \\nWhat\\n \\nis\\n \\nit\\n \\ngood\\n \\nfor?\\n!\\n \\nAbsolutely\\n\\n \\n\\nnothing\\n!\\n \\nUh\\n-\\nhuh\\n!\\n \\n \\nWar\\n!\\n \\nHuh\\n!\\n \\nYeah\\n!\\n \\nWhat\\n \\nis\\n \\nit\\n \\ngood\\n \\nfor?\\n!\\n \\nAbsolutely\\n\\n \\n\\nnothing\\n!\\n \\n \\nSay\\n \\nit\\n \\nagain,\\n \\n\\n!\\n \\n \\nWar\\n!\\n \\n \\n[Song\\n \\nfades\\n \\ndown\\n \\nand\\n \\nplays\\n \\nquietl\\ny\\n \\nas\\n \\nhost\\n \\nbegins\\n \\nto\\n \\nspeak.]\\n \\n\"),\n",
       " ('FriendlyFire-Ep.129_Final-Draft',\n",
       "  ' \\n \\n00:04:23\\n \\nBen\\n \\nHarrison\\n \\nHost\\n \\nWelcome\\n \\nto\\n \\nFriendly\\n \\nFire\\n,\\n \\nthe\\n \\nwar\\n \\nmovie\\n \\npodcast\\n \\nthat\\n \\nis\\n \\nbroadcasting\\n \\nour\\n \\npropaganda\\n \\nfrom\\n \\nthe\\n \\ncapital\\n \\nof\\n \\nthe\\n \\npeople\\n\\ns\\n \\nrepublic\\n \\nof\\n \\nMaximu\\nm\\n \\nFun.\\n \\nI\\n\\nm\\n \\nBen\\n \\nHarrison.\\n \\n00:04:32\\n \\nAdam\\n \\nHost\\n \\nOh,\\n \\nman.\\n \\nI\\n\\nd\\n \\nneed\\n \\nto\\n \\ng\\net\\n \\nthat\\n \\nlast\\n \\nchopper\\n \\nout\\n \\nof\\n \\nMaxFun\\n \\nHQ.\\n \\n \\n[Ben\\n \\nand\\n \\nJohn\\n \\nlaugh.]\\n \\n \\n\\n \\nAdam\\n \\nPranica.\\n \\n00:04:40\\n \\nJohn\\n \\nRoderick\\n \\nHost\\n \\nI\\n\\nm\\n \\ngoing\\n \\nback.\\n \\nI\\n\\nm\\n \\ngoing\\n \\nback\\n \\nin\\n \\nwith\\n \\nall\\n \\nmy\\n \\nold\\n \\nbuddies.\\n \\nFind\\n \\nthe\\n \\nstolen\\n \\ngold\\n!\\n \\n[\\nC\\nhuckles]\\n \\nI\\n\\nm\\n \\nJohn\\n \\nRoderick.\\n \\n00:04:29\\n \\nBen\\n \\nHost\\n \\nThis\\n \\nis\\n \\na\\n \\nhell\\n \\no\\nf\\n \\na\\n \\nmovie.\\n \\nIt\\n\\ns\\n \\nvery\\n \\nnow,\\n \\nbut\\n \\nI\\n \\nalso\\n \\nlove\\n \\nhow\\n \\nmany\\n \\nhomages\\n \\nit\\n \\npaid\\n \\nto\\n \\nold\\n \\nwar\\n \\nfilms.\\n \\n00:04:56\\n \\nJohn\\n \\nHost\\n \\nSo\\n \\nmany\\n \\nhomages\\n!\\n \\nThe\\n \\nonly\\n \\nthing\\n \\nmissing\\n \\nwas\\n \\n\\nFortunate\\n \\nSon.\\n\\n \\n \\n[Ben\\n \\nand\\n \\nAdam\\n \\nlaugh.]\\n \\n00:05:04\\n \\nBen\\n \\nHost\\n \\nI\\n \\nfeel\\n \\nlike\\n \\nthat\\n \\nwas\\n \\nintentionally\\n \\nmissing.\\n \\nT\\nhe\\nre\\n \\nwasn\\n\\nt\\n \\na\\n \\nMarvin\\n \\nGaye\\n \\ncover\\n \\nof\\n \\nthat,\\n \\nwas\\n \\nthere?\\n \\n00:05:09\\n \\nAdam\\n \\nHost\\n \\nYeah.\\n \\n00:05:10\\n \\nJohn\\n \\nHost\\n \\nThat\\n\\ns\\n \\nit.\\n \\nThat\\n\\ns\\n \\nthe\\n \\nthing.\\n \\nThe\\n \\none\\n \\nthing\\n \\nthat\\n \\ncan\\n \\nreplace\\n \\na\\n \\n\\nFortunate\\n \\nSon\\n\\n \\nis\\n \\na\\n \\n\\nWhat\\n\\ns\\n \\nGoin\\n\\n \\nOn.\\n\\n \\n00:05:16\\n \\nBen\\n \\nHost\\n \\n[Laughs]\\n \\nWow.\\n \\nThat\\n\\ns\\n \\na\\n \\ng\\nood\\n\\nthat\\n\\ns\\n \\nan\\n \\na\\nxiom\\n \\nto\\n \\nlive\\n \\nby,\\n \\nI\\n \\nthink.\\n \\n00:05:21\\n \\nJohn\\n \\nHost\\n \\n[Quietly]\\n \\nI\\n\\nll\\n \\nsay.\\n \\n00:05:22\\n \\nAdam\\n \\nHost\\n \\nI\\n \\nlove\\n \\nit\\n \\nwhen\\n \\nwe\\n \\nget\\n \\nthe\\n \\ngift\\n \\nof\\n \\na\\n \\nnew\\n \\nmovie\\n \\non\\n \\nthis\\n \\nshow.\\n \\n00:05:29\\n \\nJohn\\n \\nHost\\n \\nYeah.\\n \\n00:05:30\\n \\nAdam\\n \\nHost\\n \\nI\\n \\nlike\\n \\nthat\\n \\nits\\n \\nformat\\n \\nallows\\n \\nfor\\n \\nsomething\\n \\nlike\\n \\nthis.\\n \\n00:05:32\\n \\nJohn\\n \\nHost\\n \\nYeah,\\n \\nwell\\n,\\n \\nit\\n \\nflies\\n \\nin\\n \\nthe\\n \\nface\\n \\nof\\n \\nall\\n \\nthose\\n \\nhaters\\n \\nthat\\n \\nsay\\n \\nthat\\n \\nthe\\n \\ndie\\n \\nroll\\n \\nis\\n \\nsomehow\\n \\nrigged,\\n \\nbecause\\n \\nif\\n \\nwe\\n \\nwant\\n \\nrig\\n \\nthe\\n \\ndie\\n \\nroll,\\n \\nwe\\n \\njust\\n \\ngo\\n \\nahead\\n \\nand\\n \\ndo\\n \\nit.\\n \\nWe\\n \\ndon\\n\\nt\\n\\n \\n00:05:43\\n \\nBen\\n \\nHost\\n \\n[Snorts\\n \\na\\n \\nshort\\n \\nlaugh.]\\n \\nYeah\\n!\\n \\n00:05:4\\n4\\n \\nJohn\\n \\nHost\\n \\nW\\ne\\n\\n[chuckles]\\n\\nwe\\n \\ndon\\n\\nt\\n \\nplay\\n \\naround\\n \\nwith\\n \\npretend\\n \\ndie\\n \\nrolls.\\n \\nWe\\n \\njust\\n\\n \\n00:05:47\\n \\nBen\\n \\nHost\\n \\nWe\\n \\njust\\n \\ntake\\n \\nthe\\n \\ndie,\\n \\nput\\n \\nit\\n \\naside,\\n \\nand\\n \\nwe\\n \\nwatch\\n \\na\\n \\nmovie!\\n \\n00:05:50\\n \\nAdam\\n \\nHost\\n \\nRight.\\n \\n00:05:51\\n \\nJohn\\n \\nHost\\n \\nWe\\n \\njust\\n \\nwatch\\n \\nthe\\n \\nmovie\\n \\nthat\\n \\nwe\\n\\nre\\n \\ngonna\\n \\nwatch.\\n \\n00:\\n05:52\\n \\nBen\\n \\nHost\\n \\nI\\n \\nloved\\n \\nthis\\n \\nmovie.\\n \\nI\\n \\nwasn\\n\\nt\\n \\nsure\\n \\nif\\n \\nI\\n \\nwas\\n \\ngoing\\n \\nto\\n \\nor\\n \\nnot.\\n \\nI\\n \\nthink\\n \\nthat\\n \\nI\\n \\nhave\\n \\nmaybe\\n \\nlike\\n \\na\\n \\n60\\n-\\n40\\n \\nor\\n \\n65\\n-\\n35\\n \\naverage\\n \\nliking\\n-\\nto\\n-\\nnot\\n-\\nliking\\n \\nSpike\\n \\nLee\\n\\ns\\n \\nwork.\\n \\nBut\\n \\nthis\\n \\nwas\\n \\nfirmly\\n \\nin\\n \\nthe\\n \\ncamp\\n \\nof\\n\\nI\\n \\nreally\\n \\nliked\\n \\nit.\\n \\nAnd\\n \\nI\\n \\nthink\\n \\ns\\npecifically\\n \\nDelroy\\n \\nLindo,\\n \\none\\n \\nof\\n \\nthe\\n \\nmost\\n \\nraw\\n \\nand\\n \\nvulnerable\\n \\nperformances\\n \\nI\\n\\nve\\n \\never\\n \\nseen\\n \\nhim\\n \\ngive.\\n \\nA\\nnd\\n \\nif\\n \\nhe\\n \\ndoesn\\n\\nt\\n \\njust\\n \\nleave\\n \\nthe\\n \\nKodak\\n \\nT\\nheat\\ner\\n \\nwith\\n \\nan\\n \\narmful\\n \\nof\\n \\nO\\nscars\\n \\nwhen\\n \\nawards\\n \\nseason\\n \\ncomes\\n \\naround,\\n \\nI\\n\\nm\\n \\ngonna\\n \\nfucking\\n \\nriot\\n \\nin\\n \\nthe\\n \\nstreets.\\n \\n00:06:33\\n \\nJohn\\n \\nHost\\n \\nBoy,\\n \\nBen\\n\\ns\\n \\nreally\\n \\nthrowing\\n \\ndown\\n \\nthe\\n \\ngauntlet.\\n \\nHe\\n\\ns\\n \\ngonna\\n\\nhe\\n\\ns\\n \\ngonna\\n \\nquit\\n \\nthe\\n \\nAcademy!\\n \\n00:06:37\\n \\nBen\\n \\nHost\\n \\nYeah.\\n \\n[Chuckles]\\n \\nI\\n \\nwill\\n \\nresign\\n \\nin\\n \\nprotest\\n\\n \\n'),\n",
       " ('FriendlyFire-Ep.129_Final-Draft',\n",
       "  ' \\n \\n00:06:41\\n \\nAdam\\n \\nHost\\n \\nWow.\\n \\n00:06:42\\n \\nBen\\n \\nHost\\n \\n\\nfrom\\n \\nthe\\n \\nAcademy\\n \\nthat\\n \\nthey\\n\\nve\\n \\nnever\\n \\ninvi\\nted\\n \\nme\\n \\nto\\n \\nbe\\n \\na\\n \\npart\\n \\nof.\\n \\n00:06:45\\n \\nAdam\\n \\nHost\\n \\nI\\n \\nthi\\nnk\\n \\nyou\\n \\nand\\n \\nI\\n \\nare\\n \\nin\\n \\nagreement\\n \\nabout\\n \\nthe\\n \\ngreatness\\n \\nof\\n \\nDelroy\\n \\nLindo\\n\\ns\\n \\nperformance\\n \\nin\\n \\nthis\\n \\nmovie,\\n \\nbut\\n \\nI\\n \\ndon\\n\\nt\\n \\nthink,\\n \\nuh\\n\\nI\\n \\ndon\\n\\nt\\n \\nthink\\n \\nwe\\n\\nre\\n \\nin\\n \\ncomplete\\n \\nagreement\\n \\nabout\\n \\nthe\\n \\nquality\\n \\nof\\n \\nthe\\n \\nfilm\\n \\nitself.\\n \\nI\\n\\nm\\n \\nwith\\n \\nyou,\\n \\nBen.\\n \\nLike,\\n \\nthe\\n \\nhit\\n \\nrate\\n \\non\\n \\nSpike\\n \\nLee\\n \\nfilms\\n \\nis\\n\\nis\\n \\nmixed.\\n \\nI\\n \\nwil\\nl\\n \\nadmit\\n \\nI\\n \\nhave\\n \\nnot\\n \\nseen\\n \\nall\\n \\nof\\n \\nthem,\\n \\nbut\\n \\nI\\n \\nfeel\\n \\nlike\\n \\nI\\n\\nve\\n \\nseen,\\n \\nlike,\\n \\nthe\\n \\nmajors.\\n \\nBut\\n \\nI\\n \\nfelt\\n \\nlike\\n \\nI\\n \\nwas\\n \\npromised\\n \\na\\n \\nVietnam\\n \\nmovie,\\n \\nand\\n \\nI\\n \\nfeel\\n \\nlike\\n \\nwhat\\n \\nwe\\n \\ngot\\n \\nwas\\n \\na\\n \\nfair\\n \\namount\\n \\no\\nf\\n \\nBlack\\n \\nWild\\n \\nHogs\\n.\\n \\n \\n[Ben\\n \\nchuckles\\n \\nand\\n \\nJohn\\n \\nlaughs\\n \\nso\\n \\nhard\\n \\nhe\\n \\nha\\ns\\n \\nto\\n \\nmove\\n \\naway\\n \\nf\\nrom\\n \\nthe\\n \\nmic\\n.\\n \\nSomebody\\n \\npounds\\n \\na\\n \\ntable\\n \\nrepeatedly\\n.\\n]\\n \\n00:07:27\\n \\nJohn\\n \\nHost\\n \\n[Catching\\n \\nhis\\n \\nbreath]\\n \\nOh,\\n \\nman\\n!\\n \\n00:07:28\\n \\nAdam\\n \\nHost\\n \\nLike,\\n \\nhow\\n \\nsurprised\\n \\nwere\\n \\nyou\\n \\nat\\n \\nthe\\n \\nTreasure\\n \\nof\\n \\nSierra\\n \\nMadre\\n \\nstoryline?\\n \\nOut\\n \\nof\\n \\nthe\\n \\nblue\\n \\nis\\n \\nwhere\\n \\ntha\\nt\\n \\ncame\\n \\nfrom\\n \\nfor\\n \\nme.\\n \\nI\\n \\nsay\\n \\nit\\n \\nall\\n \\nthe\\n \\ntime\\n \\non\\n \\nthis\\n \\nshow\\n:\\n \\nt\\nhe\\n \\nmovie\\n \\ntells\\n \\nyou\\n \\nwhat\\n \\nit\\n \\nis\\n \\nupfront,\\n \\nand\\n \\nI\\n \\nthought\\n \\nthis\\n \\nmovie\\n \\nwas\\n \\ntelling\\n \\nme\\n \\nwhat\\n \\nit\\n \\nwas\\n \\nupfront.\\n \\nAnd\\n \\nwhat\\n \\nit\\n \\nwas\\n \\ntelling\\n \\nme\\n \\nwas\\n \\nthat\\n \\nit\\n \\nwas\\n \\nnot\\n \\nnecessarily\\n \\na\\n \\nVietnam\\n \\nwar\\n \\nfilm.\\n \\n00:07:51\\n \\nBen\\n \\nHost\\n \\nWell,\\n \\nI\\n \\ndon\\n\\nt\\n \\nwanna\\n \\nget\\n \\ntoo\\n \\nfar\\n \\naway\\n \\nfrom\\n \\nyour\\n \\nvicious\\n \\nact\\n \\nof\\n \\nMartin\\n \\nLawrence\\n \\nerasure\\n \\nwith\\n \\nyou\\nr\\n \\nWild\\n \\nHogs\\n \\njoke\\n\\n \\n \\n[\\nJohn\\n \\nand\\n \\nAdam\\n \\nlaugh.]\\n \\n \\n\\nbefore\\n \\nI\\n \\nsay\\n \\nthat\\n \\nI\\n \\nthink\\n \\nthat\\n \\nthis\\n \\nmovie\\n \\ndoes\\n \\nplay\\n \\nwith\\n \\nmisdirection\\n \\na\\n \\nlot.\\n \\n00:08:06\\n \\nAdam\\n \\nHost\\n \\nYeah.\\n \\n00\\n:08:07\\n \\nBen\\n \\nHost\\n \\nAnd\\n \\nI\\n \\nfound\\n \\nthat\\n \\nvery\\n \\ncompelling.\\n \\nBut\\n \\nI\\n \\ncan\\n \\nsee\\n \\nhow\\n \\nthat\\n \\nwould\\n \\nbe\\n \\nnot\\n \\nexactly\\n \\nsatisfying\\n \\nif\\n \\nyou\\n \\ncame\\n \\nin\\n \\nhoping\\n \\nfor\\n \\nsomething\\n \\nspecific\\n \\nthat\\n \\nthis\\n \\nisn\\n\\nt.\\n \\nAnd\\n \\nthere\\n\\ns,\\n \\nlike,\\n \\nthe\\n \\nVietnam\\n-\\nwar\\n-\\nness\\n \\nof\\n \\nthis\\n \\nfilm\\n \\nis\\n \\nabout\\n \\nas\\n \\nmuch\\n \\nas\\n\\nI\\n \\ndo\\nn\\n\\nt\\n \\nknow,\\n \\nli\\nke,\\n \\nDead\\n \\nPresidents\\n \\nkind\\n \\nof\\n \\nhad\\n \\na\\n \\nsimilar\\n\\n \\n00:08:28\\n \\nAdam\\n \\nHost\\n \\nI\\n \\nthought\\n \\na\\n \\nlot\\n \\nabout\\n \\nDead\\n \\nPresidents\\n \\nwhen\\n \\nI\\n \\nwatched\\n \\nthis\\n \\nmovie,\\n \\nfor\\n \\nsure.\\n \\n00:08:32\\n \\nBen\\n \\nHost\\n \\nIt\\n\\ns\\n \\nthe\\n \\ninciting\\n \\nincident\\n \\nin\\n \\na\\n \\nlot\\n \\nof\\n \\nways,\\n \\nbut\\n \\nit\\n\\ns\\n \\nless\\n \\nthe\\n \\ncenter\\n \\nof\\n \\nthe\\n \\naction\\n \\nthan\\n \\nthe\\n \\nbasis\\n \\nfor\\n \\nit.\\n \\n00:08:40\\n \\nAdam\\n \\nHost\\n \\nRigh\\nt.\\n \\n00:08:41\\n \\nJohn\\n \\nHost\\n \\nWell,\\n \\nbut\\n \\nyou\\n \\ncan\\n \\ncome\\n \\ninto\\n \\nthis\\n \\nmovie\\n \\nexpecting\\n \\nanything\\n \\nfrom\\n \\na\\n \\nheist\\n \\nmovie\\n \\nto\\n \\na\\n \\nVietnam\\n \\nmovie\\n \\nto\\n \\na\\n \\nWild\\n \\nHogs\\n \\nto\\n \\na\\n \\nSteel\\n \\nMagnolias\\n \\nto\\n \\na\\n \\nFried\\n \\nGreen\\n \\nTomatoes\\n \\nand\\n \\nyou\\n\\nre\\n \\ngonna\\n \\nget\\n \\nit\\n \\nin\\n \\nthis\\n \\nmovie,\\n \\n\\ncause\\n \\nthis\\n \\nmovie\\n \\nis\\n\\n \\n00:08:57\\n \\nAdam\\n \\nHost\\n \\nRight.\\n \\n \\n[Ben\\n \\nchuckles.]\\n \\n00:08:58\\n \\nJohn\\n \\nHost\\n \\n\\n14\\n \\nmovies.\\n \\n00:09:00\\n \\nBen\\n \\nHost\\n \\nYeah.\\n \\n'),\n",
       " ('FriendlyFire-Ep.129_Final-Draft',\n",
       "  \" \\n \\n00:09:00\\n \\nJohn\\n \\nHost\\n \\nFou\\nrteen\\n \\nmovies\\n \\nthat\\n \\nare\\n\\nsome\\n \\nof\\n \\nthem\\n \\nare\\n \\ngreat\\n \\nmovies.\\n \\nSome\\n \\nof\\n \\nthem\\n \\nare,\\n \\nlike,\\n \\nreally\\n \\nbad\\n \\nmovies\\n.\\n \\nSome\\n \\nof\\n \\nthem\\n \\nare\\n\\n \\n \\n[Ben\\n \\nlaughs.]\\n \\n \\n\\nlike,\\n \\nthe\\n \\nbad\\n \\np\\nart\\n \\nof\\n \\na\\n \\ngood\\n \\nmovie,\\n \\nand\\n \\nsome\\n \\nof\\n \\nthem\\n \\nwere\\n \\nthe\\n \\ngood\\n \\npart\\n \\nof\\n \\na\\n \\nbad\\n \\nmovie.\\n \\nBut\\n \\nthey\\n\\nr\\ne\\n \\nin\\n\\nthey\\n\\nre\\n \\nall\\n \\nmixed\\n \\nin\\n \\ntogether,\\n \\nlike,\\n \\nreally\\n \\nindiscriminately,\\n \\nso\\n\\n \\n00:09:20\\n \\nBen\\n \\nHost\\n \\nYeah.\\n \\nThere\\n\\ns\\n \\nparts\\n \\nof\\n \\nit\\n \\nthat\\n \\nare,\\n \\nlike,\\n \\nBl\\nax\\nploitation,\\n \\nand\\n \\nthen\\n \\nit\\n \\nabu\\nts\\n \\na\\n \\npart\\n \\nthat\\n \\nis,\\n \\nlike,\\n \\na\\n \\nreally\\n \\nsincere,\\n \\nlike\\n\\nI\\n \\nmean,\\n \\nthis\\n \\nwas\\n \\na\\n \\nscript\\n \\nthat\\n \\nwas\\n \\nmeant\\n \\nfor\\n \\nOliver\\n \\nStone.\\n \\n00:09:31\\n \\nAdam\\n \\nHost\\n \\nYeah.\\n \\n00:09:32\\n \\nJohn\\n \\nHost\\n \\nRight.\\n \\nThat\\n \\nwas\\n \\ngonna\\n \\nbe\\n \\nplayed\\n \\nby\\n \\nwhat?\\n \\nBi\\nll\\n \\nPullman\\n \\nin\\n\\nand\\n \\nPull\\n \\nBillman\\n \\nand\\n\\n \\n00:09:38\\n \\nBen\\n \\nHost\\n \\n[Laughs\\n \\nloudly]\\n \\nYeah,\\n \\nhe\\n \\nwas\\n\\nhe\\n \\nwas\\n \\nattached.\\n \\nPull\\n \\nBillman.\\n \\n00:09:42\\n \\nAdam\\n \\nHost\\n \\nPull\\n \\nBillman\\n \\nis\\n \\nmy\\n \\nporn\\n \\nname.\\n \\n \\n[Ben\\n \\nlaughs\\n \\nloudly.]\\n \\n00:09:46\\n \\nClip\\n \\nClip\\n \\nOtis\\n \\n(\\nDa\\n \\n5\\n \\nBloods\\n):\\n \\nThat\\n \\nheat\\n \\nhit\\n \\nme\\n \\nupside\\n \\nt\\nhe\\n \\nhead,\\n \\nsk\\ni\\n-\\nbop\\n!\\n \\n00:09:49\\n \\nJohn\\n \\nHost\\n \\nThe\\n \\nstuff\\n \\nin\\n \\nthis\\n \\nmovie\\n \\nthat\\n\\ns\\n \\nrea\\nll\\ny\\n \\nSpike\\n \\nLee\\n \\nis\\n \\nreally\\n \\ngreat.\\n \\nAs\\n \\nthey\\n \\nwere\\n \\nrewriting\\n \\nthis\\n \\nscript,\\n \\nthey\\n \\nshould\\n \\nhave\\n \\njust\\n \\nkept\\n \\nrewriting\\n \\nit\\n \\nand\\n \\nrewrote\\n \\nthemselves\\n \\na\\n \\nnew\\n \\nscript,\\n \\nbecause\\n \\nwhatever\\n\\n \\n00:10:00\\n \\nBen\\n \\nHost\\n \\nYea\\nh.\\n \\n00:10:01\\n \\nJohn\\n \\nHost\\n \\n\\nwhatever\\n\\ns\\n \\nheld\\n \\nover\\n \\nis\\n \\nsuper\\n \\nweird.\\n \\nThere\\n\\ns\\n \\nmag\\nic\\nal\\n \\nrealism\\n \\nin\\n \\nthis\\n \\nthat\\n\\ns\\n \\ncool.\\n \\nBut\\n \\nthen\\n \\nthere\\n\\ns\\n \\nother\\n \\nstuff\\n \\nthat\\n\\ns\\n \\njust,\\n \\nlike,\\n \\nimplausible\\n \\nmove\\n-\\nthe\\n-\\nplot\\n-\\nalong\\n \\nmagic\\n \\nthat\\n\\ns\\n \\nnot\\n\\nthere\\n\\ns\\n \\nno\\n \\nhat\\n \\ntip\\n \\ngiven\\n \\nto\\n \\nit.\\n \\nWhere\\n \\nit\\n\\ns\\n \\njust\\n \\nlike\\n\\n \\n00:10:18\\n \\nAdam\\n \\nHost\\n \\nDigging\\n \\na\\n \\ntrench\\n \\ntoilet\\n \\nand\\n \\nthen\\n \\nhaving\\n \\nyour\\n \\nshovel\\n \\nf\\nind\\n \\na\\n \\nbar\\n \\nof\\n \\ngold\\n \\nbeing\\n \\none\\n \\nof\\n \\nthem.\\n \\n \\n[Ben\\n \\nlaughs.]\\n \\n00:10:23\\n \\nJohn\\n \\nHost\\n \\nYeah,\\n \\nlike\\n,\\n \\nfive\\n \\nguys\\n \\nare\\n \\nstanding\\n \\naround\\n \\nlooking\\n \\nat\\n \\na\\n \\nmap\\n \\ngoing,\\n \\n\\nWe\\n\\nre\\n \\nhopelessly\\n \\nlost.\\n\\n \\nAnd\\n \\none\\n \\nof\\n \\nthem\\n\\ns\\n \\nlike,\\n \\n\\nOh,\\n \\nwell,\\n \\nI\\n\\nm\\n \\njust\\n \\ngonna\\n \\ngo\\n \\nover\\n \\nhere\\n \\nand\\n \\ntake\\n \\na\\n \\nshit.\\n\\n \\nThen\\n \\nit\\n\\ns\\n \\nli\\nke,\\n \\n\\nI\\n \\nfound\\n \\nthe\\n \\ngold\\n!\\n\\n \\n[\\nC\\nhuckles\\n.\\n]\\n \\n00:10:32\\n \\nAdam\\n \\nHos\\nt\\n \\nAnd\\n \\nthen\\n \\nthat\\n \\nguy\\n \\ndoesn\\n\\nt\\n \\nstop\\n \\nto\\n \\ntake\\n \\na\\n \\nshit\\n \\nfor\\n \\nthe\\n \\nrest\\n \\nof\\n \\nthe\\n \\nmovie\\n!\\n \\n \\n[\\nJohn\\n \\nlaughs\\n \\nloudly\\n \\nand\\n \\napplauds.\\n]\\n \\n00:10:38\\n \\nAdam\\n \\nHost\\n \\nWhat\\n \\nhappened\\n \\nto\\n \\nthat\\n \\nshit?\\n \\n \\n[Ben\\n \\nlaughs.]\\n \\n00:10:39\\n \\nJohn\\n \\nHost\\n \\nOnl\\ny\\n \\nAda\\nm\\n \\nwould\\n \\nnotice\\n \\nthat\\n\\nthat\\n \\ncrucial\\n \\ndetail.\\n \\n00:10:44\\n \\nAdam\\n \\nHost\\n \\nYou're\\n \\nnot\\n \\njust\\n \\ngonna\\n \\nclench\\n \\nit\\n \\nfor\\n \\nthe\\n \\nrest\\n \\nof\\n \\nthe\\n \\nfilm.\\n \\n00:10:47\\n \\nBen\\n \\nHost\\n \\nSo,\\n \\nAdam,\\n \\nwho\\n\\ns\\n \\nyour\\n \\nguy?\\n \\nIs\\n \\nit\\n \\nthe\\n \\npoop?\\n \\n \\n[John\\n \\nlaughs.]\\n \\n\")]"
      ]
     },
     "execution_count": 6,
     "metadata": {},
     "output_type": "execute_result"
    }
   ],
   "source": [
    "contents"
   ]
  },
  {
   "cell_type": "code",
   "execution_count": 7,
   "metadata": {},
   "outputs": [
    {
     "data": {
      "text/plain": [
       "5"
      ]
     },
     "execution_count": 7,
     "metadata": {},
     "output_type": "execute_result"
    }
   ],
   "source": [
    "len(contents)"
   ]
  }
 ],
 "metadata": {
  "kernelspec": {
   "display_name": "Python 3",
   "language": "python",
   "name": "python3"
  },
  "language_info": {
   "codemirror_mode": {
    "name": "ipython",
    "version": 3
   },
   "file_extension": ".py",
   "mimetype": "text/x-python",
   "name": "python",
   "nbconvert_exporter": "python",
   "pygments_lexer": "ipython3",
   "version": "3.8.5"
  }
 },
 "nbformat": 4,
 "nbformat_minor": 4
}
