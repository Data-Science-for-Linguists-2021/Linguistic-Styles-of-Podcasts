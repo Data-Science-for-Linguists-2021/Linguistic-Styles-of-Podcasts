{
 "cells": [
  {
   "cell_type": "code",
   "execution_count": null,
   "metadata": {},
   "outputs": [],
   "source": [
    "import scrapy\n",
    "from scrapy.crawler import CrawlerProcess\n",
    "import re"
   ]
  },
  {
   "cell_type": "code",
   "execution_count": null,
   "metadata": {},
   "outputs": [],
   "source": [
    "serial_data = []"
   ]
  },
  {
   "cell_type": "code",
   "execution_count": null,
   "metadata": {},
   "outputs": [],
   "source": [
    "# only season 3 has legitimate links\n",
    "# parses transcript links\n",
    "class serial(scrapy.Spider):\n",
    "    name = 'serial'\n",
    "    \n",
    "    def start_requests(self):\n",
    "        url = 'https://serialpodcast.org/'\n",
    "        yield scrapy.Request(url=url, callback=self.parse_episode)\n",
    "        \n",
    "    def parse_episode(self, response):\n",
    "        episode_links = response.xpath('//div[contains(@class,node-episode)]//a[@class=\"card clearfix\"]/@href').extract()\n",
    "        for link in episode_links:\n",
    "            link = 'https://serialpodcast.org' + link\n",
    "            yield response.follow(url=link, \n",
    "                                  callback =self.parse_transcript_page) \n",
    "    \n",
    "    def parse_transcript_page(self, response):\n",
    "        transcript_links = response.xpath('//a[@class=\"transcript\"]/@href').extract()\n",
    "        for link in transcript_links:\n",
    "            link = 'https://serialpodcast.org' + link\n",
    "            yield response.follow(url=link,\n",
    "                                  callback=self.parse_transcript)\n",
    "    \n",
    "    def parse_transcript(self, response):\n",
    "        current_ep = []\n",
    "        \n",
    "        title = response.xpath('//header/h1/text()').extract()[0].split(':')\n",
    "        current_ep.append(title[0].split(' ')[1])\n",
    "        current_ep.append(title[1]) \n",
    "        # no date\n",
    "        \n",
    "        text = response.xpath('//div[@class=\"field-item even\"]/*//text()').extract()\n",
    "        text = '  '.join(text)\n",
    "        current_ep.append(text)\n",
    "        serial_data.append(current_ep)"
   ]
  },
  {
   "cell_type": "code",
   "execution_count": null,
   "metadata": {},
   "outputs": [],
   "source": [
    "process = CrawlerProcess()\n",
    "process.crawl(serial)\n",
    "process.start()"
   ]
  },
  {
   "cell_type": "code",
   "execution_count": null,
   "metadata": {},
   "outputs": [],
   "source": [
    "import pandas as pd\n",
    "\n",
    "serial_df = pd.DataFrame(serial_data,\n",
    "                         columns = ['Episode','Title','Text'])\n",
    "serial_df"
   ]
  },
  {
   "cell_type": "code",
   "execution_count": null,
   "metadata": {},
   "outputs": [],
   "source": [
    "serial_df.Text[0]\n",
    "# can pick out hosts by finding the most common bigrams"
   ]
  },
  {
   "cell_type": "code",
   "execution_count": null,
   "metadata": {},
   "outputs": [],
   "source": []
  },
  {
   "cell_type": "code",
   "execution_count": null,
   "metadata": {},
   "outputs": [],
   "source": []
  }
 ],
 "metadata": {
  "kernelspec": {
   "display_name": "Python 3",
   "language": "python",
   "name": "python3"
  },
  "language_info": {
   "codemirror_mode": {
    "name": "ipython",
    "version": 3
   },
   "file_extension": ".py",
   "mimetype": "text/x-python",
   "name": "python",
   "nbconvert_exporter": "python",
   "pygments_lexer": "ipython3",
   "version": "3.8.5"
  }
 },
 "nbformat": 4,
 "nbformat_minor": 4
}
