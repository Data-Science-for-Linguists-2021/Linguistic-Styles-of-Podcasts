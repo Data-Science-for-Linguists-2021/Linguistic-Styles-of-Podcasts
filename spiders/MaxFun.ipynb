{
 "cells": [
  {
   "cell_type": "code",
   "execution_count": 1,
   "metadata": {},
   "outputs": [],
   "source": [
    "import scrapy\n",
    "from scrapy.crawler import CrawlerProcess"
   ]
  },
  {
   "cell_type": "code",
   "execution_count": 2,
   "metadata": {},
   "outputs": [],
   "source": [
    "# parses transcript links\n",
    "class MaxFunSpider(scrapy.Spider):\n",
    "    name = 'Max_Fun_spider'\n",
    "    \n",
    "    def start_requests(self):\n",
    "        url = 'https://www.maximumfun.org/transcripts'\n",
    "        yield scrapy.Request(url=url, callback=self.parse_podcast)\n",
    "        \n",
    "    def parse_podcast(self, response):\n",
    "        # find the link to follow for embedded pdf\n",
    "        transcript_links = response.css('div.search-page-loop-item-image > a::attr(href)').extract() \n",
    "        link_path = 'C:/Users/Abby/OneDrive/Data_Science/Linguistic-Styles-of-Podcasts/data/podcast_links.txt'\n",
    "        print([link for link in transcript_links])\n",
    "        yield response.follow(url = url, callback = self.parse_pdf)\n",
    "    \n",
    "    def parse_pdf(self, response):\n",
    "        # open embedded pdf\n",
    "        pdf_links = response.css('div#container > div#scroller > div#content > embed::attr(src)').extract()\n",
    "        pdf_path = 'C:/Users/Abby/OneDrive/Data_Science/Linguistic-Styles-of-Podcasts/data/pdf_links.txt'\n",
    "        print([link for link in pdf_links])\n",
    "        yield pdf_links\n",
    "    \n",
    "    # def parse_transcript(self, response):\n",
    "        "
   ]
  },
  {
   "cell_type": "code",
   "execution_count": null,
   "metadata": {},
   "outputs": [],
   "source": []
  },
  {
   "cell_type": "code",
   "execution_count": 3,
   "metadata": {
    "scrolled": true
   },
   "outputs": [
    {
     "name": "stderr",
     "output_type": "stream",
     "text": [
      "2021-03-01 20:32:12 [scrapy.utils.log] INFO: Scrapy 2.4.1 started (bot: scrapybot)\n",
      "2021-03-01 20:32:12 [scrapy.utils.log] INFO: Versions: lxml 4.6.1.0, libxml2 2.9.10, cssselect 1.1.0, parsel 1.6.0, w3lib 1.22.0, Twisted 20.3.0, Python 3.8.5 (default, Sep  3 2020, 21:29:08) [MSC v.1916 64 bit (AMD64)], pyOpenSSL 19.1.0 (OpenSSL 1.1.1h  22 Sep 2020), cryptography 3.1.1, Platform Windows-10-10.0.19041-SP0\n",
      "2021-03-01 20:32:12 [scrapy.utils.log] DEBUG: Using reactor: twisted.internet.selectreactor.SelectReactor\n",
      "2021-03-01 20:32:12 [scrapy.crawler] INFO: Overridden settings:\n",
      "{}\n",
      "2021-03-01 20:32:12 [scrapy.extensions.telnet] INFO: Telnet Password: e19c7ebf7ab45154\n",
      "2021-03-01 20:32:12 [scrapy.middleware] INFO: Enabled extensions:\n",
      "['scrapy.extensions.corestats.CoreStats',\n",
      " 'scrapy.extensions.telnet.TelnetConsole',\n",
      " 'scrapy.extensions.logstats.LogStats']\n",
      "2021-03-01 20:32:12 [scrapy.middleware] INFO: Enabled downloader middlewares:\n",
      "['scrapy.downloadermiddlewares.httpauth.HttpAuthMiddleware',\n",
      " 'scrapy.downloadermiddlewares.downloadtimeout.DownloadTimeoutMiddleware',\n",
      " 'scrapy.downloadermiddlewares.defaultheaders.DefaultHeadersMiddleware',\n",
      " 'scrapy.downloadermiddlewares.useragent.UserAgentMiddleware',\n",
      " 'scrapy.downloadermiddlewares.retry.RetryMiddleware',\n",
      " 'scrapy.downloadermiddlewares.redirect.MetaRefreshMiddleware',\n",
      " 'scrapy.downloadermiddlewares.httpcompression.HttpCompressionMiddleware',\n",
      " 'scrapy.downloadermiddlewares.redirect.RedirectMiddleware',\n",
      " 'scrapy.downloadermiddlewares.cookies.CookiesMiddleware',\n",
      " 'scrapy.downloadermiddlewares.httpproxy.HttpProxyMiddleware',\n",
      " 'scrapy.downloadermiddlewares.stats.DownloaderStats']\n",
      "2021-03-01 20:32:12 [scrapy.middleware] INFO: Enabled spider middlewares:\n",
      "['scrapy.spidermiddlewares.httperror.HttpErrorMiddleware',\n",
      " 'scrapy.spidermiddlewares.offsite.OffsiteMiddleware',\n",
      " 'scrapy.spidermiddlewares.referer.RefererMiddleware',\n",
      " 'scrapy.spidermiddlewares.urllength.UrlLengthMiddleware',\n",
      " 'scrapy.spidermiddlewares.depth.DepthMiddleware']\n",
      "2021-03-01 20:32:12 [scrapy.middleware] INFO: Enabled item pipelines:\n",
      "[]\n",
      "2021-03-01 20:32:12 [scrapy.core.engine] INFO: Spider opened\n",
      "2021-03-01 20:32:12 [scrapy.extensions.logstats] INFO: Crawled 0 pages (at 0 pages/min), scraped 0 items (at 0 items/min)\n",
      "2021-03-01 20:32:12 [scrapy.extensions.telnet] INFO: Telnet console listening on 127.0.0.1:6024\n",
      "2021-03-01 20:32:13 [scrapy.downloadermiddlewares.redirect] DEBUG: Redirecting (301) to <GET https://maximumfun.org/transcripts> from <GET https://www.maximumfun.org/transcripts>\n",
      "2021-03-01 20:32:13 [scrapy.core.engine] DEBUG: Crawled (200) <GET https://maximumfun.org/transcripts> (referer: None)\n",
      "2021-03-01 20:32:13 [scrapy.core.scraper] ERROR: Spider error processing <GET https://maximumfun.org/transcripts> (referer: None)\n",
      "Traceback (most recent call last):\n",
      "  File \"C:\\Users\\Abby\\anaconda3\\lib\\site-packages\\scrapy\\utils\\defer.py\", line 120, in iter_errback\n",
      "    yield next(it)\n",
      "  File \"C:\\Users\\Abby\\anaconda3\\lib\\site-packages\\scrapy\\utils\\python.py\", line 353, in __next__\n",
      "    return next(self.data)\n",
      "  File \"C:\\Users\\Abby\\anaconda3\\lib\\site-packages\\scrapy\\utils\\python.py\", line 353, in __next__\n",
      "    return next(self.data)\n",
      "  File \"C:\\Users\\Abby\\anaconda3\\lib\\site-packages\\scrapy\\core\\spidermw.py\", line 62, in _evaluate_iterable\n",
      "    for r in iterable:\n",
      "  File \"C:\\Users\\Abby\\anaconda3\\lib\\site-packages\\scrapy\\spidermiddlewares\\offsite.py\", line 29, in process_spider_output\n",
      "    for x in result:\n",
      "  File \"C:\\Users\\Abby\\anaconda3\\lib\\site-packages\\scrapy\\core\\spidermw.py\", line 62, in _evaluate_iterable\n",
      "    for r in iterable:\n",
      "  File \"C:\\Users\\Abby\\anaconda3\\lib\\site-packages\\scrapy\\spidermiddlewares\\referer.py\", line 340, in <genexpr>\n",
      "    return (_set_referer(r) for r in result or ())\n",
      "  File \"C:\\Users\\Abby\\anaconda3\\lib\\site-packages\\scrapy\\core\\spidermw.py\", line 62, in _evaluate_iterable\n",
      "    for r in iterable:\n",
      "  File \"C:\\Users\\Abby\\anaconda3\\lib\\site-packages\\scrapy\\spidermiddlewares\\urllength.py\", line 37, in <genexpr>\n",
      "    return (r for r in result or () if _filter(r))\n",
      "  File \"C:\\Users\\Abby\\anaconda3\\lib\\site-packages\\scrapy\\core\\spidermw.py\", line 62, in _evaluate_iterable\n",
      "    for r in iterable:\n",
      "  File \"C:\\Users\\Abby\\anaconda3\\lib\\site-packages\\scrapy\\spidermiddlewares\\depth.py\", line 58, in <genexpr>\n",
      "    return (r for r in result or () if _filter(r))\n",
      "  File \"C:\\Users\\Abby\\anaconda3\\lib\\site-packages\\scrapy\\core\\spidermw.py\", line 62, in _evaluate_iterable\n",
      "    for r in iterable:\n",
      "  File \"<ipython-input-2-ea643e8804d5>\", line 14, in parse_podcast\n",
      "    yield response.follow(url = url, callback = self.parse_pdf)\n",
      "NameError: name 'url' is not defined\n",
      "2021-03-01 20:32:13 [scrapy.core.engine] INFO: Closing spider (finished)\n",
      "2021-03-01 20:32:13 [scrapy.statscollectors] INFO: Dumping Scrapy stats:\n",
      "{'downloader/request_bytes': 462,\n",
      " 'downloader/request_count': 2,\n",
      " 'downloader/request_method_count/GET': 2,\n",
      " 'downloader/response_bytes': 11194,\n",
      " 'downloader/response_count': 2,\n",
      " 'downloader/response_status_count/200': 1,\n",
      " 'downloader/response_status_count/301': 1,\n",
      " 'elapsed_time_seconds': 0.628539,\n",
      " 'finish_reason': 'finished',\n",
      " 'finish_time': datetime.datetime(2021, 3, 2, 1, 32, 13, 618084),\n",
      " 'log_count/DEBUG': 2,\n",
      " 'log_count/ERROR': 1,\n",
      " 'log_count/INFO': 10,\n",
      " 'response_received_count': 1,\n",
      " 'scheduler/dequeued': 2,\n",
      " 'scheduler/dequeued/memory': 2,\n",
      " 'scheduler/enqueued': 2,\n",
      " 'scheduler/enqueued/memory': 2,\n",
      " 'spider_exceptions/NameError': 1,\n",
      " 'start_time': datetime.datetime(2021, 3, 2, 1, 32, 12, 989545)}\n",
      "2021-03-01 20:32:13 [scrapy.core.engine] INFO: Spider closed (finished)\n"
     ]
    },
    {
     "name": "stdout",
     "output_type": "stream",
     "text": [
      "['https://maximumfun.org/transcripts/sawbones/transcript-sawbones-mewing/', 'https://maximumfun.org/transcripts/bullseye-with-jesse-thorn/transcript-bullseye-with-jesse-thorn-all-creatures-great-and-small-showrunner-ben-vanstone/', 'https://maximumfun.org/transcripts/sawbones/transcript-sawbones-the-great-smog/', 'https://maximumfun.org/transcripts/bullseye-with-jesse-thorn/transcript-bullseye-with-jesse-thorn-ted-danson/', 'https://maximumfun.org/transcripts/bullseye-with-jesse-thorn/transcript-bullseye-with-jesse-thorn-john-wilson/', 'https://maximumfun.org/transcripts/sawbones/transcript-sawbones-how-to-talk-about-vaccine-hesitancy/', 'https://maximumfun.org/transcripts/bullseye-with-jesse-thorn/transcript-bullseye-with-jesse-thorn-fran-lebowitz/', 'https://maximumfun.org/transcripts/my-brother-my-brother-and-me/transcript-mbmbam-545-blood-is-thicker-than-the-bun/', 'https://maximumfun.org/transcripts/shmanners/transcript-shmanners-cowboy-poetry/', 'https://maximumfun.org/transcripts/bullseye-with-jesse-thorn/transcript-bullseye-with-jesse-thorn-natalie-palamides-creator-and-star-of-nate-a-one-man-show/', 'https://maximumfun.org/transcripts/sawbones/transcript-sawbones-dropsy/', 'https://maximumfun.org/transcripts/bullseye-with-jesse-thorn/transcript-bullseye-with-jesse-thorn-isiah-whitlock-jr/']\n"
     ]
    }
   ],
   "source": [
    "process = CrawlerProcess()\n",
    "process.crawl(MaxFunSpider)\n",
    "process.start()"
   ]
  },
  {
   "cell_type": "code",
   "execution_count": null,
   "metadata": {},
   "outputs": [],
   "source": []
  },
  {
   "cell_type": "code",
   "execution_count": null,
   "metadata": {},
   "outputs": [],
   "source": []
  },
  {
   "cell_type": "code",
   "execution_count": null,
   "metadata": {},
   "outputs": [],
   "source": []
  },
  {
   "cell_type": "code",
   "execution_count": null,
   "metadata": {},
   "outputs": [],
   "source": []
  },
  {
   "cell_type": "code",
   "execution_count": null,
   "metadata": {},
   "outputs": [],
   "source": []
  }
 ],
 "metadata": {
  "kernelspec": {
   "display_name": "Python 3",
   "language": "python",
   "name": "python3"
  },
  "language_info": {
   "codemirror_mode": {
    "name": "ipython",
    "version": 3
   },
   "file_extension": ".py",
   "mimetype": "text/x-python",
   "name": "python",
   "nbconvert_exporter": "python",
   "pygments_lexer": "ipython3",
   "version": "3.8.5"
  }
 },
 "nbformat": 4,
 "nbformat_minor": 4
}
