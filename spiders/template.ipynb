{
 "cells": [
  {
   "cell_type": "code",
   "execution_count": null,
   "metadata": {},
   "outputs": [],
   "source": [
    "import scrapy\n",
    "from scrapy.crawler import CrawlerProcess"
   ]
  },
  {
   "cell_type": "code",
   "execution_count": null,
   "metadata": {},
   "outputs": [],
   "source": [
    "data = []"
   ]
  },
  {
   "cell_type": "code",
   "execution_count": null,
   "metadata": {},
   "outputs": [],
   "source": [
    "# only season 3 has legitimate links\n",
    "# parses transcript links\n",
    "class Spider(scrapy.Spider):\n",
    "    name = ''\n",
    "    \n",
    "    def start_requests(self):\n",
    "        base_url = ''\n",
    "        for i in range(1, 2): # SWITCH BACK TO 20\n",
    "            url = base_url + str(i)\n",
    "            yield scrapy.Request(url=url, callback=self.parse_episode)\n",
    "        \n",
    "    def parse_episode(self, response):\n",
    "        episode_links = response.xpath('').extract()\n",
    "        for link in episode_links:\n",
    "            # print(link)\n",
    "            yield response.follow(url=link, \n",
    "                               callback =self.parse_transcript_pg) \n",
    "    \n",
    "    def parse_transcript_pg(self, response):\n",
    "        transcript_links = response.xpath('').extract()\n",
    "        for link in transcript_links:\n",
    "            # print(link)\n",
    "            yield response.follow(url=link, \n",
    "                                 callback =self.parse_transcript) \n",
    "\n",
    "    def parse_transcript(self, response):\n",
    "        current_ep = []\n",
    "        \n",
    "        # episode = response.xpath('').extract()\n",
    "        # current_ep.append(episode)\n",
    "        \n",
    "        title = response.xpath('').extract()\n",
    "        current_ep.append(title)\n",
    "               \n",
    "        year = response.xpath('').extract()\n",
    "        current_ep.append(year)\n",
    "        \n",
    "        text = response.xpath('').extract()\n",
    "        current_ep.append(text)\n",
    "        \n",
    "        data.append(current_ep)"
   ]
  },
  {
   "cell_type": "code",
   "execution_count": null,
   "metadata": {},
   "outputs": [],
   "source": [
    "process = CrawlerProcess()\n",
    "process.crawl()\n",
    "process.start()"
   ]
  },
  {
   "cell_type": "code",
   "execution_count": null,
   "metadata": {},
   "outputs": [],
   "source": [
    "data[:20]"
   ]
  },
  {
   "cell_type": "code",
   "execution_count": null,
   "metadata": {},
   "outputs": [],
   "source": [
    "import pandas as pd\n",
    "\n",
    "df = pd.DataFrame(data, \n",
    "                  columns=['Episode','Title','Year'])\n",
    "df"
   ]
  },
  {
   "cell_type": "code",
   "execution_count": null,
   "metadata": {},
   "outputs": [],
   "source": []
  },
  {
   "cell_type": "code",
   "execution_count": null,
   "metadata": {},
   "outputs": [],
   "source": []
  }
 ],
 "metadata": {
  "kernelspec": {
   "display_name": "Python 3",
   "language": "python",
   "name": "python3"
  },
  "language_info": {
   "codemirror_mode": {
    "name": "ipython",
    "version": 3
   },
   "file_extension": ".py",
   "mimetype": "text/x-python",
   "name": "python",
   "nbconvert_exporter": "python",
   "pygments_lexer": "ipython3",
   "version": "3.8.5"
  }
 },
 "nbformat": 4,
 "nbformat_minor": 4
}
