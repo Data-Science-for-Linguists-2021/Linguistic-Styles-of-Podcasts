{
 "cells": [
  {
   "cell_type": "code",
   "execution_count": null,
   "metadata": {},
   "outputs": [],
   "source": [
    "import scrapy\n",
    "from scrapy.crawler import CrawlerProcess"
   ]
  },
  {
   "cell_type": "code",
   "execution_count": null,
   "metadata": {},
   "outputs": [],
   "source": [
    "# parses transcript links\n",
    "class S_Town(scrapy.Spider):\n",
    "    name = 'S-Town'\n",
    "    \n",
    "    def start_requests(self):\n",
    "        url = 'https://stownpodcast.org/chapter/1'\n",
    "        print(urls) # Urls are correct\n",
    "        yield scrapy.Request(url=url, callback=self.parse_episode)\n",
    "        \n",
    "    def parse_episode(self, response):\n",
    "        transcript_links = response.xpath('//article[@data-type]\"episode\"//a[@class=\"open-transcript\"]/@href').extract()\n",
    "        # ????  Transcript is a popup\n",
    "        # print([l for l in transcript_links])\n",
    "        for link in transcript_links:\n",
    "            yield response.follow(url=link, \n",
    "                                  callback =self.parse_transcript)\n",
    "    \n",
    "    def parse_transcript(self, response):        \n",
    "        "
   ]
  },
  {
   "cell_type": "code",
   "execution_count": null,
   "metadata": {},
   "outputs": [],
   "source": [
    "process = CrawlerProcess()\n",
    "process.crawl(Move_Your_DNA)\n",
    "process.start()"
   ]
  }
 ],
 "metadata": {
  "kernelspec": {
   "display_name": "Python 3",
   "language": "python",
   "name": "python3"
  },
  "language_info": {
   "codemirror_mode": {
    "name": "ipython",
    "version": 3
   },
   "file_extension": ".py",
   "mimetype": "text/x-python",
   "name": "python",
   "nbconvert_exporter": "python",
   "pygments_lexer": "ipython3",
   "version": "3.8.5"
  }
 },
 "nbformat": 4,
 "nbformat_minor": 4
}
