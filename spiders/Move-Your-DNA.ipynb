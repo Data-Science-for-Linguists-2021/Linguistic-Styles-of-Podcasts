{
 "cells": [
  {
   "cell_type": "code",
   "execution_count": 1,
   "metadata": {},
   "outputs": [],
   "source": [
    "import scrapy\n",
    "from scrapy.crawler import CrawlerProcess"
   ]
  },
  {
   "cell_type": "code",
   "execution_count": 2,
   "metadata": {},
   "outputs": [],
   "source": [
    "# parses transcript links\n",
    "class Move_Your_DNA(scrapy.Spider):\n",
    "    name = 'Move-Your-DNA'\n",
    "    \n",
    "    def start_requests(self):\n",
    "        base_url = 'https://www.nutritiousmovement.com/category/podcast-transcripts/page/'\n",
    "        urls = []\n",
    "        for i in range(2, 15):\n",
    "            urls.append(base_url + str(i) + '/')\n",
    "        # print(urls) # Urls are correct\n",
    "        for url in urls:\n",
    "            yield scrapy.Request(url=url, callback=self.parse_episode)\n",
    "        \n",
    "    def parse_episode(self, response):\n",
    "        transcript_links = response.xpath('//main[@class=\"content\"]//article/div/header/h2/a/@href').extract() \n",
    "        # print([l for l in transcript_links])\n",
    "        for link in transcript_links:\n",
    "            yield response.follow(url=link, \n",
    "                                  callback =self.parse_transcript)\n",
    "    \n",
    "    def parse_transcript(self, response):        \n",
    "        # Title - done, clean\n",
    "        title = str(response.xpath('//h1[@itemprop=\"headline\"]/text()').extract())\n",
    "        clean_title = title[2:-2].split(' – Podcast Episode #')\n",
    "        ep_title = clean_title[0]\n",
    "        ep_number = clean_title[1]\n",
    "        \n",
    "        # Text - NEEDS CLEANED!\n",
    "        text = (response.css(' div.entry-content p > *::text').extract())[2:]\n",
    "        print(text)"
   ]
  },
  {
   "cell_type": "code",
   "execution_count": 3,
   "metadata": {},
   "outputs": [
    {
     "name": "stderr",
     "output_type": "stream",
     "text": [
      "2021-03-02 18:56:02 [scrapy.utils.log] INFO: Scrapy 2.4.1 started (bot: scrapybot)\n",
      "2021-03-02 18:56:02 [scrapy.utils.log] INFO: Versions: lxml 4.6.1.0, libxml2 2.9.10, cssselect 1.1.0, parsel 1.6.0, w3lib 1.22.0, Twisted 20.3.0, Python 3.8.5 (default, Sep  3 2020, 21:29:08) [MSC v.1916 64 bit (AMD64)], pyOpenSSL 19.1.0 (OpenSSL 1.1.1h  22 Sep 2020), cryptography 3.1.1, Platform Windows-10-10.0.19041-SP0\n",
      "2021-03-02 18:56:02 [scrapy.utils.log] DEBUG: Using reactor: twisted.internet.selectreactor.SelectReactor\n",
      "2021-03-02 18:56:02 [scrapy.crawler] INFO: Overridden settings:\n",
      "{}\n",
      "2021-03-02 18:56:02 [scrapy.extensions.telnet] INFO: Telnet Password: 158c1b2864e6f9cc\n",
      "2021-03-02 18:56:02 [scrapy.middleware] INFO: Enabled extensions:\n",
      "['scrapy.extensions.corestats.CoreStats',\n",
      " 'scrapy.extensions.telnet.TelnetConsole',\n",
      " 'scrapy.extensions.logstats.LogStats']\n",
      "2021-03-02 18:56:02 [scrapy.middleware] INFO: Enabled downloader middlewares:\n",
      "['scrapy.downloadermiddlewares.httpauth.HttpAuthMiddleware',\n",
      " 'scrapy.downloadermiddlewares.downloadtimeout.DownloadTimeoutMiddleware',\n",
      " 'scrapy.downloadermiddlewares.defaultheaders.DefaultHeadersMiddleware',\n",
      " 'scrapy.downloadermiddlewares.useragent.UserAgentMiddleware',\n",
      " 'scrapy.downloadermiddlewares.retry.RetryMiddleware',\n",
      " 'scrapy.downloadermiddlewares.redirect.MetaRefreshMiddleware',\n",
      " 'scrapy.downloadermiddlewares.httpcompression.HttpCompressionMiddleware',\n",
      " 'scrapy.downloadermiddlewares.redirect.RedirectMiddleware',\n",
      " 'scrapy.downloadermiddlewares.cookies.CookiesMiddleware',\n",
      " 'scrapy.downloadermiddlewares.httpproxy.HttpProxyMiddleware',\n",
      " 'scrapy.downloadermiddlewares.stats.DownloaderStats']\n",
      "2021-03-02 18:56:02 [scrapy.middleware] INFO: Enabled spider middlewares:\n",
      "['scrapy.spidermiddlewares.httperror.HttpErrorMiddleware',\n",
      " 'scrapy.spidermiddlewares.offsite.OffsiteMiddleware',\n",
      " 'scrapy.spidermiddlewares.referer.RefererMiddleware',\n",
      " 'scrapy.spidermiddlewares.urllength.UrlLengthMiddleware',\n",
      " 'scrapy.spidermiddlewares.depth.DepthMiddleware']\n",
      "2021-03-02 18:56:02 [scrapy.middleware] INFO: Enabled item pipelines:\n",
      "[]\n",
      "2021-03-02 18:56:02 [scrapy.core.engine] INFO: Spider opened\n",
      "2021-03-02 18:56:02 [scrapy.extensions.logstats] INFO: Crawled 0 pages (at 0 pages/min), scraped 0 items (at 0 items/min)\n",
      "2021-03-02 18:56:02 [scrapy.extensions.telnet] INFO: Telnet console listening on 127.0.0.1:6023\n",
      "2021-03-02 18:56:05 [scrapy.core.engine] DEBUG: Crawled (200) <GET https://www.nutritiousmovement.com/category/podcast-transcripts/page/6/> (referer: None)\n",
      "2021-03-02 18:56:05 [scrapy.core.engine] DEBUG: Crawled (200) <GET https://www.nutritiousmovement.com/category/podcast-transcripts/page/2/> (referer: None)\n",
      "2021-03-02 18:56:05 [scrapy.core.engine] DEBUG: Crawled (200) <GET https://www.nutritiousmovement.com/category/podcast-transcripts/page/3/> (referer: None)\n",
      "2021-03-02 18:56:05 [scrapy.core.engine] DEBUG: Crawled (200) <GET https://www.nutritiousmovement.com/category/podcast-transcripts/page/5/> (referer: None)\n",
      "2021-03-02 18:56:05 [scrapy.core.engine] DEBUG: Crawled (200) <GET https://www.nutritiousmovement.com/category/podcast-transcripts/page/9/> (referer: None)\n",
      "2021-03-02 18:56:05 [scrapy.core.engine] DEBUG: Crawled (200) <GET https://www.nutritiousmovement.com/category/podcast-transcripts/page/4/> (referer: None)\n",
      "2021-03-02 18:56:05 [scrapy.core.engine] DEBUG: Crawled (200) <GET https://www.nutritiousmovement.com/category/podcast-transcripts/page/8/> (referer: None)\n",
      "2021-03-02 18:56:05 [scrapy.core.engine] DEBUG: Crawled (200) <GET https://www.nutritiousmovement.com/category/podcast-transcripts/page/7/> (referer: None)\n",
      "2021-03-02 18:56:07 [scrapy.core.engine] DEBUG: Crawled (200) <GET https://www.nutritiousmovement.com/category/podcast-transcripts/page/10/> (referer: None)\n",
      "2021-03-02 18:56:08 [scrapy.core.engine] DEBUG: Crawled (200) <GET https://www.nutritiousmovement.com/category/podcast-transcripts/page/14/> (referer: None)\n",
      "2021-03-02 18:56:08 [scrapy.core.engine] DEBUG: Crawled (200) <GET https://www.nutritiousmovement.com/category/podcast-transcripts/page/12/> (referer: None)\n",
      "2021-03-02 18:56:08 [scrapy.core.engine] DEBUG: Crawled (200) <GET https://www.nutritiousmovement.com/category/podcast-transcripts/page/11/> (referer: None)\n",
      "2021-03-02 18:56:08 [scrapy.core.engine] DEBUG: Crawled (200) <GET https://www.nutritiousmovement.com/you-do-know-squat-podcast-episode-91/> (referer: https://www.nutritiousmovement.com/category/podcast-transcripts/page/6/)\n",
      "2021-03-02 18:56:08 [scrapy.core.engine] DEBUG: Crawled (200) <GET https://www.nutritiousmovement.com/category/podcast-transcripts/page/13/> (referer: None)\n"
     ]
    },
    {
     "name": "stdout",
     "output_type": "stream",
     "text": [
      "91\n",
      "You DO Know Squat\n"
     ]
    },
    {
     "name": "stderr",
     "output_type": "stream",
     "text": [
      "2021-03-02 18:56:09 [scrapy.core.engine] DEBUG: Crawled (200) <GET https://www.nutritiousmovement.com/2017-recap-episode-92/> (referer: https://www.nutritiousmovement.com/category/podcast-transcripts/page/6/)\n"
     ]
    },
    {
     "name": "stdout",
     "output_type": "stream",
     "text": [
      "92\n",
      "REFLECT on 2017 before you RESOLVE in 2018\n"
     ]
    },
    {
     "name": "stderr",
     "output_type": "stream",
     "text": [
      "2021-03-02 18:56:10 [scrapy.core.engine] DEBUG: Crawled (200) <GET https://www.nutritiousmovement.com/ancestral-actions-with-arthur-haines-podcast-episode-115/> (referer: https://www.nutritiousmovement.com/category/podcast-transcripts/page/2/)\n",
      "2021-03-02 18:56:10 [scrapy.core.engine] DEBUG: Crawled (200) <GET https://www.nutritiousmovement.com/taking-action-in-the-garden-podcast-episode-114/> (referer: https://www.nutritiousmovement.com/category/podcast-transcripts/page/2/)\n",
      "2021-03-02 18:56:10 [scrapy.core.engine] DEBUG: Crawled (200) <GET https://www.nutritiousmovement.com/birth-and-the-shapeshifting-pelvis-podcast-episode-96/> (referer: https://www.nutritiousmovement.com/category/podcast-transcripts/page/5/)\n",
      "2021-03-02 18:56:10 [scrapy.core.engine] DEBUG: Crawled (200) <GET https://www.nutritiousmovement.com/wilderness-moves-podcast-episode-94/> (referer: https://www.nutritiousmovement.com/category/podcast-transcripts/page/6/)\n"
     ]
    },
    {
     "name": "stdout",
     "output_type": "stream",
     "text": [
      "115\n",
      "Ancestral Actions with Arthur Haines\n",
      "114\n",
      "Taking Action in the Garden\n",
      "96\n",
      "Birth and the Shapeshifting Pelvis\n",
      "94\n",
      "Wilderness Moves\n"
     ]
    },
    {
     "name": "stderr",
     "output_type": "stream",
     "text": [
      "2021-03-02 18:56:11 [scrapy.core.engine] DEBUG: Crawled (200) <GET https://www.nutritiousmovement.com/podcast-transcript-ep-72-breastfeeding-ecology-part-1/> (referer: https://www.nutritiousmovement.com/category/podcast-transcripts/page/9/)\n",
      "2021-03-02 18:56:11 [scrapy.core.engine] DEBUG: Crawled (200) <GET https://www.nutritiousmovement.com/understanding-movement-and-why-it-matters-podcast-episode-90/> (referer: https://www.nutritiousmovement.com/category/podcast-transcripts/page/6/)\n"
     ]
    },
    {
     "name": "stdout",
     "output_type": "stream",
     "text": [
      "72\n",
      "Breastfeeding Ecology (Part 1)\n",
      "90\n",
      "Movements matter…even the ones in public bathrooms\n"
     ]
    },
    {
     "name": "stderr",
     "output_type": "stream",
     "text": [
      "2021-03-02 18:56:11 [scrapy.core.engine] DEBUG: Crawled (200) <GET https://www.nutritiousmovement.com/podcast-transcript-ep-78-weve-got-your-back/> (referer: https://www.nutritiousmovement.com/category/podcast-transcripts/page/8/)\n",
      "2021-03-02 18:56:12 [scrapy.core.engine] DEBUG: Crawled (200) <GET https://www.nutritiousmovement.com/stay-golden-podcast-84/> (referer: https://www.nutritiousmovement.com/category/podcast-transcripts/page/7/)\n",
      "2021-03-02 18:56:12 [scrapy.core.engine] DEBUG: Crawled (200) <GET https://www.nutritiousmovement.com/podcast-transcript-ep-66-the-importance-of-movement-in-uncertain-times/> (referer: https://www.nutritiousmovement.com/category/podcast-transcripts/page/10/)\n",
      "2021-03-02 18:56:12 [scrapy.core.scraper] ERROR: Spider error processing <GET https://www.nutritiousmovement.com/stay-golden-podcast-84/> (referer: https://www.nutritiousmovement.com/category/podcast-transcripts/page/7/)\n",
      "Traceback (most recent call last):\n",
      "  File \"C:\\Users\\Abby\\anaconda3\\lib\\site-packages\\twisted\\internet\\defer.py\", line 654, in _runCallbacks\n",
      "    current.result = callback(current.result, *args, **kw)\n",
      "  File \"<ipython-input-2-4c29c2fd595d>\", line 27, in parse_transcript\n",
      "    ep_number = clean_title[1]\n",
      "IndexError: list index out of range\n",
      "2021-03-02 18:56:12 [scrapy.core.engine] DEBUG: Crawled (200) <GET https://www.nutritiousmovement.com/the-maple-syrup-workout-podcast-episode-95/> (referer: https://www.nutritiousmovement.com/category/podcast-transcripts/page/6/)\n",
      "2021-03-02 18:56:12 [scrapy.core.engine] DEBUG: Crawled (200) <GET https://www.nutritiousmovement.com/it-starts-with-feet-podcast-85/> (referer: https://www.nutritiousmovement.com/category/podcast-transcripts/page/7/)\n"
     ]
    },
    {
     "name": "stdout",
     "output_type": "stream",
     "text": [
      "78\n",
      "We’ve Got Your Back\n",
      "66\n",
      "The Importance of Movement in Uncertain Times\n",
      "95\n",
      "The Maple Syrup Workout\n",
      "85\n",
      "It Starts With Feet\n"
     ]
    },
    {
     "name": "stderr",
     "output_type": "stream",
     "text": [
      "2021-03-02 18:56:12 [scrapy.crawler] INFO: Received SIGINT, shutting down gracefully. Send again to force \n",
      "2021-03-02 18:56:12 [scrapy.core.engine] INFO: Closing spider (shutdown)\n",
      "2021-03-02 18:56:13 [scrapy.core.engine] DEBUG: Crawled (200) <GET https://www.nutritiousmovement.com/podcast-transcript-ep-42-cardio-natural-movement/> (referer: https://www.nutritiousmovement.com/category/podcast-transcripts/page/14/)\n",
      "2021-03-02 18:56:13 [scrapy.core.scraper] ERROR: Spider error processing <GET https://www.nutritiousmovement.com/podcast-transcript-ep-42-cardio-natural-movement/> (referer: https://www.nutritiousmovement.com/category/podcast-transcripts/page/14/)\n",
      "Traceback (most recent call last):\n",
      "  File \"C:\\Users\\Abby\\anaconda3\\lib\\site-packages\\twisted\\internet\\defer.py\", line 654, in _runCallbacks\n",
      "    current.result = callback(current.result, *args, **kw)\n",
      "  File \"<ipython-input-2-4c29c2fd595d>\", line 27, in parse_transcript\n",
      "    ep_number = clean_title[1]\n",
      "IndexError: list index out of range\n",
      "2021-03-02 18:56:13 [scrapy.core.engine] DEBUG: Crawled (200) <GET https://www.nutritiousmovement.com/the-expedition-within-each-of-us-podcast-episode-93/> (referer: https://www.nutritiousmovement.com/category/podcast-transcripts/page/6/)\n"
     ]
    },
    {
     "name": "stdout",
     "output_type": "stream",
     "text": [
      "93\n",
      "The Expedition Within Each of Us\n"
     ]
    },
    {
     "name": "stderr",
     "output_type": "stream",
     "text": [
      "2021-03-02 18:56:13 [scrapy.core.engine] DEBUG: Crawled (200) <GET https://www.nutritiousmovement.com/podcast-transcript-ep-48-dem-bones/> (referer: https://www.nutritiousmovement.com/category/podcast-transcripts/page/13/)\n",
      "2021-03-02 18:56:13 [scrapy.core.engine] DEBUG: Crawled (200) <GET https://www.nutritiousmovement.com/podcast-transcript-ep-43-katy-says-movement-mailbag/> (referer: https://www.nutritiousmovement.com/category/podcast-transcripts/page/14/)\n",
      "2021-03-02 18:56:14 [scrapy.core.scraper] ERROR: Spider error processing <GET https://www.nutritiousmovement.com/podcast-transcript-ep-48-dem-bones/> (referer: https://www.nutritiousmovement.com/category/podcast-transcripts/page/13/)\n",
      "Traceback (most recent call last):\n",
      "  File \"C:\\Users\\Abby\\anaconda3\\lib\\site-packages\\twisted\\internet\\defer.py\", line 654, in _runCallbacks\n",
      "    current.result = callback(current.result, *args, **kw)\n",
      "  File \"<ipython-input-2-4c29c2fd595d>\", line 27, in parse_transcript\n",
      "    ep_number = clean_title[1]\n",
      "IndexError: list index out of range\n",
      "2021-03-02 18:56:14 [scrapy.core.scraper] ERROR: Spider error processing <GET https://www.nutritiousmovement.com/podcast-transcript-ep-43-katy-says-movement-mailbag/> (referer: https://www.nutritiousmovement.com/category/podcast-transcripts/page/14/)\n",
      "Traceback (most recent call last):\n",
      "  File \"C:\\Users\\Abby\\anaconda3\\lib\\site-packages\\twisted\\internet\\defer.py\", line 654, in _runCallbacks\n",
      "    current.result = callback(current.result, *args, **kw)\n",
      "  File \"<ipython-input-2-4c29c2fd595d>\", line 27, in parse_transcript\n",
      "    ep_number = clean_title[1]\n",
      "IndexError: list index out of range\n",
      "2021-03-02 18:56:14 [scrapy.core.engine] DEBUG: Crawled (200) <GET https://www.nutritiousmovement.com/podcast-transcript-ep-49-special-edition-movement-mailbag/> (referer: https://www.nutritiousmovement.com/category/podcast-transcripts/page/13/)\n",
      "2021-03-02 18:56:14 [scrapy.core.scraper] ERROR: Spider error processing <GET https://www.nutritiousmovement.com/podcast-transcript-ep-49-special-edition-movement-mailbag/> (referer: https://www.nutritiousmovement.com/category/podcast-transcripts/page/13/)\n",
      "Traceback (most recent call last):\n",
      "  File \"C:\\Users\\Abby\\anaconda3\\lib\\site-packages\\twisted\\internet\\defer.py\", line 654, in _runCallbacks\n",
      "    current.result = callback(current.result, *args, **kw)\n",
      "  File \"<ipython-input-2-4c29c2fd595d>\", line 27, in parse_transcript\n",
      "    ep_number = clean_title[1]\n",
      "IndexError: list index out of range\n",
      "2021-03-02 18:56:15 [scrapy.core.engine] DEBUG: Crawled (200) <GET https://www.nutritiousmovement.com/podcast-transcript-ep-53-movement-mailbag-4/> (referer: https://www.nutritiousmovement.com/category/podcast-transcripts/page/13/)\n"
     ]
    },
    {
     "name": "stdout",
     "output_type": "stream",
     "text": [
      "53\n",
      "Movement Mailbag #4\n"
     ]
    },
    {
     "name": "stderr",
     "output_type": "stream",
     "text": [
      "2021-03-02 18:56:16 [scrapy.core.engine] DEBUG: Crawled (200) <GET https://www.nutritiousmovement.com/podcast-transcript-ep-60-swingers/> (referer: https://www.nutritiousmovement.com/category/podcast-transcripts/page/11/)\n"
     ]
    },
    {
     "name": "stdout",
     "output_type": "stream",
     "text": [
      "60\n",
      "Swingers\n"
     ]
    },
    {
     "name": "stderr",
     "output_type": "stream",
     "text": [
      "2021-03-02 18:56:17 [scrapy.core.engine] DEBUG: Crawled (200) <GET https://www.nutritiousmovement.com/podcast-transcript-ep-62-dani-reads-movement-matters/> (referer: https://www.nutritiousmovement.com/category/podcast-transcripts/page/11/)\n"
     ]
    },
    {
     "name": "stdout",
     "output_type": "stream",
     "text": [
      "62\n",
      "Movement Matters #1: Dani Reads “Movement Matters”\n"
     ]
    },
    {
     "name": "stderr",
     "output_type": "stream",
     "text": [
      "2021-03-02 18:56:18 [scrapy.core.engine] DEBUG: Crawled (200) <GET https://www.nutritiousmovement.com/podcast-transcript-ep-51-babies-and-movement-part-2/> (referer: https://www.nutritiousmovement.com/category/podcast-transcripts/page/13/)\n",
      "2021-03-02 18:56:18 [scrapy.core.scraper] ERROR: Spider error processing <GET https://www.nutritiousmovement.com/podcast-transcript-ep-51-babies-and-movement-part-2/> (referer: https://www.nutritiousmovement.com/category/podcast-transcripts/page/13/)\n",
      "Traceback (most recent call last):\n",
      "  File \"C:\\Users\\Abby\\anaconda3\\lib\\site-packages\\twisted\\internet\\defer.py\", line 654, in _runCallbacks\n",
      "    current.result = callback(current.result, *args, **kw)\n",
      "  File \"<ipython-input-2-4c29c2fd595d>\", line 27, in parse_transcript\n",
      "    ep_number = clean_title[1]\n",
      "IndexError: list index out of range\n",
      "2021-03-02 18:56:19 [scrapy.core.engine] DEBUG: Crawled (200) <GET https://www.nutritiousmovement.com/podcast-transcript-ep-61-get-a-grip/> (referer: https://www.nutritiousmovement.com/category/podcast-transcripts/page/11/)\n"
     ]
    },
    {
     "name": "stdout",
     "output_type": "stream",
     "text": [
      "61\n",
      "Get a Grip\n"
     ]
    },
    {
     "name": "stderr",
     "output_type": "stream",
     "text": [
      "2021-03-02 18:56:20 [scrapy.core.engine] DEBUG: Crawled (200) <GET https://www.nutritiousmovement.com/podcast-transcript-ep-54-sedentary-culture-in-the-news/> (referer: https://www.nutritiousmovement.com/category/podcast-transcripts/page/12/)\n"
     ]
    },
    {
     "name": "stdout",
     "output_type": "stream",
     "text": [
      "54\n",
      "Sedentary Culture in the News\n"
     ]
    },
    {
     "name": "stderr",
     "output_type": "stream",
     "text": [
      "2021-03-02 18:56:21 [scrapy.core.engine] DEBUG: Crawled (200) <GET https://www.nutritiousmovement.com/podcast-transcript-ep-65-transitioning-to-floor-sitting/> (referer: https://www.nutritiousmovement.com/category/podcast-transcripts/page/11/)\n"
     ]
    },
    {
     "name": "stdout",
     "output_type": "stream",
     "text": [
      "65\n",
      "Transitioning to Floor Sitting\n"
     ]
    },
    {
     "name": "stderr",
     "output_type": "stream",
     "text": [
      "2021-03-02 18:56:22 [scrapy.core.engine] DEBUG: Crawled (200) <GET https://www.nutritiousmovement.com/podcast-transcript-ep-63-movement-matters-2-creating-a-personal-mission-statement/> (referer: https://www.nutritiousmovement.com/category/podcast-transcripts/page/11/)\n"
     ]
    },
    {
     "name": "stdout",
     "output_type": "stream",
     "text": [
      "63\n",
      "Movement Matters #2: Creating a Personal Mission Statement\n"
     ]
    },
    {
     "name": "stderr",
     "output_type": "stream",
     "text": [
      "2021-03-02 18:56:23 [scrapy.core.engine] DEBUG: Crawled (200) <GET https://www.nutritiousmovement.com/podcast-transcript-ep-50-movement-period/> (referer: https://www.nutritiousmovement.com/category/podcast-transcripts/page/13/)\n",
      "2021-03-02 18:56:23 [scrapy.core.scraper] ERROR: Spider error processing <GET https://www.nutritiousmovement.com/podcast-transcript-ep-50-movement-period/> (referer: https://www.nutritiousmovement.com/category/podcast-transcripts/page/13/)\n",
      "Traceback (most recent call last):\n",
      "  File \"C:\\Users\\Abby\\anaconda3\\lib\\site-packages\\twisted\\internet\\defer.py\", line 654, in _runCallbacks\n",
      "    current.result = callback(current.result, *args, **kw)\n",
      "  File \"<ipython-input-2-4c29c2fd595d>\", line 27, in parse_transcript\n",
      "    ep_number = clean_title[1]\n",
      "IndexError: list index out of range\n",
      "2021-03-02 18:56:23 [scrapy.core.engine] DEBUG: Crawled (200) <GET https://www.nutritiousmovement.com/podcast-transcript-ep-51-babies-movement-part-1/> (referer: https://www.nutritiousmovement.com/category/podcast-transcripts/page/13/)\n",
      "2021-03-02 18:56:24 [scrapy.core.scraper] ERROR: Spider error processing <GET https://www.nutritiousmovement.com/podcast-transcript-ep-51-babies-movement-part-1/> (referer: https://www.nutritiousmovement.com/category/podcast-transcripts/page/13/)\n",
      "Traceback (most recent call last):\n",
      "  File \"C:\\Users\\Abby\\anaconda3\\lib\\site-packages\\twisted\\internet\\defer.py\", line 654, in _runCallbacks\n",
      "    current.result = callback(current.result, *args, **kw)\n",
      "  File \"<ipython-input-2-4c29c2fd595d>\", line 27, in parse_transcript\n",
      "    ep_number = clean_title[1]\n",
      "IndexError: list index out of range\n",
      "2021-03-02 18:56:24 [scrapy.core.engine] DEBUG: Crawled (200) <GET https://www.nutritiousmovement.com/podcast-transcript-ep-64-movement-matters-3-movement-ecology-a-live-audience-podcast-recording/> (referer: https://www.nutritiousmovement.com/category/podcast-transcripts/page/11/)\n",
      "2021-03-02 18:56:25 [scrapy.statscollectors] INFO: Dumping Scrapy stats:\n",
      "{'downloader/request_bytes': 18245,\n",
      " 'downloader/request_count': 42,\n",
      " 'downloader/request_method_count/GET': 42,\n",
      " 'downloader/response_bytes': 1962806,\n",
      " 'downloader/response_count': 42,\n",
      " 'downloader/response_status_count/200': 42,\n",
      " 'elapsed_time_seconds': 22.610906,\n",
      " 'finish_reason': 'shutdown',\n",
      " 'finish_time': datetime.datetime(2021, 3, 2, 23, 56, 25, 16525),\n",
      " 'log_count/DEBUG': 42,\n",
      " 'log_count/ERROR': 8,\n",
      " 'log_count/INFO': 11,\n",
      " 'request_depth_max': 1,\n",
      " 'response_received_count': 42,\n",
      " 'scheduler/dequeued': 42,\n",
      " 'scheduler/dequeued/memory': 42,\n",
      " 'scheduler/enqueued': 91,\n",
      " 'scheduler/enqueued/memory': 91,\n",
      " 'spider_exceptions/IndexError': 8,\n",
      " 'start_time': datetime.datetime(2021, 3, 2, 23, 56, 2, 405619)}\n",
      "2021-03-02 18:56:25 [scrapy.core.engine] INFO: Spider closed (shutdown)\n"
     ]
    },
    {
     "name": "stdout",
     "output_type": "stream",
     "text": [
      "64\n",
      "Movement Matters #3: Movement Ecology, a Live Audience Podcast Recording\n"
     ]
    }
   ],
   "source": [
    "process = CrawlerProcess()\n",
    "process.crawl(Move_Your_DNA)\n",
    "process.start()"
   ]
  }
 ],
 "metadata": {
  "kernelspec": {
   "display_name": "Python 3",
   "language": "python",
   "name": "python3"
  },
  "language_info": {
   "codemirror_mode": {
    "name": "ipython",
    "version": 3
   },
   "file_extension": ".py",
   "mimetype": "text/x-python",
   "name": "python",
   "nbconvert_exporter": "python",
   "pygments_lexer": "ipython3",
   "version": "3.8.5"
  }
 },
 "nbformat": 4,
 "nbformat_minor": 4
}
