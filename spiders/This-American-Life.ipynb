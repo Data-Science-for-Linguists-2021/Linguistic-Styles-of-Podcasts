{
 "cells": [
  {
   "cell_type": "code",
   "execution_count": 1,
   "metadata": {},
   "outputs": [],
   "source": [
    "import scrapy\n",
    "from scrapy.crawler import CrawlerProcess"
   ]
  },
  {
   "cell_type": "code",
   "execution_count": 2,
   "metadata": {},
   "outputs": [],
   "source": [
    "# parses transcript links\n",
    "class This_American_Life(scrapy.Spider):\n",
    "    name = 'This-American-Life'\n",
    "    \n",
    "    def start_requests(self):\n",
    "        url = 'https://www.thisamericanlife.org/archive'\n",
    "        yield scrapy.Request(url=url, callback=self.parse_episode)\n",
    "        \n",
    "    def parse_episode(self, response):\n",
    "        episode_links = response.xpath('//article[@data-type=\"episode\"]/header/a/@href').extract()        \n",
    "        # print([('https://www.thisamericanlife.org' + l) for l in episode_links]) # links work\n",
    "        for link in episode_links:\n",
    "            yield scrapy.Request(url='https://www.thisamericanlife.org'+ link, \n",
    "                                  callback =self.parse_transcript_link)\n",
    "            \n",
    "    def parse_transcript_link(self, response):\n",
    "        transcript_links = response.css(' header.episode-header > div.container > ul.actions > li:nth_of_type(3) > a::attr(href)').extract()\n",
    "        print([('https://www.thisamericanlife.org' + l) for l in transcript_links]) # links work\n",
    "        for link in transcript_links:\n",
    "            yield response.follow(url='https://www.thisamericanlife.org' + link, \n",
    "                                  callback=self.parse_transcript)\n",
    "    \n",
    "    def parse_transcript(self, response):        \n",
    "        # Title\n",
    "        # title = str(response.xpath('//h1[@itemprop=\"headline\"]/text()').extract())\n",
    "        # clean_title = title[2:-2].split(' – Podcast Episode #')\n",
    "        # ep_title = clean_title[0]\n",
    "        # ep_number = clean_title[1]\n",
    "        \n",
    "        # Text\n",
    "        text = response.css(' article.node > div.content p > *::text').extract()\n",
    "        # print(text)"
   ]
  },
  {
   "cell_type": "code",
   "execution_count": 3,
   "metadata": {},
   "outputs": [
    {
     "name": "stderr",
     "output_type": "stream",
     "text": [
      "2021-03-02 18:52:30 [scrapy.utils.log] INFO: Scrapy 2.4.1 started (bot: scrapybot)\n",
      "2021-03-02 18:52:30 [scrapy.utils.log] INFO: Versions: lxml 4.6.1.0, libxml2 2.9.10, cssselect 1.1.0, parsel 1.6.0, w3lib 1.22.0, Twisted 20.3.0, Python 3.8.5 (default, Sep  3 2020, 21:29:08) [MSC v.1916 64 bit (AMD64)], pyOpenSSL 19.1.0 (OpenSSL 1.1.1h  22 Sep 2020), cryptography 3.1.1, Platform Windows-10-10.0.19041-SP0\n",
      "2021-03-02 18:52:30 [scrapy.utils.log] DEBUG: Using reactor: twisted.internet.selectreactor.SelectReactor\n",
      "2021-03-02 18:52:30 [scrapy.crawler] INFO: Overridden settings:\n",
      "{}\n",
      "2021-03-02 18:52:30 [scrapy.extensions.telnet] INFO: Telnet Password: db700ff39dfe8e14\n",
      "2021-03-02 18:52:30 [scrapy.middleware] INFO: Enabled extensions:\n",
      "['scrapy.extensions.corestats.CoreStats',\n",
      " 'scrapy.extensions.telnet.TelnetConsole',\n",
      " 'scrapy.extensions.logstats.LogStats']\n",
      "2021-03-02 18:52:31 [scrapy.middleware] INFO: Enabled downloader middlewares:\n",
      "['scrapy.downloadermiddlewares.httpauth.HttpAuthMiddleware',\n",
      " 'scrapy.downloadermiddlewares.downloadtimeout.DownloadTimeoutMiddleware',\n",
      " 'scrapy.downloadermiddlewares.defaultheaders.DefaultHeadersMiddleware',\n",
      " 'scrapy.downloadermiddlewares.useragent.UserAgentMiddleware',\n",
      " 'scrapy.downloadermiddlewares.retry.RetryMiddleware',\n",
      " 'scrapy.downloadermiddlewares.redirect.MetaRefreshMiddleware',\n",
      " 'scrapy.downloadermiddlewares.httpcompression.HttpCompressionMiddleware',\n",
      " 'scrapy.downloadermiddlewares.redirect.RedirectMiddleware',\n",
      " 'scrapy.downloadermiddlewares.cookies.CookiesMiddleware',\n",
      " 'scrapy.downloadermiddlewares.httpproxy.HttpProxyMiddleware',\n",
      " 'scrapy.downloadermiddlewares.stats.DownloaderStats']\n",
      "2021-03-02 18:52:31 [scrapy.middleware] INFO: Enabled spider middlewares:\n",
      "['scrapy.spidermiddlewares.httperror.HttpErrorMiddleware',\n",
      " 'scrapy.spidermiddlewares.offsite.OffsiteMiddleware',\n",
      " 'scrapy.spidermiddlewares.referer.RefererMiddleware',\n",
      " 'scrapy.spidermiddlewares.urllength.UrlLengthMiddleware',\n",
      " 'scrapy.spidermiddlewares.depth.DepthMiddleware']\n",
      "2021-03-02 18:52:31 [scrapy.middleware] INFO: Enabled item pipelines:\n",
      "[]\n",
      "2021-03-02 18:52:31 [scrapy.core.engine] INFO: Spider opened\n",
      "2021-03-02 18:52:31 [scrapy.extensions.logstats] INFO: Crawled 0 pages (at 0 pages/min), scraped 0 items (at 0 items/min)\n",
      "2021-03-02 18:52:31 [scrapy.extensions.telnet] INFO: Telnet console listening on 127.0.0.1:6023\n",
      "2021-03-02 18:52:31 [scrapy.core.engine] DEBUG: Crawled (200) <GET https://www.thisamericanlife.org/archive> (referer: None)\n",
      "2021-03-02 18:52:31 [scrapy.core.engine] DEBUG: Crawled (200) <GET https://www.thisamericanlife.org/695/everyones-a-critic> (referer: https://www.thisamericanlife.org/archive)\n",
      "2021-03-02 18:52:31 [scrapy.core.engine] DEBUG: Crawled (200) <GET https://www.thisamericanlife.org/693/abdi-the-american> (referer: https://www.thisamericanlife.org/archive)\n",
      "2021-03-02 18:52:31 [scrapy.core.engine] DEBUG: Crawled (200) <GET https://www.thisamericanlife.org/691/gardens-of-branching-paths> (referer: https://www.thisamericanlife.org/archive)\n",
      "2021-03-02 18:52:31 [scrapy.core.engine] DEBUG: Crawled (200) <GET https://www.thisamericanlife.org/692/the-show-of-delights> (referer: https://www.thisamericanlife.org/archive)\n",
      "2021-03-02 18:52:31 [scrapy.core.engine] DEBUG: Crawled (200) <GET https://www.thisamericanlife.org/635/chip-in-my-brain> (referer: https://www.thisamericanlife.org/archive)\n",
      "2021-03-02 18:52:31 [scrapy.core.engine] DEBUG: Crawled (200) <GET https://www.thisamericanlife.org/694/get-back-to-where-you-once-belonged> (referer: https://www.thisamericanlife.org/archive)\n",
      "2021-03-02 18:52:31 [scrapy.core.engine] DEBUG: Crawled (200) <GET https://www.thisamericanlife.org/696/low-hum-of-menace> (referer: https://www.thisamericanlife.org/archive)\n",
      "2021-03-02 18:52:31 [scrapy.core.engine] DEBUG: Crawled (200) <GET https://www.thisamericanlife.org/697/alone-together> (referer: https://www.thisamericanlife.org/archive)\n",
      "2021-03-02 18:52:31 [scrapy.core.engine] DEBUG: Crawled (200) <GET https://www.thisamericanlife.org/700/embiggening> (referer: https://www.thisamericanlife.org/archive)\n",
      "2021-03-02 18:52:31 [scrapy.core.engine] DEBUG: Crawled (200) <GET https://www.thisamericanlife.org/701/black-box> (referer: https://www.thisamericanlife.org/archive)\n",
      "2021-03-02 18:52:31 [scrapy.core.engine] DEBUG: Crawled (200) <GET https://www.thisamericanlife.org/698/the-test> (referer: https://www.thisamericanlife.org/archive)\n",
      "2021-03-02 18:52:32 [scrapy.core.engine] DEBUG: Crawled (200) <GET https://www.thisamericanlife.org/704/our-pulitzer-winning-episode> (referer: https://www.thisamericanlife.org/archive)\n",
      "2021-03-02 18:52:32 [scrapy.core.engine] DEBUG: Crawled (200) <GET https://www.thisamericanlife.org/685/we-come-from-small-places> (referer: https://www.thisamericanlife.org/archive)\n"
     ]
    },
    {
     "name": "stdout",
     "output_type": "stream",
     "text": [
      "['https://www.thisamericanlife.org/695/transcript']\n",
      "['https://www.thisamericanlife.org/693/transcript']\n",
      "['https://www.thisamericanlife.org/691/transcript']\n",
      "['https://www.thisamericanlife.org/692/transcript']\n",
      "['https://www.thisamericanlife.org/635/transcript']\n",
      "['https://www.thisamericanlife.org/694/transcript']\n",
      "['https://www.thisamericanlife.org/696/transcript']\n",
      "['https://www.thisamericanlife.org/697/transcript']\n",
      "['https://www.thisamericanlife.org/700/transcript']\n"
     ]
    },
    {
     "name": "stderr",
     "output_type": "stream",
     "text": [
      "2021-03-02 18:52:32 [scrapy.core.engine] DEBUG: Crawled (200) <GET https://www.thisamericanlife.org/705/time-out> (referer: https://www.thisamericanlife.org/archive)\n",
      "2021-03-02 18:52:32 [scrapy.core.engine] DEBUG: Crawled (200) <GET https://www.thisamericanlife.org/703/stuck> (referer: https://www.thisamericanlife.org/archive)\n",
      "2021-03-02 18:52:32 [scrapy.core.engine] DEBUG: Crawled (200) <GET https://www.thisamericanlife.org/699/fiasco> (referer: https://www.thisamericanlife.org/archive)\n",
      "2021-03-02 18:52:32 [scrapy.core.engine] DEBUG: Crawled (200) <GET https://www.thisamericanlife.org/687/small-things-considered> (referer: https://www.thisamericanlife.org/archive)\n",
      "2021-03-02 18:52:32 [scrapy.core.engine] DEBUG: Crawled (200) <GET https://www.thisamericanlife.org/702/one-last-thing-before-i-go> (referer: https://www.thisamericanlife.org/archive)\n",
      "2021-03-02 18:52:32 [scrapy.core.engine] DEBUG: Crawled (200) <GET https://www.thisamericanlife.org/688/the-out-crowd> (referer: https://www.thisamericanlife.org/archive)\n",
      "2021-03-02 18:52:32 [scrapy.core.engine] DEBUG: Crawled (200) <GET https://www.thisamericanlife.org/686/umbrellas-up> (referer: https://www.thisamericanlife.org/archive)\n"
     ]
    },
    {
     "name": "stdout",
     "output_type": "stream",
     "text": [
      "['https://www.thisamericanlife.org/701/transcript']\n",
      "['https://www.thisamericanlife.org/698/transcript']\n",
      "['https://www.thisamericanlife.org/704/transcript']\n",
      "['https://www.thisamericanlife.org/685/transcript']\n",
      "['https://www.thisamericanlife.org/705/transcript']\n",
      "['https://www.thisamericanlife.org/703/transcript']\n",
      "['https://www.thisamericanlife.org/699/transcript']\n",
      "['https://www.thisamericanlife.org/687/transcript']\n"
     ]
    },
    {
     "name": "stderr",
     "output_type": "stream",
     "text": [
      "2021-03-02 18:52:32 [scrapy.core.engine] DEBUG: Crawled (200) <GET https://www.thisamericanlife.org/689/digging-up-the-bones> (referer: https://www.thisamericanlife.org/archive)\n",
      "2021-03-02 18:52:32 [scrapy.core.engine] DEBUG: Crawled (200) <GET https://www.thisamericanlife.org/635/transcript> (referer: https://www.thisamericanlife.org/635/chip-in-my-brain)\n",
      "2021-03-02 18:52:32 [scrapy.core.engine] DEBUG: Crawled (200) <GET https://www.thisamericanlife.org/693/transcript> (referer: https://www.thisamericanlife.org/693/abdi-the-american)\n",
      "2021-03-02 18:52:32 [scrapy.core.engine] DEBUG: Crawled (200) <GET https://www.thisamericanlife.org/690/too-close-to-home> (referer: https://www.thisamericanlife.org/archive)\n",
      "2021-03-02 18:52:32 [scrapy.core.engine] DEBUG: Crawled (200) <GET https://www.thisamericanlife.org/692/transcript> (referer: https://www.thisamericanlife.org/692/the-show-of-delights)\n",
      "2021-03-02 18:52:32 [scrapy.core.engine] DEBUG: Crawled (200) <GET https://www.thisamericanlife.org/695/transcript> (referer: https://www.thisamericanlife.org/695/everyones-a-critic)\n",
      "2021-03-02 18:52:32 [scrapy.core.engine] DEBUG: Crawled (200) <GET https://www.thisamericanlife.org/697/transcript> (referer: https://www.thisamericanlife.org/697/alone-together)\n",
      "2021-03-02 18:52:32 [scrapy.core.engine] DEBUG: Crawled (200) <GET https://www.thisamericanlife.org/698/transcript> (referer: https://www.thisamericanlife.org/698/the-test)\n"
     ]
    },
    {
     "name": "stdout",
     "output_type": "stream",
     "text": [
      "['https://www.thisamericanlife.org/702/transcript']\n",
      "['https://www.thisamericanlife.org/688/transcript']\n",
      "['https://www.thisamericanlife.org/686/transcript']\n",
      "['https://www.thisamericanlife.org/689/transcript']\n"
     ]
    },
    {
     "name": "stderr",
     "output_type": "stream",
     "text": [
      "2021-03-02 18:52:32 [scrapy.core.engine] DEBUG: Crawled (200) <GET https://www.thisamericanlife.org/700/transcript> (referer: https://www.thisamericanlife.org/700/embiggening)\n",
      "2021-03-02 18:52:32 [scrapy.core.engine] DEBUG: Crawled (200) <GET https://www.thisamericanlife.org/696/transcript> (referer: https://www.thisamericanlife.org/696/low-hum-of-menace)\n",
      "2021-03-02 18:52:32 [scrapy.core.engine] DEBUG: Crawled (200) <GET https://www.thisamericanlife.org/701/transcript> (referer: https://www.thisamericanlife.org/701/black-box)\n",
      "2021-03-02 18:52:32 [scrapy.core.engine] DEBUG: Crawled (200) <GET https://www.thisamericanlife.org/688/transcript> (referer: https://www.thisamericanlife.org/688/the-out-crowd)\n",
      "2021-03-02 18:52:32 [scrapy.core.engine] DEBUG: Crawled (200) <GET https://www.thisamericanlife.org/704/transcript> (referer: https://www.thisamericanlife.org/704/our-pulitzer-winning-episode)\n",
      "2021-03-02 18:52:32 [scrapy.core.engine] DEBUG: Crawled (200) <GET https://www.thisamericanlife.org/705/transcript> (referer: https://www.thisamericanlife.org/705/time-out)\n",
      "2021-03-02 18:52:32 [scrapy.core.engine] DEBUG: Crawled (200) <GET https://www.thisamericanlife.org/694/transcript> (referer: https://www.thisamericanlife.org/694/get-back-to-where-you-once-belonged)\n"
     ]
    },
    {
     "name": "stdout",
     "output_type": "stream",
     "text": [
      "['https://www.thisamericanlife.org/690/transcript']\n"
     ]
    },
    {
     "name": "stderr",
     "output_type": "stream",
     "text": [
      "2021-03-02 18:52:32 [scrapy.core.engine] DEBUG: Crawled (200) <GET https://www.thisamericanlife.org/689/transcript> (referer: https://www.thisamericanlife.org/689/digging-up-the-bones)\n",
      "2021-03-02 18:52:32 [scrapy.core.engine] DEBUG: Crawled (200) <GET https://www.thisamericanlife.org/706/a-mess-to-be-reckoned-with> (referer: https://www.thisamericanlife.org/archive)\n",
      "2021-03-02 18:52:32 [scrapy.core.engine] DEBUG: Crawled (200) <GET https://www.thisamericanlife.org/691/transcript> (referer: https://www.thisamericanlife.org/691/gardens-of-branching-paths)\n",
      "2021-03-02 18:52:32 [scrapy.core.engine] DEBUG: Crawled (200) <GET https://www.thisamericanlife.org/702/transcript> (referer: https://www.thisamericanlife.org/702/one-last-thing-before-i-go)\n",
      "2021-03-02 18:52:32 [scrapy.core.engine] DEBUG: Crawled (200) <GET https://www.thisamericanlife.org/686/transcript> (referer: https://www.thisamericanlife.org/686/umbrellas-up)\n",
      "2021-03-02 18:52:32 [scrapy.core.engine] DEBUG: Crawled (200) <GET https://www.thisamericanlife.org/699/transcript> (referer: https://www.thisamericanlife.org/699/fiasco)\n",
      "2021-03-02 18:52:32 [scrapy.core.engine] DEBUG: Crawled (200) <GET https://www.thisamericanlife.org/687/transcript> (referer: https://www.thisamericanlife.org/687/small-things-considered)\n",
      "2021-03-02 18:52:32 [scrapy.core.engine] DEBUG: Crawled (200) <GET https://www.thisamericanlife.org/690/transcript> (referer: https://www.thisamericanlife.org/690/too-close-to-home)\n",
      "2021-03-02 18:52:32 [scrapy.core.engine] DEBUG: Crawled (200) <GET https://www.thisamericanlife.org/685/transcript> (referer: https://www.thisamericanlife.org/685/we-come-from-small-places)\n",
      "2021-03-02 18:52:32 [scrapy.core.engine] DEBUG: Crawled (200) <GET https://www.thisamericanlife.org/708/here-again> (referer: https://www.thisamericanlife.org/archive)\n",
      "2021-03-02 18:52:32 [scrapy.core.engine] DEBUG: Crawled (200) <GET https://www.thisamericanlife.org/703/transcript> (referer: https://www.thisamericanlife.org/703/stuck)\n",
      "2021-03-02 18:52:32 [scrapy.core.engine] DEBUG: Crawled (200) <GET https://www.thisamericanlife.org/710/umbrellas-down> (referer: https://www.thisamericanlife.org/archive)\n",
      "2021-03-02 18:52:32 [scrapy.core.engine] DEBUG: Crawled (200) <GET https://www.thisamericanlife.org/711/how-to-be-alone> (referer: https://www.thisamericanlife.org/archive)\n",
      "2021-03-02 18:52:32 [scrapy.core.engine] DEBUG: Crawled (200) <GET https://www.thisamericanlife.org/712/nice-white-parents> (referer: https://www.thisamericanlife.org/archive)\n",
      "2021-03-02 18:52:32 [scrapy.core.engine] DEBUG: Crawled (200) <GET https://www.thisamericanlife.org/713/made-to-be-broken> (referer: https://www.thisamericanlife.org/archive)\n",
      "2021-03-02 18:52:32 [scrapy.core.engine] DEBUG: Crawled (200) <GET https://www.thisamericanlife.org/714/day-at-the-beach> (referer: https://www.thisamericanlife.org/archive)\n"
     ]
    },
    {
     "name": "stdout",
     "output_type": "stream",
     "text": [
      "['https://www.thisamericanlife.org/706/transcript']\n"
     ]
    },
    {
     "name": "stderr",
     "output_type": "stream",
     "text": [
      "2021-03-02 18:52:33 [scrapy.core.engine] DEBUG: Crawled (200) <GET https://www.thisamericanlife.org/707/we-are-in-the-future> (referer: https://www.thisamericanlife.org/archive)\n",
      "2021-03-02 18:52:33 [scrapy.core.engine] DEBUG: Crawled (200) <GET https://www.thisamericanlife.org/709/the-reprieve> (referer: https://www.thisamericanlife.org/archive)\n",
      "2021-03-02 18:52:33 [scrapy.core.engine] DEBUG: Crawled (200) <GET https://www.thisamericanlife.org/719/trust-me-im-a-doctor> (referer: https://www.thisamericanlife.org/archive)\n",
      "2021-03-02 18:52:33 [scrapy.core.engine] DEBUG: Crawled (200) <GET https://www.thisamericanlife.org/716/trail-of-tears> (referer: https://www.thisamericanlife.org/archive)\n",
      "2021-03-02 18:52:33 [scrapy.core.engine] DEBUG: Crawled (200) <GET https://www.thisamericanlife.org/715/long-awaited-asteroid-finally-hits-earth> (referer: https://www.thisamericanlife.org/archive)\n",
      "2021-03-02 18:52:33 [scrapy.core.engine] DEBUG: Crawled (200) <GET https://www.thisamericanlife.org/718/same-bed-different-dreams> (referer: https://www.thisamericanlife.org/archive)\n",
      "2021-03-02 18:52:33 [scrapy.core.engine] DEBUG: Crawled (200) <GET https://www.thisamericanlife.org/721/the-walls-close-in> (referer: https://www.thisamericanlife.org/archive)\n",
      "2021-03-02 18:52:33 [scrapy.core.engine] DEBUG: Crawled (200) <GET https://www.thisamericanlife.org/717/audience-of-one> (referer: https://www.thisamericanlife.org/archive)\n"
     ]
    },
    {
     "name": "stdout",
     "output_type": "stream",
     "text": [
      "['https://www.thisamericanlife.org/708/transcript']\n",
      "['https://www.thisamericanlife.org/710/transcript']\n",
      "['https://www.thisamericanlife.org/711/transcript']\n",
      "['https://www.thisamericanlife.org/712/transcript']\n",
      "['https://www.thisamericanlife.org/713/transcript']\n",
      "['https://www.thisamericanlife.org/714/transcript']\n",
      "['https://www.thisamericanlife.org/707/transcript']\n",
      "['https://www.thisamericanlife.org/709/transcript']\n",
      "['https://www.thisamericanlife.org/719/transcript']\n"
     ]
    },
    {
     "name": "stderr",
     "output_type": "stream",
     "text": [
      "2021-03-02 18:52:33 [scrapy.core.engine] DEBUG: Crawled (200) <GET https://www.thisamericanlife.org/720/the-moment-after-this-moment> (referer: https://www.thisamericanlife.org/archive)\n",
      "2021-03-02 18:52:33 [scrapy.core.engine] DEBUG: Crawled (200) <GET https://www.thisamericanlife.org/725/turkey-in-a-face-mask> (referer: https://www.thisamericanlife.org/archive)\n",
      "2021-03-02 18:52:33 [scrapy.core.engine] DEBUG: Crawled (200) <GET https://www.thisamericanlife.org/706/transcript> (referer: https://www.thisamericanlife.org/706/a-mess-to-be-reckoned-with)\n",
      "2021-03-02 18:52:33 [scrapy.core.engine] DEBUG: Crawled (200) <GET https://www.thisamericanlife.org/722/the-unreality-of-now> (referer: https://www.thisamericanlife.org/archive)\n",
      "2021-03-02 18:52:33 [scrapy.core.engine] DEBUG: Crawled (200) <GET https://www.thisamericanlife.org/724/personal-recount> (referer: https://www.thisamericanlife.org/archive)\n",
      "2021-03-02 18:52:33 [scrapy.core.engine] DEBUG: Crawled (200) <GET https://www.thisamericanlife.org/723/squeaker> (referer: https://www.thisamericanlife.org/archive)\n",
      "2021-03-02 18:52:33 [scrapy.core.engine] DEBUG: Crawled (200) <GET https://www.thisamericanlife.org/728/lights-camera-christmas> (referer: https://www.thisamericanlife.org/archive)\n",
      "2021-03-02 18:52:33 [scrapy.core.engine] DEBUG: Crawled (200) <GET https://www.thisamericanlife.org/727/boulder-v-hill> (referer: https://www.thisamericanlife.org/archive)\n",
      "2021-03-02 18:52:33 [scrapy.core.engine] DEBUG: Crawled (200) <GET https://www.thisamericanlife.org/726/twenty-five> (referer: https://www.thisamericanlife.org/archive)\n"
     ]
    },
    {
     "name": "stdout",
     "output_type": "stream",
     "text": [
      "['https://www.thisamericanlife.org/716/transcript']\n",
      "['https://www.thisamericanlife.org/715/transcript']\n",
      "['https://www.thisamericanlife.org/718/transcript']\n",
      "['https://www.thisamericanlife.org/721/transcript']\n",
      "['https://www.thisamericanlife.org/717/transcript']\n",
      "['https://www.thisamericanlife.org/720/transcript']\n",
      "['https://www.thisamericanlife.org/725/transcript']\n"
     ]
    },
    {
     "name": "stderr",
     "output_type": "stream",
     "text": [
      "2021-03-02 18:52:33 [scrapy.core.engine] DEBUG: Crawled (200) <GET https://www.thisamericanlife.org/711/transcript> (referer: https://www.thisamericanlife.org/711/how-to-be-alone)\n",
      "2021-03-02 18:52:33 [scrapy.core.engine] DEBUG: Crawled (200) <GET https://www.thisamericanlife.org/714/transcript> (referer: https://www.thisamericanlife.org/714/day-at-the-beach)\n",
      "2021-03-02 18:52:33 [scrapy.core.engine] DEBUG: Crawled (200) <GET https://www.thisamericanlife.org/713/transcript> (referer: https://www.thisamericanlife.org/713/made-to-be-broken)\n",
      "2021-03-02 18:52:33 [scrapy.core.engine] DEBUG: Crawled (200) <GET https://www.thisamericanlife.org/709/transcript> (referer: https://www.thisamericanlife.org/709/the-reprieve)\n",
      "2021-03-02 18:52:33 [scrapy.core.engine] DEBUG: Crawled (200) <GET https://www.thisamericanlife.org/712/transcript> (referer: https://www.thisamericanlife.org/712/nice-white-parents)\n",
      "2021-03-02 18:52:33 [scrapy.core.engine] DEBUG: Crawled (200) <GET https://www.thisamericanlife.org/715/transcript> (referer: https://www.thisamericanlife.org/715/long-awaited-asteroid-finally-hits-earth)\n",
      "2021-03-02 18:52:33 [scrapy.core.engine] DEBUG: Crawled (200) <GET https://www.thisamericanlife.org/710/transcript> (referer: https://www.thisamericanlife.org/710/umbrellas-down)\n",
      "2021-03-02 18:52:33 [scrapy.core.engine] DEBUG: Crawled (200) <GET https://www.thisamericanlife.org/720/transcript> (referer: https://www.thisamericanlife.org/720/the-moment-after-this-moment)\n",
      "2021-03-02 18:52:33 [scrapy.core.engine] DEBUG: Crawled (200) <GET https://www.thisamericanlife.org/721/transcript> (referer: https://www.thisamericanlife.org/721/the-walls-close-in)\n"
     ]
    },
    {
     "name": "stdout",
     "output_type": "stream",
     "text": [
      "['https://www.thisamericanlife.org/722/transcript']\n",
      "['https://www.thisamericanlife.org/724/transcript']\n",
      "['https://www.thisamericanlife.org/723/transcript']\n",
      "['https://www.thisamericanlife.org/728/transcript']\n",
      "['https://www.thisamericanlife.org/727/transcript']\n",
      "['https://www.thisamericanlife.org/726/transcript']\n"
     ]
    },
    {
     "name": "stderr",
     "output_type": "stream",
     "text": [
      "2021-03-02 18:52:33 [scrapy.core.engine] DEBUG: Crawled (200) <GET https://www.thisamericanlife.org/707/transcript> (referer: https://www.thisamericanlife.org/707/we-are-in-the-future)\n",
      "2021-03-02 18:52:33 [scrapy.core.engine] DEBUG: Crawled (200) <GET https://www.thisamericanlife.org/716/transcript> (referer: https://www.thisamericanlife.org/716/trail-of-tears)\n",
      "2021-03-02 18:52:33 [scrapy.core.engine] DEBUG: Crawled (200) <GET https://www.thisamericanlife.org/717/transcript> (referer: https://www.thisamericanlife.org/717/audience-of-one)\n",
      "2021-03-02 18:52:33 [scrapy.core.engine] DEBUG: Crawled (200) <GET https://www.thisamericanlife.org/729/making-the-cut> (referer: https://www.thisamericanlife.org/archive)\n",
      "2021-03-02 18:52:33 [scrapy.core.engine] DEBUG: Crawled (200) <GET https://www.thisamericanlife.org/719/transcript> (referer: https://www.thisamericanlife.org/719/trust-me-im-a-doctor)\n",
      "2021-03-02 18:52:33 [scrapy.core.engine] DEBUG: Crawled (200) <GET https://www.thisamericanlife.org/708/transcript> (referer: https://www.thisamericanlife.org/708/here-again)\n",
      "2021-03-02 18:52:33 [scrapy.core.engine] DEBUG: Crawled (200) <GET https://www.thisamericanlife.org/724/transcript> (referer: https://www.thisamericanlife.org/724/personal-recount)\n",
      "2021-03-02 18:52:33 [scrapy.core.engine] DEBUG: Crawled (200) <GET https://www.thisamericanlife.org/718/transcript> (referer: https://www.thisamericanlife.org/718/same-bed-different-dreams)\n",
      "2021-03-02 18:52:33 [scrapy.core.engine] DEBUG: Crawled (200) <GET https://www.thisamericanlife.org/725/transcript> (referer: https://www.thisamericanlife.org/725/turkey-in-a-face-mask)\n",
      "2021-03-02 18:52:33 [scrapy.core.engine] DEBUG: Crawled (200) <GET https://www.thisamericanlife.org/722/transcript> (referer: https://www.thisamericanlife.org/722/the-unreality-of-now)\n",
      "2021-03-02 18:52:33 [scrapy.core.engine] DEBUG: Crawled (200) <GET https://www.thisamericanlife.org/726/transcript> (referer: https://www.thisamericanlife.org/726/twenty-five)\n",
      "2021-03-02 18:52:33 [scrapy.core.engine] DEBUG: Crawled (200) <GET https://www.thisamericanlife.org/670/beware-the-jabberwock> (referer: https://www.thisamericanlife.org/archive)\n",
      "2021-03-02 18:52:33 [scrapy.core.engine] DEBUG: Crawled (200) <GET https://www.thisamericanlife.org/727/transcript> (referer: https://www.thisamericanlife.org/727/boulder-v-hill)\n",
      "2021-03-02 18:52:33 [scrapy.core.engine] DEBUG: Crawled (200) <GET https://www.thisamericanlife.org/728/transcript> (referer: https://www.thisamericanlife.org/728/lights-camera-christmas)\n",
      "2021-03-02 18:52:34 [scrapy.core.engine] DEBUG: Crawled (200) <GET https://www.thisamericanlife.org/732/secrets> (referer: https://www.thisamericanlife.org/archive)\n",
      "2021-03-02 18:52:34 [scrapy.core.engine] DEBUG: Crawled (200) <GET https://www.thisamericanlife.org/723/transcript> (referer: https://www.thisamericanlife.org/723/squeaker)\n",
      "2021-03-02 18:52:34 [scrapy.core.engine] DEBUG: Crawled (200) <GET https://www.thisamericanlife.org/731/what-lies-beneath> (referer: https://www.thisamericanlife.org/archive)\n",
      "2021-03-02 18:52:34 [scrapy.core.engine] DEBUG: Crawled (200) <GET https://www.thisamericanlife.org/730/the-empty-chair> (referer: https://www.thisamericanlife.org/archive)\n"
     ]
    },
    {
     "name": "stdout",
     "output_type": "stream",
     "text": [
      "['https://www.thisamericanlife.org/729/transcript']\n",
      "['https://www.thisamericanlife.org/670/transcript']\n"
     ]
    },
    {
     "name": "stderr",
     "output_type": "stream",
     "text": [
      "2021-03-02 18:52:34 [scrapy.core.engine] DEBUG: Crawled (200) <GET https://www.thisamericanlife.org/729/transcript> (referer: https://www.thisamericanlife.org/729/making-the-cut)\n",
      "2021-03-02 18:52:34 [scrapy.core.engine] DEBUG: Crawled (200) <GET https://www.thisamericanlife.org/730/transcript> (referer: https://www.thisamericanlife.org/730/the-empty-chair)\n",
      "2021-03-02 18:52:34 [scrapy.core.engine] DEBUG: Crawled (200) <GET https://www.thisamericanlife.org/732/transcript> (referer: https://www.thisamericanlife.org/732/secrets)\n",
      "2021-03-02 18:52:34 [scrapy.core.engine] DEBUG: Crawled (200) <GET https://www.thisamericanlife.org/670/transcript> (referer: https://www.thisamericanlife.org/670/beware-the-jabberwock)\n",
      "2021-03-02 18:52:34 [scrapy.core.engine] DEBUG: Crawled (200) <GET https://www.thisamericanlife.org/731/transcript> (referer: https://www.thisamericanlife.org/731/what-lies-beneath)\n"
     ]
    },
    {
     "name": "stdout",
     "output_type": "stream",
     "text": [
      "['https://www.thisamericanlife.org/732/transcript']\n",
      "['https://www.thisamericanlife.org/731/transcript']\n",
      "['https://www.thisamericanlife.org/730/transcript']\n"
     ]
    },
    {
     "name": "stderr",
     "output_type": "stream",
     "text": [
      "2021-03-02 18:52:34 [scrapy.core.engine] INFO: Closing spider (finished)\n",
      "2021-03-02 18:52:34 [scrapy.statscollectors] INFO: Dumping Scrapy stats:\n",
      "{'downloader/request_bytes': 36823,\n",
      " 'downloader/request_count': 101,\n",
      " 'downloader/request_method_count/GET': 101,\n",
      " 'downloader/response_bytes': 2249858,\n",
      " 'downloader/response_count': 101,\n",
      " 'downloader/response_status_count/200': 101,\n",
      " 'elapsed_time_seconds': 3.430708,\n",
      " 'finish_reason': 'finished',\n",
      " 'finish_time': datetime.datetime(2021, 3, 2, 23, 52, 34, 451681),\n",
      " 'log_count/DEBUG': 101,\n",
      " 'log_count/INFO': 10,\n",
      " 'request_depth_max': 2,\n",
      " 'response_received_count': 101,\n",
      " 'scheduler/dequeued': 101,\n",
      " 'scheduler/dequeued/memory': 101,\n",
      " 'scheduler/enqueued': 101,\n",
      " 'scheduler/enqueued/memory': 101,\n",
      " 'start_time': datetime.datetime(2021, 3, 2, 23, 52, 31, 20973)}\n",
      "2021-03-02 18:52:34 [scrapy.core.engine] INFO: Spider closed (finished)\n"
     ]
    }
   ],
   "source": [
    "process = CrawlerProcess()\n",
    "process.crawl(This_American_Life)\n",
    "process.start()"
   ]
  }
 ],
 "metadata": {
  "kernelspec": {
   "display_name": "Python 3",
   "language": "python",
   "name": "python3"
  },
  "language_info": {
   "codemirror_mode": {
    "name": "ipython",
    "version": 3
   },
   "file_extension": ".py",
   "mimetype": "text/x-python",
   "name": "python",
   "nbconvert_exporter": "python",
   "pygments_lexer": "ipython3",
   "version": "3.8.5"
  }
 },
 "nbformat": 4,
 "nbformat_minor": 4
}
