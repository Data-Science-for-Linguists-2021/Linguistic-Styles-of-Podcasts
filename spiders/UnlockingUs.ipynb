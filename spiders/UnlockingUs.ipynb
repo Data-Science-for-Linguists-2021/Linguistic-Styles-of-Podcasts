{
 "cells": [
  {
   "cell_type": "code",
   "execution_count": 1,
   "metadata": {},
   "outputs": [],
   "source": [
    "import scrapy\n",
    "from scrapy.crawler import CrawlerProcess\n",
    "import re"
   ]
  },
  {
   "cell_type": "code",
   "execution_count": 2,
   "metadata": {},
   "outputs": [],
   "source": [
    "uu_data = []"
   ]
  },
  {
   "cell_type": "code",
   "execution_count": 3,
   "metadata": {},
   "outputs": [],
   "source": [
    "# only season 3 has legitimate links\n",
    "# parses transcript links\n",
    "class UnlockingUs(scrapy.Spider):\n",
    "    name = 'unlocking us'\n",
    "    \n",
    "    def start_requests(self):\n",
    "        base_url = 'https://brenebrown.com/unlockingus/?pg='\n",
    "        for i in range(1, 5): \n",
    "            url = base_url + str(i)\n",
    "            yield scrapy.Request(url=url, callback=self.parse_episode)\n",
    "        \n",
    "    def parse_episode(self, response):\n",
    "        episode_links = response.xpath('//a[@class=\"podcast-image\"]/@href').extract()\n",
    "        for link in episode_links:\n",
    "            # print(link)\n",
    "            yield response.follow(url=link, \n",
    "                               callback =self.parse_transcript_pg) \n",
    "    \n",
    "    def parse_transcript_pg(self, response):\n",
    "        transcript_links = response.xpath('//div[contains(@class,\"transcript-popup-wrap\")]//a[contains(@class,\"btn\")]/@href').extract()\n",
    "        for link in transcript_links:\n",
    "            print(link)\n",
    "            yield response.follow(url=link, \n",
    "                                 callback =self.parse_transcript) \n",
    "\n",
    "    def parse_transcript(self, response):\n",
    "        current_ep = []\n",
    "        \n",
    "        title = response.xpath('//h3[@class=\"single-title\"]//text()').extract()\n",
    "        current_ep.append(title)\n",
    "        \n",
    "        year = response.xpath('//span[@class=\"post-time\"]/text()').extract()[0][-4:]\n",
    "        current_ep.append(year)\n",
    "        \n",
    "        text = response.xpath('//div[@class=\"normal-content\"]//text()').extract()\n",
    "        current_ep.append(text)\n",
    "        \n",
    "        uu_data.append(current_ep)"
   ]
  },
  {
   "cell_type": "code",
   "execution_count": 4,
   "metadata": {},
   "outputs": [
    {
     "name": "stderr",
     "output_type": "stream",
     "text": [
      "2021-03-22 22:02:43 [scrapy.utils.log] INFO: Scrapy 2.4.1 started (bot: scrapybot)\n",
      "2021-03-22 22:02:43 [scrapy.utils.log] INFO: Versions: lxml 4.6.1.0, libxml2 2.9.10, cssselect 1.1.0, parsel 1.6.0, w3lib 1.22.0, Twisted 20.3.0, Python 3.8.5 (default, Sep  3 2020, 21:29:08) [MSC v.1916 64 bit (AMD64)], pyOpenSSL 19.1.0 (OpenSSL 1.1.1h  22 Sep 2020), cryptography 3.1.1, Platform Windows-10-10.0.19041-SP0\n",
      "2021-03-22 22:02:43 [scrapy.utils.log] DEBUG: Using reactor: twisted.internet.selectreactor.SelectReactor\n",
      "2021-03-22 22:02:43 [scrapy.crawler] INFO: Overridden settings:\n",
      "{}\n",
      "2021-03-22 22:02:43 [scrapy.extensions.telnet] INFO: Telnet Password: 44f712ff163d3a6b\n",
      "2021-03-22 22:02:43 [scrapy.middleware] INFO: Enabled extensions:\n",
      "['scrapy.extensions.corestats.CoreStats',\n",
      " 'scrapy.extensions.telnet.TelnetConsole',\n",
      " 'scrapy.extensions.logstats.LogStats']\n",
      "2021-03-22 22:02:44 [scrapy.middleware] INFO: Enabled downloader middlewares:\n",
      "['scrapy.downloadermiddlewares.httpauth.HttpAuthMiddleware',\n",
      " 'scrapy.downloadermiddlewares.downloadtimeout.DownloadTimeoutMiddleware',\n",
      " 'scrapy.downloadermiddlewares.defaultheaders.DefaultHeadersMiddleware',\n",
      " 'scrapy.downloadermiddlewares.useragent.UserAgentMiddleware',\n",
      " 'scrapy.downloadermiddlewares.retry.RetryMiddleware',\n",
      " 'scrapy.downloadermiddlewares.redirect.MetaRefreshMiddleware',\n",
      " 'scrapy.downloadermiddlewares.httpcompression.HttpCompressionMiddleware',\n",
      " 'scrapy.downloadermiddlewares.redirect.RedirectMiddleware',\n",
      " 'scrapy.downloadermiddlewares.cookies.CookiesMiddleware',\n",
      " 'scrapy.downloadermiddlewares.httpproxy.HttpProxyMiddleware',\n",
      " 'scrapy.downloadermiddlewares.stats.DownloaderStats']\n",
      "2021-03-22 22:02:44 [scrapy.middleware] INFO: Enabled spider middlewares:\n",
      "['scrapy.spidermiddlewares.httperror.HttpErrorMiddleware',\n",
      " 'scrapy.spidermiddlewares.offsite.OffsiteMiddleware',\n",
      " 'scrapy.spidermiddlewares.referer.RefererMiddleware',\n",
      " 'scrapy.spidermiddlewares.urllength.UrlLengthMiddleware',\n",
      " 'scrapy.spidermiddlewares.depth.DepthMiddleware']\n",
      "2021-03-22 22:02:44 [scrapy.middleware] INFO: Enabled item pipelines:\n",
      "[]\n",
      "2021-03-22 22:02:44 [scrapy.core.engine] INFO: Spider opened\n",
      "2021-03-22 22:02:44 [scrapy.extensions.logstats] INFO: Crawled 0 pages (at 0 pages/min), scraped 0 items (at 0 items/min)\n",
      "2021-03-22 22:02:44 [scrapy.extensions.telnet] INFO: Telnet console listening on 127.0.0.1:6024\n",
      "2021-03-22 22:02:44 [scrapy.core.engine] DEBUG: Crawled (200) <GET https://brenebrown.com/unlockingus/?pg=4> (referer: None)\n",
      "2021-03-22 22:02:44 [scrapy.core.engine] DEBUG: Crawled (200) <GET https://brenebrown.com/unlockingus/?pg=1> (referer: None)\n",
      "2021-03-22 22:02:44 [scrapy.core.engine] DEBUG: Crawled (200) <GET https://brenebrown.com/unlockingus/?pg=2> (referer: None)\n",
      "2021-03-22 22:02:44 [scrapy.dupefilters] DEBUG: Filtered duplicate request: <GET https://brenebrown.com/podcast/brene-with-dr-yaba-blay-on-one-drop-shifting-the-lens-on-race/> - no more duplicates will be shown (see DUPEFILTER_DEBUG to show all duplicates)\n",
      "2021-03-22 22:02:44 [scrapy.core.engine] DEBUG: Crawled (200) <GET https://brenebrown.com/podcast/brene-with-david-eagleman-on-the-inside-story-of-the-ever-changing-brain/> (referer: https://brenebrown.com/unlockingus/?pg=4)\n",
      "2021-03-22 22:02:44 [scrapy.core.engine] DEBUG: Crawled (200) <GET https://brenebrown.com/podcast/brene-on-the-queens-gambit-revisiting-ffts-and-resting-our-tired-brains/> (referer: https://brenebrown.com/unlockingus/?pg=4)\n",
      "2021-03-22 22:02:44 [scrapy.core.engine] DEBUG: Crawled (200) <GET https://brenebrown.com/podcast/brene-with-priya-parker-on-the-art-of-gathering/> (referer: https://brenebrown.com/unlockingus/?pg=4)\n",
      "2021-03-22 22:02:44 [scrapy.core.engine] DEBUG: Crawled (200) <GET https://brenebrown.com/podcast/brene-with-drs-john-and-julie-gottman-on-what-makes-love-last/> (referer: https://brenebrown.com/unlockingus/?pg=4)\n",
      "2021-03-22 22:02:44 [scrapy.core.engine] DEBUG: Crawled (200) <GET https://brenebrown.com/podcast/brene-with-jennifer-rudolph-walsh-and-ashley-c-ford-on-hungry-hearts/> (referer: https://brenebrown.com/unlockingus/?pg=4)\n",
      "2021-03-22 22:02:44 [scrapy.core.engine] DEBUG: Crawled (200) <GET https://brenebrown.com/podcast/brene-with-roxane-gay-and-debbie-millman-on-love-life-and-the-pursuit-of-creative-space/> (referer: https://brenebrown.com/unlockingus/?pg=4)\n",
      "2021-03-22 22:02:45 [scrapy.core.engine] DEBUG: Crawled (200) <GET https://brenebrown.com/podcast/brene-with-dr-edith-eger-on-recognizing-the-choices-and-gifts-in-our-lives/> (referer: https://brenebrown.com/unlockingus/?pg=4)\n",
      "2021-03-22 22:02:45 [scrapy.core.engine] DEBUG: Crawled (200) <GET https://brenebrown.com/transcript/brene-with-david-eagleman-on-the-inside-story-of-the-ever-changing-brain/> (referer: https://brenebrown.com/podcast/brene-with-david-eagleman-on-the-inside-story-of-the-ever-changing-brain/)\n",
      "2021-03-22 22:02:45 [scrapy.core.engine] DEBUG: Crawled (200) <GET https://brenebrown.com/podcast/brene-with-dr-yaba-blay-on-one-drop-shifting-the-lens-on-race/> (referer: https://brenebrown.com/unlockingus/?pg=4)\n",
      "2021-03-22 22:02:45 [scrapy.core.engine] DEBUG: Crawled (200) <GET https://brenebrown.com/transcript/brene-with-priya-parker-on-the-art-of-gathering/> (referer: https://brenebrown.com/podcast/brene-with-priya-parker-on-the-art-of-gathering/)\n"
     ]
    },
    {
     "name": "stdout",
     "output_type": "stream",
     "text": [
      "https://brenebrown.com/transcript/brene-with-david-eagleman-on-the-inside-story-of-the-ever-changing-brain/\n",
      "https://brenebrown.com/transcript/brene-on-the-queens-gambit-revisiting-ffts-and-resting-our-tired-brains/\n",
      "https://brenebrown.com/transcript/brene-with-priya-parker-on-the-art-of-gathering/\n",
      "https://brenebrown.com/transcript/brene-with-drs-john-and-julie-gottman-on-what-makes-love-last/\n",
      "https://brenebrown.com/transcript/brene-with-jennifer-rudolph-walsh-and-ashley-c-ford-on-hungry-hearts/\n",
      "https://brenebrown.com/transcript/brene-with-roxane-gay-and-debbie-millman-on-love-life-and-the-pursuit-of-creative-space/\n"
     ]
    },
    {
     "name": "stderr",
     "output_type": "stream",
     "text": [
      "2021-03-22 22:02:45 [scrapy.core.engine] DEBUG: Crawled (200) <GET https://brenebrown.com/podcast/brene-with-melinda-gates-on-the-moment-of-lift/> (referer: https://brenebrown.com/unlockingus/?pg=4)\n",
      "2021-03-22 22:02:45 [scrapy.core.engine] DEBUG: Crawled (200) <GET https://brenebrown.com/transcript/brene-on-the-queens-gambit-revisiting-ffts-and-resting-our-tired-brains/> (referer: https://brenebrown.com/podcast/brene-on-the-queens-gambit-revisiting-ffts-and-resting-our-tired-brains/)\n",
      "2021-03-22 22:02:45 [scrapy.core.engine] DEBUG: Crawled (200) <GET https://brenebrown.com/transcript/brene-with-drs-john-and-julie-gottman-on-what-makes-love-last/> (referer: https://brenebrown.com/podcast/brene-with-drs-john-and-julie-gottman-on-what-makes-love-last/)\n",
      "2021-03-22 22:02:45 [scrapy.core.engine] DEBUG: Crawled (200) <GET https://brenebrown.com/unlockingus/?pg=3> (referer: None)\n",
      "2021-03-22 22:02:45 [scrapy.core.engine] DEBUG: Crawled (200) <GET https://brenebrown.com/transcript/brene-with-jennifer-rudolph-walsh-and-ashley-c-ford-on-hungry-hearts/> (referer: https://brenebrown.com/podcast/brene-with-jennifer-rudolph-walsh-and-ashley-c-ford-on-hungry-hearts/)\n",
      "2021-03-22 22:02:45 [scrapy.core.engine] DEBUG: Crawled (200) <GET https://brenebrown.com/transcript/brene-with-dr-edith-eger-on-recognizing-the-choices-and-gifts-in-our-lives/> (referer: https://brenebrown.com/podcast/brene-with-dr-edith-eger-on-recognizing-the-choices-and-gifts-in-our-lives/)\n",
      "2021-03-22 22:02:45 [scrapy.core.engine] DEBUG: Crawled (200) <GET https://brenebrown.com/transcript/brene-with-dr-yaba-blay-on-one-drop-shifting-the-lens-on-race/> (referer: https://brenebrown.com/podcast/brene-with-dr-yaba-blay-on-one-drop-shifting-the-lens-on-race/)\n"
     ]
    },
    {
     "name": "stdout",
     "output_type": "stream",
     "text": [
      "https://brenebrown.com/transcript/brene-with-dr-edith-eger-on-recognizing-the-choices-and-gifts-in-our-lives/\n",
      "https://brenebrown.com/transcript/brene-with-dr-yaba-blay-on-one-drop-shifting-the-lens-on-race/\n",
      "https://brenebrown.com/transcript/brene-with-melinda-gates-on-the-moment-of-lift/\n"
     ]
    },
    {
     "name": "stderr",
     "output_type": "stream",
     "text": [
      "2021-03-22 22:02:45 [scrapy.core.engine] DEBUG: Crawled (200) <GET https://brenebrown.com/podcast/brene-with-tim-ferriss-and-dax-shepard-on-podcasting-daily-practices-and-the-long-and-winding-path-to-healing/> (referer: https://brenebrown.com/unlockingus/?pg=4)\n",
      "2021-03-22 22:02:45 [scrapy.core.engine] DEBUG: Crawled (200) <GET https://brenebrown.com/transcript/brene-with-roxane-gay-and-debbie-millman-on-love-life-and-the-pursuit-of-creative-space/> (referer: https://brenebrown.com/podcast/brene-with-roxane-gay-and-debbie-millman-on-love-life-and-the-pursuit-of-creative-space/)\n",
      "2021-03-22 22:02:45 [scrapy.core.engine] DEBUG: Crawled (200) <GET https://brenebrown.com/podcast/brene-with-emmanuel-acho-on-uncomfortable-conversations-with-a-black-man/> (referer: https://brenebrown.com/unlockingus/?pg=4)\n",
      "2021-03-22 22:02:45 [scrapy.core.engine] DEBUG: Crawled (200) <GET https://brenebrown.com/podcast/brene-on-words-actions-dehumanization-and-accountability/> (referer: https://brenebrown.com/unlockingus/?pg=4)\n",
      "2021-03-22 22:02:45 [scrapy.core.engine] DEBUG: Crawled (200) <GET https://brenebrown.com/transcript/brene-with-tim-ferriss-and-dax-shepard-on-podcasting-daily-practices-and-the-long-and-winding-path-to-healing/> (referer: https://brenebrown.com/podcast/brene-with-tim-ferriss-and-dax-shepard-on-podcasting-daily-practices-and-the-long-and-winding-path-to-healing/)\n"
     ]
    },
    {
     "name": "stdout",
     "output_type": "stream",
     "text": [
      "https://brenebrown.com/transcript/brene-with-tim-ferriss-and-dax-shepard-on-podcasting-daily-practices-and-the-long-and-winding-path-to-healing/\n",
      "https://brenebrown.com/transcript/brene-with-emmanuel-acho-on-uncomfortable-conversations-with-a-black-man/"
     ]
    },
    {
     "name": "stderr",
     "output_type": "stream",
     "text": [
      "2021-03-22 22:02:45 [scrapy.core.engine] DEBUG: Crawled (200) <GET https://brenebrown.com/transcript/brene-with-emmanuel-acho-on-uncomfortable-conversations-with-a-black-man/> (referer: https://brenebrown.com/podcast/brene-with-emmanuel-acho-on-uncomfortable-conversations-with-a-black-man/)\n",
      "2021-03-22 22:02:45 [scrapy.core.engine] DEBUG: Crawled (200) <GET https://brenebrown.com/transcript/brene-on-words-actions-dehumanization-and-accountability/> (referer: https://brenebrown.com/podcast/brene-on-words-actions-dehumanization-and-accountability/)\n"
     ]
    },
    {
     "name": "stdout",
     "output_type": "stream",
     "text": [
      "\n",
      "https://brenebrown.com/transcript/brene-on-words-actions-dehumanization-and-accountability/\n"
     ]
    },
    {
     "name": "stderr",
     "output_type": "stream",
     "text": [
      "2021-03-22 22:02:46 [scrapy.core.engine] DEBUG: Crawled (200) <GET https://brenebrown.com/transcript/brene-with-melinda-gates-on-the-moment-of-lift/> (referer: https://brenebrown.com/podcast/brene-with-melinda-gates-on-the-moment-of-lift/)\n",
      "2021-03-22 22:02:46 [scrapy.core.engine] INFO: Closing spider (finished)\n",
      "2021-03-22 22:02:46 [scrapy.statscollectors] INFO: Dumping Scrapy stats:\n",
      "{'downloader/request_bytes': 11512,\n",
      " 'downloader/request_count': 28,\n",
      " 'downloader/request_method_count/GET': 28,\n",
      " 'downloader/response_bytes': 874561,\n",
      " 'downloader/response_count': 28,\n",
      " 'downloader/response_status_count/200': 28,\n",
      " 'dupefilter/filtered': 36,\n",
      " 'elapsed_time_seconds': 2.044036,\n",
      " 'finish_reason': 'finished',\n",
      " 'finish_time': datetime.datetime(2021, 3, 23, 2, 2, 46, 182473),\n",
      " 'log_count/DEBUG': 29,\n",
      " 'log_count/INFO': 10,\n",
      " 'request_depth_max': 2,\n",
      " 'response_received_count': 28,\n",
      " 'scheduler/dequeued': 28,\n",
      " 'scheduler/dequeued/memory': 28,\n",
      " 'scheduler/enqueued': 28,\n",
      " 'scheduler/enqueued/memory': 28,\n",
      " 'start_time': datetime.datetime(2021, 3, 23, 2, 2, 44, 138437)}\n",
      "2021-03-22 22:02:46 [scrapy.core.engine] INFO: Spider closed (finished)\n"
     ]
    }
   ],
   "source": [
    "process = CrawlerProcess()\n",
    "process.crawl(UnlockingUs)\n",
    "process.start()"
   ]
  },
  {
   "cell_type": "code",
   "execution_count": 5,
   "metadata": {},
   "outputs": [
    {
     "data": {
      "text/plain": [
       "12"
      ]
     },
     "execution_count": 5,
     "metadata": {},
     "output_type": "execute_result"
    }
   ],
   "source": [
    "len(uu_data)"
   ]
  },
  {
   "cell_type": "code",
   "execution_count": 6,
   "metadata": {},
   "outputs": [
    {
     "data": {
      "text/html": [
       "<div>\n",
       "<style scoped>\n",
       "    .dataframe tbody tr th:only-of-type {\n",
       "        vertical-align: middle;\n",
       "    }\n",
       "\n",
       "    .dataframe tbody tr th {\n",
       "        vertical-align: top;\n",
       "    }\n",
       "\n",
       "    .dataframe thead th {\n",
       "        text-align: right;\n",
       "    }\n",
       "</style>\n",
       "<table border=\"1\" class=\"dataframe\">\n",
       "  <thead>\n",
       "    <tr style=\"text-align: right;\">\n",
       "      <th></th>\n",
       "      <th>Title</th>\n",
       "      <th>Year</th>\n",
       "      <th>Text</th>\n",
       "    </tr>\n",
       "  </thead>\n",
       "  <tbody>\n",
       "    <tr>\n",
       "      <th>0</th>\n",
       "      <td>[\\n\\t\\t\\t              Brené with David Eaglem...</td>\n",
       "      <td>2020</td>\n",
       "      <td>[\\n\\t\\t\\t\\t\\t\\t\\t, Transcript, \\n, Brené Brown...</td>\n",
       "    </tr>\n",
       "    <tr>\n",
       "      <th>1</th>\n",
       "      <td>[\\n\\t\\t\\t              Brené with Priya Parker...</td>\n",
       "      <td>2020</td>\n",
       "      <td>[\\n\\t\\t\\t\\t\\t\\t\\t, Transcript, \\n, Brené Brown...</td>\n",
       "    </tr>\n",
       "    <tr>\n",
       "      <th>2</th>\n",
       "      <td>[\\n\\t\\t\\t              Brené on The Queen's Ga...</td>\n",
       "      <td>2020</td>\n",
       "      <td>[\\n\\t\\t\\t\\t\\t\\t\\t, Transcript, \\n, Brené Brown...</td>\n",
       "    </tr>\n",
       "    <tr>\n",
       "      <th>3</th>\n",
       "      <td>[\\n\\t\\t\\t              Brené with Drs. John an...</td>\n",
       "      <td>2021</td>\n",
       "      <td>[\\n\\t\\t\\t\\t\\t\\t\\t, Transcript, \\n, \\n, Brené B...</td>\n",
       "    </tr>\n",
       "    <tr>\n",
       "      <th>4</th>\n",
       "      <td>[\\n\\t\\t\\t              Brené with Jennifer Rud...</td>\n",
       "      <td>2021</td>\n",
       "      <td>[\\n\\t\\t\\t\\t\\t\\t\\t, Transcript, \\n, Brené Brown...</td>\n",
       "    </tr>\n",
       "    <tr>\n",
       "      <th>5</th>\n",
       "      <td>[\\n\\t\\t\\t              Brené with Dr. Edith Eg...</td>\n",
       "      <td>2021</td>\n",
       "      <td>[\\n\\t\\t\\t\\t\\t\\t\\t, Transcript, \\n, Brené Brown...</td>\n",
       "    </tr>\n",
       "    <tr>\n",
       "      <th>6</th>\n",
       "      <td>[\\n\\t\\t\\t              Brené with Dr. Yaba Bla...</td>\n",
       "      <td>2021</td>\n",
       "      <td>[\\n\\t\\t\\t\\t\\t\\t\\t, Transcript, \\n, Brené Brown...</td>\n",
       "    </tr>\n",
       "    <tr>\n",
       "      <th>7</th>\n",
       "      <td>[\\n\\t\\t\\t              Brené with Roxane Gay, ...</td>\n",
       "      <td>2021</td>\n",
       "      <td>[\\n\\t\\t\\t\\t\\t\\t\\t, Transcript, \\n, Brené Brown...</td>\n",
       "    </tr>\n",
       "    <tr>\n",
       "      <th>8</th>\n",
       "      <td>[\\n\\t\\t\\t              Brené with Tim Ferriss ...</td>\n",
       "      <td>2020</td>\n",
       "      <td>[\\n\\t\\t\\t\\t\\t\\t\\t, Transcript, \\n, Brené Brown...</td>\n",
       "    </tr>\n",
       "    <tr>\n",
       "      <th>9</th>\n",
       "      <td>[\\n\\t\\t\\t              Brené with Emmanuel Ach...</td>\n",
       "      <td>2021</td>\n",
       "      <td>[\\n\\t\\t\\t\\t\\t\\t\\t, Transcript, \\n, \\n, Brené B...</td>\n",
       "    </tr>\n",
       "    <tr>\n",
       "      <th>10</th>\n",
       "      <td>[\\n\\t\\t\\t              Brené on Words, Actions...</td>\n",
       "      <td>2021</td>\n",
       "      <td>[\\n\\t\\t\\t\\t\\t\\t\\t, \\n, Transcript, \\n, Brené B...</td>\n",
       "    </tr>\n",
       "    <tr>\n",
       "      <th>11</th>\n",
       "      <td>[\\n\\t\\t\\t              Brené with Melinda Gate...</td>\n",
       "      <td>2021</td>\n",
       "      <td>[\\n\\t\\t\\t\\t\\t\\t\\t, Transcript, \\n, \\n, Brené B...</td>\n",
       "    </tr>\n",
       "  </tbody>\n",
       "</table>\n",
       "</div>"
      ],
      "text/plain": [
       "                                                Title  Year  \\\n",
       "0   [\\n\\t\\t\\t              Brené with David Eaglem...  2020   \n",
       "1   [\\n\\t\\t\\t              Brené with Priya Parker...  2020   \n",
       "2   [\\n\\t\\t\\t              Brené on The Queen's Ga...  2020   \n",
       "3   [\\n\\t\\t\\t              Brené with Drs. John an...  2021   \n",
       "4   [\\n\\t\\t\\t              Brené with Jennifer Rud...  2021   \n",
       "5   [\\n\\t\\t\\t              Brené with Dr. Edith Eg...  2021   \n",
       "6   [\\n\\t\\t\\t              Brené with Dr. Yaba Bla...  2021   \n",
       "7   [\\n\\t\\t\\t              Brené with Roxane Gay, ...  2021   \n",
       "8   [\\n\\t\\t\\t              Brené with Tim Ferriss ...  2020   \n",
       "9   [\\n\\t\\t\\t              Brené with Emmanuel Ach...  2021   \n",
       "10  [\\n\\t\\t\\t              Brené on Words, Actions...  2021   \n",
       "11  [\\n\\t\\t\\t              Brené with Melinda Gate...  2021   \n",
       "\n",
       "                                                 Text  \n",
       "0   [\\n\\t\\t\\t\\t\\t\\t\\t, Transcript, \\n, Brené Brown...  \n",
       "1   [\\n\\t\\t\\t\\t\\t\\t\\t, Transcript, \\n, Brené Brown...  \n",
       "2   [\\n\\t\\t\\t\\t\\t\\t\\t, Transcript, \\n, Brené Brown...  \n",
       "3   [\\n\\t\\t\\t\\t\\t\\t\\t, Transcript, \\n, \\n, Brené B...  \n",
       "4   [\\n\\t\\t\\t\\t\\t\\t\\t, Transcript, \\n, Brené Brown...  \n",
       "5   [\\n\\t\\t\\t\\t\\t\\t\\t, Transcript, \\n, Brené Brown...  \n",
       "6   [\\n\\t\\t\\t\\t\\t\\t\\t, Transcript, \\n, Brené Brown...  \n",
       "7   [\\n\\t\\t\\t\\t\\t\\t\\t, Transcript, \\n, Brené Brown...  \n",
       "8   [\\n\\t\\t\\t\\t\\t\\t\\t, Transcript, \\n, Brené Brown...  \n",
       "9   [\\n\\t\\t\\t\\t\\t\\t\\t, Transcript, \\n, \\n, Brené B...  \n",
       "10  [\\n\\t\\t\\t\\t\\t\\t\\t, \\n, Transcript, \\n, Brené B...  \n",
       "11  [\\n\\t\\t\\t\\t\\t\\t\\t, Transcript, \\n, \\n, Brené B...  "
      ]
     },
     "execution_count": 6,
     "metadata": {},
     "output_type": "execute_result"
    }
   ],
   "source": [
    "import pandas as pd\n",
    "\n",
    "uu_df = pd.DataFrame(uu_data,\n",
    "                     columns = ['Title','Year','Text'])\n",
    "uu_df"
   ]
  },
  {
   "cell_type": "code",
   "execution_count": 7,
   "metadata": {},
   "outputs": [
    {
     "data": {
      "text/plain": [
       "array([list(['\\n\\t\\t\\t              Brené with David Eagleman on ', '\\n              The Inside Story of the Ever-Changing Brain              \\t\\t']),\n",
       "       list(['\\n\\t\\t\\t              Brené with Priya Parker', '\\n              on The Art of Gathering              \\t\\t']),\n",
       "       list([\"\\n\\t\\t\\t              Brené on The Queen's Gambit,\", '\\n              Revisiting FFTs, and Resting Our Tired Brains              \\t\\t']),\n",
       "       list(['\\n\\t\\t\\t              Brené with Drs. John and Julie Gottman on', '\\n              What Makes Love Last              \\t\\t']),\n",
       "       list(['\\n\\t\\t\\t              Brené with Jennifer Rudolph Walsh and Ashley C. Ford on ', 'Hungry Hearts', '\\n                            \\t\\t']),\n",
       "       list(['\\n\\t\\t\\t              Brené with Dr. Edith Eger on', '\\n              Recognizing the Choices and Gifts in Our Lives              \\t\\t']),\n",
       "       list(['\\n\\t\\t\\t              Brené with Dr. Yaba Blay on', '\\n              ', 'One Drop: Shifting the Lens on Race', '              \\t\\t']),\n",
       "       list(['\\n\\t\\t\\t              Brené with Roxane Gay', '\\n              and Debbie Millman on Love, Life, and the Pursuit of Creative Space              \\t\\t']),\n",
       "       list(['\\n\\t\\t\\t              Brené with Tim Ferriss and Dax Shepard on Podcasting, ', '\\n              Daily Practices, and the Long and Winding Path to Healing              \\t\\t']),\n",
       "       list(['\\n\\t\\t\\t              Brené with Emmanuel Acho on', '\\n              Uncomfortable Conversations with a Black Man              \\t\\t']),\n",
       "       list(['\\n\\t\\t\\t              Brené on Words, Actions,', '\\n               Dehumanization, and Accountability              \\t\\t']),\n",
       "       list(['\\n\\t\\t\\t              Brené with Melinda Gates on', '\\n              The Moment of Lift              \\t\\t'])],\n",
       "      dtype=object)"
      ]
     },
     "execution_count": 7,
     "metadata": {},
     "output_type": "execute_result"
    }
   ],
   "source": [
    "uu_df.Title.values"
   ]
  },
  {
   "cell_type": "code",
   "execution_count": 8,
   "metadata": {},
   "outputs": [
    {
     "data": {
      "text/plain": [
       "'Brené with David Eagleman on The Inside Story of the Ever-Changing Brain'"
      ]
     },
     "execution_count": 8,
     "metadata": {},
     "output_type": "execute_result"
    }
   ],
   "source": [
    "def clean_title(title):\n",
    "    title = [t.strip() for t in title]\n",
    "    title = ' '.join(title)\n",
    "    return title\n",
    "\n",
    "clean_title(uu_df.Title[0])"
   ]
  },
  {
   "cell_type": "code",
   "execution_count": 9,
   "metadata": {},
   "outputs": [
    {
     "data": {
      "text/html": [
       "<div>\n",
       "<style scoped>\n",
       "    .dataframe tbody tr th:only-of-type {\n",
       "        vertical-align: middle;\n",
       "    }\n",
       "\n",
       "    .dataframe tbody tr th {\n",
       "        vertical-align: top;\n",
       "    }\n",
       "\n",
       "    .dataframe thead th {\n",
       "        text-align: right;\n",
       "    }\n",
       "</style>\n",
       "<table border=\"1\" class=\"dataframe\">\n",
       "  <thead>\n",
       "    <tr style=\"text-align: right;\">\n",
       "      <th></th>\n",
       "      <th>Title</th>\n",
       "      <th>Year</th>\n",
       "      <th>Text</th>\n",
       "    </tr>\n",
       "  </thead>\n",
       "  <tbody>\n",
       "    <tr>\n",
       "      <th>0</th>\n",
       "      <td>Brené with David Eagleman on The Inside Story ...</td>\n",
       "      <td>2020</td>\n",
       "      <td>Transcript  Brené Brown: Hi everyone, I’m Bre...</td>\n",
       "    </tr>\n",
       "    <tr>\n",
       "      <th>1</th>\n",
       "      <td>Brené with Priya Parker on The Art of Gathering</td>\n",
       "      <td>2020</td>\n",
       "      <td>Transcript  Brené Brown : Hi everyone.  I’m B...</td>\n",
       "    </tr>\n",
       "    <tr>\n",
       "      <th>2</th>\n",
       "      <td>Brené on The Queen's Gambit, Revisiting FFTs, ...</td>\n",
       "      <td>2020</td>\n",
       "      <td>Transcript  Brené Brown: Hi everyone, I’m Bre...</td>\n",
       "    </tr>\n",
       "    <tr>\n",
       "      <th>3</th>\n",
       "      <td>Brené with Drs. John and Julie Gottman on What...</td>\n",
       "      <td>2021</td>\n",
       "      <td>Transcript   Brené Brown: Hi, everyone. I’m B...</td>\n",
       "    </tr>\n",
       "    <tr>\n",
       "      <th>4</th>\n",
       "      <td>Brené with Jennifer Rudolph Walsh and Ashley C...</td>\n",
       "      <td>2021</td>\n",
       "      <td>Transcript  Brené Brown: Hi everyone. I’m Bre...</td>\n",
       "    </tr>\n",
       "  </tbody>\n",
       "</table>\n",
       "</div>"
      ],
      "text/plain": [
       "                                               Title  Year  \\\n",
       "0  Brené with David Eagleman on The Inside Story ...  2020   \n",
       "1    Brené with Priya Parker on The Art of Gathering  2020   \n",
       "2  Brené on The Queen's Gambit, Revisiting FFTs, ...  2020   \n",
       "3  Brené with Drs. John and Julie Gottman on What...  2021   \n",
       "4  Brené with Jennifer Rudolph Walsh and Ashley C...  2021   \n",
       "\n",
       "                                                Text  \n",
       "0   Transcript  Brené Brown: Hi everyone, I’m Bre...  \n",
       "1   Transcript  Brené Brown : Hi everyone.  I’m B...  \n",
       "2   Transcript  Brené Brown: Hi everyone, I’m Bre...  \n",
       "3   Transcript   Brené Brown: Hi, everyone. I’m B...  \n",
       "4   Transcript  Brené Brown: Hi everyone. I’m Bre...  "
      ]
     },
     "execution_count": 9,
     "metadata": {},
     "output_type": "execute_result"
    }
   ],
   "source": [
    "uu_df['Title'] = uu_df.Title.map(lambda t: clean_title(t))\n",
    "uu_df['Text'] = uu_df.Text.map(lambda a: clean_title(a))\n",
    "uu_df.head()"
   ]
  },
  {
   "cell_type": "code",
   "execution_count": 10,
   "metadata": {},
   "outputs": [
    {
     "data": {
      "text/plain": [
       "' Transcript  Brené Brown: Hi everyone, I’m Brené Brown, and this is Unlocking Us .  [music]  BB: In this episode, I am talking with my friend, Dr. David Eagleman. He’s a neuroscientist, a New York Times best-selling author, a TED speaker and a Guggenheim Fellow, and he has done some incredible research over the decades about the brain and how it works. And I can tell you right now that I am a firm believer that we will never know everything there is to know about the brain. I think some of that is just reserved under the category of “forever mysterious,” but I do believe we’re learning more and more important things about the brain and how we can live and make choices in ways that make us healthier and not just physically healthier, but neuro-biologically healthier. We’re going to talk about David’s new book, Livewired: The Inside Story of the Ever-Changing Brain , and we’re going to talk about one of my weird favorite topics, which is neuroplasticity. Is the brain malleable? Does it stay malleable? And if so, what does it take to do that? I think you’re going to love this conversation. It actually changed a couple of my habits.  BB: Before we jump into the conversation with David, let me tell you a little bit more about him. So, you know he’s a neuroscientist. He teaches at Stanford University, he runs a neuro technology company called Neosensory. He also directs The Center for Science & The Law. He is the author of eight books, including international best-sellers, Sum and Incognito . And let me tell you, Sum is not even a non-fiction book, it is a fiction book, and one of the wildest, most wonderful things I’ve ever read. I highly recommend that you read it. It’s a short collection of essays that is incredible. Different propositions about what might happen after we die; you’ll love it. Incognito is also about brain science, and then the new book we’re going to talk about is called Livewired . He is a former Houstonian and a good friend. Let’s talk to David Eagleman.  BB: So I have to start with this weird question that may be related to the brain, but maybe is not related to the brain, but it’s something I’ve got to get answered for my family. So Charlie is 15 and he’s a freshman in high school, Ellen is 21, she’s a senior in college applying for graduate school, and they constantly are being told that they need to declare STEM or Liberal Arts. They cannot be both, they cannot do both, they have to choose, and that’s really hard in our family because we put equal importance on both. And so I’ll try to explain like, “Look, I’m a social scientist.” And they’re like, “Yeah, y’all don’t count because you are our parents.” And this is when we play the David Eagleman card. So we’re like… Because my daughter has read Sum , Charlie’s getting ready to read it, which is your amazing fiction book. It’s just a collection of the most brilliant essays and short stories about life after death, what happens when we die, it’s just this incredible book, it’s where I fell in love with your writing. So when we play the David Eagelman card, they’re like, “Okay, so he’s a neuroscientist but he writes fiction and he loves interesting music.” And so, one, tell me about your path and how you didn’t choose STEM or liberal arts, and tell me how that works and what can I tell my kids, and I’ve got to tell you, honestly, a lot of the schools are driving this binary thinking about this. So what do I do?  David Eagleman: Yeah, good. Well, so background-wise, I majored in British and American Literature as an undergrad. And I was taking lots of science, but I couldn’t quite find where I loved it, and then my last semester of my senior year, that’s when I discovered Neuroscience and then I was hooked. But generally, I think that good science and good art are the same thing. They’re both trying to understand what in the world is going on around us and they just have slightly different approaches for how to get there. In science, we have a particular toolbox of things that we use and try to make progress that way and build bridges. But at some point, the toolbox runs out and we’re faced with all the stuff we don’t know about, like “What is the meaning of any of this?” and “What do we do and what makes us happy and sad?,” and so on. And that’s where the toolbox of literature picks up and we can try to explore our existence here using that instead, and it just has a slightly different mechanism by which it’s judged. Instead of reproducibility and peer review and so on, it’s just a different thing, it’s whether it touches and moves and resonates with people. But I think the greatest thing we can do for the education of our children and for our school systems is to make sure that both are always present because they both teach a lot about the other.  BB: It’s really important. It’s interesting, I did a podcast with Alan Alda, and he’s dedicated a big part of his life right now to helping scientists like yourself communicate. And you’re very well known, you’ve got an Emmy nominated series on the brain. You’re very well known for not only your neuroscience, but your ability to communicate in a way that resonates with all of us. How much amazing work do you think from the science field gets lost because we’re not trained how to communicate about it, and we’re also trained, “If you make it too accessible it must not be that smart”?  DE: Yeah, I see this a lot, and there’s a lot of great science. And to answer to the question, a lot of great science that is not… That people don’t know about, which is a shame, by the way, because we all pay taxes and that money goes towards that great science, would be terrific if we all knew about it, and more importantly it’s so meaningful for our lives to understand this deep question of “Who are we?” And if you want to get at that question, this three pounds of very complex material inside our skulls is the best inroad into understanding something about ourselves. Yeah, it’s not emphasized. There’s a weird sort of cabalistic thing of making sure that we use jargon in such a way that it’s only… You have to be sort of in the ranks of the field to understand what that’s about, and I think that’s a real shame, and so I’ve spent my career sort of trying to pave this path of doing good science in the lab and then taking it into the realm of public dissemination, and I’ve found that extremely rewarding, because people really love hearing that. Without devoting their lives to neuroscience they’d love to pick up a good book and read about what’s going on.  BB: Okay, speaking of picking up a good book and read about what’s going on with that three-pound thing you just described, Livewired: The Inside Story of the Ever-Changing Brain . Man, this book… Okay, it kind of freaked me out. So can we start from the beginning and you’ll walk me through?  DE: Sure.  BB: Okay, ready?  DE: Yeah.  BB: Here’s my first question. Alright, you and I both love great words, analogies, and metaphors. The hardware-software analogy for the brain no longer works for me after reading your book. Tell me what that analogy meant before and tell me why it doesn’t work.  DE: So as a society, we have sort of a bad habit of just assuming that we know how computers work, so that must be kind of how the brain works. And so in computers and in Silicon Valley where I live now, everything’s hardware and software and engineers are praised on making trim and efficient hardware and software, but the brain is absolutely nothing like that. Instead, it’s what I call liveware, which is to say all of its experiences reshape it, so that you’ve got these 86 billion neurons, these brain cells, and each one of these has about 10,000 connections to its neighbors, so you’ve got 0.2 quadrillion connections, and this is constantly modifying, every moment of your life, every experience you have, changes the physical structure of your brain. These connections are plugging in and unplugging and re-plugging and changing their strength and so on and you actually have changes all the way down to the level of the DNA in which genes are getting expressed. So it’s completely different than the way we think about hardware and software layers, instead it is changing its own circuitry all along the way.  DE: So I’ve coined this term liveware or livewired. And the term that we use in the field is plasticity, brain plasticity, but that was coined 100 years ago, because William James, the great psychologist, was impressed by how you could mold plastic into shape and it will hold that shape. And that’s where the term comes from. But I think we need to go beyond being impressed by something holding its shape, because in fact, this thing has a complexity at a level that bankrupts our language, it’s a level that we have to try to invent new strains of mathematics to even try to get a hold of a little piece of this inner cosmos. But the thing is that it is a living dynamic electric fabric that is constantly changing, and that’s why I want to get away from the term plasticity and talk about liveware.  BB: Okay, so let me tell you what. I read at neuro biology, and I’ve read about neuroplasticity, and it’s so funny because when I think of neuroplasticity I always think about the San Antonio Zoo, has this thing that we loved growing up, my grandmother would always take us every summer, and they had Mold-A-Ramas, and you could watch the plastic pour into a mold and you could get the polar bear or you could get any of the creatures. But when I thought about neuroplasticity, that word doesn’t work for me after reading your book anymore, because when you leave, you just have the polar bear or the kangaroo, it never changes again, and what… Are you saying that my brain is changing shape now as we’re talking?  DE: Exactly right. I mean, so everything that you… So you and I, Brené, met I guess ten years ago, and when you learned that my name is David and this is my face, there was a physical change in the structure of your brain, and that’s what it means for you to remember me and see my face and so on. And, yes, even during the course of this conversation you are already a slightly different person than you were at the beginning of the conversation, just because hopefully something I said, you thought, “Oh, that’s interesting, I’m going to remember that,” or something, and then your brain is now different.  DE: And this is the weird thing about identity, by the way, that I… Even in my book Sum , several of my stories have to do with this issue about identity because you are constantly changing, you’re constantly evolving towards something, but we never reach that end point, but we have this illusion that you are the same person you were five years ago, and 15 years ago, but… Because you have the same resume sort of, you grew up in this town, your parents were named such-and-such, you went to this school, but in fact, you are a different person, and if your seven-year-old self walked into the room right now, you would probably have more in common with a peer and a colleague like me than you would with your seven-year-old self, because you’ve actually changed quite a bit in that time.  BB: Okay, so one of the words that you use and that makes more sense to me than plasticity, I think, is “malleable.” That our brain is malleable. Here’s what I understand. First of all, let me ask… Let me back up. When I think about the brain now, having read your book, I think about this little three-pound weirdo that is encased in this genius-ly built skull to protect it, and it’s in the dark and it’s by itself, it’s so lonely in there, and its whole job is to understand the world and help me make sense of it. But it’s locked alone in the dark up there. So how is it getting data? Do you understand what I’m asking? I don’t understand.  DE: Absolutely. No, this is a perfect question, because it’s in the command room, it controls this empire of your body, this giant thing that… And so one of the stories that I tell in the book that I think is interesting is, in the 1960s it was discovered that you have a map of the body in the brain. In other words, if I zap right here, you’ll twitch your finger, and if I zap a little bit next to that, you’ll twitch your forearm and then next to that, your shoulder, and so on. And you can go along this area of brain tissue and actually find a map of the entire body. So people were very impressed by this and they thought, “Okay, well, that must be genetically pre-specified,” but it turns out that’s not what it is. Your brain, alone in the dark, figures out what your body looks like, and part of the way we know that is let’s say you have a tragic accident and you lose your right arm, your brain will reconfigure so that it says, “Oh, okay, cool, it’s a body without a right arm, no problem,” and it’s constantly re-configuring. And by the way, when you jump on a bicycle or a surfboard or a hang glider, a pogo stick. These are sort of new bodies that the brain has to deal with, but it says, “Okay, that’s cool, I’ll figure this out. A little bit of practice figure this out. I do this output, I get this input back. Okay, I’ve got it. This is how I ride a bicycle.”  DE: And so your system is very flexible all the time. Or even driving a car. “Okay, if I press my foot down, then I go forward fast, and if I crank the wheel this way, then I turn to the right,” and so on, very different than walking, we have no problem figuring that out. And so the brain, locked in its silence and darkness in the vault of your skull, has no problem figuring out what the body plan is and how to control it, and it does this by motor babbling, and this is equivalent… Children learn how to speak by babbling, and what they’re doing is they’re putting out a sound and then their ears are picking up on that, and they’re figuring out, “Oh, okay, I hear my mother saying this sound and I’m going to try that.” And by doing the output and getting the input back they’re figuring out how to speak. It turns out motor babbling is exactly the same thing, learning how to move with the mech suit that you’re operating, or the bicycle or the… Whatever it is, you try things out and you figure it out that way.  BB: Is the brain working harder when I’m doing something new and I’m super frustrated?  DE: Yeah, this is one of the things that’s surprising, is let’s say you watch an amateur at something versus a pro, now let’s say something complicated like soccer, or Tetris or whatever it is, the pro was so good and just killing it on all fronts, and so the assumption would be, “Wow, their brain must be using more energy,” but it’s exactly the opposite, their brain is actually using almost no energy, and the reason is they have burned that skill into the circuitry of their brain, they have turned that thing that they’re trying to accomplish into the hardware of the brain, so that they can do it rapidly and efficiently. And so this has been one of the big surprises, is the way that something you do, something that has relevance to you, something you practice a lot, just becomes super energy efficient for you. And obviously, we are creatures that run on batteries, and we have to keep eating food to stay alive, so you just have a little bit of energy that you get from your food and you have to get to the next thing. And so it’s a super efficient way to go, to build a machine that says, “Okay, here’s what I’m doing a lot, I’m going to make sure that I can do that with as little energy as possible.”  BB: That’s so weird, because you would think that me fumbling on a tennis court would take so much less energy than Serena Williams crushing it, like… But then I guess, is that what muscle memory is? Is that etching that you’re talking about close to that? They’re related?  DE: Yeah. It’s funny, we use the term “muscle memory,” but in fact it’s all taking place in the brain, it has nothing to do with the muscles themselves, but it’s the brain, yeah exactly, burning something down to the unconscious. And once it gets there, by the way, you’re really good and fast and efficient at it, but you no longer have conscious access to how you do it. So the way to mess up a tennis pro’s serve, is you say, “Wow, you serve so well, how exactly do you do that?” And as soon as she starts trying to explain, she can’t do it anymore, because once the conscious mind is trying to figure something out, you can’t do it. It’s like if you… I don’t know if you play piano or something, but if you start looking at what your fingers are doing and thinking about it, you’re dead, you can’t do it anymore. When I was younger, by the way, I used to play baseball and the coach would say, “I want you guys to think out there,” and I’d say, “Actually, you don’t want us to think out there, you want us to practice a sufficient number of hours that we automatize these behaviors and then we go out there and just perform,” but he never believed me, so I had to write books on it, and so on.  [laughter]  BB: You send them to your baseball coach. “Love, Dave.” Okay, let me ask you this. I think that our community will be with me on this, is every part of the brain the same amount of malleable? Do you understand what I’m asking?  DE: Yep, yep. The answer is no. So some parts kind of cement themselves into shape early on, for example, your visual system. And other parts, like that controlling your body, your motor system, that essentially stays flexible your whole life. I think this has to do with the… I don’t want to get technical here, but it has to do with how much the data coming in changes, so with the visual system there are only a certain number of colors in the world, a certain number of angles and shapes and whatever, so it cements itself into place pretty quickly because it gets a good model of what is going on in the visual world.  DE: Your motor system though, you grow from a baby to an adult, you get fatter, you get thinner, you get your arm hurt for a while, whatever, all these things change. And so that stays flexible because it never really has a lock on, “Okay, here’s exactly how I need to run this body,” plus you get into cars, you get on bicycles, and so on. So not everything changes at the same time. What’s clear is that there are some critical windows that really matter. So for example, learning language, and I’m not talking about learning a particular language, I mean even just the structure of language and what language is about, there’s a critical window for it, and unfortunately we have these tragic natural experiments that happen sometimes where a child is so deeply neglected and abused that they’re not exposed to language, and they then do not get even how to speak.  DE: So one of the stories I tell in the book is this girl, Danielle, who was discovered in Florida, her parents had some sort of mental illness, and so she was so badly neglected, she was locked in a closet in her room and essentially not paid any attention to for seven years, just given some food. And so, poor Danielle is unable to speak, she can’t even see very far, she can’t chew solid food, she has all sorts of problems, she also has what’s called psychosocial dwarfism, which means she’s very small, she didn’t even grow well, and unfortunately that window closed, so she can’t learn language now, she can’t learn any of those things at this time. And so what this represents is a gamble that Mother Nature has taken with homo sapiens, with humans, is we get pushed into the world with these extraordinarily flexible brains and we absorb the world around us: Our culture, our language, our beliefs, we absorb all this from around us, and this has been a terrifically successful strategy, we have taken over every corner of the planet, we’ve invented the internet, we’ve gotten off the planet and so on.  DE: But it’s also a little bit of a gamble because when a child grows up without the proper inputs, it’s visible. And by the way, this also happened with Romanian orphanages after the fall of Ceauşescu, some tens of thousands of children in these Romanian orphanages, and there were too many for the staff and so the staff said, “You know what, let’s not talk to them and let’s not hold them because they’ll get clingy if we do that,” and so these kids were all raised in this tragic natural experiment where they didn’t get the proper input and they all had real cognitive deficits as a result.  DE: Can you tell us what the windows are and where the big ones are?  DE: Yeah, so it turns out there are many windows that close at different rates. So learning basic things like language, that closes pretty fast, let’s call it four or five years. You have to have the proper kind of input to develop that. Other windows close around six or seven. I’ll give you an example, actually this is how the book starts, a lot of children who end up having epilepsy in a whole half of their brain, a hemisphere of their brain, they get what’s called a hemispherectomy, that means surgically half of the brain is removed, and the most remarkable part about these surgeries is that the kids are just fine. They often have a slight limp on the other side of their body, but that’s it. Cognitively they’re doing fine, you can have a conversation with them, you talk about anything, all of the missing brain real estate where you would expect it would be absolutely necessary to have that, those functions just get rewired onto the remaining real estate and the children are fine. And by the way, this is part of the reason why I want to make such a clear distinction between the machines that we build and the liveware of the brain, because you can’t tear half the circuitry out of your laptop and expect it to still work, but that’s what you can do with a young brain, and it’s just fine.  BB: God. When I read that, it just… I couldn’t even believe it.  DE: Yeah. Yeah.  BB: What about in adults? Can you…  DE: Well, it doesn’t work so well in adults. For example, language exists on the left side of your brain for almost everybody, and if you take the left hemisphere out of an adult, they’re completely unable to speak, and that’s actually one of the worst things that can happen to anyone is to lose their capacity for language.  BB: Why?  DE: Oh, why? It’s because then you are totally isolated. In fact, blind people versus deaf people, it turns out that people generally are happier when they are blind because they can still have close relationships and talk with people and so on, even though they can’t see what’s going on. But when somebody is deaf or loses their hearing, the whole social world gets cut off for them.  BB: Hmm.  DE: There’s a Greek myth of Io who is turned into a cow by Zeus, who was angry at her, and so she’s unable to communicate, all she can do is scratch with her hoof in the ground, the letters I and O, but it’s a terrible punishment for her because she loses communication with others.  BB: God the gods were awful.  DE: I was just going to say, it’s a totally random side note, that hemispherectomy is that surgery, taking out half the brain, that was actually pioneered by Dr. Ben Carson, who then later ran for President, and you know, whatever people think about his political career, that he was a real pioneer in making that happen.  BB: Yeah, I was… That was shocking. Okay, so, next question. Different parts… I want to play it back to make sure I get it right, different parts of the brain stay malleable for different amounts of time, depending on how set the data are that they need to be able to keep our little locked-away brain helping us, is that true?  DE: That’s right.  BB: Okay.  DE: Let me just add one thing to that, just as one example, in the visual system you have different parts of this extended visual system, so the very basic stuff like colors and angles, that gets locked down, but your whole life you can still learn new faces, so this sort of more high level abstracted part of the visual system stays more flexible. Okay, sorry, go ahead.  BB: That’s great. No, I love it, I love it. I love your enthusiasm. I wish y’all could see him, we’re on Zoom together and he’s making a face like, “I can keep going, but I’m going to stop here.” Okay, this is a really big question that I have about this. Does the brain stay malleable until we die, or does it stop being malleable at… How old am I… 54? I’m thinking it stops now.  DE: Yeah, it stops at 54 and a half. So you’re in trouble. It stays malleable your whole life and this is the really good news. So here’s the thing, plasticity diminishes with age. So for example, if you now decided you wanted to learn Chinese, and let’s say you don’t know that language currently, it’s harder for you than it is for a child. But people lament this loss of plasticity with time and they say “Oh, I wish I could be like a child again and have that kind of plasticity,” but I’ve been thinking about this a lot, and I wrote about this in the book, I think you actually wouldn’t want that, and here’s why. It’s because although your brain is less flexible, it is because you have learned the world around you, you’ve learned how people react, you’ve learned how to do your career, you’ve learned how to act in the right way at a cocktail party so that people like you and so on. All these rules of the world, your language, your job, all these things have been cemented into your brain with time and experience. And this is the benefit of growing older, you learn patterns and you’re not surprised by people’s personalities anymore. Why? Because you’ve met people before who have that kind of personality.  DE: And so this is actually what you want, to be able to operate efficiently in the world is to really develop this internal model. The cost is you’re less flexible, but that is what the brain is trying to do, is cement something into place so it has a good internal model. Now, when we talk about would you want to go back and have the flexibility of an infant again, if you did that, you would lose everything that is you. You would lose your memories, all the people that you’ve met. You’d also lose language, you’d have to learn language again. All of your beliefs, and so on, your experience, it’s all encoded in the structure or the circuitry of your brain, and so I don’t actually think we’d want to go back, unless you wanted to essentially die, it would essentially be like you’ve lost you and you’ve started over, you’ve rebooted.  BB: I want to run a study by you that I’ve conducted, just with my own family. I want to understand the correlation between ongoing malleability of the brain and the smallness of your world. So, eight parents, four sets, all retire about the same time. Half, really their world gets really small, kind of like their program: Don’t leave the house, grocery store. The other half continue out in the world, they volunteer, they learn new things, they travel, and they’re trying to learn languages. Does your amount of malleability as you get older depend on how much you continue to expose yourself to new data and new stimuli? Do you understand what I’m asking?  DE: Yeah, that is exactly right. This is, I would say, the single most important lesson that has emerged about all this brain plasticity stuff is that, if you challenge yourself, if you are constantly facing new tasks and challenges that you’re no good at, you are building new roadways and bridges, and there is a study that has been going on for a couple of decades now about nuns who live in a convent and they all agreed to donate their brain when they die. So people have been analyzing these brains and what they discovered was that some fraction of these nuns actually had Alzheimer’s disease, their brains were physically getting chewed up with the disease, but they did not have the cognitive deficits that were expected. And it is because even as their brain tissue was falling apart, they were constantly building new roadways, why? Because they were in a convent, they had to deal with other people, they had chores, responsibilities, they were playing games, they were learning how to use a cellphone, all this kind of stuff, and so upon their death no one even knew they had Alzheimer’s. Contrast that with the other people that you mentioned, who just run their little program, their social circles shrink, they sit on their couch, they watch Jerry Springer.  DE: And what’s going on there is that as their brains diminish with age they’re not building the new roadways, and so the cognitive deficits become very clear. And so this is really the single most important thing that all of us can do as we get older, is constantly challenge ourselves. And by that I don’t mean just do a Sudoku puzzle or something, what I mean is as soon as you get even reasonably good at Sudoku, bag that and start something new, start something that you’re not good at that is frustrating, but eventually achievable. And then as soon as you get good at that, you bag that and you start the next thing. Learning languages is a good one. It turns out, just from a brain point of view, other people is the hardest thing that brains deal with, just because in the sense that you never know what other people are going to say, and so you’re always having to sort of be on your toes, yeah, and so to the degree that one can maintain an active social life, it’s massively important.  BB: So interesting because so many of us have framed successful adulthood as never having to be uncomfortable at anything again. Like “I don’t have to try anything now that I’m not already good at because I’m a grown-ass person,” when that feels like the most dangerous thing in the world to me.  DE: Yeah. Oh, exactly right, I completely agree with you.  BB: And it’s also interesting to me because I think it also speaks to how voters over 70, creating echo chambers on both sides, listening to the same people, the same news outlets… I mean, we all do that, I can’t throw those folks under the political bus because that’s all of us, but I just think there’s such a lesson in that. Okay, tell me this: I love the pace layers analogy. Will you explain what the analogy is, around city building first, and then tell me how the brain fits with that city theory?  DE: Yeah. So some years ago, Stewart Brand, who’s a great thinker, he said, “Look, when you look at a city, the real way to understand this is you have things happening at different paces. So fashion changes rapidly, and what the storefronts are, that changes a little bit more slowly. And what the governance of the city is, in other words, the laws that govern it, that actually changes more slowly and the architecture of the city, that changes even more slowly.” All the way down to nature itself changing, like where the river runs and so on. And so to understand the functioning of a city, you really have to understand all these time scales and the relationship between them. And so this is one of those things where you look at it and you think, “Wow, that’s just true. That’s just a really good way of looking at it.”  BB: That’s true.  DE: Yeah, and so what I proposed in Livewired is a neural version of pace layers, which is to say some parts of the brain change really rapidly, and then other parts change more slowly and more slowly, all the way down. And so as a result, what I realized in looking at this pace layer framework of all these time scales interacting, is this explains a lot of stuff. Just as one example, there’s one of the oldest rules in neurology is that older memories are more stable than newer memories, and this means that as somebody is getting older and older, they remember their childhood just fine, they remember all kinds of things from their childhood, but they can’t remember what happened last month and last year and so on. And in fact, this often happens with people on their deathbed, where they completely revert into their childhood self, typically they go back to their childhood language. Just as one example, nobody knows Albert Einstein’s last words because he was speaking in German on his deathbed and the night nurse didn’t speak German.  BB: Can I stop you here for a second and read this? Can I read this from the book? I just thought it was so incredible. So, talking about French psychologist Ribot, who was struck by his observation that older memories are more stable than newer memories. This is known today as Ribot’s law, and it explains why some people as they reach the end of their lives revert to childhood language. So David writes “In 1955, Albert Einstein died in a hospital in Princeton, New Jersey. He spoke his final thoughts, everyone wanted to know what the great physicists’ last words were, but we’ll never know. It’s not because there wasn’t a nurse present to hear the final words, but instead, because the words were spoken in German, his native tongue. The night nurse only spoke English, so his final utterances were lost.” Wow.  DE: And this happens all the time as people get older and older, and so the question is, how could that be that… Other institutions don’t work that way. For example, at the University of Houston it’s not that they remember stuff that they did in the 1970s better than they remember stuff from five years ago, nobody works that way, but the brain works that way, Why? It’s because of this pace layering, which is to say, you have changes that happen really fast, and then if those continue to tell their story, then the next layers eventually say “Okay, that sounds believable. I’ll make a change to represent that,” and if they continue to tell that story, then the next layers down eventually say, “Okay, that sounds reasonable. I’ll make a change also.” And so on, so older memories end up working their way down in the system to eventually become part of the real hardwiring of the system, whereas newer stuff is still up at these top pace layers of fashion and commerce.  BB: Okay, so let me ask you this question, I know this is not your area, but I really… I want to know what you know, and I want to know, if you don’t know it, tell me where you think I should look. So let’s talk about dementia. So, I would imagine everyone sharing this conversation with us knows someone or has been affected personally by dementia, it’s just so ubiquitous now. And if you’ve ever sat in a room with someone that you care about when they get this news where they… The neurologist looks at the scan and they’re like… They always talk about white matter, what are they talking about there? And this has got to be like the people I know who have struggled or are struggling with dementia can tell you the 1950s phone number, “Diamond 3 4 2 7,” of everybody they’ve ever known, but I’ve heard neurologists say, and I want your explanation if you have one, this person cannot take new experiences and transform them into memories. What does white stuff mean? And what does that mean not being able to make new memories?  DE: So let me just say very briefly that the grey matter, that’s the wrinkly bit on the outside, the cortex, and the white matter is all the fibers that’s carrying information to and fro around the cortex, but carries it to these deep structures as well. The truth is that with dementia there’s so much more that we still need to understand that often we’re not able to even distinguish different types of dementia until autopsy. So for example, distinguishing Alzheimer’s disease from vascular dementia from Lewy Body disease, and so on, you typically can’t do this very well. So it’s not like you can just look and say, “Ah, yep. There’s the white matter, there’s the grey matter. There’s something, this is what’s going on.” So, in general, what you see though is, especially in some things like what’s called frontotemporal dementia, you see a real degradation of the tissue, you can look at it with the naked eye and see that there’s less brain tissue than there was before. So the distinction between grey and white matter isn’t really that important there, but I want to address the other part about memory.  DE: So it turns out that you’ve got separate systems for short-term and long-term memory, and so when you get something in your head, you remember it, “Oh yeah, I need to dial this phone number, I need to pick up that coffee cup across the house,” or whatever it is, but to actually consolidate that into long-term memory requires whole processes and structures that have to be working properly for it to happen. Otherwise, you have something in your short-term memory, and you think, “Okay, I’m going to remember this, I’m going to remember this,” and then you just forget it. And we all experience this every morning, when you wake up and you think, “Oh, I had this dream, this remarkable thing happened, this and… ” And then by 15 minutes later you can’t hold on to it anymore. It’s like gossamer.  BB: Yes!  DE: It’s just gone away. Yeah, and that’s because it’s exactly the same thing. During dreaming, particular structures in your brain are essentially shut down and so you’re not turning that short-term memory into long-term memory. But you can hold on to it for about 15 minutes, but it just goes away and that is what it is like to be a person who has dementia, who says, “Great, I will call you back in 10 minutes,” and then it just goes away. You just can’t hold on to it anymore and so it is that…  BB: Wow.  DE: Yeah, it’s that process of turning things into long-term memory that goes away.  BB: Is that a complicated process to move things from the short-term column to the long-term column?  DE: Yes and it’s something that neuroscience is still working to figure out. There are probably a thousand labs around the globe that are studying aspects of this and trying to get a better and better understanding of it.  BB: So now I want to talk about the area where your work meets my work, senses and emotion. So can I read to you from your book?  DE: Yes.  BB: Okay, it’s going to be weird. People have different reactions when I read their stuff, they’re like, “Uh, that’s not how it was supposed to sound,” or like “That’s so nice.” Okay, but I’m going to go. You’re ready?  DE: Yep, ready.  BB: Okay, this is about senses carrying emotional weight. “For example, when you smell lemon pie fresh out of the oven versus diarrhea on a sidewalk, you have different reactions. It’s not zeros and ones on a screen, it’s a full emotional response. To understand this, ask why the pie smells good and the fecal matter smells bad. After all, the signals are not terribly different. In both cases, molecules diffuse through the air and bind to receptors in your nose. There’s nothing inherent in a lemon pie molecule or a fecal matter molecule that makes it smell good or bad, these are simply floating chemical shapes similar to the molecules that float off coffee, petunias, wet guinea pigs, cinnamon, fresh paint, moss on the side of a river bank, or roasting chestnuts. All these shapes bind to a variety of smell receptors in the nose. But we like the lemon pie smell because the molecules predict the presence of a rich energy source. We have a bad emotion with the diarrhea because it’s full of pathogens and evolution doesn’t want us under any circumstances to stick it in our mouth.”  BB: What is the deal about memory and senses? I’ve spent a lot of time talking to CEOs and organizations about my work, and I walked into this one organization that smelled so much like my elementary school that I could barely be in my power, I was just like, “Yes, ma’am, no ma’am. I’ll wear a longer skirt next time.” I was like, “Shit!” What is going on with emotion and smelling?  DE: Yeah. Well, a couple of things. One is that smell has such a strong memory to it, it’s thought to be the strongest sense tied to memory, and smell and taste are very closely related. So for example, in Proust’s Remembrance of Things Past , he bites into the… What do you call it… The Madeleine and he… His whole childhood memory sort of reconstructs itself like a theater popping up. We’re very tied to this sort of thing. As far as the emotion though, this is one of the things that has absolutely fascinated me, is that you’re taking all these data streams. So in your eyes, all you’re getting is photons, just photons hitting photo receptors, and your ears are just picking up air compression waves and your nose and mouth are picking up mixtures and molecules and so on. And yet the view of a beautiful meadow versus a dismembered body or listening to a beautiful piece of music versus listening to a baby crying in pain or something, these have completely different emotional responses to them. And so, yeah, the argument that I make in the book is it actually has everything to do with the information that is carried by that and the stuff gets, in some cases, evolutionarily programmed all the way down so that we respond a particular way to particular data streams.  DE: And what’s interesting, I don’t know if we’re going to end up talking about this, so forgive me if I’m jumping ahead, but…  BB: No go.  DE: You may know about this TED talk that I gave a few years ago where I’d built this technology in my lab where we have vibratory motors on the skin, and we can translate any kind of data stream into patterns of vibration on the skin. So for example, for people who are deaf, we have this… It’s a wrist band, it looks like a Fitbit, but it has these vibratory motors in the band of it, and the sound gets to turned into these patterns of vibration on the skin, and people who are deaf can learn how to hear that way. And so the thing that really interested me about this is… Okay, so first of all, the fact that it works is super cool that you can get data to the brain via an unusual pathway. If you’ve got these patterns on the skin of your wrist that’s climbing up your arm and up your spinal cord to your brain, and your brain just figures out how to make the correlations, it sees the dog’s mouth move, it feels the vibration on the wrist, and it says, “Oh, okay, I get it, there’s a dog barking,” and it comes to learn this.  DE: But the thing is, the first day that you wear it it’s sort of a cognitive translation, which is to say you feel “bzz bzz bzz bzz” on your wrist and you say, “Oh, oh, let’s see, that’s a dog barking because I can see its mouth” and whatever, but after a few months it is a direct perceptual experience, just like hearing. And here’s the thing, you don’t remember this, but you had to learn how to use your ears when you were an infant in the crib. It’s not like you just dropped into the world and ears worked and you have this great experience instead…  BB: Really?  DE: You just had all these spikes… Yeah, you’ve got all these spikes coming into your brain, through your ears, through your eyes, through your nose, it’s just spikes. And as we talked about at the beginning, it’s just like darkness up there and all these spikes running around, and what your brain is really extraordinarily good at doing is establishing correlation. So it says, “Okay, I see my mother’s mouth moving and that’s coming through my eyes, and this is coming to my ears” and then eventually puts that together and it says, “Oh, when I put out a motor output and clap my hands, then I get this feedback through my ears,” or “if I knock on the bars of the crib, then I get this feedback.” But it’s a process of learning. And by the way, we all find it so cute when a little newborn looks at us in the eyes, we say, “Oh, I’m making eye contact, he’s seeing me.”  BB: Yeah.  DE: But you know, I don’t know if he’s seeing you, right? It’s just spikes in the brain. He hasn’t figured out vision yet, it’s not clear that there’s actually a perceptual experience that the child is having for some months until they start getting this consciousness of what the thing is, that what all these spikes mean to it. And as a result, what we have is… Just as an example, you know, colors don’t exist in the world, you just have wavelengths of electromagnetic radiation at different frequencies, but our brain assigns that as color, we say “Oh yeah, there’s red, there’s green” and so on. “Oh, I can see the ripe fruit against the green leaves,” that’s just a way of our brain speeding up for us something by having a direct perceptual experience, instead of saying, “Oh, I detected 467 nanometer wavelength there and 512 nanometer… ” It says, “Oh yeah, that’s red and that’s green. Good. Done.” But anyway, all this is to say that it’s very weird, this is one of the deepest mysteries in neurosciences, is why do data streams come to have conscious experience for us, a private, subjective, conscious experience for us.  DE: Anyway, so the point is, I argue that depending on the information they carry, they come to have feeling. And so what I suggest is with the wrist band, for example, we can feed all kinds of data streams in, let’s say stock market data, and if you actually wore it for months and felt stock market data, that eventually when oil starts to crash or something, you would feel bad, it would actually feel bad or aversive. But when you find out that whatever stock you’re investing is going up, it would feel good, it would be like a delicious feeling to it, and so that’s…  BB: God, that’s crazy.  DE: Yeah, it’s crazy. That’s the weird reality we’re living in. Yeah.  BB: Okay, so I’ve got some very practical questions for you, because I know you’ve got a family, so tell me one thing that you’ve learned in the 10 years it took you to write this book, reading tens of thousands of peer-reviewed articles, what’s one thing that you learned that’s changed… How have you changed how you take care of yourself based on what you’ve learned, is there anything you’ve changed about your own health?  DE: Ah, I guess there’s a couple of things. One is, I think I did this before anyway, but I’m really invested in new challenges, new novelty. Just as one example, I’m constantly picking up new software programs and figuring out, “Okay, how do I use this video editing thing, and how do I use this music thing, and how do I use blah blah blah?” And it’s hard and it’s challenging. At first you look at all these menus and it’s annoying and whatever, but I’m constantly trying to find ways to challenge myself, including things like brushing my teeth with my other hand, or shaving with my other hand, or driving a different route home from work or any thing… Recently I’ve been learning Chinese, I’ve been spending the last several months watching videos and trying to learn Chinese. This is super useful for the brain, so I would say that’s maybe one way I’ve changed to do more of that. The other thing I would say is over the years I’ve gotten a really good sense of the way that our identity drifts, not only through time, but also moment to moment.  DE: And so, the way that I know I’m going to behave in a certain situation. I can predict when I’m sort of of sound mind, how I will behave when somebody puts a chocolate cake in front of me. I know I’m not going to be able to resist and I’m going to eat the stupid chocolate cake. And so what I always try to figure out is how I can make contracts with myself so that I tie my behavior down now so I can’t misbehave in the future. So this is what’s called by philosophers, a “Ulysses contract”. And you remember Ulysses, or Odysseus, was heading home and he realized he was going to pass the island of the sirens and they sang songs so beautiful that all mortal men would crash into the rocks and die. So he had his men put beeswax in their ears so that they could keep sailing, and he tied himself to the mast because he knew he would behave badly. So the Ulysses of sound mind was doing something to constrain the behavior of the future Ulysses, because he predicted his behavior would be lousy, so he lashed himself to the mast. And there are a million ways that we can do that well, and I think I use that technique all the time.  DE: Just as one dumb example, if I want to go to the gym… This was in the pre-COVID world, but if I want to go to the gym I’ll call a friend and I’ll say, “Hey, meet me at the gym at this time.” And that way I know that even if I’m feeling lazy, I feel like, “Oh shoot, I’ve set this up so now I have to show up because my friend is showing up.” In programs like Alcoholics Anonymous the first thing they tell you is clear all the alcohol out of your house, because even if you feel like, “Okay, I’m not going to drink, I’ve promised myself I won’t do it,” if it’s a lonely Saturday night or a festive Friday night or whatever, you’re going to break in and do that. So you get rid of it while you’re thinking about it in a sober manner. Or with drug rehab programs, they tell you don’t walk around with more than $20 in your pocket. Why? Because at some point you’re going to run into a drug dealer and you’re going to feel temptation and you’re going to do it, but if you make sure you don’t have the money with you then you can’t do it. By the way, one more thing, I was giving a talk on a college campus and I ran into some kids who told me after I gave a talk on this that at finals week they switch Facebook passwords with each other so that they change each other’s Facebook passwords, and then when finals are over they give it back, and it’s just a beautiful example of the Ulysses contract.  BB: Yeah, to me, the buddy workout thing is like my big Ulysses contract, like I set that up and then I’m like, “I can’t cancel. Because then I would just be an asshole.” So I’m there, I’m resentful, but I’m there. Okay, you ready for the rapid fire questions?  DE: Ready.  BB: Fill in the blank. Vulnerability is…  DE: Not pretending you know the answer to something when you don’t.  BB: Number two, you’re called to be brave, I mean really brave, but your fear is real. You can feel it in your throat. What’s the very first thing you do?  DE: I think sometimes what I do is I put myself sort of in another persona, like somebody who I think is a brave person, and I’ll just… I’ll sort of step into that. Or, this is a weird one, but I’ll think about the way that other people think about me. Like someone who thinks well of me, I will be that version of David Eagleman who wouldn’t be scared, because that person doesn’t think that I’m scared. Like in my children, for example. They think I have no fear. So I’m that person in that moment.  BB: I think that’s honest. And I’ve never thought about it, but I think I do that to some extent too. Okay, what’s one thing people get wrong about you?  DE: I wish I had known you were going to ask these, I could have thought about them a little bit.  BB: No. No, no sir.  DE: The thing is it’s so different inside different people’s heads, and so people will always have different interpretations of one’s behavior. One thing that all my friends know about me is I always… I love digging into questions and problems and so on, but I was once with some friends and we met this woman and afterwards I was told that she thought… This is what she said, is that I was asking these questions to make her feel stupid. And I felt so dismayed about that, because that is absolutely the last thing I wanted to do or was doing, but that was her interpretation of my behavior of asking lots of questions.  BB: So you’re genuinely inquisitive?  DE: Yeah.  BB: Yeah, I think you’re one of the most curious people I’ve ever met, I have to say. Okay, last TV show that you binged and loved?  DE: Oh, Devs, D-E-V-S. It was incredible. I was so impressed with it. And Chernobyl.  BB: Okay, one of your favorite movies?  DE: Inception.  BB: Of course. Okay. Dang you, David Eagleman. A concert you’ll never forget?  DE: Oh, the Beach Boys, only because that was my first concert that I ever went to, it was so exciting to go to a first concert.  BB: Favorite meal?  DE: Tofu and Brussels sprouts and rice.  BB: Okay. You’ve been in California too long, brother. Okay. What’s on your nightstand?  DE: You know what, this is so interesting, because I’ve been a bibliophile my whole life, I grew up with these enormous libraries that my father built, but everything now is digital for me, so what’s on my nightstand is my iPad, and I’ve got a whole library inside of that.  BB: Perfect. A snapshot of an ordinary moment in your life that gives you joy?  DE: Oh. It’s definitely going to have to do with my kids. I think that’s the thing that brings me the most joy is seeing their little minds light up with something that’s interesting to them. And I just think especially when they ask a question that just makes me melt, I love it.  BB: What’s one thing that you’re deeply grateful for right now in your life?  DE: Well, being in California we’re surrounded with wildfires, and so it actually forces one to think about how fragile all of this is, because our neighbors 60 miles down the road that way don’t have a home anymore, and so yeah I’m grateful for really understanding what we have around us. And during this COVID pandemic to understand the incredible information flow that’s going on so that all of us can say, “Wow, this really stinks,” but we can stay home and be on Zoom and have all this terrific technology so that we can at least sort of be with each other, which is a heck of a lot better than if this had happened 30 years ago, where we had intercontinental travel to spread the virus but we didn’t have the technology to be together this way.  BB: That’s right, that’s right. Okay, five songs that you cannot live without. “Departure” from Max… Is it Richter?  DE: Richter, yeah.  BB: Yeah, Max Richter, “Music for Airports,” by Brian Eno, “Piano Concerto No. 3,” Rachmaninoff, “Life In a Northern Town,” by the Dream Academy, and “7 Years,” by Lukas Graham. Tell me what that playlist says about you?  DE: Oh, Lord knows what it says about me. The reason I love “7 Years,” I don’t know if you know that song, but…  BB: I don’t…  DE: He’s just talking… It’s not even the music that I love so much, it’s the lyrics about… He talks about once he was seven years old and he describes what that’s like, and then he says, “Once I was 14 years old,” and he describes what that… And he says “Once I was 30 years old,” and he goes to “Once I was 60 years old,” and so on. And each lyric chunk is about a different age of his life. And as you know, from reading my book Sum , I’m obsessed with this idea about us at different ages, so I just find that song so moving. It’s so beautiful.  BB: Beauty is a theme here, across your playlist, I think. “Life in a Northern Town,” where does that come from? I remember that song.  DE: You know where that comes from? If you remember, there’s this chunk in the middle where it’s sort of this big drum beat, you know, there’s these two “boom boom” come in, and so when I listen to it with my kids we always play that out together where we all do the big drum with our arms sort of thing. So it’s for the fun of it, that I like that song.  BB: And then last one I have to ask you about is “Music for Airports.”  DE: Mmm, that one is because I like… Brian Eno became a friend of mine back in 2009 because he took my book Sum and turned it into an opera at the Sydney Opera House, and so… Oh, actually, this is funny, so Max Richter took my book Sum and turned it into an opera at the Royal Opera House in London. So there were two operas written from Sum , but I didn’t realize until I just said this out loud that I listed those two as two of my favorite musicians, but it’s presumably because I got to know them as people, and then when I listen to their music I just love it.  BB: That’s cool. Well, I know you as a person, and I think you’re one of the best, and I love this new book, Livewired: The Inside Story of the Ever-Changing Brain , Dr. David Eagleman. Thank you for sharing this wisdom with us and I’m going to go buy a puzzle and I’m going to keep… Especially since you said 54 1/2 is like, I’m moving over to the shit list side, I’m going to stay malleable and grateful. Thank you for talking to us today.  DE: Thanks so much Brené, wonderful to see you.  BB: You too.  [music]  BB: Man, I hope you enjoyed this conversation. And thank you for being here with us on Unlocking Us . I have to say, isn’t it crazy? Remember when he said in the beginning of the conversation, “Even during the course of this conversation, you’re already a slightly different person than you were at the beginning of the conversation”? Just think about this, you’re a different person, neurobiologically, now than when you started the podcast. Just new neural pathways, new connections, new shaping. And I think for me the big takeaway here is that the brain is malleable and will continue to stretch and grow and develop new ways of thinking and reasoning if we force it to, if we challenge it. And this gets into the shame and vulnerability stuff, because we’re just so accustomed to not doing things that we already don’t know how to do. So for me like I am starting to brush my teeth with my left hand, I’m right-handed. Every now and then I am trying to mindfully take a different route somewhere, I am trying just to push a little bit in different ways. I don’t know, is my brain bigger and smarter? TBD folks, TBD.  BB: But what a great conversation. I know you’ll want to check out more of his stuff. Again, the book that we talked about today was Livewired: The Inside Story of the Ever-Changing Brain . You can follow David on social media, he’s David Eagleman on Twitter and Instagram and LinkedIn. He’s David M, as in malleable, Eagleman on Facebook. His website is just eagleman.com. LinkedIn is David Eagleman. Alright, another kind of like “mind-blowing”… Ha ha, “ba dum pum ssh,” podcast that I have to lead you to, I’m just full of puns today, is Dare to Lead actually, where I talk to Sarah Lewis, a professor at Harvard about her book, The Rise: Creativity, The Gift of Failure and the Search for Mastery . This book freaked me out, I’m just going to say that, because you know how when you’re in kind of a thinking process or a creative process, there’s little secret things that you do or weird things that happen and you think you’re the only one? Sarah Lewis completely sets me straight there. She gives me language and words to help me understand part of that process that’s so just indescribable, but she does it. And so we talk about The Rise … In fact, the conversation is so interesting in the middle of it I’m like, “We’re doing Part Two, let’s do Part Two,” so we are going to do Part Two, right after the New Year. So check that out on Dare to Lead , which is exclusively on Spotify.  BB: I think one way we stay malleable is to stay awkward, brave, and kind, I think we have our own brain-stretching mantra here in the Unlocking Us community. We’ll be weird and cringy and daring and brave and kind to other people, which definitely has to stretch our brains at points, right? Alright, I will see y’all next week. Thank you so much for joining.  BB: Unlocking Us is a Spotify original from Parcast, it’s hosted by me, Brené Brown. It is produced by Max Cutler, Kristen Acevedo, Carly Madden, and by Weird Lucy Productions and by Cadence 13. The sound design is by Kristen Acevedo and music by Kerry Rodriguez and Gina Chavez, and just “felicidades” to Gina Chavez, who was just nominated for her first Latin Grammy. Big news, well deserved. Thank y’all.  [music]  © 2020 Brené Brown Education and Research Group, LLC. All rights reserved.   '"
      ]
     },
     "execution_count": 10,
     "metadata": {},
     "output_type": "execute_result"
    }
   ],
   "source": [
    "uu_df.Text[0]"
   ]
  },
  {
   "cell_type": "code",
   "execution_count": 11,
   "metadata": {},
   "outputs": [
    {
     "data": {
      "text/html": [
       "<div>\n",
       "<style scoped>\n",
       "    .dataframe tbody tr th:only-of-type {\n",
       "        vertical-align: middle;\n",
       "    }\n",
       "\n",
       "    .dataframe tbody tr th {\n",
       "        vertical-align: top;\n",
       "    }\n",
       "\n",
       "    .dataframe thead th {\n",
       "        text-align: right;\n",
       "    }\n",
       "</style>\n",
       "<table border=\"1\" class=\"dataframe\">\n",
       "  <thead>\n",
       "    <tr style=\"text-align: right;\">\n",
       "      <th></th>\n",
       "      <th>Title</th>\n",
       "      <th>Year</th>\n",
       "      <th>Text</th>\n",
       "    </tr>\n",
       "  </thead>\n",
       "  <tbody>\n",
       "    <tr>\n",
       "      <th>0</th>\n",
       "      <td>Brené with David Eagleman on The Inside Story ...</td>\n",
       "      <td>2020</td>\n",
       "      <td>Transcript  Brené Brown: Hi everyone, I’m Bre...</td>\n",
       "    </tr>\n",
       "    <tr>\n",
       "      <th>1</th>\n",
       "      <td>Brené with Priya Parker on The Art of Gathering</td>\n",
       "      <td>2020</td>\n",
       "      <td>Transcript  Brené Brown : Hi everyone.  I’m B...</td>\n",
       "    </tr>\n",
       "    <tr>\n",
       "      <th>2</th>\n",
       "      <td>Brené on The Queen's Gambit, Revisiting FFTs, ...</td>\n",
       "      <td>2020</td>\n",
       "      <td>Transcript  Brené Brown: Hi everyone, I’m Bre...</td>\n",
       "    </tr>\n",
       "    <tr>\n",
       "      <th>8</th>\n",
       "      <td>Brené with Tim Ferriss and Dax Shepard on Podc...</td>\n",
       "      <td>2020</td>\n",
       "      <td>Transcript  Brené Brown : Hi everyone, I’m Br...</td>\n",
       "    </tr>\n",
       "    <tr>\n",
       "      <th>3</th>\n",
       "      <td>Brené with Drs. John and Julie Gottman on What...</td>\n",
       "      <td>2021</td>\n",
       "      <td>Transcript   Brené Brown: Hi, everyone. I’m B...</td>\n",
       "    </tr>\n",
       "    <tr>\n",
       "      <th>4</th>\n",
       "      <td>Brené with Jennifer Rudolph Walsh and Ashley C...</td>\n",
       "      <td>2021</td>\n",
       "      <td>Transcript  Brené Brown: Hi everyone. I’m Bre...</td>\n",
       "    </tr>\n",
       "    <tr>\n",
       "      <th>5</th>\n",
       "      <td>Brené with Dr. Edith Eger on Recognizing the C...</td>\n",
       "      <td>2021</td>\n",
       "      <td>Transcript  Brené Brown: Hi everyone. I’m Bre...</td>\n",
       "    </tr>\n",
       "    <tr>\n",
       "      <th>6</th>\n",
       "      <td>Brené with Dr. Yaba Blay on  One Drop: Shiftin...</td>\n",
       "      <td>2021</td>\n",
       "      <td>Transcript  Brené Brown: Hi, everyone. I’m Br...</td>\n",
       "    </tr>\n",
       "    <tr>\n",
       "      <th>7</th>\n",
       "      <td>Brené with Roxane Gay and Debbie Millman on Lo...</td>\n",
       "      <td>2021</td>\n",
       "      <td>Transcript  Brené Brown: Hi, everyone. I’m Br...</td>\n",
       "    </tr>\n",
       "    <tr>\n",
       "      <th>9</th>\n",
       "      <td>Brené with Emmanuel Acho on Uncomfortable Conv...</td>\n",
       "      <td>2021</td>\n",
       "      <td>Transcript   Brené Brown: Hi, everyone. I’m B...</td>\n",
       "    </tr>\n",
       "    <tr>\n",
       "      <th>10</th>\n",
       "      <td>Brené on Words, Actions, Dehumanization, and A...</td>\n",
       "      <td>2021</td>\n",
       "      <td>Transcript  Brené Brown: Hi, everyone. I’m B...</td>\n",
       "    </tr>\n",
       "    <tr>\n",
       "      <th>11</th>\n",
       "      <td>Brené with Melinda Gates on The Moment of Lift</td>\n",
       "      <td>2021</td>\n",
       "      <td>Transcript   Brené Brown: Hi, everyone. I’m B...</td>\n",
       "    </tr>\n",
       "  </tbody>\n",
       "</table>\n",
       "</div>"
      ],
      "text/plain": [
       "                                                Title  Year  \\\n",
       "0   Brené with David Eagleman on The Inside Story ...  2020   \n",
       "1     Brené with Priya Parker on The Art of Gathering  2020   \n",
       "2   Brené on The Queen's Gambit, Revisiting FFTs, ...  2020   \n",
       "8   Brené with Tim Ferriss and Dax Shepard on Podc...  2020   \n",
       "3   Brené with Drs. John and Julie Gottman on What...  2021   \n",
       "4   Brené with Jennifer Rudolph Walsh and Ashley C...  2021   \n",
       "5   Brené with Dr. Edith Eger on Recognizing the C...  2021   \n",
       "6   Brené with Dr. Yaba Blay on  One Drop: Shiftin...  2021   \n",
       "7   Brené with Roxane Gay and Debbie Millman on Lo...  2021   \n",
       "9   Brené with Emmanuel Acho on Uncomfortable Conv...  2021   \n",
       "10  Brené on Words, Actions, Dehumanization, and A...  2021   \n",
       "11     Brené with Melinda Gates on The Moment of Lift  2021   \n",
       "\n",
       "                                                 Text  \n",
       "0    Transcript  Brené Brown: Hi everyone, I’m Bre...  \n",
       "1    Transcript  Brené Brown : Hi everyone.  I’m B...  \n",
       "2    Transcript  Brené Brown: Hi everyone, I’m Bre...  \n",
       "8    Transcript  Brené Brown : Hi everyone, I’m Br...  \n",
       "3    Transcript   Brené Brown: Hi, everyone. I’m B...  \n",
       "4    Transcript  Brené Brown: Hi everyone. I’m Bre...  \n",
       "5    Transcript  Brené Brown: Hi everyone. I’m Bre...  \n",
       "6    Transcript  Brené Brown: Hi, everyone. I’m Br...  \n",
       "7    Transcript  Brené Brown: Hi, everyone. I’m Br...  \n",
       "9    Transcript   Brené Brown: Hi, everyone. I’m B...  \n",
       "10    Transcript  Brené Brown: Hi, everyone. I’m B...  \n",
       "11   Transcript   Brené Brown: Hi, everyone. I’m B...  "
      ]
     },
     "execution_count": 11,
     "metadata": {},
     "output_type": "execute_result"
    }
   ],
   "source": [
    "uu_df = uu_df.sort_values(by=['Year'])\n",
    "uu_df"
   ]
  },
  {
   "cell_type": "code",
   "execution_count": 12,
   "metadata": {},
   "outputs": [
    {
     "name": "stdout",
     "output_type": "stream",
     "text": [
      "Stored 'uu_df' (DataFrame)\n"
     ]
    }
   ],
   "source": [
    "%store uu_df"
   ]
  },
  {
   "cell_type": "code",
   "execution_count": 13,
   "metadata": {},
   "outputs": [
    {
     "data": {
      "text/plain": [
       "12"
      ]
     },
     "execution_count": 13,
     "metadata": {},
     "output_type": "execute_result"
    }
   ],
   "source": [
    "len(uu_df)"
   ]
  }
 ],
 "metadata": {
  "kernelspec": {
   "display_name": "Python 3",
   "language": "python",
   "name": "python3"
  },
  "language_info": {
   "codemirror_mode": {
    "name": "ipython",
    "version": 3
   },
   "file_extension": ".py",
   "mimetype": "text/x-python",
   "name": "python",
   "nbconvert_exporter": "python",
   "pygments_lexer": "ipython3",
   "version": "3.8.5"
  }
 },
 "nbformat": 4,
 "nbformat_minor": 4
}
