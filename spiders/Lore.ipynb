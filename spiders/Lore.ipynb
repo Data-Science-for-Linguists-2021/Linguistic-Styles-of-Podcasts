{
 "cells": [
  {
   "cell_type": "code",
   "execution_count": 1,
   "metadata": {},
   "outputs": [],
   "source": [
    "import scrapy\n",
    "from scrapy.crawler import CrawlerProcess\n",
    "import re"
   ]
  },
  {
   "cell_type": "code",
   "execution_count": 2,
   "metadata": {},
   "outputs": [],
   "source": [
    "Lore_data = []"
   ]
  },
  {
   "cell_type": "code",
   "execution_count": 3,
   "metadata": {},
   "outputs": [],
   "source": [
    "# parses transcript links\n",
    "class Lore(scrapy.Spider):\n",
    "    name = 'Lore'\n",
    "    \n",
    "    def start_requests(self):\n",
    "        url = 'https://loretranscripts.tumblr.com/page/2'\n",
    "        # print(urls) # Urls are correct\n",
    "        yield scrapy.Request(url=url, callback=self.parse_episode)\n",
    "        \n",
    "    def parse_episode(self, response):\n",
    "        transcript_links = response.css(' div.entry > ul >li > a::attr(href)').extract() \n",
    "        # print([l for l in transcript_links])\n",
    "        for link in transcript_links:\n",
    "            yield response.follow(url=link, \n",
    "                                  callback =self.parse_transcript)\n",
    "    \n",
    "    def parse_transcript(self, response):  \n",
    "        current_ep = []\n",
    "        # Title - done, clean\n",
    "        title = response.css(' div.entry > h1::text').extract()[0].split('Lore Episode ')[1]\n",
    "        \n",
    "        ep_number = re.findall(r'\\d+', title)[0] # Not ideal re, but works\n",
    "        while len(ep_number) < 3:\n",
    "            ep_number = '0' + ep_number\n",
    "        current_ep.append(ep_number)\n",
    "        \n",
    "        ep_year = re.findall(r'\\d+', title)[-1] # Not ideal re, but it works\n",
    "        current_ep.append(ep_year)\n",
    "        \n",
    "        ep_title = re.findall(r'[^\\d*:].+?(?=\\(Transcript\\))', title)\n",
    "        current_ep.append(ep_title)\n",
    "        \n",
    "        \n",
    "        text = response.css(' div.entry > p').extract()\n",
    "        current_ep.append(text)\n",
    "        \n",
    "        Lore_data.append(current_ep)\n",
    "        "
   ]
  },
  {
   "cell_type": "code",
   "execution_count": 4,
   "metadata": {},
   "outputs": [
    {
     "name": "stderr",
     "output_type": "stream",
     "text": [
      "2021-03-11 10:42:29 [scrapy.utils.log] INFO: Scrapy 2.4.1 started (bot: scrapybot)\n",
      "2021-03-11 10:42:29 [scrapy.utils.log] INFO: Versions: lxml 4.6.1.0, libxml2 2.9.10, cssselect 1.1.0, parsel 1.6.0, w3lib 1.22.0, Twisted 20.3.0, Python 3.8.5 (default, Sep  3 2020, 21:29:08) [MSC v.1916 64 bit (AMD64)], pyOpenSSL 19.1.0 (OpenSSL 1.1.1h  22 Sep 2020), cryptography 3.1.1, Platform Windows-10-10.0.18362-SP0\n",
      "2021-03-11 10:42:29 [scrapy.utils.log] DEBUG: Using reactor: twisted.internet.selectreactor.SelectReactor\n",
      "2021-03-11 10:42:29 [scrapy.crawler] INFO: Overridden settings:\n",
      "{}\n",
      "2021-03-11 10:42:29 [scrapy.extensions.telnet] INFO: Telnet Password: b19c87246862b2e3\n",
      "2021-03-11 10:42:29 [scrapy.middleware] INFO: Enabled extensions:\n",
      "['scrapy.extensions.corestats.CoreStats',\n",
      " 'scrapy.extensions.telnet.TelnetConsole',\n",
      " 'scrapy.extensions.logstats.LogStats']\n",
      "2021-03-11 10:42:29 [scrapy.middleware] INFO: Enabled downloader middlewares:\n",
      "['scrapy.downloadermiddlewares.httpauth.HttpAuthMiddleware',\n",
      " 'scrapy.downloadermiddlewares.downloadtimeout.DownloadTimeoutMiddleware',\n",
      " 'scrapy.downloadermiddlewares.defaultheaders.DefaultHeadersMiddleware',\n",
      " 'scrapy.downloadermiddlewares.useragent.UserAgentMiddleware',\n",
      " 'scrapy.downloadermiddlewares.retry.RetryMiddleware',\n",
      " 'scrapy.downloadermiddlewares.redirect.MetaRefreshMiddleware',\n",
      " 'scrapy.downloadermiddlewares.httpcompression.HttpCompressionMiddleware',\n",
      " 'scrapy.downloadermiddlewares.redirect.RedirectMiddleware',\n",
      " 'scrapy.downloadermiddlewares.cookies.CookiesMiddleware',\n",
      " 'scrapy.downloadermiddlewares.httpproxy.HttpProxyMiddleware',\n",
      " 'scrapy.downloadermiddlewares.stats.DownloaderStats']\n",
      "2021-03-11 10:42:29 [scrapy.middleware] INFO: Enabled spider middlewares:\n",
      "['scrapy.spidermiddlewares.httperror.HttpErrorMiddleware',\n",
      " 'scrapy.spidermiddlewares.offsite.OffsiteMiddleware',\n",
      " 'scrapy.spidermiddlewares.referer.RefererMiddleware',\n",
      " 'scrapy.spidermiddlewares.urllength.UrlLengthMiddleware',\n",
      " 'scrapy.spidermiddlewares.depth.DepthMiddleware']\n",
      "2021-03-11 10:42:29 [scrapy.middleware] INFO: Enabled item pipelines:\n",
      "[]\n",
      "2021-03-11 10:42:29 [scrapy.core.engine] INFO: Spider opened\n",
      "2021-03-11 10:42:29 [scrapy.extensions.logstats] INFO: Crawled 0 pages (at 0 pages/min), scraped 0 items (at 0 items/min)\n",
      "2021-03-11 10:42:29 [scrapy.extensions.telnet] INFO: Telnet console listening on 127.0.0.1:6023\n",
      "2021-03-11 10:42:30 [scrapy.core.engine] DEBUG: Crawled (200) <GET https://loretranscripts.tumblr.com/page/2> (referer: None)\n",
      "2021-03-11 10:42:30 [scrapy.dupefilters] DEBUG: Filtered duplicate request: <GET https://loretranscripts.tumblr.com/post/186003836743/lore-episode-24-a-stranger-among-us-transcript> - no more duplicates will be shown (see DUPEFILTER_DEBUG to show all duplicates)\n",
      "2021-03-11 10:42:31 [scrapy.core.engine] DEBUG: Crawled (200) <GET https://loretranscripts.tumblr.com/post/183694959973/lore-episode-1-they-made-a-tonic-transcript> (referer: https://loretranscripts.tumblr.com/page/2)\n",
      "2021-03-11 10:42:31 [scrapy.core.engine] DEBUG: Crawled (200) <GET https://loretranscripts.tumblr.com/post/183796846748/lore-episode-5-under-construction-transcript> (referer: https://loretranscripts.tumblr.com/page/2)\n",
      "2021-03-11 10:42:31 [scrapy.core.engine] DEBUG: Crawled (200) <GET https://loretranscripts.tumblr.com/post/183962669703/lore-episode-14-the-others-transcript-7th> (referer: https://loretranscripts.tumblr.com/page/2)\n",
      "2021-03-11 10:42:31 [scrapy.core.engine] DEBUG: Crawled (200) <GET https://loretranscripts.tumblr.com/post/183822621973/lore-episode-7-in-the-woods-transcript-1st> (referer: https://loretranscripts.tumblr.com/page/2)\n",
      "2021-03-11 10:42:31 [scrapy.core.engine] DEBUG: Crawled (200) <GET https://loretranscripts.tumblr.com/post/184713658938/lore-episode-19-bite-marks-transcript-26th> (referer: https://loretranscripts.tumblr.com/page/2)\n",
      "2021-03-11 10:42:31 [scrapy.core.engine] DEBUG: Crawled (200) <GET https://loretranscripts.tumblr.com/post/183916990928/lore-episode-13-off-the-path-transcript-24th> (referer: https://loretranscripts.tumblr.com/page/2)\n",
      "2021-03-11 10:42:31 [scrapy.core.engine] DEBUG: Crawled (200) <GET https://loretranscripts.tumblr.com/post/184362460828/lore-episode-17-broken-fingernails-transcript> (referer: https://loretranscripts.tumblr.com/page/2)\n",
      "2021-03-11 10:42:32 [scrapy.core.engine] DEBUG: Crawled (200) <GET https://loretranscripts.tumblr.com/post/189718242988/lore-episode-130-in-plain-sight-transcript> (referer: https://loretranscripts.tumblr.com/page/2)\n",
      "2021-03-11 10:42:32 [scrapy.core.engine] DEBUG: Crawled (200) <GET https://loretranscripts.tumblr.com/post/186399316653/lore-episode-26-brought-back-transcript-25th> (referer: https://loretranscripts.tumblr.com/page/2)\n",
      "2021-03-11 10:42:33 [scrapy.core.engine] DEBUG: Crawled (200) <GET https://loretranscripts.tumblr.com/post/183862571628/lore-episode-9-the-devil-on-the-roof-transcript> (referer: https://loretranscripts.tumblr.com/page/2)\n",
      "2021-03-11 10:42:33 [scrapy.core.engine] DEBUG: Crawled (200) <GET https://loretranscripts.tumblr.com/post/186003836743/lore-episode-24-a-stranger-among-us-transcript> (referer: https://loretranscripts.tumblr.com/page/2)\n",
      "2021-03-11 10:42:33 [scrapy.core.engine] DEBUG: Crawled (200) <GET https://loretranscripts.tumblr.com/post/183796049698/lore-episode-3-the-beast-within-transcript> (referer: https://loretranscripts.tumblr.com/page/2)\n",
      "2021-03-11 10:42:33 [scrapy.core.engine] DEBUG: Crawled (200) <GET https://loretranscripts.tumblr.com/post/187000687978/lore-episode-30-deep-and-twisted-roots> (referer: https://loretranscripts.tumblr.com/page/2)\n",
      "2021-03-11 10:42:36 [scrapy.core.engine] DEBUG: Crawled (200) <GET https://loretranscripts.tumblr.com/post/189194562933/lore-episode-32-tampered-transcript-18th> (referer: https://loretranscripts.tumblr.com/page/2)\n",
      "2021-03-11 10:42:37 [scrapy.core.engine] INFO: Closing spider (finished)\n",
      "2021-03-11 10:42:37 [scrapy.statscollectors] INFO: Dumping Scrapy stats:\n",
      "{'downloader/request_bytes': 5036,\n",
      " 'downloader/request_count': 15,\n",
      " 'downloader/request_method_count/GET': 15,\n",
      " 'downloader/response_bytes': 273246,\n",
      " 'downloader/response_count': 15,\n",
      " 'downloader/response_status_count/200': 15,\n",
      " 'dupefilter/filtered': 1,\n",
      " 'elapsed_time_seconds': 7.278846,\n",
      " 'finish_reason': 'finished',\n",
      " 'finish_time': datetime.datetime(2021, 3, 11, 15, 42, 37, 108773),\n",
      " 'log_count/DEBUG': 16,\n",
      " 'log_count/INFO': 10,\n",
      " 'request_depth_max': 1,\n",
      " 'response_received_count': 15,\n",
      " 'scheduler/dequeued': 15,\n",
      " 'scheduler/dequeued/memory': 15,\n",
      " 'scheduler/enqueued': 15,\n",
      " 'scheduler/enqueued/memory': 15,\n",
      " 'start_time': datetime.datetime(2021, 3, 11, 15, 42, 29, 829927)}\n",
      "2021-03-11 10:42:37 [scrapy.core.engine] INFO: Spider closed (finished)\n"
     ]
    }
   ],
   "source": [
    "process = CrawlerProcess()\n",
    "process.crawl(Lore)\n",
    "process.start()"
   ]
  },
  {
   "cell_type": "code",
   "execution_count": 5,
   "metadata": {},
   "outputs": [],
   "source": [
    "import pandas as pd\n",
    "\n",
    "Lore_df = pd.DataFrame(Lore_data,\n",
    "                       columns =['Episode', 'Year', 'Title', 'Text'])"
   ]
  },
  {
   "cell_type": "code",
   "execution_count": 6,
   "metadata": {},
   "outputs": [
    {
     "data": {
      "text/html": [
       "<div>\n",
       "<style scoped>\n",
       "    .dataframe tbody tr th:only-of-type {\n",
       "        vertical-align: middle;\n",
       "    }\n",
       "\n",
       "    .dataframe tbody tr th {\n",
       "        vertical-align: top;\n",
       "    }\n",
       "\n",
       "    .dataframe thead th {\n",
       "        text-align: right;\n",
       "    }\n",
       "</style>\n",
       "<table border=\"1\" class=\"dataframe\">\n",
       "  <thead>\n",
       "    <tr style=\"text-align: right;\">\n",
       "      <th></th>\n",
       "      <th>Episode</th>\n",
       "      <th>Year</th>\n",
       "      <th>Title</th>\n",
       "      <th>Text</th>\n",
       "    </tr>\n",
       "  </thead>\n",
       "  <tbody>\n",
       "    <tr>\n",
       "      <th>0</th>\n",
       "      <td>001</td>\n",
       "      <td>2015</td>\n",
       "      <td>[ They Made a Tonic ]</td>\n",
       "      <td>[&lt;p&gt;&lt;b&gt;tw: &lt;/b&gt;horror, bodily mutilation, bloo...</td>\n",
       "    </tr>\n",
       "    <tr>\n",
       "      <th>1</th>\n",
       "      <td>005</td>\n",
       "      <td>2015</td>\n",
       "      <td>[ Under Construction ]</td>\n",
       "      <td>[&lt;p&gt;&lt;b&gt;tw: &lt;/b&gt;nothing I can think of! This on...</td>\n",
       "    </tr>\n",
       "    <tr>\n",
       "      <th>2</th>\n",
       "      <td>014</td>\n",
       "      <td>2015</td>\n",
       "      <td>[ The Others ]</td>\n",
       "      <td>[&lt;p&gt;&lt;b&gt;tw: &lt;/b&gt;death of children, childhood il...</td>\n",
       "    </tr>\n",
       "    <tr>\n",
       "      <th>3</th>\n",
       "      <td>007</td>\n",
       "      <td>2015</td>\n",
       "      <td>[ In the Woods ]</td>\n",
       "      <td>[&lt;p&gt;&lt;b&gt;tw: &lt;/b&gt;ghosts, suicide, racism (coloni...</td>\n",
       "    </tr>\n",
       "    <tr>\n",
       "      <th>4</th>\n",
       "      <td>019</td>\n",
       "      <td>2015</td>\n",
       "      <td>[ Bite Marks ]</td>\n",
       "      <td>[&lt;p&gt;tw: death, graveyards, corpses, details of...</td>\n",
       "    </tr>\n",
       "    <tr>\n",
       "      <th>5</th>\n",
       "      <td>013</td>\n",
       "      <td>2015</td>\n",
       "      <td>[ Off the Path ]</td>\n",
       "      <td>[&lt;p&gt;&lt;b&gt;tw: &lt;/b&gt;death, WWII&lt;/p&gt;, &lt;p&gt;&lt;b&gt;Disclaim...</td>\n",
       "    </tr>\n",
       "    <tr>\n",
       "      <th>6</th>\n",
       "      <td>018</td>\n",
       "      <td>2015</td>\n",
       "      <td>[ Hunger Pains ]</td>\n",
       "      <td>[&lt;p&gt;\\n\\ntw: cannibalism, gore&lt;/p&gt;, &lt;p&gt;&lt;br&gt;Disc...</td>\n",
       "    </tr>\n",
       "    <tr>\n",
       "      <th>7</th>\n",
       "      <td>130</td>\n",
       "      <td>2019</td>\n",
       "      <td>[ In Plain Sight ]</td>\n",
       "      <td>[&lt;p&gt;tw: none&lt;br&gt;&lt;/p&gt;, &lt;p&gt;Disclaimer: This tran...</td>\n",
       "    </tr>\n",
       "    <tr>\n",
       "      <th>8</th>\n",
       "      <td>026</td>\n",
       "      <td>2016</td>\n",
       "      <td>[ Brought Back ]</td>\n",
       "      <td>[&lt;p&gt;tw: racism, colonialism, live burial, slav...</td>\n",
       "    </tr>\n",
       "    <tr>\n",
       "      <th>9</th>\n",
       "      <td>009</td>\n",
       "      <td>2015</td>\n",
       "      <td>[ The Devil on the Roof ]</td>\n",
       "      <td>[&lt;p&gt;&lt;b&gt;tw: &lt;/b&gt;animal death&lt;/p&gt;, &lt;p&gt;&lt;b&gt;Disclai...</td>\n",
       "    </tr>\n",
       "    <tr>\n",
       "      <th>10</th>\n",
       "      <td>024</td>\n",
       "      <td>2015</td>\n",
       "      <td>[ A Stranger Among Us ]</td>\n",
       "      <td>[&lt;p&gt;tw: death, gore, death of children, diseas...</td>\n",
       "    </tr>\n",
       "    <tr>\n",
       "      <th>11</th>\n",
       "      <td>003</td>\n",
       "      <td>2015</td>\n",
       "      <td>[ The Beast Within ]</td>\n",
       "      <td>[&lt;p&gt;&lt;b&gt;tw: &lt;/b&gt;murder, rape, death of children...</td>\n",
       "    </tr>\n",
       "    <tr>\n",
       "      <th>12</th>\n",
       "      <td>030</td>\n",
       "      <td>2016</td>\n",
       "      <td>[ Deep and Twisted Roots ]</td>\n",
       "      <td>[&lt;p&gt;tw: blood&lt;br&gt;&lt;/p&gt;, &lt;p&gt;Disclaimer: This tra...</td>\n",
       "    </tr>\n",
       "    <tr>\n",
       "      <th>13</th>\n",
       "      <td>032</td>\n",
       "      <td>2016</td>\n",
       "      <td>[ Tampered ]</td>\n",
       "      <td>[&lt;p&gt;Disclaimer: This transcript is entirely no...</td>\n",
       "    </tr>\n",
       "  </tbody>\n",
       "</table>\n",
       "</div>"
      ],
      "text/plain": [
       "   Episode  Year                       Title  \\\n",
       "0      001  2015       [ They Made a Tonic ]   \n",
       "1      005  2015      [ Under Construction ]   \n",
       "2      014  2015              [ The Others ]   \n",
       "3      007  2015            [ In the Woods ]   \n",
       "4      019  2015              [ Bite Marks ]   \n",
       "5      013  2015            [ Off the Path ]   \n",
       "6      018  2015            [ Hunger Pains ]   \n",
       "7      130  2019          [ In Plain Sight ]   \n",
       "8      026  2016            [ Brought Back ]   \n",
       "9      009  2015   [ The Devil on the Roof ]   \n",
       "10     024  2015     [ A Stranger Among Us ]   \n",
       "11     003  2015        [ The Beast Within ]   \n",
       "12     030  2016  [ Deep and Twisted Roots ]   \n",
       "13     032  2016                [ Tampered ]   \n",
       "\n",
       "                                                 Text  \n",
       "0   [<p><b>tw: </b>horror, bodily mutilation, bloo...  \n",
       "1   [<p><b>tw: </b>nothing I can think of! This on...  \n",
       "2   [<p><b>tw: </b>death of children, childhood il...  \n",
       "3   [<p><b>tw: </b>ghosts, suicide, racism (coloni...  \n",
       "4   [<p>tw: death, graveyards, corpses, details of...  \n",
       "5   [<p><b>tw: </b>death, WWII</p>, <p><b>Disclaim...  \n",
       "6   [<p>\\n\\ntw: cannibalism, gore</p>, <p><br>Disc...  \n",
       "7   [<p>tw: none<br></p>, <p>Disclaimer: This tran...  \n",
       "8   [<p>tw: racism, colonialism, live burial, slav...  \n",
       "9   [<p><b>tw: </b>animal death</p>, <p><b>Disclai...  \n",
       "10  [<p>tw: death, gore, death of children, diseas...  \n",
       "11  [<p><b>tw: </b>murder, rape, death of children...  \n",
       "12  [<p>tw: blood<br></p>, <p>Disclaimer: This tra...  \n",
       "13  [<p>Disclaimer: This transcript is entirely no...  "
      ]
     },
     "execution_count": 6,
     "metadata": {},
     "output_type": "execute_result"
    }
   ],
   "source": [
    "Lore_df"
   ]
  },
  {
   "cell_type": "code",
   "execution_count": 7,
   "metadata": {},
   "outputs": [
    {
     "data": {
      "text/html": [
       "<div>\n",
       "<style scoped>\n",
       "    .dataframe tbody tr th:only-of-type {\n",
       "        vertical-align: middle;\n",
       "    }\n",
       "\n",
       "    .dataframe tbody tr th {\n",
       "        vertical-align: top;\n",
       "    }\n",
       "\n",
       "    .dataframe thead th {\n",
       "        text-align: right;\n",
       "    }\n",
       "</style>\n",
       "<table border=\"1\" class=\"dataframe\">\n",
       "  <thead>\n",
       "    <tr style=\"text-align: right;\">\n",
       "      <th></th>\n",
       "      <th>Year</th>\n",
       "      <th>Title</th>\n",
       "      <th>Text</th>\n",
       "    </tr>\n",
       "    <tr>\n",
       "      <th>Episode</th>\n",
       "      <th></th>\n",
       "      <th></th>\n",
       "      <th></th>\n",
       "    </tr>\n",
       "  </thead>\n",
       "  <tbody>\n",
       "    <tr>\n",
       "      <th>001</th>\n",
       "      <td>2015</td>\n",
       "      <td>[ They Made a Tonic ]</td>\n",
       "      <td>[&lt;p&gt;&lt;b&gt;tw: &lt;/b&gt;horror, bodily mutilation, bloo...</td>\n",
       "    </tr>\n",
       "    <tr>\n",
       "      <th>003</th>\n",
       "      <td>2015</td>\n",
       "      <td>[ The Beast Within ]</td>\n",
       "      <td>[&lt;p&gt;&lt;b&gt;tw: &lt;/b&gt;murder, rape, death of children...</td>\n",
       "    </tr>\n",
       "    <tr>\n",
       "      <th>005</th>\n",
       "      <td>2015</td>\n",
       "      <td>[ Under Construction ]</td>\n",
       "      <td>[&lt;p&gt;&lt;b&gt;tw: &lt;/b&gt;nothing I can think of! This on...</td>\n",
       "    </tr>\n",
       "    <tr>\n",
       "      <th>007</th>\n",
       "      <td>2015</td>\n",
       "      <td>[ In the Woods ]</td>\n",
       "      <td>[&lt;p&gt;&lt;b&gt;tw: &lt;/b&gt;ghosts, suicide, racism (coloni...</td>\n",
       "    </tr>\n",
       "    <tr>\n",
       "      <th>009</th>\n",
       "      <td>2015</td>\n",
       "      <td>[ The Devil on the Roof ]</td>\n",
       "      <td>[&lt;p&gt;&lt;b&gt;tw: &lt;/b&gt;animal death&lt;/p&gt;, &lt;p&gt;&lt;b&gt;Disclai...</td>\n",
       "    </tr>\n",
       "  </tbody>\n",
       "</table>\n",
       "</div>"
      ],
      "text/plain": [
       "         Year                      Title  \\\n",
       "Episode                                    \n",
       "001      2015      [ They Made a Tonic ]   \n",
       "003      2015       [ The Beast Within ]   \n",
       "005      2015     [ Under Construction ]   \n",
       "007      2015           [ In the Woods ]   \n",
       "009      2015  [ The Devil on the Roof ]   \n",
       "\n",
       "                                                      Text  \n",
       "Episode                                                     \n",
       "001      [<p><b>tw: </b>horror, bodily mutilation, bloo...  \n",
       "003      [<p><b>tw: </b>murder, rape, death of children...  \n",
       "005      [<p><b>tw: </b>nothing I can think of! This on...  \n",
       "007      [<p><b>tw: </b>ghosts, suicide, racism (coloni...  \n",
       "009      [<p><b>tw: </b>animal death</p>, <p><b>Disclai...  "
      ]
     },
     "execution_count": 7,
     "metadata": {},
     "output_type": "execute_result"
    }
   ],
   "source": [
    "Lore_df = Lore_df.sort_values(by=['Episode'], ascending=True).set_index('Episode')\n",
    "Lore_df.head()"
   ]
  },
  {
   "cell_type": "code",
   "execution_count": 8,
   "metadata": {},
   "outputs": [
    {
     "data": {
      "text/plain": [
       "['<p><b>tw: </b>horror, bodily mutilation, blood, disease, death, vampires, pseudo-cannibalism </p>',\n",
       " '<p><b>Disclaimer: </b>This transcript is entirely non-profit and fan-made. All credit for this content goes to Aaron Mahnke, creator of Lore podcast. It is by a fan, for fans, and meant to make the content of the podcast more accessible to all. Also, there may be mistakes, despite rigorous re-reading on my part. Feel free to point them out, but please be nice!</p>',\n",
       " '<p>Hollywood is… obsessed. Sure, we often think of obsessions like sex, violence, gigantic robots and of course, epic battles between good and evil. But another obsession of Hollywood is vampires. You have to admit though, that there’s a lot to love about vampires. Immortality, wealth, power, and superhuman abilities such as flight and strength. Yes, they come with trade-offs, such as incredibly bad sunburns, but every movie I’ve seen, and I’ve seen a lot, believe me, tends to show vampires that are fairly happy with their lot in life. My exposure to the world of vampires happened in the late 1990s, when I was in college. A friend of mine recommended the Anne Rice novel, <i>Interview with a Vampire. </i>I devoured that and many of the sequels. They’re fun reads! And they certainly set the tone for a decade or more of vampire-centred entertainment. I won’t touch on the vampires of the Twilight books, mostly because I haven’t read them. But I will say this: those books, however lambasted they have been by critics, have shown that popular culture’s love of all things vampire is as undying as the creatures themselves. I’m Aaron Mahnke, and this is <i>Lore</i>.</p>',\n",
       " '<p>When most people think of vampires, they envision something that is a purely European creature: a foreign accent, Victorian Era dress, and dark manor homes and castles. It’s a common visual language for most of the western world, so I don’t blame bad movies and books for portraying that image, but it’s one small facet of a legend that has hundreds of expressions. The single most prominent historical figure attached to the modern notion of vampires is of course Vlad III of Wallachia, otherwise known as Vlad the Impaler. Vlad was the ruler of a small Eastern European kingdom known as Wallachia. He ruled from 1456 to 1462. He was known as Vlad the Impaler, because he preferred to execute his enemies by impaling them on stakes. The Ottomons called him “Lord Impaler” after entering his kingdom to find forests of impaled victims. Vlad was a violent guy, you see, rather bloodthirsty, you might say. Now he, like his father before him, belonged to something known as the Order of the Dragon, a group established to protect Christian Europe from the invading Ottoman army. Vlad’s father, Vlad II, was known as Vlad Dracul, which meant Vlad the Dragon, from the Order of the Dragon. When Vlad III rose to power he took the hereditary title and was known as Vlad Dracula, the son of the dragon. That name might sound very similar to the most famous vampire story in the world, and that’s because Bram Stoker, when creating his famous creature of the night, used Vlad III as his inspiration. Well, part of it, but we’ll get to that more later.</p>',\n",
       " '<p>The roots of most vampire stories can be traced back to superstitions rooted in ancient cultures all across the world. Western Europe played host to countless stories of reanimated dead known as “revenants”. These were animated corpses which climbed out of the grave to torment the living. The word “revenant” comes from Latin, which means “to come back”. And come back to do what, you might ask? Well, I’m glad you did. At first it was just to terrorise the living, but as the centuries passed the legend became more specific. Revenants were said to return from the grave to torment their living relatives and neighbours. What was key though, was that revenants were specific people, not anonymous zombies of our modern horror genre. These things had a past, and a purpose. Now, in Norse Mythology, we can find stories of creatures known as <i>draugr</i>, “again-walkers”, who would return from the grave and wreak havoc on the living. These creatures possessed superhuman strength, they smelled of decay, and they were reported to be pretty ugly in appearance. They could enter the dreams of the living and while they were doing that, it was said that they left tangible objects near the sleeping victims, so that when they woke up, they would know that their dreams were more real than they feared.</p>',\n",
       " '<p>Let’s go back earlier than the Middles Ages though. The legends of some ancient cultures spoke of creatures that, while not immediately similar to the vampires we know today, nonetheless share many core characteristics. First we have the Greek myth of Empusa, who was the daughter of Hekate. Empusa was said to lure young men, at night, and then feast on their blood, before moving on to the main course, their flesh. Another Greek tale involves Lamia, a mistress of Zeus, who becomes cursed by Zeus’ wife Hera, and is doomed to hunt children, devouring them. Stories of undead creatures, or creatures that feed on the blood of the living, seem nearly as common as written language itself. I mean, even on the small, isolated island of Madagascar, there are legends of a creature known as the Ramanga, which was known to attack nobles, drinking their blood and eating their nail clippings. Yeah, I said nail clippings. Deal with it.</p>',\n",
       " '<p>Are vampires real? I’ll let you make the final decision on that, but what <i>is</i> clear, is that most of these stories find their genesis in the human need to explain the unexplainable. For instance, early Europeans used the myth as a way of explaining why a corpse wasn’t decomposing at the normal rate that they expected. You can see evidence of this in Bulgaria, where graves dating back over 800 years, have been opened, to reveal iron rods that have been driven through the chest of the skeletons. And in a time when it was very common to bury someone that was thought to be dead, only to find out that they weren’t really dead, you can imagine that stories would quickly circulate that the dead were coming back to life. As a result, Taphophobia, the fear of being buried alive, swept Europe and the United States. Now, of course, when medical science caught up, people got more practical. They built alert systems into graves, just in case the person woke up and, you know, wanted out. Now, I realise that being buried alive sounds like a rare occurrence, but it happened frequently enough that many people were sufficiently paranoid about it to actually spend time looking for a solution.</p>',\n",
       " '<p>One of these people happened to be a medical doctor, a man named Adolf Gutsmuth. Now, in 1822, and driven by the fear of being buried alive, he invented a “safety coffin” for his own interment, and then he tested it out himself. Tested it out? You bet! Doctor Gutsmuth allowed himself to be buried underground in his new “safety coffin” for several hours, during which he had meals delivered to him through a feeding tube. He enjoyed a wonderful meal of soup, sausages, and a lovely local beer. Sounds like a great date night destination, doesn’t it? Now, Doctor Timothy Smith of New Haven, Vermont, was another paranoid inventor. He created a grave that can be visited still to this day, if you happen to be passing by Evergreen Cemetery, in Vermont. It was a crypt, buried in the usual manner, but it had a cement tube positioned over the face of the body, and a glass plate was affixed to the top of the tube at ground level. Doctor Smith died a real, natural death, and was buried in his fancy coffin with a view. He never woke up, but early visitors to his grave reported that they had a clear view of his decomposing head, until condensation obscured the glass decades later. Side note: vampires no longer scare me. Waking up inside of a small box buried six feet under the surface of the earth is what true fright looks like to me.</p>',\n",
       " '<p>Now, another culprit in humanity’s use of the vampire label, was porphyria. It was a rare blood disorder, but modern science has pretty much closed the case on that one, saying that it’s too far of a stretch to connect the two topics. Rabies, of all conditions, has also been used as an explanation for the rise of the vampire mythology. Surprisingly there are a lot of commonalities between them, such as a sensitivity to light and garlic, as well as altered sleep patterns. But the most recent medical condition with a strong connection to vampire mythology was actually Tuberculosis. Those who suffer from TB had no vampire-like symptoms though, and that’s what makes this one a harder connection to explain. It’s also, incidentally, where one of my favourite New England legends comes into the picture. Ladies and Gentlemen, meet Mercy Brown.</p>',\n",
       " '<p>Lena Mercy Brown was a young woman who lived in the latter half of the 19<sup>th</sup>century, in the rural town of Exeter, Rhode Island, and she was a major player in what is now known as the “Great New England Vampire Panic”. Stories like hers can be found repeated all across Rhode Island, Massachusetts, New Hampshire, and Vermont, echoed in the lives of others in similar situations. And the results have surprising connections to both the modern idea of vampires, as well as the ancient stories, as we will see. The first person to die in Exeter was Mercy’s mother, Mary Eliza. That was December of 1882, and she fell victim to what was then called “consumption”. Consumption, because, as the disease of Tuberculosis ravaged the body, the person would appear to waste away; consumed, if you will, by the illness. She, of course, was buried, because, well, that’s what you do with a loved one who passes away. The next year though, Mercy’s sister Mary Olive died, at the young age of 20. Same illness, same symptoms, same process. I’m not sure when exactly the people of Exeter, Rhode Island started to wonder if the deaths were connected , but it might have been then, or it might have been a few years later when Mercy’ brother Edwin took ill. Edwin, though, was smart. He packed up and moved across the country to Colorado Springs, which had a great reputation for the healing properties of its dry climate. When he finally returned from the resorts out west, some years later, he was alive, but not doing so well, and in December of 1891, he took a turn for the worst. That was the month that Mercy herself became ill. Her Tuberculosis moved fast. They called it the galloping kind, and it moved through her body quickly, like wildfire. By January, 1892, she was dead, and the people of Exeter were more worried than ever. You see, they suspected something… supernatural.</p>',\n",
       " '<p>Now, this was surprising, considering how close Exeter is to Newport. That’s the seaside city known for the summer cottages of the wealthy, folks like the Vanderbilts, the Asters, the Wideners, the Wetmores. It was the pinnacle of educated society, yet just a handful of miles away, one small town that should have known better, was about to do something very, very creepy.</p>',\n",
       " '<p>Edwin was still alive, you see, and someone got it in their mind that one of the women who died before him, either his mother or one of his sisters, was somehow draining him of his life from beyond the grave. They were so convinced of this, you see, that they wanted to dig them all up. Yes, all of them. Once they received the father’s permission to do this horrible thing, a group of men gathered in the cemetery on the morning of March 17<sup>th</sup>, and began to dig up the bodies. Now, what they were looking for was any evidence at all of an unnatural state. So, blood in the heart, blood around the mouth, or other similar signs. The first body, of Mary Eliza, the mother, was satisfactorily decomposed so they ruled her out. But of course she was, you might say, I mean, she had been dead and buried for a decade. Mary Olive was also in a normal state of decomposition. Again, being dead for ten years usually helps convince people that you’re really dead. But when they examined Mercy’s body, a body that had not been buried because she died in the middle of winter, and so had been put inside of a stone building inside the cemetery that was essentially a walk-in freezer, they discovered a remarkable state of preservation. Shocking, I know. So what did they do? Well, these superstitious folk did what they learnt from their ancestors. They cut out Mercy’s heart and liver, within which they found red, clotted blood, they burned them on a nearby stone, which, by the way, is still there if you ever visit the cemetery, and then, mixed the ashes with a tonic. That tonic was then given to Edwin, to drink. Yeah, Edwin drank his own sister’s liver and heart. Did it work? No, of course it didn’t work. Edwin died less than two months later. What it did do, however, was set up Mercy Brown to be known as the first American vampire.</p>',\n",
       " '<p>As unusual as an event like this must sound, you might be surprised to learn that it happened quite frequently. In 1817, almost a century before Mercy Brown’s exhumation, a Dartmouth college student named Frederick Ransom died of Tuberculosis. His father was so worried that the young man would leave the grave and attack the family, that he asked that he be dug up. Ransom’s heart was cut out, and burnt on a blacksmith’s forge. Even Henry David Thoreau heard tales of these types of events, and he mentioned one in his personal journal. In September 26<sup>th</sup>, 1859, he wrote: “The savage in man is never quite eradicated. I have just read of a family in Vermont who, several of its members having died of consumption, just burnt the lungs, heart and liver of the last deceased, in order to prevent any more from having it.” So of course, word spread about what happened to Mercy Brown, as it usually did when a body was dug up and carved into to pieces like that. Mercy’s case, though, actually made it into a newspaper called <i>The New York World</i>, and it made quite an impression on the people who read it. How do we know? Because a clipping from that article was found in the personal papers of a London stage manager after his death. You see, his theatre company had been touring America in 1892. He evidently read the story, found it inspiring, and saved it. Inspiring so much so, that he sat down a few years later, and wrote a book. Who was this man? His name was Bram Stoker. And the book? Oh, I’m sure you’ve already guessed it by now. It was <i>Dracula</i>, published in 1897.</p>',\n",
       " '<p><i>Lore </i>was produced by me, Aaron Mahnke. You can find a transcript of the show, as well as a bibliography of the source material, at our website, lorepodcast.com. If you enjoy scary stories, I happen to write them. You can find a full list of my supernatural thrillers, available in both paperback and ebook formats, at aaronmahnke.com/novels. Thanks for listening.</p>',\n",
       " '<p><b>Transcriber’s Notes:</b></p>',\n",
       " '<p>(These notes a purely from me, the transcriber, and have nothing to do with the official podcast or Aaron Mahnke).</p>',\n",
       " '<p>1) \\xa0 \\xa0 The word <i>draugr </i>does not in fact mean “after-walker” as the podcast seems to state, and actually derives from a Proto-Indo European word meaning “deceive”. There is, however, a related term <i>aptrgangr</i>, which <i>does </i>mean “again-walker”, and is thought to be pretty much synonymous with <i>draugr</i>.</p>']"
      ]
     },
     "execution_count": 8,
     "metadata": {},
     "output_type": "execute_result"
    }
   ],
   "source": [
    "Lore_df.Text[0]"
   ]
  },
  {
   "cell_type": "code",
   "execution_count": 9,
   "metadata": {},
   "outputs": [
    {
     "data": {
      "text/plain": [
       "'<p>Hollywood is… obsessed. Sure, we often think of obsessions like sex, violence, gigantic robots and of course, epic battles between good and evil. But another obsession of Hollywood is vampires. You have to admit though, that there’s a lot to love about vampires. Immortality, wealth, power, and superhuman abilities such as flight and strength. Yes, they come with trade-offs, such as incredibly bad sunburns, but every movie I’ve seen, and I’ve seen a lot, believe me, tends to show vampires that are fairly happy with their lot in life. My exposure to the world of vampires happened in the late 1990s, when I was in college. A friend of mine recommended the Anne Rice novel, <i>Interview with a Vampire. </i>I devoured that and many of the sequels. They’re fun reads! And they certainly set the tone for a decade or more of vampire-centred entertainment. I won’t touch on the vampires of the Twilight books, mostly because I haven’t read them. But I will say this: those books, however lambasted they have been by critics, have shown that popular culture’s love of all things vampire is as undying as the creatures themselves. I’m Aaron Mahnke, and this is <i>Lore</i>.</p>  <p>When most people think of vampires, they envision something that is a purely European creature: a foreign accent, Victorian Era dress, and dark manor homes and castles. It’s a common visual language for most of the western world, so I don’t blame bad movies and books for portraying that image, but it’s one small facet of a legend that has hundreds of expressions. The single most prominent historical figure attached to the modern notion of vampires is of course Vlad III of Wallachia, otherwise known as Vlad the Impaler. Vlad was the ruler of a small Eastern European kingdom known as Wallachia. He ruled from 1456 to 1462. He was known as Vlad the Impaler, because he preferred to execute his enemies by impaling them on stakes. The Ottomons called him “Lord Impaler” after entering his kingdom to find forests of impaled victims. Vlad was a violent guy, you see, rather bloodthirsty, you might say. Now he, like his father before him, belonged to something known as the Order of the Dragon, a group established to protect Christian Europe from the invading Ottoman army. Vlad’s father, Vlad II, was known as Vlad Dracul, which meant Vlad the Dragon, from the Order of the Dragon. When Vlad III rose to power he took the hereditary title and was known as Vlad Dracula, the son of the dragon. That name might sound very similar to the most famous vampire story in the world, and that’s because Bram Stoker, when creating his famous creature of the night, used Vlad III as his inspiration. Well, part of it, but we’ll get to that more later.</p>  <p>The roots of most vampire stories can be traced back to superstitions rooted in ancient cultures all across the world. Western Europe played host to countless stories of reanimated dead known as “revenants”. These were animated corpses which climbed out of the grave to torment the living. The word “revenant” comes from Latin, which means “to come back”. And come back to do what, you might ask? Well, I’m glad you did. At first it was just to terrorise the living, but as the centuries passed the legend became more specific. Revenants were said to return from the grave to torment their living relatives and neighbours. What was key though, was that revenants were specific people, not anonymous zombies of our modern horror genre. These things had a past, and a purpose. Now, in Norse Mythology, we can find stories of creatures known as <i>draugr</i>, “again-walkers”, who would return from the grave and wreak havoc on the living. These creatures possessed superhuman strength, they smelled of decay, and they were reported to be pretty ugly in appearance. They could enter the dreams of the living and while they were doing that, it was said that they left tangible objects near the sleeping victims, so that when they woke up, they would know that their dreams were more real than they feared.</p>  <p>Let’s go back earlier than the Middles Ages though. The legends of some ancient cultures spoke of creatures that, while not immediately similar to the vampires we know today, nonetheless share many core characteristics. First we have the Greek myth of Empusa, who was the daughter of Hekate. Empusa was said to lure young men, at night, and then feast on their blood, before moving on to the main course, their flesh. Another Greek tale involves Lamia, a mistress of Zeus, who becomes cursed by Zeus’ wife Hera, and is doomed to hunt children, devouring them. Stories of undead creatures, or creatures that feed on the blood of the living, seem nearly as common as written language itself. I mean, even on the small, isolated island of Madagascar, there are legends of a creature known as the Ramanga, which was known to attack nobles, drinking their blood and eating their nail clippings. Yeah, I said nail clippings. Deal with it.</p>  <p>Are vampires real? I’ll let you make the final decision on that, but what <i>is</i> clear, is that most of these stories find their genesis in the human need to explain the unexplainable. For instance, early Europeans used the myth as a way of explaining why a corpse wasn’t decomposing at the normal rate that they expected. You can see evidence of this in Bulgaria, where graves dating back over 800 years, have been opened, to reveal iron rods that have been driven through the chest of the skeletons. And in a time when it was very common to bury someone that was thought to be dead, only to find out that they weren’t really dead, you can imagine that stories would quickly circulate that the dead were coming back to life. As a result, Taphophobia, the fear of being buried alive, swept Europe and the United States. Now, of course, when medical science caught up, people got more practical. They built alert systems into graves, just in case the person woke up and, you know, wanted out. Now, I realise that being buried alive sounds like a rare occurrence, but it happened frequently enough that many people were sufficiently paranoid about it to actually spend time looking for a solution.</p>  <p>One of these people happened to be a medical doctor, a man named Adolf Gutsmuth. Now, in 1822, and driven by the fear of being buried alive, he invented a “safety coffin” for his own interment, and then he tested it out himself. Tested it out? You bet! Doctor Gutsmuth allowed himself to be buried underground in his new “safety coffin” for several hours, during which he had meals delivered to him through a feeding tube. He enjoyed a wonderful meal of soup, sausages, and a lovely local beer. Sounds like a great date night destination, doesn’t it? Now, Doctor Timothy Smith of New Haven, Vermont, was another paranoid inventor. He created a grave that can be visited still to this day, if you happen to be passing by Evergreen Cemetery, in Vermont. It was a crypt, buried in the usual manner, but it had a cement tube positioned over the face of the body, and a glass plate was affixed to the top of the tube at ground level. Doctor Smith died a real, natural death, and was buried in his fancy coffin with a view. He never woke up, but early visitors to his grave reported that they had a clear view of his decomposing head, until condensation obscured the glass decades later. Side note: vampires no longer scare me. Waking up inside of a small box buried six feet under the surface of the earth is what true fright looks like to me.</p>  <p>Now, another culprit in humanity’s use of the vampire label, was porphyria. It was a rare blood disorder, but modern science has pretty much closed the case on that one, saying that it’s too far of a stretch to connect the two topics. Rabies, of all conditions, has also been used as an explanation for the rise of the vampire mythology. Surprisingly there are a lot of commonalities between them, such as a sensitivity to light and garlic, as well as altered sleep patterns. But the most recent medical condition with a strong connection to vampire mythology was actually Tuberculosis. Those who suffer from TB had no vampire-like symptoms though, and that’s what makes this one a harder connection to explain. It’s also, incidentally, where one of my favourite New England legends comes into the picture. Ladies and Gentlemen, meet Mercy Brown.</p>  <p>Lena Mercy Brown was a young woman who lived in the latter half of the 19<sup>th</sup>century, in the rural town of Exeter, Rhode Island, and she was a major player in what is now known as the “Great New England Vampire Panic”. Stories like hers can be found repeated all across Rhode Island, Massachusetts, New Hampshire, and Vermont, echoed in the lives of others in similar situations. And the results have surprising connections to both the modern idea of vampires, as well as the ancient stories, as we will see. The first person to die in Exeter was Mercy’s mother, Mary Eliza. That was December of 1882, and she fell victim to what was then called “consumption”. Consumption, because, as the disease of Tuberculosis ravaged the body, the person would appear to waste away; consumed, if you will, by the illness. She, of course, was buried, because, well, that’s what you do with a loved one who passes away. The next year though, Mercy’s sister Mary Olive died, at the young age of 20. Same illness, same symptoms, same process. I’m not sure when exactly the people of Exeter, Rhode Island started to wonder if the deaths were connected , but it might have been then, or it might have been a few years later when Mercy’ brother Edwin took ill. Edwin, though, was smart. He packed up and moved across the country to Colorado Springs, which had a great reputation for the healing properties of its dry climate. When he finally returned from the resorts out west, some years later, he was alive, but not doing so well, and in December of 1891, he took a turn for the worst. That was the month that Mercy herself became ill. Her Tuberculosis moved fast. They called it the galloping kind, and it moved through her body quickly, like wildfire. By January, 1892, she was dead, and the people of Exeter were more worried than ever. You see, they suspected something… supernatural.</p>  <p>Now, this was surprising, considering how close Exeter is to Newport. That’s the seaside city known for the summer cottages of the wealthy, folks like the Vanderbilts, the Asters, the Wideners, the Wetmores. It was the pinnacle of educated society, yet just a handful of miles away, one small town that should have known better, was about to do something very, very creepy.</p>  <p>Edwin was still alive, you see, and someone got it in their mind that one of the women who died before him, either his mother or one of his sisters, was somehow draining him of his life from beyond the grave. They were so convinced of this, you see, that they wanted to dig them all up. Yes, all of them. Once they received the father’s permission to do this horrible thing, a group of men gathered in the cemetery on the morning of March 17<sup>th</sup>, and began to dig up the bodies. Now, what they were looking for was any evidence at all of an unnatural state. So, blood in the heart, blood around the mouth, or other similar signs. The first body, of Mary Eliza, the mother, was satisfactorily decomposed so they ruled her out. But of course she was, you might say, I mean, she had been dead and buried for a decade. Mary Olive was also in a normal state of decomposition. Again, being dead for ten years usually helps convince people that you’re really dead. But when they examined Mercy’s body, a body that had not been buried because she died in the middle of winter, and so had been put inside of a stone building inside the cemetery that was essentially a walk-in freezer, they discovered a remarkable state of preservation. Shocking, I know. So what did they do? Well, these superstitious folk did what they learnt from their ancestors. They cut out Mercy’s heart and liver, within which they found red, clotted blood, they burned them on a nearby stone, which, by the way, is still there if you ever visit the cemetery, and then, mixed the ashes with a tonic. That tonic was then given to Edwin, to drink. Yeah, Edwin drank his own sister’s liver and heart. Did it work? No, of course it didn’t work. Edwin died less than two months later. What it did do, however, was set up Mercy Brown to be known as the first American vampire.</p>  <p>As unusual as an event like this must sound, you might be surprised to learn that it happened quite frequently. In 1817, almost a century before Mercy Brown’s exhumation, a Dartmouth college student named Frederick Ransom died of Tuberculosis. His father was so worried that the young man would leave the grave and attack the family, that he asked that he be dug up. Ransom’s heart was cut out, and burnt on a blacksmith’s forge. Even Henry David Thoreau heard tales of these types of events, and he mentioned one in his personal journal. In September 26<sup>th</sup>, 1859, he wrote: “The savage in man is never quite eradicated. I have just read of a family in Vermont who, several of its members having died of consumption, just burnt the lungs, heart and liver of the last deceased, in order to prevent any more from having it.” So of course, word spread about what happened to Mercy Brown, as it usually did when a body was dug up and carved into to pieces like that. Mercy’s case, though, actually made it into a newspaper called <i>The New York World</i>, and it made quite an impression on the people who read it. How do we know? Because a clipping from that article was found in the personal papers of a London stage manager after his death. You see, his theatre company had been touring America in 1892. He evidently read the story, found it inspiring, and saved it. Inspiring so much so, that he sat down a few years later, and wrote a book. Who was this man? His name was Bram Stoker. And the book? Oh, I’m sure you’ve already guessed it by now. It was <i>Dracula</i>, published in 1897.</p>  <p><i>Lore </i>was produced by me, Aaron Mahnke. You can find a transcript of the show, as well as a bibliography of the source material, at our website, lorepodcast.com. If you enjoy scary stories, I happen to write them. You can find a full list of my supernatural thrillers, available in both paperback and ebook formats, at aaronmahnke.com/novels. Thanks for listening.</p>  <p><b>Transcriber’s Notes:</b></p>'"
      ]
     },
     "execution_count": 9,
     "metadata": {},
     "output_type": "execute_result"
    }
   ],
   "source": [
    "# First two and last two paragraphs aren't from podcast.  They were written by the transcriber.  Get rid of 'em!\n",
    "Lore_df['Text'] = Lore_df.Text.map(lambda t: '  '.join(t[2:-2]))\n",
    "Lore_df.Text[0]"
   ]
  },
  {
   "cell_type": "code",
   "execution_count": 19,
   "metadata": {},
   "outputs": [
    {
     "data": {
      "text/plain": [
       "'Hollywood is… obsessed. Sure, we often think of obsessions like sex, violence, gigantic robots and of course, epic battles between good and evil. But another obsession of Hollywood is vampires. You have to admit though, that there’s a lot to love about vampires. Immortality, wealth, power, and superhuman abilities such as flight and strength. Yes, they come with trade-offs, such as incredibly bad sunburns, but every movie I’ve seen, and I’ve seen a lot, believe me, tends to show vampires that are fairly happy with their lot in life. My exposure to the world of vampires happened in the late 1990s, when I was in college. A friend of mine recommended the Anne Rice novel, Interview with a Vampire. I devoured that and many of the sequels. They’re fun reads! And they certainly set the tone for a decade or more of vampire-centred entertainment. I won’t touch on the vampires of the Twilight books, mostly because I haven’t read them. But I will say this: those books, however lambasted they have been by critics, have shown that popular culture’s love of all things vampire is as undying as the creatures themselves. I’m Aaron Mahnke, and this is   When most people think of vampires, they envision something that is a purely European creature: a foreign accent, Victorian Era dress, and dark manor homes and castles. It’s a common visual language for most of the western world, so I don’t blame bad movies and books for portraying that image, but it’s one small facet of a legend that has hundreds of expressions. The single most prominent historical figure attached to the modern notion of vampires is of course Vlad III of Wallachia, otherwise known as Vlad the Impaler. Vlad was the ruler of a small Eastern European kingdom known as Wallachia. He ruled from 1456 to 1462. He was known as Vlad the Impaler, because he preferred to execute his enemies by impaling them on stakes. The Ottomons called him “Lord Impaler” after entering his kingdom to find forests of impaled victims. Vlad was a violent guy, you see, rather bloodthirsty, you might say. Now he, like his father before him, belonged to something known as the Order of the Dragon, a group established to protect Christian Europe from the invading Ottoman army. Vlad’s father, Vlad II, was known as Vlad Dracul, which meant Vlad the Dragon, from the Order of the Dragon. When Vlad III rose to power he took the hereditary title and was known as Vlad Dracula, the son of the dragon. That name might sound very similar to the most famous vampire story in the world, and that’s because Bram Stoker, when creating his famous creature of the night, used Vlad III as his inspiration. Well, part of it, but we’ll get to that more later.  The roots of most vampire stories can be traced back to superstitions rooted in ancient cultures all across the world. Western Europe played host to countless stories of reanimated dead known as “revenants”. These were animated corpses which climbed out of the grave to torment the living. The word “revenant” comes from Latin, which means “to come back”. And come back to do what, you might ask? Well, I’m glad you did. At first it was just to terrorise the living, but as the centuries passed the legend became more specific. Revenants were said to return from the grave to torment their living relatives and neighbours. What was key though, was that revenants were specific people, not anonymous zombies of our modern horror genre. These things had a past, and a purpose. Now, in Norse Mythology, we can find stories of creatures known as , “again-walkers”, who would return from the grave and wreak havoc on the living. These creatures possessed superhuman strength, they smelled of decay, and they were reported to be pretty ugly in appearance. They could enter the dreams of the living and while they were doing that, it was said that they left tangible objects near the sleeping victims, so that when they woke up, they would know that their dreams were more real than they feared.  Let’s go back earlier than the Middles Ages though. The legends of some ancient cultures spoke of creatures that, while not immediately similar to the vampires we know today, nonetheless share many core characteristics. First we have the Greek myth of Empusa, who was the daughter of Hekate. Empusa was said to lure young men, at night, and then feast on their blood, before moving on to the main course, their flesh. Another Greek tale involves Lamia, a mistress of Zeus, who becomes cursed by Zeus’ wife Hera, and is doomed to hunt children, devouring them. Stories of undead creatures, or creatures that feed on the blood of the living, seem nearly as common as written language itself. I mean, even on the small, isolated island of Madagascar, there are legends of a creature known as the Ramanga, which was known to attack nobles, drinking their blood and eating their nail clippings. Yeah, I said nail clippings. Deal with it.  Are vampires real? I’ll let you make the final decision on that, but what  clear, is that most of these stories find their genesis in the human need to explain the unexplainable. For instance, early Europeans used the myth as a way of explaining why a corpse wasn’t decomposing at the normal rate that they expected. You can see evidence of this in Bulgaria, where graves dating back over 800 years, have been opened, to reveal iron rods that have been driven through the chest of the skeletons. And in a time when it was very common to bury someone that was thought to be dead, only to find out that they weren’t really dead, you can imagine that stories would quickly circulate that the dead were coming back to life. As a result, Taphophobia, the fear of being buried alive, swept Europe and the United States. Now, of course, when medical science caught up, people got more practical. They built alert systems into graves, just in case the person woke up and, you know, wanted out. Now, I realise that being buried alive sounds like a rare occurrence, but it happened frequently enough that many people were sufficiently paranoid about it to actually spend time looking for a solution.  One of these people happened to be a medical doctor, a man named Adolf Gutsmuth. Now, in 1822, and driven by the fear of being buried alive, he invented a “safety coffin” for his own interment, and then he tested it out himself. Tested it out? You bet! Doctor Gutsmuth allowed himself to be buried underground in his new “safety coffin” for several hours, during which he had meals delivered to him through a feeding tube. He enjoyed a wonderful meal of soup, sausages, and a lovely local beer. Sounds like a great date night destination, doesn’t it? Now, Doctor Timothy Smith of New Haven, Vermont, was another paranoid inventor. He created a grave that can be visited still to this day, if you happen to be passing by Evergreen Cemetery, in Vermont. It was a crypt, buried in the usual manner, but it had a cement tube positioned over the face of the body, and a glass plate was affixed to the top of the tube at ground level. Doctor Smith died a real, natural death, and was buried in his fancy coffin with a view. He never woke up, but early visitors to his grave reported that they had a clear view of his decomposing head, until condensation obscured the glass decades later. Side note: vampires no longer scare me. Waking up inside of a small box buried six feet under the surface of the earth is what true fright looks like to me.  Now, another culprit in humanity’s use of the vampire label, was porphyria. It was a rare blood disorder, but modern science has pretty much closed the case on that one, saying that it’s too far of a stretch to connect the two topics. Rabies, of all conditions, has also been used as an explanation for the rise of the vampire mythology. Surprisingly there are a lot of commonalities between them, such as a sensitivity to light and garlic, as well as altered sleep patterns. But the most recent medical condition with a strong connection to vampire mythology was actually Tuberculosis. Those who suffer from TB had no vampire-like symptoms though, and that’s what makes this one a harder connection to explain. It’s also, incidentally, where one of my favourite New England legends comes into the picture. Ladies and Gentlemen, meet Mercy Brown.  Lena Mercy Brown was a young woman who lived in the latter half of the 19century, in the rural town of Exeter, Rhode Island, and she was a major player in what is now known as the “Great New England Vampire Panic”. Stories like hers can be found repeated all across Rhode Island, Massachusetts, New Hampshire, and Vermont, echoed in the lives of others in similar situations. And the results have surprising connections to both the modern idea of vampires, as well as the ancient stories, as we will see. The first person to die in Exeter was Mercy’s mother, Mary Eliza. That was December of 1882, and she fell victim to what was then called “consumption”. Consumption, because, as the disease of Tuberculosis ravaged the body, the person would appear to waste away; consumed, if you will, by the illness. She, of course, was buried, because, well, that’s what you do with a loved one who passes away. The next year though, Mercy’s sister Mary Olive died, at the young age of 20. Same illness, same symptoms, same process. I’m not sure when exactly the people of Exeter, Rhode Island started to wonder if the deaths were connected , but it might have been then, or it might have been a few years later when Mercy’ brother Edwin took ill. Edwin, though, was smart. He packed up and moved across the country to Colorado Springs, which had a great reputation for the healing properties of its dry climate. When he finally returned from the resorts out west, some years later, he was alive, but not doing so well, and in December of 1891, he took a turn for the worst. That was the month that Mercy herself became ill. Her Tuberculosis moved fast. They called it the galloping kind, and it moved through her body quickly, like wildfire. By January, 1892, she was dead, and the people of Exeter were more worried than ever. You see, they suspected something… supernatural.  Now, this was surprising, considering how close Exeter is to Newport. That’s the seaside city known for the summer cottages of the wealthy, folks like the Vanderbilts, the Asters, the Wideners, the Wetmores. It was the pinnacle of educated society, yet just a handful of miles away, one small town that should have known better, was about to do something very, very creepy.  Edwin was still alive, you see, and someone got it in their mind that one of the women who died before him, either his mother or one of his sisters, was somehow draining him of his life from beyond the grave. They were so convinced of this, you see, that they wanted to dig them all up. Yes, all of them. Once they received the father’s permission to do this horrible thing, a group of men gathered in the cemetery on the morning of March 17, and began to dig up the bodies. Now, what they were looking for was any evidence at all of an unnatural state. So, blood in the heart, blood around the mouth, or other similar signs. The first body, of Mary Eliza, the mother, was satisfactorily decomposed so they ruled her out. But of course she was, you might say, I mean, she had been dead and buried for a decade. Mary Olive was also in a normal state of decomposition. Again, being dead for ten years usually helps convince people that you’re really dead. But when they examined Mercy’s body, a body that had not been buried because she died in the middle of winter, and so had been put inside of a stone building inside the cemetery that was essentially a walk-in freezer, they discovered a remarkable state of preservation. Shocking, I know. So what did they do? Well, these superstitious folk did what they learnt from their ancestors. They cut out Mercy’s heart and liver, within which they found red, clotted blood, they burned them on a nearby stone, which, by the way, is still there if you ever visit the cemetery, and then, mixed the ashes with a tonic. That tonic was then given to Edwin, to drink. Yeah, Edwin drank his own sister’s liver and heart. Did it work? No, of course it didn’t work. Edwin died less than two months later. What it did do, however, was set up Mercy Brown to be known as the first American vampire.  As unusual as an event like this must sound, you might be surprised to learn that it happened quite frequently. In 1817, almost a century before Mercy Brown’s exhumation, a Dartmouth college student named Frederick Ransom died of Tuberculosis. His father was so worried that the young man would leave the grave and attack the family, that he asked that he be dug up. Ransom’s heart was cut out, and burnt on a blacksmith’s forge. Even Henry David Thoreau heard tales of these types of events, and he mentioned one in his personal journal. In September 26, 1859, he wrote: “The savage in man is never quite eradicated. I have just read of a family in Vermont who, several of its members having died of consumption, just burnt the lungs, heart and liver of the last deceased, in order to prevent any more from having it.” So of course, word spread about what happened to Mercy Brown, as it usually did when a body was dug up and carved into to pieces like that. Mercy’s case, though, actually made it into a newspaper called The New York World, and it made quite an impression on the people who read it. How do we know? Because a clipping from that article was found in the personal papers of a London stage manager after his death. You see, his theatre company had been touring America in 1892. He evidently read the story, found it inspiring, and saved it. Inspiring so much so, that he sat down a few years later, and wrote a book. Who was this man? His name was Bram Stoker. And the book? Oh, I’m sure you’ve already guessed it by now. It was , published in 1897.  Lore was produced by me, Aaron Mahnke. You can find a transcript of the show, as well as a bibliography of the source material, at our website, lorepodcast.com. If you enjoy scary stories, I happen to write them. You can find a full list of my supernatural thrillers, available in both paperback and ebook formats, at aaronmahnke.com/novels. Thanks for listening.  Transcriber’s Notes:'"
      ]
     },
     "execution_count": 19,
     "metadata": {},
     "output_type": "execute_result"
    }
   ],
   "source": [
    "# Use regex to get rid of the html element tags\n",
    "import re\n",
    "\n",
    "Lore_df['Text'] = Lore_df.Text.map(lambda t: re.sub(r'<\\S+>', '', t))\n",
    "Lore_df.Text[0]"
   ]
  },
  {
   "cell_type": "markdown",
   "metadata": {},
   "source": [
    "One last weird thing with the title, then ready for processing!"
   ]
  },
  {
   "cell_type": "code",
   "execution_count": 21,
   "metadata": {},
   "outputs": [
    {
     "data": {
      "text/plain": [
       "list"
      ]
     },
     "execution_count": 21,
     "metadata": {},
     "output_type": "execute_result"
    }
   ],
   "source": [
    "type(Lore_df.Title[0])"
   ]
  },
  {
   "cell_type": "code",
   "execution_count": 22,
   "metadata": {},
   "outputs": [],
   "source": [
    "Lore_df['Title'] = Lore_df.Title.map(lambda t: t[0])"
   ]
  },
  {
   "cell_type": "code",
   "execution_count": 23,
   "metadata": {},
   "outputs": [
    {
     "data": {
      "text/html": [
       "<div>\n",
       "<style scoped>\n",
       "    .dataframe tbody tr th:only-of-type {\n",
       "        vertical-align: middle;\n",
       "    }\n",
       "\n",
       "    .dataframe tbody tr th {\n",
       "        vertical-align: top;\n",
       "    }\n",
       "\n",
       "    .dataframe thead th {\n",
       "        text-align: right;\n",
       "    }\n",
       "</style>\n",
       "<table border=\"1\" class=\"dataframe\">\n",
       "  <thead>\n",
       "    <tr style=\"text-align: right;\">\n",
       "      <th></th>\n",
       "      <th>Year</th>\n",
       "      <th>Title</th>\n",
       "      <th>Text</th>\n",
       "    </tr>\n",
       "    <tr>\n",
       "      <th>Episode</th>\n",
       "      <th></th>\n",
       "      <th></th>\n",
       "      <th></th>\n",
       "    </tr>\n",
       "  </thead>\n",
       "  <tbody>\n",
       "    <tr>\n",
       "      <th>001</th>\n",
       "      <td>2015</td>\n",
       "      <td>They Made a Tonic</td>\n",
       "      <td>Hollywood is… obsessed. Sure, we often think o...</td>\n",
       "    </tr>\n",
       "    <tr>\n",
       "      <th>003</th>\n",
       "      <td>2015</td>\n",
       "      <td>The Beast Within</td>\n",
       "      <td>Ask anyone in the mental health profession abo...</td>\n",
       "    </tr>\n",
       "    <tr>\n",
       "      <th>005</th>\n",
       "      <td>2015</td>\n",
       "      <td>Under Construction</td>\n",
       "      <td>On the south-west corner of Iceland, just to t...</td>\n",
       "    </tr>\n",
       "    <tr>\n",
       "      <th>007</th>\n",
       "      <td>2015</td>\n",
       "      <td>In the Woods</td>\n",
       "      <td>Nothing can be as isolating or confining as th...</td>\n",
       "    </tr>\n",
       "    <tr>\n",
       "      <th>009</th>\n",
       "      <td>2015</td>\n",
       "      <td>The Devil on the Roof</td>\n",
       "      <td>In March of 2014, a hiker in Lithuania stumble...</td>\n",
       "    </tr>\n",
       "  </tbody>\n",
       "</table>\n",
       "</div>"
      ],
      "text/plain": [
       "         Year                    Title  \\\n",
       "Episode                                  \n",
       "001      2015       They Made a Tonic    \n",
       "003      2015        The Beast Within    \n",
       "005      2015      Under Construction    \n",
       "007      2015            In the Woods    \n",
       "009      2015   The Devil on the Roof    \n",
       "\n",
       "                                                      Text  \n",
       "Episode                                                     \n",
       "001      Hollywood is… obsessed. Sure, we often think o...  \n",
       "003      Ask anyone in the mental health profession abo...  \n",
       "005      On the south-west corner of Iceland, just to t...  \n",
       "007      Nothing can be as isolating or confining as th...  \n",
       "009      In March of 2014, a hiker in Lithuania stumble...  "
      ]
     },
     "execution_count": 23,
     "metadata": {},
     "output_type": "execute_result"
    }
   ],
   "source": [
    "Lore_df.head()"
   ]
  },
  {
   "cell_type": "code",
   "execution_count": 12,
   "metadata": {},
   "outputs": [],
   "source": [
    "# path = '../data_samples/Lore.csv'\n",
    "# Lore_df.to_csv(path_or_buf=path)"
   ]
  }
 ],
 "metadata": {
  "kernelspec": {
   "display_name": "Python 3",
   "language": "python",
   "name": "python3"
  },
  "language_info": {
   "codemirror_mode": {
    "name": "ipython",
    "version": 3
   },
   "file_extension": ".py",
   "mimetype": "text/x-python",
   "name": "python",
   "nbconvert_exporter": "python",
   "pygments_lexer": "ipython3",
   "version": "3.8.5"
  }
 },
 "nbformat": 4,
 "nbformat_minor": 4
}
