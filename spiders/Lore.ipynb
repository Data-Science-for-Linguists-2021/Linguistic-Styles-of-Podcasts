{
 "cells": [
  {
   "cell_type": "code",
   "execution_count": 1,
   "metadata": {},
   "outputs": [],
   "source": [
    "import scrapy\n",
    "from scrapy.crawler import CrawlerProcess\n",
    "import re"
   ]
  },
  {
   "cell_type": "code",
   "execution_count": 2,
   "metadata": {},
   "outputs": [],
   "source": [
    "Lore_data = []"
   ]
  },
  {
   "cell_type": "code",
   "execution_count": 3,
   "metadata": {},
   "outputs": [],
   "source": [
    "# parses transcript links\n",
    "class Lore(scrapy.Spider):\n",
    "    name = 'Lore'\n",
    "    \n",
    "    def start_requests(self):\n",
    "        url = 'https://loretranscripts.tumblr.com/page/2'\n",
    "        # print(urls) # Urls are correct\n",
    "        yield scrapy.Request(url=url, callback=self.parse_episode)\n",
    "        \n",
    "    def parse_episode(self, response):\n",
    "        transcript_links = response.css(' div.entry > ul >li > a::attr(href)').extract() \n",
    "        # print([l for l in transcript_links])\n",
    "        for link in transcript_links:\n",
    "            yield response.follow(url=link, \n",
    "                                  callback =self.parse_transcript)\n",
    "    \n",
    "    def parse_transcript(self, response):  \n",
    "        current_ep = []\n",
    "        # Title - done, clean\n",
    "        title = response.css(' div.entry > h1::text').extract()[0].split('Lore Episode ')[1]\n",
    "        \n",
    "        ep_number = re.findall(r'\\d+', title)[0] # Not ideal re, but works\n",
    "        while len(ep_number) < 3:\n",
    "            ep_number = '0' + ep_number\n",
    "        current_ep.append(ep_number)\n",
    "        \n",
    "        ep_year = re.findall(r'\\d+', title)[-1] # Not ideal re, but it works\n",
    "        current_ep.append(ep_year)\n",
    "        \n",
    "        ep_title = re.findall(r'[^\\d*:].+?(?=\\(Transcript\\))', title)\n",
    "        current_ep.append(ep_title)\n",
    "        \n",
    "        \n",
    "        text = response.css(' div.entry > p').extract()\n",
    "        current_ep.append(text)\n",
    "        \n",
    "        Lore_data.append(current_ep)\n",
    "        "
   ]
  },
  {
   "cell_type": "code",
   "execution_count": 4,
   "metadata": {},
   "outputs": [
    {
     "name": "stderr",
     "output_type": "stream",
     "text": [
      "2021-03-22 21:48:33 [scrapy.utils.log] INFO: Scrapy 2.4.1 started (bot: scrapybot)\n",
      "2021-03-22 21:48:33 [scrapy.utils.log] INFO: Versions: lxml 4.6.1.0, libxml2 2.9.10, cssselect 1.1.0, parsel 1.6.0, w3lib 1.22.0, Twisted 20.3.0, Python 3.8.5 (default, Sep  3 2020, 21:29:08) [MSC v.1916 64 bit (AMD64)], pyOpenSSL 19.1.0 (OpenSSL 1.1.1h  22 Sep 2020), cryptography 3.1.1, Platform Windows-10-10.0.19041-SP0\n",
      "2021-03-22 21:48:33 [scrapy.utils.log] DEBUG: Using reactor: twisted.internet.selectreactor.SelectReactor\n",
      "2021-03-22 21:48:33 [scrapy.crawler] INFO: Overridden settings:\n",
      "{}\n",
      "2021-03-22 21:48:33 [scrapy.extensions.telnet] INFO: Telnet Password: 151f51f7b1d2a905\n",
      "2021-03-22 21:48:33 [scrapy.middleware] INFO: Enabled extensions:\n",
      "['scrapy.extensions.corestats.CoreStats',\n",
      " 'scrapy.extensions.telnet.TelnetConsole',\n",
      " 'scrapy.extensions.logstats.LogStats']\n",
      "2021-03-22 21:48:33 [scrapy.middleware] INFO: Enabled downloader middlewares:\n",
      "['scrapy.downloadermiddlewares.httpauth.HttpAuthMiddleware',\n",
      " 'scrapy.downloadermiddlewares.downloadtimeout.DownloadTimeoutMiddleware',\n",
      " 'scrapy.downloadermiddlewares.defaultheaders.DefaultHeadersMiddleware',\n",
      " 'scrapy.downloadermiddlewares.useragent.UserAgentMiddleware',\n",
      " 'scrapy.downloadermiddlewares.retry.RetryMiddleware',\n",
      " 'scrapy.downloadermiddlewares.redirect.MetaRefreshMiddleware',\n",
      " 'scrapy.downloadermiddlewares.httpcompression.HttpCompressionMiddleware',\n",
      " 'scrapy.downloadermiddlewares.redirect.RedirectMiddleware',\n",
      " 'scrapy.downloadermiddlewares.cookies.CookiesMiddleware',\n",
      " 'scrapy.downloadermiddlewares.httpproxy.HttpProxyMiddleware',\n",
      " 'scrapy.downloadermiddlewares.stats.DownloaderStats']\n",
      "2021-03-22 21:48:33 [scrapy.middleware] INFO: Enabled spider middlewares:\n",
      "['scrapy.spidermiddlewares.httperror.HttpErrorMiddleware',\n",
      " 'scrapy.spidermiddlewares.offsite.OffsiteMiddleware',\n",
      " 'scrapy.spidermiddlewares.referer.RefererMiddleware',\n",
      " 'scrapy.spidermiddlewares.urllength.UrlLengthMiddleware',\n",
      " 'scrapy.spidermiddlewares.depth.DepthMiddleware']\n",
      "2021-03-22 21:48:33 [scrapy.middleware] INFO: Enabled item pipelines:\n",
      "[]\n",
      "2021-03-22 21:48:33 [scrapy.core.engine] INFO: Spider opened\n",
      "2021-03-22 21:48:33 [scrapy.extensions.logstats] INFO: Crawled 0 pages (at 0 pages/min), scraped 0 items (at 0 items/min)\n",
      "2021-03-22 21:48:33 [scrapy.extensions.telnet] INFO: Telnet console listening on 127.0.0.1:6023\n",
      "2021-03-22 21:48:35 [scrapy.core.engine] DEBUG: Crawled (200) <GET https://loretranscripts.tumblr.com/page/2> (referer: None)\n",
      "2021-03-22 21:48:35 [scrapy.dupefilters] DEBUG: Filtered duplicate request: <GET https://loretranscripts.tumblr.com/post/186003836743/lore-episode-24-a-stranger-among-us-transcript> - no more duplicates will be shown (see DUPEFILTER_DEBUG to show all duplicates)\n",
      "2021-03-22 21:48:35 [scrapy.core.engine] DEBUG: Crawled (200) <GET https://loretranscripts.tumblr.com/post/189718242988/lore-episode-130-in-plain-sight-transcript> (referer: https://loretranscripts.tumblr.com/page/2)\n",
      "2021-03-22 21:48:35 [scrapy.core.engine] DEBUG: Crawled (200) <GET https://loretranscripts.tumblr.com/post/186003836743/lore-episode-24-a-stranger-among-us-transcript> (referer: https://loretranscripts.tumblr.com/page/2)\n",
      "2021-03-22 21:48:35 [scrapy.core.engine] DEBUG: Crawled (200) <GET https://loretranscripts.tumblr.com/post/183962669703/lore-episode-14-the-others-transcript-7th> (referer: https://loretranscripts.tumblr.com/page/2)\n",
      "2021-03-22 21:48:36 [scrapy.core.engine] DEBUG: Crawled (200) <GET https://loretranscripts.tumblr.com/post/187000687978/lore-episode-30-deep-and-twisted-roots> (referer: https://loretranscripts.tumblr.com/page/2)\n",
      "2021-03-22 21:48:36 [scrapy.core.engine] DEBUG: Crawled (200) <GET https://loretranscripts.tumblr.com/post/183862571628/lore-episode-9-the-devil-on-the-roof-transcript> (referer: https://loretranscripts.tumblr.com/page/2)\n",
      "2021-03-22 21:48:36 [scrapy.core.engine] DEBUG: Crawled (200) <GET https://loretranscripts.tumblr.com/post/183822621973/lore-episode-7-in-the-woods-transcript-1st> (referer: https://loretranscripts.tumblr.com/page/2)\n",
      "2021-03-22 21:48:36 [scrapy.core.engine] DEBUG: Crawled (200) <GET https://loretranscripts.tumblr.com/post/184713658938/lore-episode-19-bite-marks-transcript-26th> (referer: https://loretranscripts.tumblr.com/page/2)\n",
      "2021-03-22 21:48:36 [scrapy.core.engine] DEBUG: Crawled (200) <GET https://loretranscripts.tumblr.com/post/189194562933/lore-episode-32-tampered-transcript-18th> (referer: https://loretranscripts.tumblr.com/page/2)\n",
      "2021-03-22 21:48:36 [scrapy.core.engine] DEBUG: Crawled (200) <GET https://loretranscripts.tumblr.com/post/186399316653/lore-episode-26-brought-back-transcript-25th> (referer: https://loretranscripts.tumblr.com/page/2)\n",
      "2021-03-22 21:48:36 [scrapy.core.engine] DEBUG: Crawled (200) <GET https://loretranscripts.tumblr.com/post/183796846748/lore-episode-5-under-construction-transcript> (referer: https://loretranscripts.tumblr.com/page/2)\n",
      "2021-03-22 21:48:36 [scrapy.core.engine] DEBUG: Crawled (200) <GET https://loretranscripts.tumblr.com/post/183796049698/lore-episode-3-the-beast-within-transcript> (referer: https://loretranscripts.tumblr.com/page/2)\n",
      "2021-03-22 21:48:36 [scrapy.core.engine] DEBUG: Crawled (200) <GET https://loretranscripts.tumblr.com/post/184362460828/lore-episode-17-broken-fingernails-transcript> (referer: https://loretranscripts.tumblr.com/page/2)\n",
      "2021-03-22 21:48:36 [scrapy.core.engine] DEBUG: Crawled (200) <GET https://loretranscripts.tumblr.com/post/183916990928/lore-episode-13-off-the-path-transcript-24th> (referer: https://loretranscripts.tumblr.com/page/2)\n",
      "2021-03-22 21:48:36 [scrapy.core.engine] DEBUG: Crawled (200) <GET https://loretranscripts.tumblr.com/post/183694959973/lore-episode-1-they-made-a-tonic-transcript> (referer: https://loretranscripts.tumblr.com/page/2)\n",
      "2021-03-22 21:48:36 [scrapy.core.engine] INFO: Closing spider (finished)\n",
      "2021-03-22 21:48:36 [scrapy.statscollectors] INFO: Dumping Scrapy stats:\n",
      "{'downloader/request_bytes': 5036,\n",
      " 'downloader/request_count': 15,\n",
      " 'downloader/request_method_count/GET': 15,\n",
      " 'downloader/response_bytes': 273831,\n",
      " 'downloader/response_count': 15,\n",
      " 'downloader/response_status_count/200': 15,\n",
      " 'dupefilter/filtered': 1,\n",
      " 'elapsed_time_seconds': 3.030767,\n",
      " 'finish_reason': 'finished',\n",
      " 'finish_time': datetime.datetime(2021, 3, 23, 1, 48, 36, 863106),\n",
      " 'log_count/DEBUG': 16,\n",
      " 'log_count/INFO': 10,\n",
      " 'request_depth_max': 1,\n",
      " 'response_received_count': 15,\n",
      " 'scheduler/dequeued': 15,\n",
      " 'scheduler/dequeued/memory': 15,\n",
      " 'scheduler/enqueued': 15,\n",
      " 'scheduler/enqueued/memory': 15,\n",
      " 'start_time': datetime.datetime(2021, 3, 23, 1, 48, 33, 832339)}\n",
      "2021-03-22 21:48:36 [scrapy.core.engine] INFO: Spider closed (finished)\n"
     ]
    }
   ],
   "source": [
    "process = CrawlerProcess()\n",
    "process.crawl(Lore)\n",
    "process.start()"
   ]
  },
  {
   "cell_type": "code",
   "execution_count": 5,
   "metadata": {},
   "outputs": [],
   "source": [
    "import pandas as pd\n",
    "\n",
    "Lore_df = pd.DataFrame(Lore_data,\n",
    "                       columns =['Episode', 'Year', 'Title', 'Text'])"
   ]
  },
  {
   "cell_type": "code",
   "execution_count": 6,
   "metadata": {},
   "outputs": [
    {
     "data": {
      "text/html": [
       "<div>\n",
       "<style scoped>\n",
       "    .dataframe tbody tr th:only-of-type {\n",
       "        vertical-align: middle;\n",
       "    }\n",
       "\n",
       "    .dataframe tbody tr th {\n",
       "        vertical-align: top;\n",
       "    }\n",
       "\n",
       "    .dataframe thead th {\n",
       "        text-align: right;\n",
       "    }\n",
       "</style>\n",
       "<table border=\"1\" class=\"dataframe\">\n",
       "  <thead>\n",
       "    <tr style=\"text-align: right;\">\n",
       "      <th></th>\n",
       "      <th>Episode</th>\n",
       "      <th>Year</th>\n",
       "      <th>Title</th>\n",
       "      <th>Text</th>\n",
       "    </tr>\n",
       "  </thead>\n",
       "  <tbody>\n",
       "    <tr>\n",
       "      <th>0</th>\n",
       "      <td>130</td>\n",
       "      <td>2019</td>\n",
       "      <td>[ In Plain Sight ]</td>\n",
       "      <td>[&lt;p&gt;tw: none&lt;br&gt;&lt;/p&gt;, &lt;p&gt;Disclaimer: This tran...</td>\n",
       "    </tr>\n",
       "    <tr>\n",
       "      <th>1</th>\n",
       "      <td>024</td>\n",
       "      <td>2015</td>\n",
       "      <td>[ A Stranger Among Us ]</td>\n",
       "      <td>[&lt;p&gt;tw: death, gore, death of children, diseas...</td>\n",
       "    </tr>\n",
       "    <tr>\n",
       "      <th>2</th>\n",
       "      <td>014</td>\n",
       "      <td>2015</td>\n",
       "      <td>[ The Others ]</td>\n",
       "      <td>[&lt;p&gt;&lt;b&gt;tw: &lt;/b&gt;death of children, childhood il...</td>\n",
       "    </tr>\n",
       "    <tr>\n",
       "      <th>3</th>\n",
       "      <td>030</td>\n",
       "      <td>2016</td>\n",
       "      <td>[ Deep and Twisted Roots ]</td>\n",
       "      <td>[&lt;p&gt;tw: blood&lt;br&gt;&lt;/p&gt;, &lt;p&gt;Disclaimer: This tra...</td>\n",
       "    </tr>\n",
       "    <tr>\n",
       "      <th>4</th>\n",
       "      <td>009</td>\n",
       "      <td>2015</td>\n",
       "      <td>[ The Devil on the Roof ]</td>\n",
       "      <td>[&lt;p&gt;&lt;b&gt;tw: &lt;/b&gt;animal death&lt;/p&gt;, &lt;p&gt;&lt;b&gt;Disclai...</td>\n",
       "    </tr>\n",
       "    <tr>\n",
       "      <th>5</th>\n",
       "      <td>007</td>\n",
       "      <td>2015</td>\n",
       "      <td>[ In the Woods ]</td>\n",
       "      <td>[&lt;p&gt;&lt;b&gt;tw: &lt;/b&gt;ghosts, suicide, racism (coloni...</td>\n",
       "    </tr>\n",
       "    <tr>\n",
       "      <th>6</th>\n",
       "      <td>019</td>\n",
       "      <td>2015</td>\n",
       "      <td>[ Bite Marks ]</td>\n",
       "      <td>[&lt;p&gt;tw: death, graveyards, corpses, details of...</td>\n",
       "    </tr>\n",
       "    <tr>\n",
       "      <th>7</th>\n",
       "      <td>032</td>\n",
       "      <td>2016</td>\n",
       "      <td>[ Tampered ]</td>\n",
       "      <td>[&lt;p&gt;Disclaimer: This transcript is entirely no...</td>\n",
       "    </tr>\n",
       "    <tr>\n",
       "      <th>8</th>\n",
       "      <td>026</td>\n",
       "      <td>2016</td>\n",
       "      <td>[ Brought Back ]</td>\n",
       "      <td>[&lt;p&gt;tw: racism, colonialism, live burial, slav...</td>\n",
       "    </tr>\n",
       "    <tr>\n",
       "      <th>9</th>\n",
       "      <td>005</td>\n",
       "      <td>2015</td>\n",
       "      <td>[ Under Construction ]</td>\n",
       "      <td>[&lt;p&gt;&lt;b&gt;tw: &lt;/b&gt;nothing I can think of! This on...</td>\n",
       "    </tr>\n",
       "    <tr>\n",
       "      <th>10</th>\n",
       "      <td>003</td>\n",
       "      <td>2015</td>\n",
       "      <td>[ The Beast Within ]</td>\n",
       "      <td>[&lt;p&gt;&lt;b&gt;tw: &lt;/b&gt;murder, rape, death of children...</td>\n",
       "    </tr>\n",
       "    <tr>\n",
       "      <th>11</th>\n",
       "      <td>018</td>\n",
       "      <td>2015</td>\n",
       "      <td>[ Hunger Pains ]</td>\n",
       "      <td>[&lt;p&gt;\\n\\ntw: cannibalism, gore&lt;/p&gt;, &lt;p&gt;&lt;br&gt;Disc...</td>\n",
       "    </tr>\n",
       "    <tr>\n",
       "      <th>12</th>\n",
       "      <td>013</td>\n",
       "      <td>2015</td>\n",
       "      <td>[ Off the Path ]</td>\n",
       "      <td>[&lt;p&gt;&lt;b&gt;tw: &lt;/b&gt;death, WWII&lt;/p&gt;, &lt;p&gt;&lt;b&gt;Disclaim...</td>\n",
       "    </tr>\n",
       "    <tr>\n",
       "      <th>13</th>\n",
       "      <td>001</td>\n",
       "      <td>2015</td>\n",
       "      <td>[ They Made a Tonic ]</td>\n",
       "      <td>[&lt;p&gt;&lt;b&gt;tw: &lt;/b&gt;horror, bodily mutilation, bloo...</td>\n",
       "    </tr>\n",
       "  </tbody>\n",
       "</table>\n",
       "</div>"
      ],
      "text/plain": [
       "   Episode  Year                       Title  \\\n",
       "0      130  2019          [ In Plain Sight ]   \n",
       "1      024  2015     [ A Stranger Among Us ]   \n",
       "2      014  2015              [ The Others ]   \n",
       "3      030  2016  [ Deep and Twisted Roots ]   \n",
       "4      009  2015   [ The Devil on the Roof ]   \n",
       "5      007  2015            [ In the Woods ]   \n",
       "6      019  2015              [ Bite Marks ]   \n",
       "7      032  2016                [ Tampered ]   \n",
       "8      026  2016            [ Brought Back ]   \n",
       "9      005  2015      [ Under Construction ]   \n",
       "10     003  2015        [ The Beast Within ]   \n",
       "11     018  2015            [ Hunger Pains ]   \n",
       "12     013  2015            [ Off the Path ]   \n",
       "13     001  2015       [ They Made a Tonic ]   \n",
       "\n",
       "                                                 Text  \n",
       "0   [<p>tw: none<br></p>, <p>Disclaimer: This tran...  \n",
       "1   [<p>tw: death, gore, death of children, diseas...  \n",
       "2   [<p><b>tw: </b>death of children, childhood il...  \n",
       "3   [<p>tw: blood<br></p>, <p>Disclaimer: This tra...  \n",
       "4   [<p><b>tw: </b>animal death</p>, <p><b>Disclai...  \n",
       "5   [<p><b>tw: </b>ghosts, suicide, racism (coloni...  \n",
       "6   [<p>tw: death, graveyards, corpses, details of...  \n",
       "7   [<p>Disclaimer: This transcript is entirely no...  \n",
       "8   [<p>tw: racism, colonialism, live burial, slav...  \n",
       "9   [<p><b>tw: </b>nothing I can think of! This on...  \n",
       "10  [<p><b>tw: </b>murder, rape, death of children...  \n",
       "11  [<p>\\n\\ntw: cannibalism, gore</p>, <p><br>Disc...  \n",
       "12  [<p><b>tw: </b>death, WWII</p>, <p><b>Disclaim...  \n",
       "13  [<p><b>tw: </b>horror, bodily mutilation, bloo...  "
      ]
     },
     "execution_count": 6,
     "metadata": {},
     "output_type": "execute_result"
    }
   ],
   "source": [
    "Lore_df"
   ]
  },
  {
   "cell_type": "code",
   "execution_count": 7,
   "metadata": {},
   "outputs": [
    {
     "data": {
      "text/html": [
       "<div>\n",
       "<style scoped>\n",
       "    .dataframe tbody tr th:only-of-type {\n",
       "        vertical-align: middle;\n",
       "    }\n",
       "\n",
       "    .dataframe tbody tr th {\n",
       "        vertical-align: top;\n",
       "    }\n",
       "\n",
       "    .dataframe thead th {\n",
       "        text-align: right;\n",
       "    }\n",
       "</style>\n",
       "<table border=\"1\" class=\"dataframe\">\n",
       "  <thead>\n",
       "    <tr style=\"text-align: right;\">\n",
       "      <th></th>\n",
       "      <th>Episode</th>\n",
       "      <th>Year</th>\n",
       "      <th>Title</th>\n",
       "      <th>Text</th>\n",
       "    </tr>\n",
       "  </thead>\n",
       "  <tbody>\n",
       "    <tr>\n",
       "      <th>13</th>\n",
       "      <td>001</td>\n",
       "      <td>2015</td>\n",
       "      <td>[ They Made a Tonic ]</td>\n",
       "      <td>[&lt;p&gt;&lt;b&gt;tw: &lt;/b&gt;horror, bodily mutilation, bloo...</td>\n",
       "    </tr>\n",
       "    <tr>\n",
       "      <th>10</th>\n",
       "      <td>003</td>\n",
       "      <td>2015</td>\n",
       "      <td>[ The Beast Within ]</td>\n",
       "      <td>[&lt;p&gt;&lt;b&gt;tw: &lt;/b&gt;murder, rape, death of children...</td>\n",
       "    </tr>\n",
       "    <tr>\n",
       "      <th>9</th>\n",
       "      <td>005</td>\n",
       "      <td>2015</td>\n",
       "      <td>[ Under Construction ]</td>\n",
       "      <td>[&lt;p&gt;&lt;b&gt;tw: &lt;/b&gt;nothing I can think of! This on...</td>\n",
       "    </tr>\n",
       "    <tr>\n",
       "      <th>5</th>\n",
       "      <td>007</td>\n",
       "      <td>2015</td>\n",
       "      <td>[ In the Woods ]</td>\n",
       "      <td>[&lt;p&gt;&lt;b&gt;tw: &lt;/b&gt;ghosts, suicide, racism (coloni...</td>\n",
       "    </tr>\n",
       "    <tr>\n",
       "      <th>4</th>\n",
       "      <td>009</td>\n",
       "      <td>2015</td>\n",
       "      <td>[ The Devil on the Roof ]</td>\n",
       "      <td>[&lt;p&gt;&lt;b&gt;tw: &lt;/b&gt;animal death&lt;/p&gt;, &lt;p&gt;&lt;b&gt;Disclai...</td>\n",
       "    </tr>\n",
       "  </tbody>\n",
       "</table>\n",
       "</div>"
      ],
      "text/plain": [
       "   Episode  Year                      Title  \\\n",
       "13     001  2015      [ They Made a Tonic ]   \n",
       "10     003  2015       [ The Beast Within ]   \n",
       "9      005  2015     [ Under Construction ]   \n",
       "5      007  2015           [ In the Woods ]   \n",
       "4      009  2015  [ The Devil on the Roof ]   \n",
       "\n",
       "                                                 Text  \n",
       "13  [<p><b>tw: </b>horror, bodily mutilation, bloo...  \n",
       "10  [<p><b>tw: </b>murder, rape, death of children...  \n",
       "9   [<p><b>tw: </b>nothing I can think of! This on...  \n",
       "5   [<p><b>tw: </b>ghosts, suicide, racism (coloni...  \n",
       "4   [<p><b>tw: </b>animal death</p>, <p><b>Disclai...  "
      ]
     },
     "execution_count": 7,
     "metadata": {},
     "output_type": "execute_result"
    }
   ],
   "source": [
    "Lore_df = Lore_df.sort_values(by=['Episode'], ascending=True)\n",
    "Lore_df.head()"
   ]
  },
  {
   "cell_type": "code",
   "execution_count": 8,
   "metadata": {},
   "outputs": [
    {
     "data": {
      "text/plain": [
       "['<p>tw: none<br></p>',\n",
       " '<p>Disclaimer: This transcript is entirely non-profit and fan-made. All credit for this content goes to Aaron Mahnke, creator of Lore podcast. It is by a fan, for fans, and meant to make the content of the podcast more accessible to all. Also, there may be mistakes, despite rigorous re-reading on my part. Feel free to point them out, but please be nice!</p>',\n",
       " '<p>In early\\nwinter of 1822, Captain Samuel Barrett Edes became a hero. He was sailing in\\nthe south-east Pacific when he and his crew encountered a Dutch ship that was\\nin trouble. Edes managed to save every single one of the Dutch soldiers, and\\nthen headed for the city of Batavia, known today as Jakarta, to drop them off\\nand see if a reward could be collected. While he waited, he did some shopping.\\nNow, Edes wasn’t rich by any stretch of the imagination, but he owned a small\\nportion of the ship he sailed and of course, he was expecting a handsome reward\\nfor his heroic efforts. With this in mind, he kept an eye open for something\\nunusual and conversation-worthy to take home, and that’s when he saw it. <i>It</i> was a mummified mermaid. It was over\\ntwo feet long, had the curved tail one might find on a fish, but the upper body\\nof something much more human in shape. It was brown from the preservation\\nprocess, wrinkled with age and entirely addictive to look at, and Captain Edes\\nknew instantly that he had to own it. In late January of 1822, he did something\\nbold. He sold the ship he did not fully own and used the proceeds to buy the\\nmermaid. Then he found transportation back to London and put the odd creature\\non display, because just about everyone who saw it believed that it was real. </p>',\n",
       " '<p>Of course,\\nthere were those who could see through the hoax. Captain Edes had been fooled\\nby a clever craftsman who had sewn the torso of an orangutan onto the lower\\nhalf of a large salmon. Elements were added to the face and hands to give it a\\nmore humanlike appearance, but those with training in natural science and anatomy\\ncould spot the hidden clues that gave it all away. That didn’t matter to most\\npeople, though. The idea that mermaids could be real had been around for\\ncenturies, so when something as powerful as a mummified specimen floated into\\ntheir world, they were blind to its flaws and impossibility. They wanted to believe,\\ndeep down inside, that the hybrids of folklore actually existed. Today, we know\\na lot more about our world than we used to, but if we were to go back in time\\nand live through a less learned age, we would be amazed at the stories that\\nawait us, tales of creatures that sit at the very edge of our imagination,\\nliving things that defy logic, and monsters that inspire wonder. Our hearts\\nwant to believe while our minds are ready to move on. Instead, what we tend to\\nfeel is a mixture of deep curiosity and primal fear, and if the tales from the\\npast are any indication, there’s a good reason why. I’m Aaron Mahnke, and this\\nis <i>Lore</i>. </p>',\n",
       " '<p>When we\\ntalk about the natural world, the very first thing we need to do is gain some\\nperspective. Today, we live in a technologically rich society. We carry\\nsupercomputers in our pockets that are more powerful than the ones that sent\\nthe first humans to the moon. We can walk past an intriguing part of our\\nneighbourhood, pull out our phones and look at a satellite map or do a search\\nfor more information. We’re still hungry people, curious and drawn to unanswered\\nquestions, but rather than starving in a house with little food, we feast each\\nday on a never-ending buffet of answers and information. Today, if you want to\\nknow something, chances are good you can learn about it in an instant, but\\nhundreds of years ago, that was an impossibility. Not that people didn’t try,\\nthough. 2000 years ago, a Roman named Gaius Plinius Secundus attempted to\\ngather everything knowable into one place, and he did an admirable job considering\\nthe world he lived in. Gaius was born into a wealthy Roman family in the year 24AD\\nand followed a path of privilege all the way to the top. He was well educated,\\nwell connected, and when he entered the Roman military, he quickly rose to the\\nsecond highest level possible – the equestrian order. Once out of the military,\\nhe served as a lawyer, before being assigned various governorships around the\\nempire, and towards the end of his life, he had the privilege to serve as\\nadvisor to two different emperors. Today, we know him as Pliny the Elder, but\\nin his day, Gaius was a success story. </p>',\n",
       " '<p>Looking\\nback, his biggest legacy was his 37 volume collection of knowledge called <i>Natural History</i>. It was possibly the\\nworld’s first encyclopaedia, gathering everything known about a whole array of\\nsubjects, from farming and botany to geography and anthropology, but the most\\ninfluential contribution, filling up volumes seven through 11, were his\\nwritings on zoology, the study of all living creatures. But here’s the thing –\\nPliny the Elder, like everyone else in his society, lacked the proper tools to\\ndig deep and apply hard science to every creature he wrote about. He also\\nlacked the ability to travel and see each animal he described, so he relied\\nheavily on others, like Aristotle’s <i>Historia\\nAnimalium</i> and the writings of Eratosthenes and Hipparchus, and that meant his\\ncollection was less than perfect. How so? Well, his work on zoology included\\nsuch amazing animals as dragons, mermen, and even something called a <i>blemmyae</i>, a race of hairy, human-like\\nbeings who literally had no head on their shoulders, with eyes and a mouth\\nright in the middle of their chest. Pliny was thorough, for sure, but not very\\ndiscerning with his source material. </p>',\n",
       " '<p>But what\\nhis work did do was give birth to something a lot of people have heard of, a type\\nof book known as a bestiary. It took a while for their availability to spread,\\nbut by the early middle ages, bestiaries were a common enough resource. They\\nwere, at the basic level, books about known animals, typically with colourful\\ndrawings to help the reader visualise the specific details of each entry, and\\nover the centuries, some editions became more popular than others. One of the\\nmost famous is the Aberdeen Bestiary, an illuminated manuscript that dates back\\nto the 12<sup>th</sup> century. Aside from being a beautiful example of\\nmedieval artwork – and I mean that, you should seriously do an internet search\\nfor sample pages – the Aberdeen Bestiary is also a powerful example of just how\\npopular these books really were. It’s filled with images of all sorts of animals,\\nalong with rocks, fish, trees and even worms, and a lot of the entries in the\\nmanuscript include notes about the nature of the thing in question, making it a\\nvaluable reference tool for any budding naturalist. But these bestiaries did more\\nthan that – they inspired the popular culture of their day. </p>',\n",
       " '<p>England’s\\nKing John, who reigned from 1177 to 1216 was said to have a copy of Pliny the\\nElder’s <i>Natural History</i> in his personal\\ncollection, and John’s son and successor, King Henry III, even used images from\\nit to decorate one of the chambers at Westminster. As their popularity spread,\\nmore and more writers got in on the tradition. The Norman poet Philip de Thaun wrote\\na bestiary about a generation after William the Conqueror invaded England, and\\nit became a gift for King Henry II’s wife, Eleanor of Aquitaine. Even Leonardo\\nda Vinci made one. It seems if you were an intelligent person in the middle\\nages or the Renaissance, making your own bestiary was practically a rite of\\npassage – and let’s be honest, colourful manuscripts filled with unbelievable creatures\\nand animals that defied logic couldn’t not be popular. Humans have this innate\\ndesire to look at curious things. We’ve always been rubberneckers, straining to\\ntake a long, hard look at things that sit outside our normal experience, and\\nthe spread of bestiaries is proof of that. But those ancient books and manuscripts\\nalso teach us something else about ourselves. Human beings are creative\\ncreatures. When faced with a mysterious gap in our knowledge, we’re more likely\\nto invent something to plug the hole than to leave the question unanswered – and\\nwhat we’ve come up with is equal parts entertaining and downright terrifying.</p>',\n",
       " '<p>I\\nmentioned earlier how the internet and the accessibility of powerful devices has\\ngiven us an edge over our predecessors, and in a lot of ways that’s true. Yes,\\nwe have access to a huge majority of our collective knowledge, but not all of\\nit. In fact, there are still things we don’t know. For example, scientists\\ntoday believe that there are roughly 8.7 million animal species on this planet,\\nand yet 86% of the ones that would live on land still haven’t been discovered\\nor studied, and it’s even worse inside our oceans, where over 90% of life is\\nstill a mystery to us. We know a lot, yes, but our world is massive and diverse,\\nand that makes the learning process slow and tedious. Some animals are also a\\nbit harder to track down, they’re less abundant or more shy, and so it’s made\\nstudying them more of a challenge. A good example is the platypus. For a very\\nlong time, scientists thought the descriptions of it were nothing more than a\\nhoax. I mean, it was rumoured in 1799 to be a hybrid of a duck and a water rat,\\npart mammal and part bird, with venomous spurs that could kill a dog, and while\\nwe’ve learnt more about them over the years, the platypus is still an allusive\\ncreature. A recent documentarian was able to get what he considered to be a\\ngoldmine of actual footage of the animal, amounting to about 30 seconds, and\\nwhen only half a minute of film is something to celebrate, you know the animal\\nis hard to study. </p>',\n",
       " '<p>Of course,\\nwhile we’re searching for new species, the ones we do know about are slowly\\ndying off, which doesn’t help. Some estimates place the number of species on\\nthe edge of extinction at around 20,000, and more get added to that list all\\nthe time. For the medieval writers of bestiaries, this would be their worst\\nnightmare. All those creatures belong in their books, and yet they keep slipping\\naway. But at the same time, not being able to see an animal never really\\nstopped those ancient writers from including it in their catalogue of life on\\nearth. In fact, there are a lot of entries that would cause most people to\\nscratch their heads, because while, yes, we’ve grown in our understanding of\\nthe world around us, these bestiaries serve as a time capsule of our gullibility.\\nAs far back as Pliny the Elder’s collection on natural history, we can see\\nthose less believable creatures pop up. He once wrote that thousands of sea-nymphs\\nknown as <i>neriads</i> had washed up on the\\nshores of what is modern day France, and that they looked just like the nymphs\\nof the land, except that they were covered in fish scales. He also wrote about\\nthat fiery bird of legend known as the phoenix, which was known to burst into\\nflames before re-emerging from its own ashes. And of course, I’ve already\\nmentioned his fascination with mermen and <i>blemmyae</i>.\\nIt seems that Pliny the Elder had an obsession with gathering all known\\ncreatures, whether or not he had witnessed them with his own eyes. </p>',\n",
       " '<p>Other historians\\nadded their own contributions to those mystical lists as well, and if I ran\\nthrough it for you now, it would sound like a recap of the <i>Harry Potter </i>series. Hippos and elephants shared the same space as\\nhippogriffs and mandrakes. There were dragons and tritons, giants and sea\\nmonsters. Honestly, it sometimes seemed that if a young child could draw a\\npicture of it, that was good enough to get it included. Of course, some\\ncreatures were more popular than others, and that popularity varied from\\nculture to culture. In Europe, one of the most talked about creatures of all\\nwas also one of the smallest, but don’t let its size fool you, because there\\nwas nothing safe about the basilisk. Our old friend, Pliny the Elder, wrote about\\nit 2000 years ago, describing it as a serpent with legs that was no larger than\\na foot in length. But what it lacked in size, it more than made up for with\\nattitude and special features. A basilisk was said to stand tall on its back\\nlegs and had a crown-like plume on top of its head. And they were dangerous,\\ntoo – according to the stories, basilisks were so poisonous that even looking\\nat them could get you killed. Other creatures avoided the like the plague, and\\nwherever they chose to make their nests, the plant life would die and wither\\naway. One description I read said that if a man on horseback stabbed the\\nbasilisk with a spear, the poison was so powerful that it could climb up the\\nspear, kill the man, and then kill the horse as well. </p>',\n",
       " '<p>Of course,\\nwhen something is that powerful and deadly, it eventually becomes the centrepiece\\nof tales of valour. It’s said that Alexander the Great once killed a basilisk,\\nand like many of the other legends about him, he did it in a way that proved\\nnot just his might but also his intelligence. It’s said that he polished his\\nshield until it was like a mirror, and then approached the creature holding it\\noutward. When the basilisk saw its own reflection, it fell victim to its\\npoisonous gaze and instantly dropped dead. We can find images of the basilisk\\nin just about every bestiary in existence, most of which look like a cross\\nbetween a snake and a rooster. There’s a statue of one in Vienna, commemorating\\nan 11<sup>th</sup> century hunt, and there’s even a church in Sweden with a\\ncarved relief showing St. Michael stabbing one with a spear. So popular was\\nthis creature that people sold powders that they claimed to be ground-up\\nbasilisk, something that most people purchased for use in alchemy, but more\\nthan a few used as an antidote to poison. Everywhere you look through the\\nmiddle ages and earlier, the basilisk is waiting to rear its poisonous little\\nhead. You can see society’s attraction to it in their folklore and superstition,\\na mixture of fear and fascination, of wonder and disgust. For centuries, it\\npopped up in stories whispered all around Europe, like a well-loved character\\nin a popular book series. But if one account is any indication, it might not be\\na work of fiction after all. </p>',\n",
       " '<p>The people\\nof Warsaw had a problem on their hands. They were two decades into a new\\npolitical structure known as the Polish-Lithuanian Commonwealth, and while it gave\\na lot of freedom to the wealthy and elite, it left the lower class in a\\nconstant state of fear and oppression. Life in the city was challenging for\\nmany people, but that was the new normal. In 1587, though, something happened\\nto put the people of Warsaw on edge. Livestock in the area around an old,\\nruined building had begun to turn up dead. Even a few of the neighbouring\\nresidents had been found poisoned in their beds, washing over the community\\nwith a wave of grief and loss. And in the midst of all that confusion and pain,\\ntwo of the neighbourhood children disappeared. Well, disappeared might not be\\nthe right word for it. Folks had seen the two young girls playing near the\\nruins, they had watched them laugh and skip and revel in the freedom and joy\\nthat came with childhood, most likely muttering quiet prayers that it would\\nlast as long as possible. The neighbours knew what sort of hard life awaited\\nthose girls once they were old enough to work and carry their own weight. Their\\njoy must have been bittersweet. </p>',\n",
       " '<p>And then\\nsomeone watched them step inside the ruins. That was the first reason to worry.\\nFolks avoided the ruins for a good reason – it was dark and dangerous, and the\\ncellar beneath it had been a den for all sorts of animals. So, whoever it was\\nthat watched them disappear into the shadows most likely headed over to warn\\nthe girls’ parents. When everyone arrived at the ruins to call them out, though,\\nthey were no longer visible. While there was a good chance they had simply\\nmoved on to a new playground, someone decided to peer inside the dark cellar,\\nand there, laying on the broken stone floor, were the sleeping forms of both\\ngirls. So, one of the older women stepped inside to wake them. A moment later,\\nthough, she collapsed into a heap beside the girls, sending the growing crowd into\\na panic. They didn’t know what was causing the people inside the cellar to lose\\nconsciousness, but they knew there was something dangerous about the dark\\nspace, so they sent for a fire hook – a long pole with a metal hook on the end –\\nand then reached in and pulled each body out into the light. All three of them\\nwere dead, and not just dead – they were bloated and dark, as if they’d been\\ndead for days. Most frightening of all, though, was that their eyes seemed to\\nbe protruding from their sockets. No one could be sure, but it almost looked as\\nif they’d been frightened to death. </p>',\n",
       " '<p>Wanting\\nanswers, they sent for Benedictus, the king’s very own physician. If anyone\\nwould have the skill to identify the danger, it would be him. And, sure enough,\\nafter taking a long look at the trio of bodies, he brought them a definitive\\nanswer. All of them had been killed by a basilisk. In an instant, the\\natmosphere around the old ruins changed. Newcomers came to watch, while leaders\\ngathered to form a plan. Something had to be done, and just like the stories\\nall of them had grown up with, it seemed that a basilisk hunt was in order, but\\nthe trouble was no one wanted to risk their lives by entering the cellar to kill\\nit – not even Benedictus, who seemed to know the most about the creature. But\\nthey had an idea. A group of leaders from the community quickly headed to the\\nlocal jail, where two men awaited execution for various capital crimes. Each man\\nwas given the same offer: come kill the basilisk, and you will receive a full\\npardon and your freedom as a reward. It seemed like an easy choice, too –\\ninside jail, there was no chance of survival. Outside, though, there was at\\nleast the possibility they might survive. It made sense to everyone.</p>',\n",
       " '<p>The first\\ncriminal declined the offer, but the other one, a man named Johann Faurer,\\nagreed to help. He was escorted from the jail to the old ruins, where\\nBenedictus awaited him with tools and instructions. The townsfolk had quickly\\ngathered dozens of small mirrors and sewn them onto a pair of leather pants and\\na coat. I imagine Johann gave the old physician a sideways glance at the sheer\\nridiculousness of it all, but at the same time, he would have known the\\nfolklore just as well as everyone else. Alexander the Great had defeated a\\nbasilisk using a mirror-like shield, so why would it not work for him? With a\\ncrowd of over 2000 witnesses watching, Johann began to carefully walk into the\\nruins, where he entered the cellar. He had a long rake in one hand and a torch\\nin the other, to light his way, and as soon as he stepped into the darkness\\nbelow, he cried out that he could see it – a long, serpent-like tail, with a\\nhead that resembled that of a rooster, right down to the crown-like plumage.\\nBenedictus called out instructions to the man. “Grab it with the rake,” he told\\nhim, “and then carry it out here into the light.” Johann shouted back that he\\nunderstood, and the entire crowd began to shift and rumble. If a basilisk was\\ngoing to be dragged out of the ruins, no one wanted to be around to see it, so\\nthey all ran for cover and hid their eyes. When Johann emerged, he held the writhing\\ncreature by the neck in one of his gloved hands. They daylight somehow made it\\nweaker, and that gave Benedictus the courage to step closer and examine it. It\\nlooked exactly like the bestiaries of old had taught him – the body of a snake,\\nfour long legs and a head that looks very much like a rooster. </p>',\n",
       " '<p>But sadly,\\nthis is where the account of the basilisk hunt ends. Whoever had been recording\\nthe events had most likely been in the crowd, and when Johann had begun to\\nemerge from the cellar, they had followed the crowd into hiding, which leaves\\nthe ending a bit of a mystery. Who killed the creature, when all was said and\\ndone, and how did they do it, knowing the risks the old legends spoke of? What\\nwe do know is this: the Warsaw basilisk hunt of 1587 was the last time the\\ncreature was reported anywhere in Europe. Maybe it had been the last of its kind,\\nand its death marked its extinction, or perhaps the few that survived had a knack\\nfor staying out of sight – like the platypus of Australia. Either way, all that\\nwas left from that moment on were legends and stories. Like so many creatures\\nthat have once walked the earth, the basilisk – if it was ever real to begin\\nwith – has slipped into the shadows of the past, and it’s never been seen\\nagain. </p>',\n",
       " '<p>There\\nreally is something delightful about the bestiaries of old. Their colourful\\npages and evocative descriptions were beyond sensational. In a world without\\ntelevision, radio or easily accessible works of fiction, those catalogues of\\nnatural history were the closest most people could get to travelling the world.\\nOf course, the things most authors chose to include in their bestiaries would probably\\nnever make the cut in our modern times. After all, headless tribesmen with eyes\\non their chests, unicorns and sea nymphs all feel more like characters in a\\nfantasy novel than entries in a study on the world’s flora and fauna. And yet\\nsome of those expectations have been broken over the years. For centuries,\\nsailors told stories about the kraken, enormous sea creatures that could reach\\nout and drag an entire ship underwater with its long tentacles. King Sverre of\\nNorway recorded its description way back in 1180, and for hundreds of years\\npeople claimed to spot them in the waters of the ocean. Then, in 1853, the\\ncarcass of a giant squid washed up on a Danish beach, giving the legend new\\nlife. Over the century and a half since then, scientists have determined that\\nthere is indeed a giant sea creature that fits the ancient descriptions – give or\\ntake a few sinking ships, of course – and while they’ve been challenging to\\ncatch on film, we now know they exist. And those mermaids of old might have\\nroots in actual animals as well. Many scientists and scholars now believe that\\nold reports of mermaids could very well be mistaken sightings of an aquatic mammal\\nknown as the manatee. As is so often the case, our misunderstandings had given\\nbirth to frightening legends, only to have science bring a bit of clarity to the\\ntale. Sometimes the monsters of the ancient world turn out to be real, and\\nsometimes legends inspire new discoveries. </p>',\n",
       " '<p>In the\\npart of the world that stretches from Mexico to South America, scientists have\\nbeen familiar for over a century with a lizard from the iguana family. It’s not\\nthe largest reptile around, but it can grow to around 2ft in length, and it can\\nrun at amazing speeds. Some scientists refer to it as the Jesus Christ Lizard\\nbecause of its strange ability to run across the surface of water. But its most\\ncommon name is based on other features, like its tendency to run on two legs\\nand its serpent-like body – a body that’s topped with a head and plumes reminiscent\\nof a crown or a rooster, which is why its name is both logical and a bit of a\\nthrowback. They call it the basilisk. </p>',\n",
       " '<p>There’s\\nsomething enticing about the mysteries that fill the gaps in our knowledge of\\nthe world around us. Looking back at the bestiaries of the middle ages, its clear\\nhumans have had a lot of fun filling those holes, and the creativity of the\\npast has continued to inspire stories today. But there’s one more creature I\\nwant to tell you about. Stick around after this brief sponsor break to learn\\nall about it. </p>',\n",
       " '<p>[Sponsor\\nbreak from Bombas, Casper and Fracture]</p>',\n",
       " '<p>They had\\nfallen in love, and it was something that would change their destiny forever.\\nAt least, that’s how the legend tells it. Long ago, a young man lived on a\\nsmall island surrounded by deep blue seas, and in the process of hunting one\\nday, he encountered a beautiful young woman. But the hunter quickly learned\\nthat there was more to her than he could see with his eyes. The woman, it turns\\nout, was a fairy. In fact, she was well known to the locals there, who referred\\nto her as the Dragon Princess. Despite their differences – him, a normal human\\nbeing, and her, a magical fairy – the two of them fell in love and were soon\\nmarried, and that helps this tale become on of those happily ever after stories\\nthat we all love so much. The couple went on to have twins, a boy and a girl,\\nand just like their parents, they were an odd pair. The boy was just like his\\nfather, a human with no magical powers of his own, while the girl took after\\nher mother, and because of that, both parents decided that the children should\\nbe raised in separate places to help them fully become who they were meant to\\nbe. </p>',\n",
       " '<p>According to\\nthe legend, it was many years later when the son was out hunting, just as his\\nfather had taught him. He was creeping through the forest, his spear balanced\\nin one hand, when he spotted a deer. He quickly threw the weapon, which found\\nits target, and a heartbeat later the young man was carefully making his way\\nover to collect his prize, and that’s when the dragon stepped out of the trees.\\nIt was enormous and frightening, and it clearly wanted to take the deer that he\\nhad just killed. The young hunter spoke to it, begging it to leave his future\\nmeal alone, but the creature ignored him and proceeded to move toward the deer,\\nso he lifted another spear and got ready to take aim at the dragon. Suddenly, a\\nfigure stepped out of the shadows of the forest and stopped him. It was his\\nmother, the fairy princess, who he had not seen since his childhood, and as she\\napproached him, she spoke a word of warning. “Do not throw that spear”, she told\\nhim, “for that is no ordinary dragon. That is your sister.” Instead, she taught\\nhim to live in harmony with his sister, and according to the legend, that fateful\\nmeeting set the destiny of their entire community on a new path. Even today, if\\nyou were to visit the place where they lived, the people there would tell you\\nthat they are descended from dragons, illustrating how that harmony has\\ncontinued. </p>',\n",
       " '<p>And of\\ncourse, this story is just one of many tales about dragons that fill the pages\\nof folklore. In fact, most of us would be hard pressed to find a creature\\nmentioned more often than those magical beasts, from the 11<sup>th</sup>\\ncentury legend of King George and the Dragon to the fantasy novels and television\\nshows of our modern world. They really do seem to be the king of monsters.\\nDragons are also one of those nearly universal creatures. It seems just about\\nevery culture around the world has had some version of them in their folklore.\\nThe ancient Egyptian god of chaos was Apophis, represented as a giant serpent.\\nThe Babylonians had their own god of chaos called Tiemat, and in Arcadian\\nmythology there were not one but three dragons on display. Norse mythology\\nfeatures a giant serpent who gnaws at the roots of the world tree. In Ukrainian\\nfolklore, there is a dragon with three heads, while images of dragons can be\\nfound all over medieval heraldry. And of course, few cultures on earth hold as\\ntightly to their dragon mythology as the Chinese, who have been decorating\\nobjects with images of the creature at least as far back as the Neolithic period,\\nand we could speculate why, I’m sure. It doesn’t take a lot of imagination to\\nsee how the accidental discovery of dinosaur bones might spark fear and wonder\\nin the minds of humans thousands of years ago. The places where stories of\\ndragons are most common are also places where such fossils have been uncovered,\\nso it does make sense. </p>',\n",
       " '<p>So, when\\nEuropeans arrived on an island in the Flores Sea, just south of Indonesia, they\\nprobably didn’t think twice about the local stories about dragons. In fact, those\\ntales were probably a bit old hat, as they say. Dragons lived in caves, breathed\\nfire, were vicious killers and could fly when necessary – nothing about all of\\nthat was new. What was new, though, were the things they saw there. On an island\\nsurrounded by deep, blue sea, an island full of people who believed they were\\ndescended from dragons, mind you, they discovered a creature that brought all\\nof their legends to life. It lived in the caves along the shore, it was an\\nenormous killer, and it sometimes even followed its prey up into the trees. It\\nticked all the boxes. These were 300lb serpent-like monsters that could bring\\ndown a half-tonne water buffalo. When they licked the air with their bright red\\ntongue, it looked as if they were spitting fire, and they even dug into the graves\\nof the dead looking for treasure. Of course, that treasure was always food, not\\ngold. And they’re still there, crawling across the sandy beaches of the island,\\nliving in harmony, more or less, with the people who still call the place their\\nhome. They might not have wings or piles of golden treasure to curl up on, but\\nthey are the largest lizard on earth, measuring in at over 10ft in length, and\\nthey’re deadly. Sometimes the tales of the past stay shrouded in mystery, and\\nother times we manage to crack the riddle and shed new light on the shadows\\nthat once frightened us. This living, flesh and blood dragon seems to offer a\\nfresh answer to an ancient question, however incomplete it might be, but at\\nleast we now know that there really is one place in the world where that old\\ncartographer warning is actually true: Here, on Komodo Island at least, there\\nbe dragons. </p>',\n",
       " '<p>[Closing Statements]</p>']"
      ]
     },
     "execution_count": 8,
     "metadata": {},
     "output_type": "execute_result"
    }
   ],
   "source": [
    "Lore_df.Text[0]"
   ]
  },
  {
   "cell_type": "code",
   "execution_count": 9,
   "metadata": {},
   "outputs": [
    {
     "data": {
      "text/plain": [
       "'<p>In early\\nwinter of 1822, Captain Samuel Barrett Edes became a hero. He was sailing in\\nthe south-east Pacific when he and his crew encountered a Dutch ship that was\\nin trouble. Edes managed to save every single one of the Dutch soldiers, and\\nthen headed for the city of Batavia, known today as Jakarta, to drop them off\\nand see if a reward could be collected. While he waited, he did some shopping.\\nNow, Edes wasn’t rich by any stretch of the imagination, but he owned a small\\nportion of the ship he sailed and of course, he was expecting a handsome reward\\nfor his heroic efforts. With this in mind, he kept an eye open for something\\nunusual and conversation-worthy to take home, and that’s when he saw it. <i>It</i> was a mummified mermaid. It was over\\ntwo feet long, had the curved tail one might find on a fish, but the upper body\\nof something much more human in shape. It was brown from the preservation\\nprocess, wrinkled with age and entirely addictive to look at, and Captain Edes\\nknew instantly that he had to own it. In late January of 1822, he did something\\nbold. He sold the ship he did not fully own and used the proceeds to buy the\\nmermaid. Then he found transportation back to London and put the odd creature\\non display, because just about everyone who saw it believed that it was real. </p>  <p>Of course,\\nthere were those who could see through the hoax. Captain Edes had been fooled\\nby a clever craftsman who had sewn the torso of an orangutan onto the lower\\nhalf of a large salmon. Elements were added to the face and hands to give it a\\nmore humanlike appearance, but those with training in natural science and anatomy\\ncould spot the hidden clues that gave it all away. That didn’t matter to most\\npeople, though. The idea that mermaids could be real had been around for\\ncenturies, so when something as powerful as a mummified specimen floated into\\ntheir world, they were blind to its flaws and impossibility. They wanted to believe,\\ndeep down inside, that the hybrids of folklore actually existed. Today, we know\\na lot more about our world than we used to, but if we were to go back in time\\nand live through a less learned age, we would be amazed at the stories that\\nawait us, tales of creatures that sit at the very edge of our imagination,\\nliving things that defy logic, and monsters that inspire wonder. Our hearts\\nwant to believe while our minds are ready to move on. Instead, what we tend to\\nfeel is a mixture of deep curiosity and primal fear, and if the tales from the\\npast are any indication, there’s a good reason why. I’m Aaron Mahnke, and this\\nis <i>Lore</i>. </p>  <p>When we\\ntalk about the natural world, the very first thing we need to do is gain some\\nperspective. Today, we live in a technologically rich society. We carry\\nsupercomputers in our pockets that are more powerful than the ones that sent\\nthe first humans to the moon. We can walk past an intriguing part of our\\nneighbourhood, pull out our phones and look at a satellite map or do a search\\nfor more information. We’re still hungry people, curious and drawn to unanswered\\nquestions, but rather than starving in a house with little food, we feast each\\nday on a never-ending buffet of answers and information. Today, if you want to\\nknow something, chances are good you can learn about it in an instant, but\\nhundreds of years ago, that was an impossibility. Not that people didn’t try,\\nthough. 2000 years ago, a Roman named Gaius Plinius Secundus attempted to\\ngather everything knowable into one place, and he did an admirable job considering\\nthe world he lived in. Gaius was born into a wealthy Roman family in the year 24AD\\nand followed a path of privilege all the way to the top. He was well educated,\\nwell connected, and when he entered the Roman military, he quickly rose to the\\nsecond highest level possible – the equestrian order. Once out of the military,\\nhe served as a lawyer, before being assigned various governorships around the\\nempire, and towards the end of his life, he had the privilege to serve as\\nadvisor to two different emperors. Today, we know him as Pliny the Elder, but\\nin his day, Gaius was a success story. </p>  <p>Looking\\nback, his biggest legacy was his 37 volume collection of knowledge called <i>Natural History</i>. It was possibly the\\nworld’s first encyclopaedia, gathering everything known about a whole array of\\nsubjects, from farming and botany to geography and anthropology, but the most\\ninfluential contribution, filling up volumes seven through 11, were his\\nwritings on zoology, the study of all living creatures. But here’s the thing –\\nPliny the Elder, like everyone else in his society, lacked the proper tools to\\ndig deep and apply hard science to every creature he wrote about. He also\\nlacked the ability to travel and see each animal he described, so he relied\\nheavily on others, like Aristotle’s <i>Historia\\nAnimalium</i> and the writings of Eratosthenes and Hipparchus, and that meant his\\ncollection was less than perfect. How so? Well, his work on zoology included\\nsuch amazing animals as dragons, mermen, and even something called a <i>blemmyae</i>, a race of hairy, human-like\\nbeings who literally had no head on their shoulders, with eyes and a mouth\\nright in the middle of their chest. Pliny was thorough, for sure, but not very\\ndiscerning with his source material. </p>  <p>But what\\nhis work did do was give birth to something a lot of people have heard of, a type\\nof book known as a bestiary. It took a while for their availability to spread,\\nbut by the early middle ages, bestiaries were a common enough resource. They\\nwere, at the basic level, books about known animals, typically with colourful\\ndrawings to help the reader visualise the specific details of each entry, and\\nover the centuries, some editions became more popular than others. One of the\\nmost famous is the Aberdeen Bestiary, an illuminated manuscript that dates back\\nto the 12<sup>th</sup> century. Aside from being a beautiful example of\\nmedieval artwork – and I mean that, you should seriously do an internet search\\nfor sample pages – the Aberdeen Bestiary is also a powerful example of just how\\npopular these books really were. It’s filled with images of all sorts of animals,\\nalong with rocks, fish, trees and even worms, and a lot of the entries in the\\nmanuscript include notes about the nature of the thing in question, making it a\\nvaluable reference tool for any budding naturalist. But these bestiaries did more\\nthan that – they inspired the popular culture of their day. </p>  <p>England’s\\nKing John, who reigned from 1177 to 1216 was said to have a copy of Pliny the\\nElder’s <i>Natural History</i> in his personal\\ncollection, and John’s son and successor, King Henry III, even used images from\\nit to decorate one of the chambers at Westminster. As their popularity spread,\\nmore and more writers got in on the tradition. The Norman poet Philip de Thaun wrote\\na bestiary about a generation after William the Conqueror invaded England, and\\nit became a gift for King Henry II’s wife, Eleanor of Aquitaine. Even Leonardo\\nda Vinci made one. It seems if you were an intelligent person in the middle\\nages or the Renaissance, making your own bestiary was practically a rite of\\npassage – and let’s be honest, colourful manuscripts filled with unbelievable creatures\\nand animals that defied logic couldn’t not be popular. Humans have this innate\\ndesire to look at curious things. We’ve always been rubberneckers, straining to\\ntake a long, hard look at things that sit outside our normal experience, and\\nthe spread of bestiaries is proof of that. But those ancient books and manuscripts\\nalso teach us something else about ourselves. Human beings are creative\\ncreatures. When faced with a mysterious gap in our knowledge, we’re more likely\\nto invent something to plug the hole than to leave the question unanswered – and\\nwhat we’ve come up with is equal parts entertaining and downright terrifying.</p>  <p>I\\nmentioned earlier how the internet and the accessibility of powerful devices has\\ngiven us an edge over our predecessors, and in a lot of ways that’s true. Yes,\\nwe have access to a huge majority of our collective knowledge, but not all of\\nit. In fact, there are still things we don’t know. For example, scientists\\ntoday believe that there are roughly 8.7 million animal species on this planet,\\nand yet 86% of the ones that would live on land still haven’t been discovered\\nor studied, and it’s even worse inside our oceans, where over 90% of life is\\nstill a mystery to us. We know a lot, yes, but our world is massive and diverse,\\nand that makes the learning process slow and tedious. Some animals are also a\\nbit harder to track down, they’re less abundant or more shy, and so it’s made\\nstudying them more of a challenge. A good example is the platypus. For a very\\nlong time, scientists thought the descriptions of it were nothing more than a\\nhoax. I mean, it was rumoured in 1799 to be a hybrid of a duck and a water rat,\\npart mammal and part bird, with venomous spurs that could kill a dog, and while\\nwe’ve learnt more about them over the years, the platypus is still an allusive\\ncreature. A recent documentarian was able to get what he considered to be a\\ngoldmine of actual footage of the animal, amounting to about 30 seconds, and\\nwhen only half a minute of film is something to celebrate, you know the animal\\nis hard to study. </p>  <p>Of course,\\nwhile we’re searching for new species, the ones we do know about are slowly\\ndying off, which doesn’t help. Some estimates place the number of species on\\nthe edge of extinction at around 20,000, and more get added to that list all\\nthe time. For the medieval writers of bestiaries, this would be their worst\\nnightmare. All those creatures belong in their books, and yet they keep slipping\\naway. But at the same time, not being able to see an animal never really\\nstopped those ancient writers from including it in their catalogue of life on\\nearth. In fact, there are a lot of entries that would cause most people to\\nscratch their heads, because while, yes, we’ve grown in our understanding of\\nthe world around us, these bestiaries serve as a time capsule of our gullibility.\\nAs far back as Pliny the Elder’s collection on natural history, we can see\\nthose less believable creatures pop up. He once wrote that thousands of sea-nymphs\\nknown as <i>neriads</i> had washed up on the\\nshores of what is modern day France, and that they looked just like the nymphs\\nof the land, except that they were covered in fish scales. He also wrote about\\nthat fiery bird of legend known as the phoenix, which was known to burst into\\nflames before re-emerging from its own ashes. And of course, I’ve already\\nmentioned his fascination with mermen and <i>blemmyae</i>.\\nIt seems that Pliny the Elder had an obsession with gathering all known\\ncreatures, whether or not he had witnessed them with his own eyes. </p>  <p>Other historians\\nadded their own contributions to those mystical lists as well, and if I ran\\nthrough it for you now, it would sound like a recap of the <i>Harry Potter </i>series. Hippos and elephants shared the same space as\\nhippogriffs and mandrakes. There were dragons and tritons, giants and sea\\nmonsters. Honestly, it sometimes seemed that if a young child could draw a\\npicture of it, that was good enough to get it included. Of course, some\\ncreatures were more popular than others, and that popularity varied from\\nculture to culture. In Europe, one of the most talked about creatures of all\\nwas also one of the smallest, but don’t let its size fool you, because there\\nwas nothing safe about the basilisk. Our old friend, Pliny the Elder, wrote about\\nit 2000 years ago, describing it as a serpent with legs that was no larger than\\na foot in length. But what it lacked in size, it more than made up for with\\nattitude and special features. A basilisk was said to stand tall on its back\\nlegs and had a crown-like plume on top of its head. And they were dangerous,\\ntoo – according to the stories, basilisks were so poisonous that even looking\\nat them could get you killed. Other creatures avoided the like the plague, and\\nwherever they chose to make their nests, the plant life would die and wither\\naway. One description I read said that if a man on horseback stabbed the\\nbasilisk with a spear, the poison was so powerful that it could climb up the\\nspear, kill the man, and then kill the horse as well. </p>  <p>Of course,\\nwhen something is that powerful and deadly, it eventually becomes the centrepiece\\nof tales of valour. It’s said that Alexander the Great once killed a basilisk,\\nand like many of the other legends about him, he did it in a way that proved\\nnot just his might but also his intelligence. It’s said that he polished his\\nshield until it was like a mirror, and then approached the creature holding it\\noutward. When the basilisk saw its own reflection, it fell victim to its\\npoisonous gaze and instantly dropped dead. We can find images of the basilisk\\nin just about every bestiary in existence, most of which look like a cross\\nbetween a snake and a rooster. There’s a statue of one in Vienna, commemorating\\nan 11<sup>th</sup> century hunt, and there’s even a church in Sweden with a\\ncarved relief showing St. Michael stabbing one with a spear. So popular was\\nthis creature that people sold powders that they claimed to be ground-up\\nbasilisk, something that most people purchased for use in alchemy, but more\\nthan a few used as an antidote to poison. Everywhere you look through the\\nmiddle ages and earlier, the basilisk is waiting to rear its poisonous little\\nhead. You can see society’s attraction to it in their folklore and superstition,\\na mixture of fear and fascination, of wonder and disgust. For centuries, it\\npopped up in stories whispered all around Europe, like a well-loved character\\nin a popular book series. But if one account is any indication, it might not be\\na work of fiction after all. </p>  <p>The people\\nof Warsaw had a problem on their hands. They were two decades into a new\\npolitical structure known as the Polish-Lithuanian Commonwealth, and while it gave\\na lot of freedom to the wealthy and elite, it left the lower class in a\\nconstant state of fear and oppression. Life in the city was challenging for\\nmany people, but that was the new normal. In 1587, though, something happened\\nto put the people of Warsaw on edge. Livestock in the area around an old,\\nruined building had begun to turn up dead. Even a few of the neighbouring\\nresidents had been found poisoned in their beds, washing over the community\\nwith a wave of grief and loss. And in the midst of all that confusion and pain,\\ntwo of the neighbourhood children disappeared. Well, disappeared might not be\\nthe right word for it. Folks had seen the two young girls playing near the\\nruins, they had watched them laugh and skip and revel in the freedom and joy\\nthat came with childhood, most likely muttering quiet prayers that it would\\nlast as long as possible. The neighbours knew what sort of hard life awaited\\nthose girls once they were old enough to work and carry their own weight. Their\\njoy must have been bittersweet. </p>  <p>And then\\nsomeone watched them step inside the ruins. That was the first reason to worry.\\nFolks avoided the ruins for a good reason – it was dark and dangerous, and the\\ncellar beneath it had been a den for all sorts of animals. So, whoever it was\\nthat watched them disappear into the shadows most likely headed over to warn\\nthe girls’ parents. When everyone arrived at the ruins to call them out, though,\\nthey were no longer visible. While there was a good chance they had simply\\nmoved on to a new playground, someone decided to peer inside the dark cellar,\\nand there, laying on the broken stone floor, were the sleeping forms of both\\ngirls. So, one of the older women stepped inside to wake them. A moment later,\\nthough, she collapsed into a heap beside the girls, sending the growing crowd into\\na panic. They didn’t know what was causing the people inside the cellar to lose\\nconsciousness, but they knew there was something dangerous about the dark\\nspace, so they sent for a fire hook – a long pole with a metal hook on the end –\\nand then reached in and pulled each body out into the light. All three of them\\nwere dead, and not just dead – they were bloated and dark, as if they’d been\\ndead for days. Most frightening of all, though, was that their eyes seemed to\\nbe protruding from their sockets. No one could be sure, but it almost looked as\\nif they’d been frightened to death. </p>  <p>Wanting\\nanswers, they sent for Benedictus, the king’s very own physician. If anyone\\nwould have the skill to identify the danger, it would be him. And, sure enough,\\nafter taking a long look at the trio of bodies, he brought them a definitive\\nanswer. All of them had been killed by a basilisk. In an instant, the\\natmosphere around the old ruins changed. Newcomers came to watch, while leaders\\ngathered to form a plan. Something had to be done, and just like the stories\\nall of them had grown up with, it seemed that a basilisk hunt was in order, but\\nthe trouble was no one wanted to risk their lives by entering the cellar to kill\\nit – not even Benedictus, who seemed to know the most about the creature. But\\nthey had an idea. A group of leaders from the community quickly headed to the\\nlocal jail, where two men awaited execution for various capital crimes. Each man\\nwas given the same offer: come kill the basilisk, and you will receive a full\\npardon and your freedom as a reward. It seemed like an easy choice, too –\\ninside jail, there was no chance of survival. Outside, though, there was at\\nleast the possibility they might survive. It made sense to everyone.</p>  <p>The first\\ncriminal declined the offer, but the other one, a man named Johann Faurer,\\nagreed to help. He was escorted from the jail to the old ruins, where\\nBenedictus awaited him with tools and instructions. The townsfolk had quickly\\ngathered dozens of small mirrors and sewn them onto a pair of leather pants and\\na coat. I imagine Johann gave the old physician a sideways glance at the sheer\\nridiculousness of it all, but at the same time, he would have known the\\nfolklore just as well as everyone else. Alexander the Great had defeated a\\nbasilisk using a mirror-like shield, so why would it not work for him? With a\\ncrowd of over 2000 witnesses watching, Johann began to carefully walk into the\\nruins, where he entered the cellar. He had a long rake in one hand and a torch\\nin the other, to light his way, and as soon as he stepped into the darkness\\nbelow, he cried out that he could see it – a long, serpent-like tail, with a\\nhead that resembled that of a rooster, right down to the crown-like plumage.\\nBenedictus called out instructions to the man. “Grab it with the rake,” he told\\nhim, “and then carry it out here into the light.” Johann shouted back that he\\nunderstood, and the entire crowd began to shift and rumble. If a basilisk was\\ngoing to be dragged out of the ruins, no one wanted to be around to see it, so\\nthey all ran for cover and hid their eyes. When Johann emerged, he held the writhing\\ncreature by the neck in one of his gloved hands. They daylight somehow made it\\nweaker, and that gave Benedictus the courage to step closer and examine it. It\\nlooked exactly like the bestiaries of old had taught him – the body of a snake,\\nfour long legs and a head that looks very much like a rooster. </p>  <p>But sadly,\\nthis is where the account of the basilisk hunt ends. Whoever had been recording\\nthe events had most likely been in the crowd, and when Johann had begun to\\nemerge from the cellar, they had followed the crowd into hiding, which leaves\\nthe ending a bit of a mystery. Who killed the creature, when all was said and\\ndone, and how did they do it, knowing the risks the old legends spoke of? What\\nwe do know is this: the Warsaw basilisk hunt of 1587 was the last time the\\ncreature was reported anywhere in Europe. Maybe it had been the last of its kind,\\nand its death marked its extinction, or perhaps the few that survived had a knack\\nfor staying out of sight – like the platypus of Australia. Either way, all that\\nwas left from that moment on were legends and stories. Like so many creatures\\nthat have once walked the earth, the basilisk – if it was ever real to begin\\nwith – has slipped into the shadows of the past, and it’s never been seen\\nagain. </p>  <p>There\\nreally is something delightful about the bestiaries of old. Their colourful\\npages and evocative descriptions were beyond sensational. In a world without\\ntelevision, radio or easily accessible works of fiction, those catalogues of\\nnatural history were the closest most people could get to travelling the world.\\nOf course, the things most authors chose to include in their bestiaries would probably\\nnever make the cut in our modern times. After all, headless tribesmen with eyes\\non their chests, unicorns and sea nymphs all feel more like characters in a\\nfantasy novel than entries in a study on the world’s flora and fauna. And yet\\nsome of those expectations have been broken over the years. For centuries,\\nsailors told stories about the kraken, enormous sea creatures that could reach\\nout and drag an entire ship underwater with its long tentacles. King Sverre of\\nNorway recorded its description way back in 1180, and for hundreds of years\\npeople claimed to spot them in the waters of the ocean. Then, in 1853, the\\ncarcass of a giant squid washed up on a Danish beach, giving the legend new\\nlife. Over the century and a half since then, scientists have determined that\\nthere is indeed a giant sea creature that fits the ancient descriptions – give or\\ntake a few sinking ships, of course – and while they’ve been challenging to\\ncatch on film, we now know they exist. And those mermaids of old might have\\nroots in actual animals as well. Many scientists and scholars now believe that\\nold reports of mermaids could very well be mistaken sightings of an aquatic mammal\\nknown as the manatee. As is so often the case, our misunderstandings had given\\nbirth to frightening legends, only to have science bring a bit of clarity to the\\ntale. Sometimes the monsters of the ancient world turn out to be real, and\\nsometimes legends inspire new discoveries. </p>  <p>In the\\npart of the world that stretches from Mexico to South America, scientists have\\nbeen familiar for over a century with a lizard from the iguana family. It’s not\\nthe largest reptile around, but it can grow to around 2ft in length, and it can\\nrun at amazing speeds. Some scientists refer to it as the Jesus Christ Lizard\\nbecause of its strange ability to run across the surface of water. But its most\\ncommon name is based on other features, like its tendency to run on two legs\\nand its serpent-like body – a body that’s topped with a head and plumes reminiscent\\nof a crown or a rooster, which is why its name is both logical and a bit of a\\nthrowback. They call it the basilisk. </p>  <p>There’s\\nsomething enticing about the mysteries that fill the gaps in our knowledge of\\nthe world around us. Looking back at the bestiaries of the middle ages, its clear\\nhumans have had a lot of fun filling those holes, and the creativity of the\\npast has continued to inspire stories today. But there’s one more creature I\\nwant to tell you about. Stick around after this brief sponsor break to learn\\nall about it. </p>  <p>[Sponsor\\nbreak from Bombas, Casper and Fracture]</p>  <p>They had\\nfallen in love, and it was something that would change their destiny forever.\\nAt least, that’s how the legend tells it. Long ago, a young man lived on a\\nsmall island surrounded by deep blue seas, and in the process of hunting one\\nday, he encountered a beautiful young woman. But the hunter quickly learned\\nthat there was more to her than he could see with his eyes. The woman, it turns\\nout, was a fairy. In fact, she was well known to the locals there, who referred\\nto her as the Dragon Princess. Despite their differences – him, a normal human\\nbeing, and her, a magical fairy – the two of them fell in love and were soon\\nmarried, and that helps this tale become on of those happily ever after stories\\nthat we all love so much. The couple went on to have twins, a boy and a girl,\\nand just like their parents, they were an odd pair. The boy was just like his\\nfather, a human with no magical powers of his own, while the girl took after\\nher mother, and because of that, both parents decided that the children should\\nbe raised in separate places to help them fully become who they were meant to\\nbe. </p>  <p>According to\\nthe legend, it was many years later when the son was out hunting, just as his\\nfather had taught him. He was creeping through the forest, his spear balanced\\nin one hand, when he spotted a deer. He quickly threw the weapon, which found\\nits target, and a heartbeat later the young man was carefully making his way\\nover to collect his prize, and that’s when the dragon stepped out of the trees.\\nIt was enormous and frightening, and it clearly wanted to take the deer that he\\nhad just killed. The young hunter spoke to it, begging it to leave his future\\nmeal alone, but the creature ignored him and proceeded to move toward the deer,\\nso he lifted another spear and got ready to take aim at the dragon. Suddenly, a\\nfigure stepped out of the shadows of the forest and stopped him. It was his\\nmother, the fairy princess, who he had not seen since his childhood, and as she\\napproached him, she spoke a word of warning. “Do not throw that spear”, she told\\nhim, “for that is no ordinary dragon. That is your sister.” Instead, she taught\\nhim to live in harmony with his sister, and according to the legend, that fateful\\nmeeting set the destiny of their entire community on a new path. Even today, if\\nyou were to visit the place where they lived, the people there would tell you\\nthat they are descended from dragons, illustrating how that harmony has\\ncontinued. </p>  <p>And of\\ncourse, this story is just one of many tales about dragons that fill the pages\\nof folklore. In fact, most of us would be hard pressed to find a creature\\nmentioned more often than those magical beasts, from the 11<sup>th</sup>\\ncentury legend of King George and the Dragon to the fantasy novels and television\\nshows of our modern world. They really do seem to be the king of monsters.\\nDragons are also one of those nearly universal creatures. It seems just about\\nevery culture around the world has had some version of them in their folklore.\\nThe ancient Egyptian god of chaos was Apophis, represented as a giant serpent.\\nThe Babylonians had their own god of chaos called Tiemat, and in Arcadian\\nmythology there were not one but three dragons on display. Norse mythology\\nfeatures a giant serpent who gnaws at the roots of the world tree. In Ukrainian\\nfolklore, there is a dragon with three heads, while images of dragons can be\\nfound all over medieval heraldry. And of course, few cultures on earth hold as\\ntightly to their dragon mythology as the Chinese, who have been decorating\\nobjects with images of the creature at least as far back as the Neolithic period,\\nand we could speculate why, I’m sure. It doesn’t take a lot of imagination to\\nsee how the accidental discovery of dinosaur bones might spark fear and wonder\\nin the minds of humans thousands of years ago. The places where stories of\\ndragons are most common are also places where such fossils have been uncovered,\\nso it does make sense. </p>'"
      ]
     },
     "execution_count": 9,
     "metadata": {},
     "output_type": "execute_result"
    }
   ],
   "source": [
    "# First two and last two paragraphs aren't from podcast.  They were written by the transcriber.  Get rid of 'em!\n",
    "Lore_df['Text'] = Lore_df.Text.map(lambda t: '  '.join(t[2:-2]))\n",
    "Lore_df.Text[0]"
   ]
  },
  {
   "cell_type": "code",
   "execution_count": 10,
   "metadata": {},
   "outputs": [
    {
     "data": {
      "text/plain": [
       "'In early\\nwinter of 1822, Captain Samuel Barrett Edes became a hero. He was sailing in\\nthe south-east Pacific when he and his crew encountered a Dutch ship that was\\nin trouble. Edes managed to save every single one of the Dutch soldiers, and\\nthen headed for the city of Batavia, known today as Jakarta, to drop them off\\nand see if a reward could be collected. While he waited, he did some shopping.\\nNow, Edes wasn’t rich by any stretch of the imagination, but he owned a small\\nportion of the ship he sailed and of course, he was expecting a handsome reward\\nfor his heroic efforts. With this in mind, he kept an eye open for something\\nunusual and conversation-worthy to take home, and that’s when he saw it.  was a mummified mermaid. It was over\\ntwo feet long, had the curved tail one might find on a fish, but the upper body\\nof something much more human in shape. It was brown from the preservation\\nprocess, wrinkled with age and entirely addictive to look at, and Captain Edes\\nknew instantly that he had to own it. In late January of 1822, he did something\\nbold. He sold the ship he did not fully own and used the proceeds to buy the\\nmermaid. Then he found transportation back to London and put the odd creature\\non display, because just about everyone who saw it believed that it was real.   Of course,\\nthere were those who could see through the hoax. Captain Edes had been fooled\\nby a clever craftsman who had sewn the torso of an orangutan onto the lower\\nhalf of a large salmon. Elements were added to the face and hands to give it a\\nmore humanlike appearance, but those with training in natural science and anatomy\\ncould spot the hidden clues that gave it all away. That didn’t matter to most\\npeople, though. The idea that mermaids could be real had been around for\\ncenturies, so when something as powerful as a mummified specimen floated into\\ntheir world, they were blind to its flaws and impossibility. They wanted to believe,\\ndeep down inside, that the hybrids of folklore actually existed. Today, we know\\na lot more about our world than we used to, but if we were to go back in time\\nand live through a less learned age, we would be amazed at the stories that\\nawait us, tales of creatures that sit at the very edge of our imagination,\\nliving things that defy logic, and monsters that inspire wonder. Our hearts\\nwant to believe while our minds are ready to move on. Instead, what we tend to\\nfeel is a mixture of deep curiosity and primal fear, and if the tales from the\\npast are any indication, there’s a good reason why. I’m Aaron Mahnke, and this\\nis .   When we\\ntalk about the natural world, the very first thing we need to do is gain some\\nperspective. Today, we live in a technologically rich society. We carry\\nsupercomputers in our pockets that are more powerful than the ones that sent\\nthe first humans to the moon. We can walk past an intriguing part of our\\nneighbourhood, pull out our phones and look at a satellite map or do a search\\nfor more information. We’re still hungry people, curious and drawn to unanswered\\nquestions, but rather than starving in a house with little food, we feast each\\nday on a never-ending buffet of answers and information. Today, if you want to\\nknow something, chances are good you can learn about it in an instant, but\\nhundreds of years ago, that was an impossibility. Not that people didn’t try,\\nthough. 2000 years ago, a Roman named Gaius Plinius Secundus attempted to\\ngather everything knowable into one place, and he did an admirable job considering\\nthe world he lived in. Gaius was born into a wealthy Roman family in the year 24AD\\nand followed a path of privilege all the way to the top. He was well educated,\\nwell connected, and when he entered the Roman military, he quickly rose to the\\nsecond highest level possible – the equestrian order. Once out of the military,\\nhe served as a lawyer, before being assigned various governorships around the\\nempire, and towards the end of his life, he had the privilege to serve as\\nadvisor to two different emperors. Today, we know him as Pliny the Elder, but\\nin his day, Gaius was a success story.   Looking\\nback, his biggest legacy was his 37 volume collection of knowledge called Natural History. It was possibly the\\nworld’s first encyclopaedia, gathering everything known about a whole array of\\nsubjects, from farming and botany to geography and anthropology, but the most\\ninfluential contribution, filling up volumes seven through 11, were his\\nwritings on zoology, the study of all living creatures. But here’s the thing –\\nPliny the Elder, like everyone else in his society, lacked the proper tools to\\ndig deep and apply hard science to every creature he wrote about. He also\\nlacked the ability to travel and see each animal he described, so he relied\\nheavily on others, like Aristotle’s Historia\\nAnimalium and the writings of Eratosthenes and Hipparchus, and that meant his\\ncollection was less than perfect. How so? Well, his work on zoology included\\nsuch amazing animals as dragons, mermen, and even something called a , a race of hairy, human-like\\nbeings who literally had no head on their shoulders, with eyes and a mouth\\nright in the middle of their chest. Pliny was thorough, for sure, but not very\\ndiscerning with his source material.   But what\\nhis work did do was give birth to something a lot of people have heard of, a type\\nof book known as a bestiary. It took a while for their availability to spread,\\nbut by the early middle ages, bestiaries were a common enough resource. They\\nwere, at the basic level, books about known animals, typically with colourful\\ndrawings to help the reader visualise the specific details of each entry, and\\nover the centuries, some editions became more popular than others. One of the\\nmost famous is the Aberdeen Bestiary, an illuminated manuscript that dates back\\nto the 12 century. Aside from being a beautiful example of\\nmedieval artwork – and I mean that, you should seriously do an internet search\\nfor sample pages – the Aberdeen Bestiary is also a powerful example of just how\\npopular these books really were. It’s filled with images of all sorts of animals,\\nalong with rocks, fish, trees and even worms, and a lot of the entries in the\\nmanuscript include notes about the nature of the thing in question, making it a\\nvaluable reference tool for any budding naturalist. But these bestiaries did more\\nthan that – they inspired the popular culture of their day.   England’s\\nKing John, who reigned from 1177 to 1216 was said to have a copy of Pliny the\\nElder’s Natural History in his personal\\ncollection, and John’s son and successor, King Henry III, even used images from\\nit to decorate one of the chambers at Westminster. As their popularity spread,\\nmore and more writers got in on the tradition. The Norman poet Philip de Thaun wrote\\na bestiary about a generation after William the Conqueror invaded England, and\\nit became a gift for King Henry II’s wife, Eleanor of Aquitaine. Even Leonardo\\nda Vinci made one. It seems if you were an intelligent person in the middle\\nages or the Renaissance, making your own bestiary was practically a rite of\\npassage – and let’s be honest, colourful manuscripts filled with unbelievable creatures\\nand animals that defied logic couldn’t not be popular. Humans have this innate\\ndesire to look at curious things. We’ve always been rubberneckers, straining to\\ntake a long, hard look at things that sit outside our normal experience, and\\nthe spread of bestiaries is proof of that. But those ancient books and manuscripts\\nalso teach us something else about ourselves. Human beings are creative\\ncreatures. When faced with a mysterious gap in our knowledge, we’re more likely\\nto invent something to plug the hole than to leave the question unanswered – and\\nwhat we’ve come up with is equal parts entertaining and downright terrifying.  I\\nmentioned earlier how the internet and the accessibility of powerful devices has\\ngiven us an edge over our predecessors, and in a lot of ways that’s true. Yes,\\nwe have access to a huge majority of our collective knowledge, but not all of\\nit. In fact, there are still things we don’t know. For example, scientists\\ntoday believe that there are roughly 8.7 million animal species on this planet,\\nand yet 86% of the ones that would live on land still haven’t been discovered\\nor studied, and it’s even worse inside our oceans, where over 90% of life is\\nstill a mystery to us. We know a lot, yes, but our world is massive and diverse,\\nand that makes the learning process slow and tedious. Some animals are also a\\nbit harder to track down, they’re less abundant or more shy, and so it’s made\\nstudying them more of a challenge. A good example is the platypus. For a very\\nlong time, scientists thought the descriptions of it were nothing more than a\\nhoax. I mean, it was rumoured in 1799 to be a hybrid of a duck and a water rat,\\npart mammal and part bird, with venomous spurs that could kill a dog, and while\\nwe’ve learnt more about them over the years, the platypus is still an allusive\\ncreature. A recent documentarian was able to get what he considered to be a\\ngoldmine of actual footage of the animal, amounting to about 30 seconds, and\\nwhen only half a minute of film is something to celebrate, you know the animal\\nis hard to study.   Of course,\\nwhile we’re searching for new species, the ones we do know about are slowly\\ndying off, which doesn’t help. Some estimates place the number of species on\\nthe edge of extinction at around 20,000, and more get added to that list all\\nthe time. For the medieval writers of bestiaries, this would be their worst\\nnightmare. All those creatures belong in their books, and yet they keep slipping\\naway. But at the same time, not being able to see an animal never really\\nstopped those ancient writers from including it in their catalogue of life on\\nearth. In fact, there are a lot of entries that would cause most people to\\nscratch their heads, because while, yes, we’ve grown in our understanding of\\nthe world around us, these bestiaries serve as a time capsule of our gullibility.\\nAs far back as Pliny the Elder’s collection on natural history, we can see\\nthose less believable creatures pop up. He once wrote that thousands of sea-nymphs\\nknown as  had washed up on the\\nshores of what is modern day France, and that they looked just like the nymphs\\nof the land, except that they were covered in fish scales. He also wrote about\\nthat fiery bird of legend known as the phoenix, which was known to burst into\\nflames before re-emerging from its own ashes. And of course, I’ve already\\nmentioned his fascination with mermen and .\\nIt seems that Pliny the Elder had an obsession with gathering all known\\ncreatures, whether or not he had witnessed them with his own eyes.   Other historians\\nadded their own contributions to those mystical lists as well, and if I ran\\nthrough it for you now, it would sound like a recap of the Harry Potter series. Hippos and elephants shared the same space as\\nhippogriffs and mandrakes. There were dragons and tritons, giants and sea\\nmonsters. Honestly, it sometimes seemed that if a young child could draw a\\npicture of it, that was good enough to get it included. Of course, some\\ncreatures were more popular than others, and that popularity varied from\\nculture to culture. In Europe, one of the most talked about creatures of all\\nwas also one of the smallest, but don’t let its size fool you, because there\\nwas nothing safe about the basilisk. Our old friend, Pliny the Elder, wrote about\\nit 2000 years ago, describing it as a serpent with legs that was no larger than\\na foot in length. But what it lacked in size, it more than made up for with\\nattitude and special features. A basilisk was said to stand tall on its back\\nlegs and had a crown-like plume on top of its head. And they were dangerous,\\ntoo – according to the stories, basilisks were so poisonous that even looking\\nat them could get you killed. Other creatures avoided the like the plague, and\\nwherever they chose to make their nests, the plant life would die and wither\\naway. One description I read said that if a man on horseback stabbed the\\nbasilisk with a spear, the poison was so powerful that it could climb up the\\nspear, kill the man, and then kill the horse as well.   Of course,\\nwhen something is that powerful and deadly, it eventually becomes the centrepiece\\nof tales of valour. It’s said that Alexander the Great once killed a basilisk,\\nand like many of the other legends about him, he did it in a way that proved\\nnot just his might but also his intelligence. It’s said that he polished his\\nshield until it was like a mirror, and then approached the creature holding it\\noutward. When the basilisk saw its own reflection, it fell victim to its\\npoisonous gaze and instantly dropped dead. We can find images of the basilisk\\nin just about every bestiary in existence, most of which look like a cross\\nbetween a snake and a rooster. There’s a statue of one in Vienna, commemorating\\nan 11 century hunt, and there’s even a church in Sweden with a\\ncarved relief showing St. Michael stabbing one with a spear. So popular was\\nthis creature that people sold powders that they claimed to be ground-up\\nbasilisk, something that most people purchased for use in alchemy, but more\\nthan a few used as an antidote to poison. Everywhere you look through the\\nmiddle ages and earlier, the basilisk is waiting to rear its poisonous little\\nhead. You can see society’s attraction to it in their folklore and superstition,\\na mixture of fear and fascination, of wonder and disgust. For centuries, it\\npopped up in stories whispered all around Europe, like a well-loved character\\nin a popular book series. But if one account is any indication, it might not be\\na work of fiction after all.   The people\\nof Warsaw had a problem on their hands. They were two decades into a new\\npolitical structure known as the Polish-Lithuanian Commonwealth, and while it gave\\na lot of freedom to the wealthy and elite, it left the lower class in a\\nconstant state of fear and oppression. Life in the city was challenging for\\nmany people, but that was the new normal. In 1587, though, something happened\\nto put the people of Warsaw on edge. Livestock in the area around an old,\\nruined building had begun to turn up dead. Even a few of the neighbouring\\nresidents had been found poisoned in their beds, washing over the community\\nwith a wave of grief and loss. And in the midst of all that confusion and pain,\\ntwo of the neighbourhood children disappeared. Well, disappeared might not be\\nthe right word for it. Folks had seen the two young girls playing near the\\nruins, they had watched them laugh and skip and revel in the freedom and joy\\nthat came with childhood, most likely muttering quiet prayers that it would\\nlast as long as possible. The neighbours knew what sort of hard life awaited\\nthose girls once they were old enough to work and carry their own weight. Their\\njoy must have been bittersweet.   And then\\nsomeone watched them step inside the ruins. That was the first reason to worry.\\nFolks avoided the ruins for a good reason – it was dark and dangerous, and the\\ncellar beneath it had been a den for all sorts of animals. So, whoever it was\\nthat watched them disappear into the shadows most likely headed over to warn\\nthe girls’ parents. When everyone arrived at the ruins to call them out, though,\\nthey were no longer visible. While there was a good chance they had simply\\nmoved on to a new playground, someone decided to peer inside the dark cellar,\\nand there, laying on the broken stone floor, were the sleeping forms of both\\ngirls. So, one of the older women stepped inside to wake them. A moment later,\\nthough, she collapsed into a heap beside the girls, sending the growing crowd into\\na panic. They didn’t know what was causing the people inside the cellar to lose\\nconsciousness, but they knew there was something dangerous about the dark\\nspace, so they sent for a fire hook – a long pole with a metal hook on the end –\\nand then reached in and pulled each body out into the light. All three of them\\nwere dead, and not just dead – they were bloated and dark, as if they’d been\\ndead for days. Most frightening of all, though, was that their eyes seemed to\\nbe protruding from their sockets. No one could be sure, but it almost looked as\\nif they’d been frightened to death.   Wanting\\nanswers, they sent for Benedictus, the king’s very own physician. If anyone\\nwould have the skill to identify the danger, it would be him. And, sure enough,\\nafter taking a long look at the trio of bodies, he brought them a definitive\\nanswer. All of them had been killed by a basilisk. In an instant, the\\natmosphere around the old ruins changed. Newcomers came to watch, while leaders\\ngathered to form a plan. Something had to be done, and just like the stories\\nall of them had grown up with, it seemed that a basilisk hunt was in order, but\\nthe trouble was no one wanted to risk their lives by entering the cellar to kill\\nit – not even Benedictus, who seemed to know the most about the creature. But\\nthey had an idea. A group of leaders from the community quickly headed to the\\nlocal jail, where two men awaited execution for various capital crimes. Each man\\nwas given the same offer: come kill the basilisk, and you will receive a full\\npardon and your freedom as a reward. It seemed like an easy choice, too –\\ninside jail, there was no chance of survival. Outside, though, there was at\\nleast the possibility they might survive. It made sense to everyone.  The first\\ncriminal declined the offer, but the other one, a man named Johann Faurer,\\nagreed to help. He was escorted from the jail to the old ruins, where\\nBenedictus awaited him with tools and instructions. The townsfolk had quickly\\ngathered dozens of small mirrors and sewn them onto a pair of leather pants and\\na coat. I imagine Johann gave the old physician a sideways glance at the sheer\\nridiculousness of it all, but at the same time, he would have known the\\nfolklore just as well as everyone else. Alexander the Great had defeated a\\nbasilisk using a mirror-like shield, so why would it not work for him? With a\\ncrowd of over 2000 witnesses watching, Johann began to carefully walk into the\\nruins, where he entered the cellar. He had a long rake in one hand and a torch\\nin the other, to light his way, and as soon as he stepped into the darkness\\nbelow, he cried out that he could see it – a long, serpent-like tail, with a\\nhead that resembled that of a rooster, right down to the crown-like plumage.\\nBenedictus called out instructions to the man. “Grab it with the rake,” he told\\nhim, “and then carry it out here into the light.” Johann shouted back that he\\nunderstood, and the entire crowd began to shift and rumble. If a basilisk was\\ngoing to be dragged out of the ruins, no one wanted to be around to see it, so\\nthey all ran for cover and hid their eyes. When Johann emerged, he held the writhing\\ncreature by the neck in one of his gloved hands. They daylight somehow made it\\nweaker, and that gave Benedictus the courage to step closer and examine it. It\\nlooked exactly like the bestiaries of old had taught him – the body of a snake,\\nfour long legs and a head that looks very much like a rooster.   But sadly,\\nthis is where the account of the basilisk hunt ends. Whoever had been recording\\nthe events had most likely been in the crowd, and when Johann had begun to\\nemerge from the cellar, they had followed the crowd into hiding, which leaves\\nthe ending a bit of a mystery. Who killed the creature, when all was said and\\ndone, and how did they do it, knowing the risks the old legends spoke of? What\\nwe do know is this: the Warsaw basilisk hunt of 1587 was the last time the\\ncreature was reported anywhere in Europe. Maybe it had been the last of its kind,\\nand its death marked its extinction, or perhaps the few that survived had a knack\\nfor staying out of sight – like the platypus of Australia. Either way, all that\\nwas left from that moment on were legends and stories. Like so many creatures\\nthat have once walked the earth, the basilisk – if it was ever real to begin\\nwith – has slipped into the shadows of the past, and it’s never been seen\\nagain.   There\\nreally is something delightful about the bestiaries of old. Their colourful\\npages and evocative descriptions were beyond sensational. In a world without\\ntelevision, radio or easily accessible works of fiction, those catalogues of\\nnatural history were the closest most people could get to travelling the world.\\nOf course, the things most authors chose to include in their bestiaries would probably\\nnever make the cut in our modern times. After all, headless tribesmen with eyes\\non their chests, unicorns and sea nymphs all feel more like characters in a\\nfantasy novel than entries in a study on the world’s flora and fauna. And yet\\nsome of those expectations have been broken over the years. For centuries,\\nsailors told stories about the kraken, enormous sea creatures that could reach\\nout and drag an entire ship underwater with its long tentacles. King Sverre of\\nNorway recorded its description way back in 1180, and for hundreds of years\\npeople claimed to spot them in the waters of the ocean. Then, in 1853, the\\ncarcass of a giant squid washed up on a Danish beach, giving the legend new\\nlife. Over the century and a half since then, scientists have determined that\\nthere is indeed a giant sea creature that fits the ancient descriptions – give or\\ntake a few sinking ships, of course – and while they’ve been challenging to\\ncatch on film, we now know they exist. And those mermaids of old might have\\nroots in actual animals as well. Many scientists and scholars now believe that\\nold reports of mermaids could very well be mistaken sightings of an aquatic mammal\\nknown as the manatee. As is so often the case, our misunderstandings had given\\nbirth to frightening legends, only to have science bring a bit of clarity to the\\ntale. Sometimes the monsters of the ancient world turn out to be real, and\\nsometimes legends inspire new discoveries.   In the\\npart of the world that stretches from Mexico to South America, scientists have\\nbeen familiar for over a century with a lizard from the iguana family. It’s not\\nthe largest reptile around, but it can grow to around 2ft in length, and it can\\nrun at amazing speeds. Some scientists refer to it as the Jesus Christ Lizard\\nbecause of its strange ability to run across the surface of water. But its most\\ncommon name is based on other features, like its tendency to run on two legs\\nand its serpent-like body – a body that’s topped with a head and plumes reminiscent\\nof a crown or a rooster, which is why its name is both logical and a bit of a\\nthrowback. They call it the basilisk.   There’s\\nsomething enticing about the mysteries that fill the gaps in our knowledge of\\nthe world around us. Looking back at the bestiaries of the middle ages, its clear\\nhumans have had a lot of fun filling those holes, and the creativity of the\\npast has continued to inspire stories today. But there’s one more creature I\\nwant to tell you about. Stick around after this brief sponsor break to learn\\nall about it.   [Sponsor\\nbreak from Bombas, Casper and Fracture]  They had\\nfallen in love, and it was something that would change their destiny forever.\\nAt least, that’s how the legend tells it. Long ago, a young man lived on a\\nsmall island surrounded by deep blue seas, and in the process of hunting one\\nday, he encountered a beautiful young woman. But the hunter quickly learned\\nthat there was more to her than he could see with his eyes. The woman, it turns\\nout, was a fairy. In fact, she was well known to the locals there, who referred\\nto her as the Dragon Princess. Despite their differences – him, a normal human\\nbeing, and her, a magical fairy – the two of them fell in love and were soon\\nmarried, and that helps this tale become on of those happily ever after stories\\nthat we all love so much. The couple went on to have twins, a boy and a girl,\\nand just like their parents, they were an odd pair. The boy was just like his\\nfather, a human with no magical powers of his own, while the girl took after\\nher mother, and because of that, both parents decided that the children should\\nbe raised in separate places to help them fully become who they were meant to\\nbe.   According to\\nthe legend, it was many years later when the son was out hunting, just as his\\nfather had taught him. He was creeping through the forest, his spear balanced\\nin one hand, when he spotted a deer. He quickly threw the weapon, which found\\nits target, and a heartbeat later the young man was carefully making his way\\nover to collect his prize, and that’s when the dragon stepped out of the trees.\\nIt was enormous and frightening, and it clearly wanted to take the deer that he\\nhad just killed. The young hunter spoke to it, begging it to leave his future\\nmeal alone, but the creature ignored him and proceeded to move toward the deer,\\nso he lifted another spear and got ready to take aim at the dragon. Suddenly, a\\nfigure stepped out of the shadows of the forest and stopped him. It was his\\nmother, the fairy princess, who he had not seen since his childhood, and as she\\napproached him, she spoke a word of warning. “Do not throw that spear”, she told\\nhim, “for that is no ordinary dragon. That is your sister.” Instead, she taught\\nhim to live in harmony with his sister, and according to the legend, that fateful\\nmeeting set the destiny of their entire community on a new path. Even today, if\\nyou were to visit the place where they lived, the people there would tell you\\nthat they are descended from dragons, illustrating how that harmony has\\ncontinued.   And of\\ncourse, this story is just one of many tales about dragons that fill the pages\\nof folklore. In fact, most of us would be hard pressed to find a creature\\nmentioned more often than those magical beasts, from the 11\\ncentury legend of King George and the Dragon to the fantasy novels and television\\nshows of our modern world. They really do seem to be the king of monsters.\\nDragons are also one of those nearly universal creatures. It seems just about\\nevery culture around the world has had some version of them in their folklore.\\nThe ancient Egyptian god of chaos was Apophis, represented as a giant serpent.\\nThe Babylonians had their own god of chaos called Tiemat, and in Arcadian\\nmythology there were not one but three dragons on display. Norse mythology\\nfeatures a giant serpent who gnaws at the roots of the world tree. In Ukrainian\\nfolklore, there is a dragon with three heads, while images of dragons can be\\nfound all over medieval heraldry. And of course, few cultures on earth hold as\\ntightly to their dragon mythology as the Chinese, who have been decorating\\nobjects with images of the creature at least as far back as the Neolithic period,\\nand we could speculate why, I’m sure. It doesn’t take a lot of imagination to\\nsee how the accidental discovery of dinosaur bones might spark fear and wonder\\nin the minds of humans thousands of years ago. The places where stories of\\ndragons are most common are also places where such fossils have been uncovered,\\nso it does make sense. '"
      ]
     },
     "execution_count": 10,
     "metadata": {},
     "output_type": "execute_result"
    }
   ],
   "source": [
    "# Use regex to get rid of the html element tags\n",
    "import re\n",
    "\n",
    "Lore_df['Text'] = Lore_df.Text.map(lambda t: re.sub(r'<\\S+>', '', t))\n",
    "Lore_df.Text[0]"
   ]
  },
  {
   "cell_type": "markdown",
   "metadata": {},
   "source": [
    "One last weird thing with the title, then ready for processing!"
   ]
  },
  {
   "cell_type": "code",
   "execution_count": 11,
   "metadata": {},
   "outputs": [
    {
     "data": {
      "text/plain": [
       "list"
      ]
     },
     "execution_count": 11,
     "metadata": {},
     "output_type": "execute_result"
    }
   ],
   "source": [
    "type(Lore_df.Title[0])"
   ]
  },
  {
   "cell_type": "code",
   "execution_count": 12,
   "metadata": {},
   "outputs": [],
   "source": [
    "Lore_df['Title'] = Lore_df.Title.map(lambda t: t[0])"
   ]
  },
  {
   "cell_type": "code",
   "execution_count": 13,
   "metadata": {},
   "outputs": [
    {
     "data": {
      "text/html": [
       "<div>\n",
       "<style scoped>\n",
       "    .dataframe tbody tr th:only-of-type {\n",
       "        vertical-align: middle;\n",
       "    }\n",
       "\n",
       "    .dataframe tbody tr th {\n",
       "        vertical-align: top;\n",
       "    }\n",
       "\n",
       "    .dataframe thead th {\n",
       "        text-align: right;\n",
       "    }\n",
       "</style>\n",
       "<table border=\"1\" class=\"dataframe\">\n",
       "  <thead>\n",
       "    <tr style=\"text-align: right;\">\n",
       "      <th></th>\n",
       "      <th>Episode</th>\n",
       "      <th>Year</th>\n",
       "      <th>Title</th>\n",
       "      <th>Text</th>\n",
       "    </tr>\n",
       "  </thead>\n",
       "  <tbody>\n",
       "    <tr>\n",
       "      <th>13</th>\n",
       "      <td>001</td>\n",
       "      <td>2015</td>\n",
       "      <td>They Made a Tonic</td>\n",
       "      <td>Hollywood is… obsessed. Sure, we often think o...</td>\n",
       "    </tr>\n",
       "    <tr>\n",
       "      <th>10</th>\n",
       "      <td>003</td>\n",
       "      <td>2015</td>\n",
       "      <td>The Beast Within</td>\n",
       "      <td>Ask anyone in the mental health profession abo...</td>\n",
       "    </tr>\n",
       "    <tr>\n",
       "      <th>9</th>\n",
       "      <td>005</td>\n",
       "      <td>2015</td>\n",
       "      <td>Under Construction</td>\n",
       "      <td>On the south-west corner of Iceland, just to t...</td>\n",
       "    </tr>\n",
       "    <tr>\n",
       "      <th>5</th>\n",
       "      <td>007</td>\n",
       "      <td>2015</td>\n",
       "      <td>In the Woods</td>\n",
       "      <td>Nothing can be as isolating or confining as th...</td>\n",
       "    </tr>\n",
       "    <tr>\n",
       "      <th>4</th>\n",
       "      <td>009</td>\n",
       "      <td>2015</td>\n",
       "      <td>The Devil on the Roof</td>\n",
       "      <td>In March of 2014, a hiker in Lithuania stumble...</td>\n",
       "    </tr>\n",
       "  </tbody>\n",
       "</table>\n",
       "</div>"
      ],
      "text/plain": [
       "   Episode  Year                    Title  \\\n",
       "13     001  2015       They Made a Tonic    \n",
       "10     003  2015        The Beast Within    \n",
       "9      005  2015      Under Construction    \n",
       "5      007  2015            In the Woods    \n",
       "4      009  2015   The Devil on the Roof    \n",
       "\n",
       "                                                 Text  \n",
       "13  Hollywood is… obsessed. Sure, we often think o...  \n",
       "10  Ask anyone in the mental health profession abo...  \n",
       "9   On the south-west corner of Iceland, just to t...  \n",
       "5   Nothing can be as isolating or confining as th...  \n",
       "4   In March of 2014, a hiker in Lithuania stumble...  "
      ]
     },
     "execution_count": 13,
     "metadata": {},
     "output_type": "execute_result"
    }
   ],
   "source": [
    "Lore_df.head()"
   ]
  },
  {
   "cell_type": "code",
   "execution_count": null,
   "metadata": {},
   "outputs": [],
   "source": []
  },
  {
   "cell_type": "code",
   "execution_count": 14,
   "metadata": {},
   "outputs": [
    {
     "name": "stdout",
     "output_type": "stream",
     "text": [
      "Stored 'Lore_df' (DataFrame)\n"
     ]
    }
   ],
   "source": [
    "%store Lore_df"
   ]
  }
 ],
 "metadata": {
  "kernelspec": {
   "display_name": "Python 3",
   "language": "python",
   "name": "python3"
  },
  "language_info": {
   "codemirror_mode": {
    "name": "ipython",
    "version": 3
   },
   "file_extension": ".py",
   "mimetype": "text/x-python",
   "name": "python",
   "nbconvert_exporter": "python",
   "pygments_lexer": "ipython3",
   "version": "3.8.5"
  }
 },
 "nbformat": 4,
 "nbformat_minor": 4
}
