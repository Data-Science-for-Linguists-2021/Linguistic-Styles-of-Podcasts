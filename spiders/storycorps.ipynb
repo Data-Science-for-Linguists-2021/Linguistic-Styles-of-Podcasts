{
 "cells": [
  {
   "cell_type": "code",
   "execution_count": 1,
   "metadata": {},
   "outputs": [],
   "source": [
    "import scrapy\n",
    "from scrapy.crawler import CrawlerProcess\n",
    "import pandas\n"
   ]
  },
  {
   "cell_type": "code",
   "execution_count": 2,
   "metadata": {},
   "outputs": [],
   "source": [
    "storycorps_data = []"
   ]
  },
  {
   "cell_type": "code",
   "execution_count": 3,
   "metadata": {},
   "outputs": [],
   "source": [
    "# parses transcript links\n",
    "class Story_Corps(scrapy.Spider):\n",
    "    name = 'StoryCorps'\n",
    "    \n",
    "    def start_requests(self):\n",
    "        base_url = 'https://storycorps.org/podcast/page/'\n",
    "        urls = []\n",
    "        for i in range(1, 30):\n",
    "            urls.append(base_url + str(i) + '/')\n",
    "        for url in urls:\n",
    "            # print(url) # Working\n",
    "            yield scrapy.Request(url=url, callback=self.parse_episode)\n",
    "        \n",
    "    def parse_episode(self, response):\n",
    "        transcript_links = response.xpath('//div[contains(@class, \"col\")]/a/@href').extract() \n",
    "        # print([l for l in transcript_links]) # Working\n",
    "        for link in transcript_links:\n",
    "            yield response.follow(url=link, \n",
    "                                  callback =self.parse_transcript)\n",
    "    \n",
    "    def parse_transcript(self, response):\n",
    "        current_ep = []\n",
    "        \n",
    "        title = response.xpath('//div[@class=\"container-fluid\"]/h2/text()').extract()[0].split(':')\n",
    "        print(title)\n",
    "        current_ep.append(title)            \n",
    "        \n",
    "        # A lot of the episodes don't have episode numbers included\n",
    "        # No dates!\n",
    "        \n",
    "        text = response.xpath('//div[@class=\"transcript-container\"]/p/*/text()').extract()\n",
    "        current_ep.append(text)\n",
    "        \n",
    "        storycorps_data.append(current_ep)"
   ]
  },
  {
   "cell_type": "code",
   "execution_count": 4,
   "metadata": {
    "scrolled": false
   },
   "outputs": [
    {
     "name": "stderr",
     "output_type": "stream",
     "text": [
      "2021-03-11 20:19:22 [scrapy.utils.log] INFO: Scrapy 2.4.1 started (bot: scrapybot)\n",
      "2021-03-11 20:19:22 [scrapy.utils.log] INFO: Versions: lxml 4.6.1.0, libxml2 2.9.10, cssselect 1.1.0, parsel 1.6.0, w3lib 1.22.0, Twisted 20.3.0, Python 3.8.5 (default, Sep  3 2020, 21:29:08) [MSC v.1916 64 bit (AMD64)], pyOpenSSL 19.1.0 (OpenSSL 1.1.1h  22 Sep 2020), cryptography 3.1.1, Platform Windows-10-10.0.19041-SP0\n",
      "2021-03-11 20:19:22 [scrapy.utils.log] DEBUG: Using reactor: twisted.internet.selectreactor.SelectReactor\n",
      "2021-03-11 20:19:22 [scrapy.crawler] INFO: Overridden settings:\n",
      "{}\n",
      "2021-03-11 20:19:22 [scrapy.extensions.telnet] INFO: Telnet Password: 19980d286b8c3a09\n",
      "2021-03-11 20:19:22 [scrapy.middleware] INFO: Enabled extensions:\n",
      "['scrapy.extensions.corestats.CoreStats',\n",
      " 'scrapy.extensions.telnet.TelnetConsole',\n",
      " 'scrapy.extensions.logstats.LogStats']\n",
      "2021-03-11 20:19:22 [scrapy.middleware] INFO: Enabled downloader middlewares:\n",
      "['scrapy.downloadermiddlewares.httpauth.HttpAuthMiddleware',\n",
      " 'scrapy.downloadermiddlewares.downloadtimeout.DownloadTimeoutMiddleware',\n",
      " 'scrapy.downloadermiddlewares.defaultheaders.DefaultHeadersMiddleware',\n",
      " 'scrapy.downloadermiddlewares.useragent.UserAgentMiddleware',\n",
      " 'scrapy.downloadermiddlewares.retry.RetryMiddleware',\n",
      " 'scrapy.downloadermiddlewares.redirect.MetaRefreshMiddleware',\n",
      " 'scrapy.downloadermiddlewares.httpcompression.HttpCompressionMiddleware',\n",
      " 'scrapy.downloadermiddlewares.redirect.RedirectMiddleware',\n",
      " 'scrapy.downloadermiddlewares.cookies.CookiesMiddleware',\n",
      " 'scrapy.downloadermiddlewares.httpproxy.HttpProxyMiddleware',\n",
      " 'scrapy.downloadermiddlewares.stats.DownloaderStats']\n",
      "2021-03-11 20:19:22 [scrapy.middleware] INFO: Enabled spider middlewares:\n",
      "['scrapy.spidermiddlewares.httperror.HttpErrorMiddleware',\n",
      " 'scrapy.spidermiddlewares.offsite.OffsiteMiddleware',\n",
      " 'scrapy.spidermiddlewares.referer.RefererMiddleware',\n",
      " 'scrapy.spidermiddlewares.urllength.UrlLengthMiddleware',\n",
      " 'scrapy.spidermiddlewares.depth.DepthMiddleware']\n",
      "2021-03-11 20:19:22 [scrapy.middleware] INFO: Enabled item pipelines:\n",
      "[]\n",
      "2021-03-11 20:19:22 [scrapy.core.engine] INFO: Spider opened\n",
      "2021-03-11 20:19:22 [scrapy.extensions.logstats] INFO: Crawled 0 pages (at 0 pages/min), scraped 0 items (at 0 items/min)\n",
      "2021-03-11 20:19:22 [scrapy.extensions.telnet] INFO: Telnet console listening on 127.0.0.1:6023\n",
      "2021-03-11 20:19:23 [scrapy.core.engine] DEBUG: Crawled (200) <GET https://storycorps.org/podcast/page/5/> (referer: None)\n",
      "2021-03-11 20:19:23 [scrapy.core.engine] DEBUG: Crawled (200) <GET https://storycorps.org/podcast/page/4/> (referer: None)\n",
      "2021-03-11 20:19:23 [scrapy.core.engine] DEBUG: Crawled (200) <GET https://storycorps.org/podcast/page/7/> (referer: None)\n",
      "2021-03-11 20:19:23 [scrapy.core.engine] DEBUG: Crawled (200) <GET https://storycorps.org/podcast/page/2/> (referer: None)\n",
      "2021-03-11 20:19:23 [scrapy.core.engine] DEBUG: Crawled (200) <GET https://storycorps.org/podcast/page/8/> (referer: None)\n",
      "2021-03-11 20:19:23 [scrapy.core.engine] DEBUG: Crawled (200) <GET https://storycorps.org/podcast/page/3/> (referer: None)\n",
      "2021-03-11 20:19:23 [scrapy.core.engine] DEBUG: Crawled (200) <GET https://storycorps.org/podcast/page/6/> (referer: None)\n",
      "2021-03-11 20:19:23 [scrapy.core.engine] DEBUG: Crawled (200) <GET https://storycorps.org/podcast/page/9/> (referer: None)\n",
      "2021-03-11 20:19:23 [scrapy.core.engine] DEBUG: Crawled (200) <GET https://storycorps.org/podcast/page/11/> (referer: None)\n",
      "2021-03-11 20:19:23 [scrapy.downloadermiddlewares.redirect] DEBUG: Redirecting (301) to <GET https://storycorps.org/podcast/> from <GET https://storycorps.org/podcast/page/1/>\n",
      "2021-03-11 20:19:23 [scrapy.core.engine] DEBUG: Crawled (200) <GET https://storycorps.org/podcast/page/12/> (referer: None)\n",
      "2021-03-11 20:19:23 [scrapy.core.engine] DEBUG: Crawled (200) <GET https://storycorps.org/podcast/page/10/> (referer: None)\n",
      "2021-03-11 20:19:23 [scrapy.core.engine] DEBUG: Crawled (200) <GET https://storycorps.org/podcast/page/13/> (referer: None)\n",
      "2021-03-11 20:19:23 [scrapy.core.engine] DEBUG: Crawled (200) <GET https://storycorps.org/podcast/page/14/> (referer: None)\n",
      "2021-03-11 20:19:23 [scrapy.core.engine] DEBUG: Crawled (200) <GET https://storycorps.org/podcast/page/16/> (referer: None)\n",
      "2021-03-11 20:19:23 [scrapy.core.engine] DEBUG: Crawled (200) <GET https://storycorps.org/podcast/page/15/> (referer: None)\n",
      "2021-03-11 20:19:23 [scrapy.core.engine] DEBUG: Crawled (200) <GET https://storycorps.org/podcast/page/19/> (referer: None)\n",
      "2021-03-11 20:19:23 [scrapy.core.engine] DEBUG: Crawled (200) <GET https://storycorps.org/podcast/page/20/> (referer: None)\n",
      "2021-03-11 20:19:23 [scrapy.core.engine] DEBUG: Crawled (200) <GET https://storycorps.org/podcast/page/17/> (referer: None)\n",
      "2021-03-11 20:19:23 [scrapy.core.engine] DEBUG: Crawled (200) <GET https://storycorps.org/podcast/page/18/> (referer: None)\n",
      "2021-03-11 20:19:23 [scrapy.core.engine] DEBUG: Crawled (404) <GET https://storycorps.org/podcast/page/22/> (referer: None)\n",
      "2021-03-11 20:19:23 [scrapy.core.engine] DEBUG: Crawled (200) <GET https://storycorps.org/podcast/old-guitars-and-purple-hearts/> (referer: https://storycorps.org/podcast/page/5/)\n",
      "2021-03-11 20:19:23 [scrapy.core.engine] DEBUG: Crawled (200) <GET https://storycorps.org/podcast/storycorps-535-remorse/> (referer: https://storycorps.org/podcast/page/7/)\n",
      "2021-03-11 20:19:23 [scrapy.core.engine] DEBUG: Crawled (404) <GET https://storycorps.org/podcast/page/21/> (referer: None)\n",
      "2021-03-11 20:19:23 [scrapy.core.engine] DEBUG: Crawled (200) <GET https://storycorps.org/podcast/what-carries-me-through/> (referer: https://storycorps.org/podcast/page/2/)\n",
      "2021-03-11 20:19:23 [scrapy.core.engine] DEBUG: Crawled (200) <GET https://storycorps.org/podcast/> (referer: None)\n",
      "2021-03-11 20:19:23 [scrapy.core.engine] DEBUG: Crawled (200) <GET https://storycorps.org/podcast/living-my-life-like-its-golden/> (referer: https://storycorps.org/podcast/page/3/)\n",
      "2021-03-11 20:19:23 [scrapy.spidermiddlewares.httperror] INFO: Ignoring response <404 https://storycorps.org/podcast/page/22/>: HTTP status code is not handled or not allowed\n",
      "2021-03-11 20:19:23 [scrapy.core.engine] DEBUG: Crawled (200) <GET https://storycorps.org/podcast/this-is-where-i-leave-you/> (referer: https://storycorps.org/podcast/page/3/)\n",
      "2021-03-11 20:19:23 [scrapy.core.engine] DEBUG: Crawled (200) <GET https://storycorps.org/podcast/the-echoes-of-gunfire/> (referer: https://storycorps.org/podcast/page/3/)\n",
      "2021-03-11 20:19:23 [scrapy.core.engine] DEBUG: Crawled (200) <GET https://storycorps.org/podcast/storycorps-524-beautiful-and-terrible/> (referer: https://storycorps.org/podcast/page/6/)\n",
      "2021-03-11 20:19:23 [scrapy.spidermiddlewares.httperror] INFO: Ignoring response <404 https://storycorps.org/podcast/page/21/>: HTTP status code is not handled or not allowed\n",
      "2021-03-11 20:19:23 [scrapy.core.engine] DEBUG: Crawled (200) <GET https://storycorps.org/podcast/storycorps-426-mom-2/> (referer: https://storycorps.org/podcast/page/13/)\n",
      "2021-03-11 20:19:23 [scrapy.core.engine] DEBUG: Crawled (200) <GET https://storycorps.org/podcast/storycorps-470-send-offs/> (referer: https://storycorps.org/podcast/page/13/)\n",
      "2021-03-11 20:19:23 [scrapy.core.engine] DEBUG: Crawled (200) <GET https://storycorps.org/podcast/storycorps-522-honestly-now/> (referer: https://storycorps.org/podcast/page/6/)\n",
      "2021-03-11 20:19:23 [scrapy.core.engine] DEBUG: Crawled (200) <GET https://storycorps.org/podcast/a-little-piece-of-mommy-on-earth/> (referer: https://storycorps.org/podcast/page/3/)\n",
      "2021-03-11 20:19:23 [scrapy.core.engine] DEBUG: Crawled (200) <GET https://storycorps.org/podcast/storycorps-471-changing-that-cycle/> (referer: https://storycorps.org/podcast/page/13/)\n",
      "2021-03-11 20:19:23 [scrapy.core.engine] DEBUG: Crawled (200) <GET https://storycorps.org/podcast/storycorps-475-keeping-the-faith/> (referer: https://storycorps.org/podcast/page/13/)\n"
     ]
    },
    {
     "name": "stdout",
     "output_type": "stream",
     "text": [
      "['Old Guitars and Purple Hearts']\n",
      "['StoryCorps 535', ' Remorse']\n",
      "['What Carries Me Through']\n",
      "['Living My Life Like It’s Golden']\n",
      "['This Is Where I Leave You']\n",
      "['The Echoes of Gunfire']\n",
      "['StoryCorps 524', ' Beautiful and Terrible']\n"
     ]
    },
    {
     "name": "stderr",
     "output_type": "stream",
     "text": [
      "2021-03-11 20:19:23 [scrapy.core.engine] DEBUG: Crawled (200) <GET https://storycorps.org/podcast/storycorps-479-mrs-bronstein-for-president/> (referer: https://storycorps.org/podcast/page/16/)\n",
      "2021-03-11 20:19:23 [scrapy.core.engine] DEBUG: Crawled (200) <GET https://storycorps.org/podcast/storycorps-485-fair-play/> (referer: https://storycorps.org/podcast/page/16/)\n",
      "2021-03-11 20:19:24 [scrapy.core.engine] DEBUG: Crawled (200) <GET https://storycorps.org/podcast/storycorps-417-remembering-wil-smith/> (referer: https://storycorps.org/podcast/page/18/)\n",
      "2021-03-11 20:19:24 [scrapy.core.engine] DEBUG: Crawled (200) <GET https://storycorps.org/podcast/storycorps-450-up-to-no-good/> (referer: https://storycorps.org/podcast/page/19/)\n",
      "2021-03-11 20:19:24 [scrapy.core.engine] DEBUG: Crawled (200) <GET https://storycorps.org/podcast/storycorps-454-five-years/> (referer: https://storycorps.org/podcast/page/16/)\n",
      "2021-03-11 20:19:24 [scrapy.core.engine] DEBUG: Crawled (200) <GET https://storycorps.org/podcast/storycorps-459-stitched-together/> (referer: https://storycorps.org/podcast/page/16/)\n",
      "2021-03-11 20:19:24 [scrapy.core.engine] DEBUG: Crawled (200) <GET https://storycorps.org/podcast/storycorps-416-mr-mcqueen-goes-to-washington/> (referer: https://storycorps.org/podcast/page/18/)\n",
      "2021-03-11 20:19:24 [scrapy.core.engine] DEBUG: Crawled (200) <GET https://storycorps.org/podcast/storycorps-415-lucky-in-so-many-ways/> (referer: https://storycorps.org/podcast/page/18/)\n",
      "2021-03-11 20:19:24 [scrapy.core.engine] DEBUG: Crawled (200) <GET https://storycorps.org/podcast/storycorps-414-my-name-is-yusor/> (referer: https://storycorps.org/podcast/page/18/)\n",
      "2021-03-11 20:19:24 [scrapy.core.engine] DEBUG: Crawled (200) <GET https://storycorps.org/podcast/storycorps-427-in-the-stairwell/> (referer: https://storycorps.org/podcast/page/18/)\n",
      "2021-03-11 20:19:24 [scrapy.core.engine] DEBUG: Crawled (200) <GET https://storycorps.org/podcast/storycorps-413-when-sean-speaks/> (referer: https://storycorps.org/podcast/page/18/)\n"
     ]
    },
    {
     "name": "stdout",
     "output_type": "stream",
     "text": [
      "['StoryCorps 426', ' Mom']\n",
      "['StoryCorps 470', ' Send-Offs']\n",
      "['StoryCorps 522', ' Honestly Now']\n",
      "['A Little Piece Of Mommy On Earth']\n",
      "['StoryCorps 471', ' Changing That Cycle']\n",
      "['StoryCorps 475', ' Keeping the Faith']\n",
      "['StoryCorps 479', ' Mrs. Bronstein for President']\n",
      "['StoryCorps 485', ' Fair Play']\n"
     ]
    },
    {
     "name": "stderr",
     "output_type": "stream",
     "text": [
      "2021-03-11 20:19:24 [scrapy.core.engine] DEBUG: Crawled (200) <GET https://storycorps.org/podcast/storycorps-412-true-blue/> (referer: https://storycorps.org/podcast/page/18/)\n",
      "2021-03-11 20:19:24 [scrapy.core.engine] DEBUG: Crawled (200) <GET https://storycorps.org/podcast/on-the-brink-of-separation/> (referer: https://storycorps.org/podcast/)\n",
      "2021-03-11 20:19:24 [scrapy.core.engine] DEBUG: Crawled (200) <GET https://storycorps.org/podcast/when-you-finally-told-me/> (referer: https://storycorps.org/podcast/)\n",
      "2021-03-11 20:19:24 [scrapy.core.engine] DEBUG: Crawled (200) <GET https://storycorps.org/podcast/first-comes-love-then-comes-storycorps/> (referer: https://storycorps.org/podcast/)\n",
      "2021-03-11 20:19:24 [scrapy.core.engine] DEBUG: Crawled (200) <GET https://storycorps.org/podcast/storycorps-411-the-ballad-of-wendell-scott/> (referer: https://storycorps.org/podcast/page/18/)\n",
      "2021-03-11 20:19:24 [scrapy.core.engine] DEBUG: Crawled (200) <GET https://storycorps.org/podcast/storycorps-430-finding-home/> (referer: https://storycorps.org/podcast/page/18/)\n",
      "2021-03-11 20:19:24 [scrapy.core.engine] DEBUG: Crawled (200) <GET https://storycorps.org/podcast/carrying-the-weight/> (referer: https://storycorps.org/podcast/)\n",
      "2021-03-11 20:19:24 [scrapy.core.engine] DEBUG: Crawled (200) <GET https://storycorps.org/podcast/saying-goodbye-to-the-great-ones/> (referer: https://storycorps.org/podcast/)\n",
      "2021-03-11 20:19:24 [scrapy.core.engine] DEBUG: Crawled (200) <GET https://storycorps.org/podcast/local-treasures/> (referer: https://storycorps.org/podcast/)\n",
      "2021-03-11 20:19:24 [scrapy.core.engine] DEBUG: Crawled (200) <GET https://storycorps.org/podcast/things-are-looking-up/> (referer: https://storycorps.org/podcast/)\n"
     ]
    },
    {
     "name": "stdout",
     "output_type": "stream",
     "text": [
      "['StoryCorps 417', ' Remembering Wil Smith']\n",
      "['StoryCorps 450', ' Up To No Good']\n",
      "['StoryCorps 454', ' Five Years']\n",
      "['StoryCorps 459', ' Stitched Together']\n",
      "['StoryCorps 416', ' Mr. McQueen Goes to Washington']\n",
      "['StoryCorps 415', ' Lucky in So Many Ways']\n",
      "['StoryCorps 414', ' My Name is Yusor']\n",
      "['StoryCorps 427', ' In the Stairwell']\n",
      "['StoryCorps 413', ' When Sean Speaks']\n",
      "['StoryCorps 412', ' True Blue']\n",
      "['On The Brink Of Separation']\n",
      "['When You Finally Told Me']\n"
     ]
    },
    {
     "name": "stderr",
     "output_type": "stream",
     "text": [
      "2021-03-11 20:19:24 [scrapy.core.engine] DEBUG: Crawled (200) <GET https://storycorps.org/podcast/the-first-but-not-the-last/> (referer: https://storycorps.org/podcast/)\n",
      "2021-03-11 20:19:24 [scrapy.core.engine] DEBUG: Crawled (200) <GET https://storycorps.org/podcast/i-found-my-lighthouse/> (referer: https://storycorps.org/podcast/)\n",
      "2021-03-11 20:19:24 [scrapy.core.engine] DEBUG: Crawled (200) <GET https://storycorps.org/podcast/storycorps-424-april-19-1995/> (referer: https://storycorps.org/podcast/page/18/)\n",
      "2021-03-11 20:19:24 [scrapy.core.engine] DEBUG: Crawled (200) <GET https://storycorps.org/podcast/storycorps-extra-traffic-stop/> (referer: https://storycorps.org/podcast/page/17/)\n",
      "2021-03-11 20:19:24 [scrapy.core.engine] DEBUG: Crawled (200) <GET https://storycorps.org/podcast/making-it-count/> (referer: https://storycorps.org/podcast/)\n",
      "2021-03-11 20:19:24 [scrapy.core.engine] DEBUG: Crawled (200) <GET https://storycorps.org/podcast/storycorps-449-lessons-in-love/> (referer: https://storycorps.org/podcast/page/17/)\n",
      "2021-03-11 20:19:24 [scrapy.core.engine] DEBUG: Crawled (200) <GET https://storycorps.org/podcast/storycorps-434-listen-closely/> (referer: https://storycorps.org/podcast/page/17/)\n",
      "2021-03-11 20:19:24 [scrapy.core.engine] DEBUG: Crawled (200) <GET https://storycorps.org/podcast/storycorps-429-a-decade-on-the-road/> (referer: https://storycorps.org/podcast/page/17/)\n",
      "2021-03-11 20:19:24 [scrapy.core.engine] DEBUG: Crawled (200) <GET https://storycorps.org/podcast/storycorps-437-lasting-impression/> (referer: https://storycorps.org/podcast/page/17/)\n"
     ]
    },
    {
     "name": "stdout",
     "output_type": "stream",
     "text": [
      "['First Comes Love, Then Comes StoryCorps']\n",
      "['StoryCorps 411', ' The Ballad of Wendell Scott']\n",
      "['StoryCorps 430', ' Finding Home']\n",
      "['Carrying The Weight']\n",
      "['Saying Goodbye To The Great Ones']\n",
      "['Local Treasures']\n",
      "['Things Are Looking Up']\n"
     ]
    },
    {
     "name": "stderr",
     "output_type": "stream",
     "text": [
      "2021-03-11 20:19:24 [scrapy.core.engine] DEBUG: Crawled (200) <GET https://storycorps.org/podcast/storycorps-448-something-to-be-thankful-for/> (referer: https://storycorps.org/podcast/page/17/)\n",
      "2021-03-11 20:19:24 [scrapy.core.engine] DEBUG: Crawled (200) <GET https://storycorps.org/podcast/storycorps-422-his-name-is-carl/> (referer: https://storycorps.org/podcast/page/17/)\n",
      "2021-03-11 20:19:24 [scrapy.core.engine] DEBUG: Crawled (200) <GET https://storycorps.org/podcast/storycorps-426-mom/> (referer: https://storycorps.org/podcast/page/17/)\n",
      "2021-03-11 20:19:24 [scrapy.core.engine] DEBUG: Crawled (200) <GET https://storycorps.org/podcast/storycorps-431-sounds-like-a-dad-to-me/> (referer: https://storycorps.org/podcast/page/20/)\n",
      "2021-03-11 20:19:24 [scrapy.core.engine] DEBUG: Crawled (200) <GET https://storycorps.org/podcast/storycorps-433-coney-island-baby/> (referer: https://storycorps.org/podcast/page/17/)\n",
      "2021-03-11 20:19:24 [scrapy.core.engine] DEBUG: Crawled (200) <GET https://storycorps.org/podcast/storycorps-421-beautiful-symmetry/> (referer: https://storycorps.org/podcast/page/17/)\n",
      "2021-03-11 20:19:24 [scrapy.core.engine] DEBUG: Crawled (200) <GET https://storycorps.org/podcast/storycorps-451-holiday-highlights/> (referer: https://storycorps.org/podcast/page/20/)\n",
      "2021-03-11 20:19:24 [scrapy.core.engine] DEBUG: Crawled (200) <GET https://storycorps.org/podcast/storycorps-452-the-great-first-listen/> (referer: https://storycorps.org/podcast/page/20/)\n",
      "2021-03-11 20:19:24 [scrapy.core.engine] DEBUG: Crawled (200) <GET https://storycorps.org/podcast/storycorps-438-the-wind-and-the-rain/> (referer: https://storycorps.org/podcast/page/20/)\n",
      "2021-03-11 20:19:24 [scrapy.core.engine] DEBUG: Crawled (200) <GET https://storycorps.org/podcast/storycorps-436-great-escapes-2/> (referer: https://storycorps.org/podcast/page/20/)\n"
     ]
    },
    {
     "name": "stdout",
     "output_type": "stream",
     "text": [
      "['The First, But Not The Last']\n",
      "['I Found My Lighthouse']\n",
      "['StoryCorps 424', ' April 19, 1995']\n",
      "['StoryCorps EXTRA', ' Traffic Stop']\n",
      "['Making It Count']\n",
      "['StoryCorps 449', ' Lessons in Love']\n",
      "['StoryCorps 434', ' Listen Closely']\n",
      "['StoryCorps 429', ' A Decade on the Road']\n",
      "['StoryCorps 437', ' Lasting Impression']\n",
      "['StoryCorps 448', ' Something To Be Thankful For']\n",
      "['StoryCorps 422', ' His Name Is Carl']\n",
      "['StoryCorps 426', ' Mom']\n"
     ]
    },
    {
     "name": "stderr",
     "output_type": "stream",
     "text": [
      "2021-03-11 20:19:24 [scrapy.core.engine] DEBUG: Crawled (200) <GET https://storycorps.org/podcast/storycorps-432-coming-out-strong/> (referer: https://storycorps.org/podcast/page/20/)\n",
      "2021-03-11 20:19:24 [scrapy.core.engine] DEBUG: Crawled (200) <GET https://storycorps.org/podcast/storycorps-435-major-bambi/> (referer: https://storycorps.org/podcast/page/19/)\n",
      "2021-03-11 20:19:24 [scrapy.core.engine] DEBUG: Crawled (200) <GET https://storycorps.org/podcast/storycorps-441-right-place-right-time/> (referer: https://storycorps.org/podcast/page/19/)\n",
      "2021-03-11 20:19:24 [scrapy.core.engine] DEBUG: Crawled (200) <GET https://storycorps.org/podcast/storycorps-419-i-shall-be-released/> (referer: https://storycorps.org/podcast/page/19/)\n",
      "2021-03-11 20:19:24 [scrapy.core.engine] DEBUG: Crawled (200) <GET https://storycorps.org/podcast/storycorps-425-evolution/> (referer: https://storycorps.org/podcast/page/19/)\n",
      "2021-03-11 20:19:24 [scrapy.core.engine] DEBUG: Crawled (200) <GET https://storycorps.org/podcast/storycorps-445/> (referer: https://storycorps.org/podcast/page/19/)\n",
      "2021-03-11 20:19:24 [scrapy.core.engine] DEBUG: Crawled (200) <GET https://storycorps.org/podcast/storycorps-418-guardians-of-the-golden-gate/> (referer: https://storycorps.org/podcast/page/19/)\n",
      "2021-03-11 20:19:24 [scrapy.core.engine] DEBUG: Crawled (200) <GET https://storycorps.org/podcast/storycorps-428-your-fathers-smile/> (referer: https://storycorps.org/podcast/page/19/)\n",
      "2021-03-11 20:19:24 [scrapy.core.engine] DEBUG: Crawled (200) <GET https://storycorps.org/podcast/storycorps-420-ted-time-stories/> (referer: https://storycorps.org/podcast/page/19/)\n",
      "2021-03-11 20:19:24 [scrapy.core.engine] DEBUG: Crawled (200) <GET https://storycorps.org/podcast/storycorps-447-forget-me-not/> (referer: https://storycorps.org/podcast/page/19/)\n"
     ]
    },
    {
     "name": "stdout",
     "output_type": "stream",
     "text": [
      "['StoryCorps 431', ' Sounds Like a Dad to Me']\n",
      "['StoryCorps 433', ' Coney Island Baby']\n",
      "['StoryCorps 421', ' Beautiful Symmetry']\n",
      "['StoryCorps 451', ' Holiday Highlights']\n",
      "['StoryCorps 452', ' The First Great Listen']\n",
      "['StoryCorps 438', ' The Wind and The Rain']\n",
      "['StoryCorps 436', ' Great Escapes']\n",
      "['StoryCorps 432', ' Coming Out Strong']\n",
      "['StoryCorps 435', ' Major Bambi']\n",
      "['StoryCorps 441', ' Right Place, Right Time']"
     ]
    },
    {
     "name": "stderr",
     "output_type": "stream",
     "text": [
      "2021-03-11 20:19:24 [scrapy.core.engine] DEBUG: Crawled (200) <GET https://storycorps.org/podcast/storycorps-461-the-survivors/> (referer: https://storycorps.org/podcast/page/16/)\n",
      "2021-03-11 20:19:24 [scrapy.core.engine] DEBUG: Crawled (200) <GET https://storycorps.org/podcast/storycorps-481-who-swept-the-floors/> (referer: https://storycorps.org/podcast/page/16/)\n",
      "2021-03-11 20:19:24 [scrapy.core.engine] DEBUG: Crawled (200) <GET https://storycorps.org/podcast/storycorps-469-secrets/> (referer: https://storycorps.org/podcast/page/16/)\n",
      "2021-03-11 20:19:24 [scrapy.core.engine] DEBUG: Crawled (200) <GET https://storycorps.org/podcast/storycorps-484-never-drive-me-away/> (referer: https://storycorps.org/podcast/page/16/)\n",
      "2021-03-11 20:19:24 [scrapy.core.engine] DEBUG: Crawled (200) <GET https://storycorps.org/podcast/storycorps-411-the-ballad-of-wendell-scott-reprise/> (referer: https://storycorps.org/podcast/page/16/)\n",
      "2021-03-11 20:19:25 [scrapy.core.engine] DEBUG: Crawled (200) <GET https://storycorps.org/podcast/storycorps-482-could-have-been-anybody/> (referer: https://storycorps.org/podcast/page/16/)\n",
      "2021-03-11 20:19:25 [scrapy.core.engine] DEBUG: Crawled (200) <GET https://storycorps.org/podcast/storycorps-478-gold-star/> (referer: https://storycorps.org/podcast/page/15/)\n",
      "2021-03-11 20:19:25 [scrapy.core.engine] DEBUG: Crawled (200) <GET https://storycorps.org/podcast/storycorps-extra-call-me/> (referer: https://storycorps.org/podcast/page/15/)\n",
      "2021-03-11 20:19:25 [scrapy.core.engine] DEBUG: Crawled (200) <GET https://storycorps.org/podcast/storycorps-463-journeys-end-2/> (referer: https://storycorps.org/podcast/page/15/)\n",
      "2021-03-11 20:19:25 [scrapy.core.engine] DEBUG: Crawled (200) <GET https://storycorps.org/podcast/storycorps-455-my-lobotomy/> (referer: https://storycorps.org/podcast/page/15/)\n",
      "2021-03-11 20:19:25 [scrapy.core.engine] DEBUG: Crawled (200) <GET https://storycorps.org/podcast/storycorps-483-where-i-belong/> (referer: https://storycorps.org/podcast/page/15/)\n"
     ]
    },
    {
     "name": "stdout",
     "output_type": "stream",
     "text": [
      "\n",
      "['StoryCorps 419', ' I Shall Be Released']\n",
      "['StoryCorps 425', ' Evolution']\n",
      "['StoryCorps 445', ' Goodnight, Harry']\n",
      "['StoryCorps 418', ' Guardians of the Golden Gate']\n",
      "['StoryCorps 428', ' Your Father’s Smile']\n",
      "['StoryCorps 420', ' TED-time Stories']\n",
      "['StoryCorps 447', ' Forget Me Not']\n",
      "['StoryCorps 461', ' The Survivors']\n",
      "['StoryCorps 481', ' Who Swept the Floors?']\n"
     ]
    },
    {
     "name": "stderr",
     "output_type": "stream",
     "text": [
      "2021-03-11 20:19:25 [scrapy.core.engine] DEBUG: Crawled (200) <GET https://storycorps.org/podcast/storycorps-464-tossing-away-the-keys/> (referer: https://storycorps.org/podcast/page/15/)\n",
      "2021-03-11 20:19:25 [scrapy.downloadermiddlewares.retry] DEBUG: Retrying <GET https://storycorps.org/podcast/storycorps-487-the-long-run/> (failed 1 times): 429 Unknown Status\n",
      "2021-03-11 20:19:25 [scrapy.core.engine] DEBUG: Crawled (200) <GET https://storycorps.org/podcast/storycorps-467-more-purpose-and-passion/> (referer: https://storycorps.org/podcast/page/15/)\n",
      "2021-03-11 20:19:25 [scrapy.downloadermiddlewares.retry] DEBUG: Retrying <GET https://storycorps.org/podcast/storycorps-477-looking-out/> (failed 1 times): 429 Unknown Status\n",
      "2021-03-11 20:19:25 [scrapy.core.engine] DEBUG: Crawled (200) <GET https://storycorps.org/podcast/storycorps-456-winters-tales/> (referer: https://storycorps.org/podcast/page/15/)\n",
      "2021-03-11 20:19:25 [scrapy.core.engine] DEBUG: Crawled (200) <GET https://storycorps.org/podcast/storycorps-457-eternally-eight/> (referer: https://storycorps.org/podcast/page/14/)\n",
      "2021-03-11 20:19:25 [scrapy.downloadermiddlewares.retry] DEBUG: Retrying <GET https://storycorps.org/podcast/storycorps-480-gifts-from-our-parents/> (failed 1 times): 429 Unknown Status\n"
     ]
    },
    {
     "name": "stdout",
     "output_type": "stream",
     "text": [
      "['StoryCorps 469', ' Secrets']\n",
      "['StoryCorps 484', ' Never Drive Me Away']\n",
      "['StoryCorps 411', ' The Ballad of Wendell Scott (Reprise)']\n",
      "['StoryCorps 482', ' Could Have Been Anybody']\n",
      "['StoryCorps 478', ' Gold Star']\n",
      "['StoryCorps EXTRA', ' Call Me']\n"
     ]
    },
    {
     "name": "stderr",
     "output_type": "stream",
     "text": [
      "2021-03-11 20:19:25 [scrapy.downloadermiddlewares.retry] DEBUG: Retrying <GET https://storycorps.org/podcast/storycorps-extra-listen-more/> (failed 1 times): 429 Unknown Status\n",
      "2021-03-11 20:19:25 [scrapy.core.engine] DEBUG: Crawled (200) <GET https://storycorps.org/podcast/storycorps-460-at-the-movies/> (referer: https://storycorps.org/podcast/page/14/)\n",
      "2021-03-11 20:19:25 [scrapy.core.engine] DEBUG: Crawled (200) <GET https://storycorps.org/podcast/storycorps-458-the-one/> (referer: https://storycorps.org/podcast/page/14/)\n",
      "2021-03-11 20:19:25 [scrapy.core.engine] DEBUG: Crawled (200) <GET https://storycorps.org/podcast/storycorps-474-with-pride/> (referer: https://storycorps.org/podcast/page/14/)\n",
      "2021-03-11 20:19:25 [scrapy.core.engine] DEBUG: Crawled (200) <GET https://storycorps.org/podcast/storycorps-472-dads/> (referer: https://storycorps.org/podcast/page/14/)\n",
      "2021-03-11 20:19:25 [scrapy.downloadermiddlewares.retry] DEBUG: Retrying <GET https://storycorps.org/podcast/storycorps-473-upstairs-backstreet-pulse/> (failed 1 times): 429 Unknown Status\n",
      "2021-03-11 20:19:25 [scrapy.core.engine] DEBUG: Crawled (200) <GET https://storycorps.org/podcast/storycorps-423-sissy/> (referer: https://storycorps.org/podcast/page/13/)\n",
      "2021-03-11 20:19:25 [scrapy.core.engine] DEBUG: Crawled (200) <GET https://storycorps.org/podcast/storycorps-468-tough-guys/> (referer: https://storycorps.org/podcast/page/13/)\n",
      "2021-03-11 20:19:25 [scrapy.core.engine] DEBUG: Crawled (200) <GET https://storycorps.org/podcast/storycorps-488-the-question-of-the-broken-glasses/> (referer: https://storycorps.org/podcast/page/14/)\n",
      "2021-03-11 20:19:25 [scrapy.downloadermiddlewares.retry] DEBUG: Retrying <GET https://storycorps.org/podcast/storycorps-490-yiddish-radio-project-part-2/> (failed 1 times): 429 Unknown Status\n",
      "2021-03-11 20:19:25 [scrapy.core.engine] DEBUG: Crawled (200) <GET https://storycorps.org/podcast/storycorps-486-the-other-side/> (referer: https://storycorps.org/podcast/page/14/)\n",
      "2021-03-11 20:19:25 [scrapy.core.engine] DEBUG: Crawled (200) <GET https://storycorps.org/podcast/storycorps-489-yiddish-radio-project-part-1/> (referer: https://storycorps.org/podcast/page/13/)\n"
     ]
    },
    {
     "name": "stdout",
     "output_type": "stream",
     "text": [
      "['StoryCorps 463', ' Journey’s End']\n",
      "['StoryCorps 455', ' My Lobotomy']\n",
      "['StoryCorps 483', ' Where I Belong']\n",
      "['StoryCorps 464', ' Tossing Away the Keys']\n",
      "['StoryCorps 467', ' More Purpose and Passion']\n",
      "['StoryCorps 456', ' Winter’s Tales']\n",
      "['StoryCorps 457', ' Eternally Eight']\n",
      "['StoryCorps 460', ' At the Movies']\n",
      "['StoryCorps 458', ' The One']\n"
     ]
    },
    {
     "name": "stderr",
     "output_type": "stream",
     "text": [
      "2021-03-11 20:19:25 [scrapy.downloadermiddlewares.retry] DEBUG: Retrying <GET https://storycorps.org/podcast/storycorps-492-old-friends/> (failed 1 times): 429 Unknown Status\n",
      "2021-03-11 20:19:25 [scrapy.downloadermiddlewares.retry] DEBUG: Retrying <GET https://storycorps.org/podcast/storycorps-462-in-the-neighborhood/> (failed 1 times): 429 Unknown Status\n",
      "2021-03-11 20:19:25 [scrapy.core.engine] DEBUG: Crawled (200) <GET https://storycorps.org/podcast/storycorps-476-wild-at-heart/> (referer: https://storycorps.org/podcast/page/10/)\n",
      "2021-03-11 20:19:25 [scrapy.core.engine] DEBUG: Crawled (200) <GET https://storycorps.org/podcast/storycorps-446-too-much-hurt/> (referer: https://storycorps.org/podcast/page/10/)\n",
      "2021-03-11 20:19:25 [scrapy.downloadermiddlewares.retry] DEBUG: Retrying <GET https://storycorps.org/podcast/storycorps-465-at-the-ballpark/> (failed 1 times): 429 Unknown Status\n",
      "2021-03-11 20:19:25 [scrapy.downloadermiddlewares.retry] DEBUG: Retrying <GET https://storycorps.org/podcast/storycorps-518-the-conversation/> (failed 1 times): 429 Unknown Status\n",
      "2021-03-11 20:19:25 [scrapy.downloadermiddlewares.retry] DEBUG: Retrying <GET https://storycorps.org/podcast/storycorps-512-american-talkers-part-2/> (failed 1 times): 429 Unknown Status\n",
      "2021-03-11 20:19:25 [scrapy.core.engine] DEBUG: Crawled (200) <GET https://storycorps.org/podcast/storycorps-510-head-first/> (referer: https://storycorps.org/podcast/page/10/)\n",
      "2021-03-11 20:19:25 [scrapy.downloadermiddlewares.retry] DEBUG: Retrying <GET https://storycorps.org/podcast/storycorps-493-being-human-there-or-here/> (failed 1 times): 429 Unknown Status\n",
      "2021-03-11 20:19:25 [scrapy.downloadermiddlewares.retry] DEBUG: Retrying <GET https://storycorps.org/podcast/storycorps-519-in-the-spirit/> (failed 1 times): 429 Unknown Status\n",
      "2021-03-11 20:19:25 [scrapy.core.engine] DEBUG: Crawled (200) <GET https://storycorps.org/podcast/storycorps-496-witness-to-an-execution/> (referer: https://storycorps.org/podcast/page/10/)\n",
      "2021-03-11 20:19:25 [scrapy.core.engine] DEBUG: Crawled (200) <GET https://storycorps.org/podcast/storycorps-503-the-son-you-wanted/> (referer: https://storycorps.org/podcast/page/12/)\n"
     ]
    },
    {
     "name": "stdout",
     "output_type": "stream",
     "text": [
      "['StoryCorps 474', ' With Pride']\n",
      "['StoryCorps 472', ' Dads']\n",
      "['StoryCorps 423', ' Sissy']\n",
      "['StoryCorps 468', ' Tough Guys']\n",
      "['StoryCorps 488', ' The Question of the Broken Glasses']\n",
      "['StoryCorps 486', ' The Other Side']\n",
      "['StoryCorps 489', ' Yiddish Radio Project, Part 1']\n",
      "['StoryCorps 476', ' Wild at Heart']\n",
      "['StoryCorps 446', ' Too Much Hurt']\n"
     ]
    },
    {
     "name": "stderr",
     "output_type": "stream",
     "text": [
      "2021-03-11 20:19:25 [scrapy.core.engine] DEBUG: Crawled (200) <GET https://storycorps.org/podcast/storycorps-517-one-small-step/> (referer: https://storycorps.org/podcast/page/10/)\n",
      "2021-03-11 20:19:25 [scrapy.downloadermiddlewares.retry] DEBUG: Retrying <GET https://storycorps.org/podcast/storycorps-500-tough-mother/> (failed 1 times): 429 Unknown Status\n",
      "2021-03-11 20:19:25 [scrapy.downloadermiddlewares.retry] DEBUG: Retrying <GET https://storycorps.org/podcast/storycorps-439-space-men/> (failed 1 times): 429 Unknown Status\n",
      "2021-03-11 20:19:25 [scrapy.downloadermiddlewares.retry] DEBUG: Retrying <GET https://storycorps.org/podcast/storycorps-440-on-the-other-side-of-death/> (failed 1 times): 429 Unknown Status\n",
      "2021-03-11 20:19:25 [scrapy.core.engine] DEBUG: Crawled (200) <GET https://storycorps.org/podcast/storycorps-513-american-talkers-part-3/> (referer: https://storycorps.org/podcast/page/12/)\n",
      "2021-03-11 20:19:25 [scrapy.core.engine] DEBUG: Crawled (200) <GET https://storycorps.org/podcast/storycorps-507-row-12-seat-12/> (referer: https://storycorps.org/podcast/page/12/)\n",
      "2021-03-11 20:19:25 [scrapy.core.engine] DEBUG: Crawled (200) <GET https://storycorps.org/podcast/storycorps-extra-remembering-amy-krouse-rosenthal/> (referer: https://storycorps.org/podcast/page/12/)\n",
      "2021-03-11 20:19:25 [scrapy.downloadermiddlewares.retry] DEBUG: Retrying <GET https://storycorps.org/podcast/storycorps-494-certain-kinds-of-love/> (failed 1 times): 429 Unknown Status\n",
      "2021-03-11 20:19:25 [scrapy.downloadermiddlewares.retry] DEBUG: Retrying <GET https://storycorps.org/podcast/storycorps-516-married-to-the-mortician/> (failed 1 times): 429 Unknown Status\n",
      "2021-03-11 20:19:25 [scrapy.core.engine] DEBUG: Crawled (200) <GET https://storycorps.org/podcast/storycorps-520-the-gods-of-times-square/> (referer: https://storycorps.org/podcast/page/12/)\n",
      "2021-03-11 20:19:25 [scrapy.downloadermiddlewares.retry] DEBUG: Retrying <GET https://storycorps.org/podcast/storycorps-497-meet-them-where-they-are/> (failed 1 times): 429 Unknown Status\n",
      "2021-03-11 20:19:25 [scrapy.core.engine] DEBUG: Crawled (200) <GET https://storycorps.org/podcast/storycorps-505-remembering-stonewall/> (referer: https://storycorps.org/podcast/page/11/)\n"
     ]
    },
    {
     "name": "stdout",
     "output_type": "stream",
     "text": [
      "['StoryCorps 510', ' Head First']\n",
      "['StoryCorps 496', ' Witness to an Execution']\n",
      "['StoryCorps 503', ' The Son You Wanted']\n",
      "['StoryCorps Extra', ' One Small Step']\n",
      "['StoryCorps 513', ' American Talkers, Part 3']\n"
     ]
    },
    {
     "name": "stderr",
     "output_type": "stream",
     "text": [
      "2021-03-11 20:19:25 [scrapy.downloadermiddlewares.retry] DEBUG: Retrying <GET https://storycorps.org/podcast/storycorps-514-his-first-and-greatest-teacher/> (failed 1 times): 429 Unknown Status\n",
      "2021-03-11 20:19:25 [scrapy.core.engine] DEBUG: Crawled (200) <GET https://storycorps.org/podcast/storycorps-504-love-and-work/> (referer: https://storycorps.org/podcast/page/11/)\n",
      "2021-03-11 20:19:25 [scrapy.core.engine] DEBUG: Crawled (200) <GET https://storycorps.org/podcast/storycorps-517-fighting-it-every-day/> (referer: https://storycorps.org/podcast/page/11/)\n",
      "2021-03-11 20:19:25 [scrapy.downloadermiddlewares.retry] DEBUG: Retrying <GET https://storycorps.org/podcast/storycorps-501-studs-terkel-day/> (failed 1 times): 429 Unknown Status\n",
      "2021-03-11 20:19:26 [scrapy.core.engine] DEBUG: Crawled (200) <GET https://storycorps.org/podcast/storycorps-444-your-biggest-fan/> (referer: https://storycorps.org/podcast/page/11/)\n",
      "2021-03-11 20:19:26 [scrapy.core.engine] DEBUG: Crawled (200) <GET https://storycorps.org/podcast/storycorps-498-my-grandparent-my-superhero/> (referer: https://storycorps.org/podcast/page/11/)\n",
      "2021-03-11 20:19:26 [scrapy.core.engine] DEBUG: Crawled (200) <GET https://storycorps.org/podcast/storycorps-506-between-june-and-september/> (referer: https://storycorps.org/podcast/page/9/)\n",
      "2021-03-11 20:19:26 [scrapy.core.engine] DEBUG: Crawled (200) <GET https://storycorps.org/podcast/storycorps-509-heat/> (referer: https://storycorps.org/podcast/page/9/)\n",
      "2021-03-11 20:19:26 [scrapy.downloadermiddlewares.retry] DEBUG: Retrying <GET https://storycorps.org/podcast/storycorps-extra-remembering-sandy-hook/> (failed 1 times): 429 Unknown Status\n",
      "2021-03-11 20:19:26 [scrapy.downloadermiddlewares.retry] DEBUG: Retrying <GET https://storycorps.org/podcast/storycorps-511-american-talkers-part-1/> (failed 1 times): 429 Unknown Status\n"
     ]
    },
    {
     "name": "stdout",
     "output_type": "stream",
     "text": [
      "['StoryCorps 507', ' Row 12, Seat 12']\n",
      "['StoryCorps EXTRA', ' Remembering Amy Krouse Rosenthal']\n",
      "['StoryCorps 520', ' The Gods of Times Square']\n",
      "['StoryCorps 505', ' Remembering Stonewall']\n",
      "['StoryCorps 504', ' Love and Work']\n",
      "['StoryCorps 517', ' Fighting It Every Day']\n"
     ]
    },
    {
     "name": "stderr",
     "output_type": "stream",
     "text": [
      "2021-03-11 20:19:26 [scrapy.core.engine] DEBUG: Crawled (200) <GET https://storycorps.org/podcast/storycorps-491-we-came-through/> (referer: https://storycorps.org/podcast/page/11/)\n",
      "2021-03-11 20:19:26 [scrapy.downloadermiddlewares.retry] DEBUG: Retrying <GET https://storycorps.org/podcast/storycorps-495-griot/> (failed 1 times): 429 Unknown Status\n",
      "2021-03-11 20:19:26 [scrapy.core.engine] DEBUG: Crawled (200) <GET https://storycorps.org/podcast/storycorps-499-an-experiment/> (referer: https://storycorps.org/podcast/page/9/)\n",
      "2021-03-11 20:19:26 [scrapy.downloadermiddlewares.retry] DEBUG: Retrying <GET https://storycorps.org/podcast/storycorps-525-the-good-right-honest-thing/> (failed 1 times): 429 Unknown Status\n",
      "2021-03-11 20:19:26 [scrapy.downloadermiddlewares.retry] DEBUG: Retrying <GET https://storycorps.org/podcast/storycorps-466-callings/> (failed 1 times): 429 Unknown Status\n",
      "2021-03-11 20:19:26 [scrapy.core.engine] DEBUG: Crawled (200) <GET https://storycorps.org/podcast/storycorps-extra-daves-mom/> (referer: https://storycorps.org/podcast/page/9/)\n",
      "2021-03-11 20:19:26 [scrapy.downloadermiddlewares.retry] DEBUG: Retrying <GET https://storycorps.org/podcast/storycorps-523-years-in-the-making/> (failed 1 times): 429 Unknown Status\n",
      "2021-03-11 20:19:26 [scrapy.core.engine] DEBUG: Crawled (200) <GET https://storycorps.org/podcast/storycorps-508-no-barrier-for-the-love/> (referer: https://storycorps.org/podcast/page/9/)\n",
      "2021-03-11 20:19:26 [scrapy.core.engine] DEBUG: Crawled (200) <GET https://storycorps.org/podcast/storycorps-502-one-iota-of-light/> (referer: https://storycorps.org/podcast/page/9/)\n",
      "2021-03-11 20:19:26 [scrapy.downloadermiddlewares.retry] DEBUG: Retrying <GET https://storycorps.org/podcast/storycorps-534-ghetto-life-101/> (failed 1 times): 429 Unknown Status\n",
      "2021-03-11 20:19:26 [scrapy.core.engine] DEBUG: Crawled (200) <GET https://storycorps.org/podcast/storycorps-515-keepers-of-the-temple/> (referer: https://storycorps.org/podcast/page/9/)\n",
      "2021-03-11 20:19:26 [scrapy.core.engine] DEBUG: Crawled (200) <GET https://storycorps.org/podcast/high-school-reunion-part-ii/> (referer: https://storycorps.org/podcast/page/6/)\n",
      "2021-03-11 20:19:26 [scrapy.downloadermiddlewares.retry] DEBUG: Retrying <GET https://storycorps.org/podcast/to-grandmothers-house-we-sorta-go/> (failed 1 times): 429 Unknown Status\n"
     ]
    },
    {
     "name": "stdout",
     "output_type": "stream",
     "text": [
      "['StoryCorps 444', ' Your Biggest Fan']\n",
      "['StoryCorps 498', ' My Grandparent, My Superhero']\n",
      "['StoryCorps 506', ' Between June and September']\n",
      "['StoryCorps 509', ' Heat']\n",
      "['StoryCorps 491', ' We Came Through']\n",
      "['StoryCorps 499', ' An Experiment']\n"
     ]
    },
    {
     "name": "stderr",
     "output_type": "stream",
     "text": [
      "2021-03-11 20:19:26 [scrapy.core.engine] DEBUG: Crawled (200) <GET https://storycorps.org/podcast/all-i-had-was-hope-and-you/> (referer: https://storycorps.org/podcast/page/3/)\n",
      "2021-03-11 20:19:26 [scrapy.core.engine] DEBUG: Crawled (200) <GET https://storycorps.org/podcast/willie-shig-and-a-bird-named-maggie/> (referer: https://storycorps.org/podcast/page/6/)\n",
      "2021-03-11 20:19:26 [scrapy.downloadermiddlewares.retry] DEBUG: Retrying <GET https://storycorps.org/podcast/across-the-great-divide/> (failed 1 times): 429 Unknown Status\n",
      "2021-03-11 20:19:26 [scrapy.downloadermiddlewares.retry] DEBUG: Retrying <GET https://storycorps.org/podcast/a-son-always-remembers-his-father/> (failed 1 times): 429 Unknown Status\n",
      "2021-03-11 20:19:26 [scrapy.downloadermiddlewares.retry] DEBUG: Retrying <GET https://storycorps.org/podcast/stubborn-love/> (failed 1 times): 429 Unknown Status\n",
      "2021-03-11 20:19:26 [scrapy.downloadermiddlewares.retry] DEBUG: Retrying <GET https://storycorps.org/podcast/by-the-power-vested-in-me/> (failed 1 times): 429 Unknown Status\n",
      "2021-03-11 20:19:26 [scrapy.core.engine] DEBUG: Crawled (200) <GET https://storycorps.org/podcast/comfort-from-the-kitchen/> (referer: https://storycorps.org/podcast/page/3/)\n",
      "2021-03-11 20:19:26 [scrapy.core.engine] DEBUG: Crawled (200) <GET https://storycorps.org/podcast/a-reason-to-smile/> (referer: https://storycorps.org/podcast/page/3/)\n",
      "2021-03-11 20:19:26 [scrapy.core.engine] DEBUG: Crawled (200) <GET https://storycorps.org/podcast/santa-rick/> (referer: https://storycorps.org/podcast/page/8/)\n",
      "2021-03-11 20:19:26 [scrapy.downloadermiddlewares.retry] DEBUG: Retrying <GET https://storycorps.org/podcast/storycorps-extra-the-drill/> (failed 1 times): 429 Unknown Status\n"
     ]
    },
    {
     "name": "stdout",
     "output_type": "stream",
     "text": [
      "['StoryCorps EXTRA', ' Dave’s Mom']\n",
      "['StoryCorps 508', ' No Barrier for the Love']\n",
      "['StoryCorps 502', ' One Iota of Light']\n",
      "['StoryCorps 515', ' Keepers of the Temple']\n",
      "['High School Reunion', ' Part II']\n",
      "['All I Had Was Hope And You']\n",
      "['Willie, Shig, and a Bird Named Maggie']\n"
     ]
    },
    {
     "name": "stderr",
     "output_type": "stream",
     "text": [
      "2021-03-11 20:19:26 [scrapy.core.engine] DEBUG: Crawled (200) <GET https://storycorps.org/podcast/high-school-reunion-part-i/> (referer: https://storycorps.org/podcast/page/8/)\n",
      "2021-03-11 20:19:26 [scrapy.core.engine] DEBUG: Crawled (200) <GET https://storycorps.org/podcast/one-small-step-the-npr-special-part-1/> (referer: https://storycorps.org/podcast/page/3/)\n",
      "2021-03-11 20:19:26 [scrapy.core.engine] DEBUG: Crawled (200) <GET https://storycorps.org/podcast/i-always-meant-to-tell-you-this/> (referer: https://storycorps.org/podcast/page/8/)\n",
      "2021-03-11 20:19:26 [scrapy.downloadermiddlewares.retry] DEBUG: Retrying <GET https://storycorps.org/podcast/storycorps-533-the-senator-the-photographer-and-the-busboy/> (failed 1 times): 429 Unknown Status\n",
      "2021-03-11 20:19:26 [scrapy.downloadermiddlewares.retry] DEBUG: Retrying <GET https://storycorps.org/podcast/storycorps-531-legacies-of-love/> (failed 1 times): 429 Unknown Status\n",
      "2021-03-11 20:19:26 [scrapy.core.engine] DEBUG: Crawled (200) <GET https://storycorps.org/podcast/barbara-and-jeanne/> (referer: https://storycorps.org/podcast/page/8/)\n",
      "2021-03-11 20:19:26 [scrapy.core.engine] DEBUG: Crawled (200) <GET https://storycorps.org/podcast/storycorps-453-do-over/> (referer: https://storycorps.org/podcast/page/8/)\n",
      "2021-03-11 20:19:26 [scrapy.core.engine] DEBUG: Crawled (200) <GET https://storycorps.org/podcast/storycorps-537-never-say-goodbye/> (referer: https://storycorps.org/podcast/page/8/)\n",
      "2021-03-11 20:19:26 [scrapy.downloadermiddlewares.retry] DEBUG: Retrying <GET https://storycorps.org/podcast/storycorps-530-too-blue-for-the-morning-news/> (failed 1 times): 429 Unknown Status\n",
      "2021-03-11 20:19:26 [scrapy.downloadermiddlewares.retry] DEBUG: Retrying <GET https://storycorps.org/podcast/little-kids-big-questions/> (failed 1 times): 429 Unknown Status\n",
      "2021-03-11 20:19:26 [scrapy.downloadermiddlewares.retry] DEBUG: Retrying <GET https://storycorps.org/podcast/make-sure-you-thank-that-teacher/> (failed 1 times): 429 Unknown Status\n",
      "2021-03-11 20:19:26 [scrapy.downloadermiddlewares.retry] DEBUG: Retrying <GET https://storycorps.org/podcast/a-little-bit-of-kindness/> (failed 1 times): 429 Unknown Status\n",
      "2021-03-11 20:19:26 [scrapy.core.engine] DEBUG: Crawled (200) <GET https://storycorps.org/podcast/grateful-to-be-your-dad/> (referer: https://storycorps.org/podcast/page/2/)\n",
      "2021-03-11 20:19:26 [scrapy.downloadermiddlewares.retry] DEBUG: Retrying <GET https://storycorps.org/podcast/from-one-essential-worker-to-another/> (failed 1 times): 429 Unknown Status\n",
      "2021-03-11 20:19:26 [scrapy.downloadermiddlewares.retry] DEBUG: Retrying <GET https://storycorps.org/podcast/to-live-with-your-hands-unfolded/> (failed 1 times): 429 Unknown Status\n"
     ]
    },
    {
     "name": "stdout",
     "output_type": "stream",
     "text": [
      "['Comfort From The Kitchen']\n",
      "['A Reason To Smile']\n",
      "['Santa Rick']\n",
      "['High School Reunion', ' Part I']\n",
      "['One Small Step', ' The NPR Special, Part 1']\n",
      "['I Always Meant to Tell You This']\n",
      "['Barbara and Jeanne']\n",
      "['StoryCorps 453', ' Do-Over']\n",
      "['StoryCorps 537', ' Never Say Goodbye']\n"
     ]
    },
    {
     "name": "stderr",
     "output_type": "stream",
     "text": [
      "2021-03-11 20:19:26 [scrapy.core.engine] DEBUG: Crawled (200) <GET https://storycorps.org/podcast/so-close-and-yet-at-least-six-feet-apart/> (referer: https://storycorps.org/podcast/page/2/)\n",
      "2021-03-11 20:19:26 [scrapy.downloadermiddlewares.retry] DEBUG: Retrying <GET https://storycorps.org/podcast/a-chapter-from-my-life/> (failed 1 times): 429 Unknown Status\n",
      "2021-03-11 20:19:26 [scrapy.downloadermiddlewares.retry] DEBUG: Retrying <GET https://storycorps.org/podcast/finding-our-way-back/> (failed 1 times): 429 Unknown Status\n",
      "2021-03-11 20:19:26 [scrapy.core.engine] DEBUG: Crawled (200) <GET https://storycorps.org/podcast/storycorps-528-allie-n-steve/> (referer: https://storycorps.org/podcast/page/7/)\n",
      "2021-03-11 20:19:26 [scrapy.core.engine] DEBUG: Crawled (200) <GET https://storycorps.org/podcast/one-small-step-the-npr-special-part-2/> (referer: https://storycorps.org/podcast/page/2/)\n",
      "2021-03-11 20:19:26 [scrapy.core.engine] DEBUG: Crawled (200) <GET https://storycorps.org/podcast/storycorps-529-where-the-giant-mushrooms-grow/> (referer: https://storycorps.org/podcast/page/7/)\n",
      "2021-03-11 20:19:26 [scrapy.downloadermiddlewares.retry] DEBUG: Retrying <GET https://storycorps.org/podcast/storycorps-536-little-kids-big-problems/> (failed 1 times): 429 Unknown Status\n",
      "2021-03-11 20:19:26 [scrapy.core.engine] DEBUG: Crawled (200) <GET https://storycorps.org/podcast/storycorps-521-rickey-and-eddie/> (referer: https://storycorps.org/podcast/page/7/)\n",
      "2021-03-11 20:19:26 [scrapy.core.engine] DEBUG: Crawled (200) <GET https://storycorps.org/podcast/storycorps-532-lost-time/> (referer: https://storycorps.org/podcast/page/7/)\n",
      "2021-03-11 20:19:26 [scrapy.downloadermiddlewares.retry] DEBUG: Retrying <GET https://storycorps.org/podcast/new-years-eve-with-spencer-the-possum/> (failed 1 times): 429 Unknown Status\n",
      "2021-03-11 20:19:26 [scrapy.downloadermiddlewares.retry] DEBUG: Retrying <GET https://storycorps.org/podcast/holiday-gifts-that-cant-be-bought/> (failed 1 times): 429 Unknown Status\n",
      "2021-03-11 20:19:26 [scrapy.core.engine] DEBUG: Crawled (200) <GET https://storycorps.org/podcast/storycorps-526-a-parents-job/> (referer: https://storycorps.org/podcast/page/7/)\n",
      "2021-03-11 20:19:26 [scrapy.downloadermiddlewares.retry] DEBUG: Retrying <GET https://storycorps.org/podcast/the-leesburg-stockade-girls/> (failed 1 times): 429 Unknown Status\n",
      "2021-03-11 20:19:27 [scrapy.core.engine] DEBUG: Crawled (200) <GET https://storycorps.org/podcast/storycorps-extra-my-own-private-sit-in/> (referer: https://storycorps.org/podcast/page/7/)\n",
      "2021-03-11 20:19:27 [scrapy.downloadermiddlewares.retry] DEBUG: Retrying <GET https://storycorps.org/podcast/no-ones-going-to-stop-me/> (failed 1 times): 429 Unknown Status\n",
      "2021-03-11 20:19:27 [scrapy.core.engine] DEBUG: Crawled (200) <GET https://storycorps.org/podcast/storycorps-527-tubby-rules/> (referer: https://storycorps.org/podcast/page/7/)\n"
     ]
    },
    {
     "name": "stdout",
     "output_type": "stream",
     "text": [
      "['Grateful To Be Your Dad']\n",
      "['So Close (And Yet, At Least Six Feet Apart)']\n",
      "['StoryCorps 528', ' Allie n Steve']\n",
      "['One Small Step', ' The NPR Special Part 2']\n",
      "['StoryCorps 529', ' Where the Giant Mushrooms Grow']\n",
      "['StoryCorps 521', ' Rickey and Eddie']\n",
      "['StoryCorps 532', ' Lost Time']\n"
     ]
    },
    {
     "name": "stderr",
     "output_type": "stream",
     "text": [
      "2021-03-11 20:19:27 [scrapy.core.engine] DEBUG: Crawled (200) <GET https://storycorps.org/podcast/the-dark-before-dawn/> (referer: https://storycorps.org/podcast/page/4/)\n",
      "2021-03-11 20:19:27 [scrapy.core.engine] DEBUG: Crawled (200) <GET https://storycorps.org/podcast/we-are-family/> (referer: https://storycorps.org/podcast/page/4/)\n",
      "2021-03-11 20:19:27 [scrapy.downloadermiddlewares.retry] DEBUG: Retrying <GET https://storycorps.org/podcast/we-never-spoke-of-it/> (failed 1 times): 429 Unknown Status\n",
      "2021-03-11 20:19:27 [scrapy.core.engine] DEBUG: Crawled (200) <GET https://storycorps.org/podcast/close-calls-and-patron-saints/> (referer: https://storycorps.org/podcast/page/4/)\n",
      "2021-03-11 20:19:27 [scrapy.downloadermiddlewares.retry] DEBUG: Retrying <GET https://storycorps.org/podcast/second-chances/> (failed 1 times): 429 Unknown Status\n",
      "2021-03-11 20:19:27 [scrapy.core.engine] DEBUG: Crawled (200) <GET https://storycorps.org/podcast/the-great-listen/> (referer: https://storycorps.org/podcast/page/5/)\n",
      "2021-03-11 20:19:27 [scrapy.core.engine] DEBUG: Crawled (200) <GET https://storycorps.org/podcast/love-and-a-life-complete/> (referer: https://storycorps.org/podcast/page/5/)\n",
      "2021-03-11 20:19:27 [scrapy.downloadermiddlewares.retry] DEBUG: Retrying <GET https://storycorps.org/podcast/the-devil-and-the-deep-blue-sea/> (failed 1 times): 429 Unknown Status\n",
      "2021-03-11 20:19:27 [scrapy.downloadermiddlewares.retry] DEBUG: Retrying <GET https://storycorps.org/podcast/a-light-at-the-end-of-the-tunnel/> (failed 1 times): 429 Unknown Status\n",
      "2021-03-11 20:19:27 [scrapy.downloadermiddlewares.retry] DEBUG: Retrying <GET https://storycorps.org/podcast/a-danger-to-my-country/> (failed 1 times): 429 Unknown Status\n",
      "2021-03-11 20:19:27 [scrapy.core.engine] DEBUG: Crawled (200) <GET https://storycorps.org/podcast/a-beautiful-gray-in-the-gayborhood/> (referer: https://storycorps.org/podcast/page/5/)\n"
     ]
    },
    {
     "name": "stdout",
     "output_type": "stream",
     "text": [
      "['StoryCorps 526', ' A Parent’s Job']\n",
      "['StoryCorps EXTRA', ' My Own Private Sit-In']\n",
      "['StoryCorps 527', ' Tubby Rules']\n",
      "['The Dark Before Dawn']\n",
      "['We Are Family']\n",
      "['Close Calls and Patron Saints']\n"
     ]
    },
    {
     "name": "stderr",
     "output_type": "stream",
     "text": [
      "2021-03-11 20:19:27 [scrapy.core.engine] DEBUG: Crawled (200) <GET https://storycorps.org/podcast/pearls-of-wisdom/> (referer: https://storycorps.org/podcast/page/5/)\n",
      "2021-03-11 20:19:27 [scrapy.core.engine] DEBUG: Crawled (200) <GET https://storycorps.org/podcast/for-the-love-of-ira/> (referer: https://storycorps.org/podcast/page/5/)\n",
      "2021-03-11 20:19:27 [scrapy.downloadermiddlewares.retry] DEBUG: Retrying <GET https://storycorps.org/podcast/remembering-stonewall-50-years-later/> (failed 1 times): 429 Unknown Status\n",
      "2021-03-11 20:19:27 [scrapy.core.engine] DEBUG: Crawled (200) <GET https://storycorps.org/podcast/the-leesburg-stockade-girls/> (referer: https://storycorps.org/podcast/page/4/)\n",
      "2021-03-11 20:19:27 [scrapy.downloadermiddlewares.retry] DEBUG: Retrying <GET https://storycorps.org/podcast/holiday-gifts-that-cant-be-bought/> (failed 2 times): 429 Unknown Status\n",
      "2021-03-11 20:19:27 [scrapy.core.engine] DEBUG: Crawled (200) <GET https://storycorps.org/podcast/new-years-eve-with-spencer-the-possum/> (referer: https://storycorps.org/podcast/page/4/)\n",
      "2021-03-11 20:19:27 [scrapy.core.engine] DEBUG: Crawled (200) <GET https://storycorps.org/podcast/were-still-here/> (referer: https://storycorps.org/podcast/page/5/)\n",
      "2021-03-11 20:19:27 [scrapy.downloadermiddlewares.retry] DEBUG: Retrying <GET https://storycorps.org/podcast/second-chances/> (failed 2 times): 429 Unknown Status\n",
      "2021-03-11 20:19:27 [scrapy.downloadermiddlewares.retry] DEBUG: Retrying <GET https://storycorps.org/podcast/we-never-spoke-of-it/> (failed 2 times): 429 Unknown Status\n",
      "2021-03-11 20:19:27 [scrapy.downloadermiddlewares.retry] DEBUG: Retrying <GET https://storycorps.org/podcast/no-ones-going-to-stop-me/> (failed 2 times): 429 Unknown Status\n"
     ]
    },
    {
     "name": "stdout",
     "output_type": "stream",
     "text": [
      "['The Great Listen']\n",
      "['Love and a Life Complete']\n",
      "['A Beautiful Gray In The Gayborhood']\n",
      "['Pearls of Wisdom']\n",
      "['For the Love of Ira']\n"
     ]
    },
    {
     "name": "stderr",
     "output_type": "stream",
     "text": [
      "2021-03-11 20:19:27 [scrapy.core.engine] DEBUG: Crawled (200) <GET https://storycorps.org/podcast/the-devil-and-the-deep-blue-sea/> (referer: https://storycorps.org/podcast/page/4/)\n",
      "2021-03-11 20:19:27 [scrapy.core.engine] DEBUG: Crawled (200) <GET https://storycorps.org/podcast/from-one-essential-worker-to-another/> (referer: https://storycorps.org/podcast/page/2/)\n",
      "2021-03-11 20:19:27 [scrapy.core.engine] DEBUG: Crawled (200) <GET https://storycorps.org/podcast/a-light-at-the-end-of-the-tunnel/> (referer: https://storycorps.org/podcast/page/4/)\n",
      "2021-03-11 20:19:27 [scrapy.core.engine] DEBUG: Crawled (200) <GET https://storycorps.org/podcast/a-chapter-from-my-life/> (referer: https://storycorps.org/podcast/page/2/)\n",
      "2021-03-11 20:19:27 [scrapy.core.engine] DEBUG: Crawled (200) <GET https://storycorps.org/podcast/to-live-with-your-hands-unfolded/> (referer: https://storycorps.org/podcast/page/2/)\n",
      "2021-03-11 20:19:27 [scrapy.core.engine] DEBUG: Crawled (200) <GET https://storycorps.org/podcast/storycorps-536-little-kids-big-problems/> (referer: https://storycorps.org/podcast/page/7/)\n",
      "2021-03-11 20:19:27 [scrapy.core.engine] DEBUG: Crawled (200) <GET https://storycorps.org/podcast/a-danger-to-my-country/> (referer: https://storycorps.org/podcast/page/4/)\n",
      "2021-03-11 20:19:27 [scrapy.core.engine] DEBUG: Crawled (200) <GET https://storycorps.org/podcast/remembering-stonewall-50-years-later/> (referer: https://storycorps.org/podcast/page/5/)\n",
      "2021-03-11 20:19:27 [scrapy.downloadermiddlewares.retry] DEBUG: Retrying <GET https://storycorps.org/podcast/little-kids-big-questions/> (failed 2 times): 429 Unknown Status\n",
      "2021-03-11 20:19:27 [scrapy.core.engine] DEBUG: Crawled (200) <GET https://storycorps.org/podcast/storycorps-530-too-blue-for-the-morning-news/> (referer: https://storycorps.org/podcast/page/8/)\n"
     ]
    },
    {
     "name": "stdout",
     "output_type": "stream",
     "text": [
      "['The Leesburg Stockade Girls']\n",
      "['New Year’s Eve With Spencer The Possum']\n",
      "['We’re Still Here']\n",
      "['The Devil and the Deep Blue Sea']\n",
      "['From One Essential Worker To Another']\n"
     ]
    },
    {
     "name": "stderr",
     "output_type": "stream",
     "text": [
      "2021-03-11 20:19:27 [scrapy.downloadermiddlewares.retry] DEBUG: Retrying <GET https://storycorps.org/podcast/storycorps-531-legacies-of-love/> (failed 2 times): 429 Unknown Status\n",
      "2021-03-11 20:19:27 [scrapy.downloadermiddlewares.retry] DEBUG: Retrying <GET https://storycorps.org/podcast/storycorps-533-the-senator-the-photographer-and-the-busboy/> (failed 2 times): 429 Unknown Status\n",
      "2021-03-11 20:19:27 [scrapy.downloadermiddlewares.retry] DEBUG: Retrying <GET https://storycorps.org/podcast/storycorps-extra-the-drill/> (failed 2 times): 429 Unknown Status\n",
      "2021-03-11 20:19:27 [scrapy.downloadermiddlewares.retry] DEBUG: Retrying <GET https://storycorps.org/podcast/make-sure-you-thank-that-teacher/> (failed 2 times): 429 Unknown Status\n",
      "2021-03-11 20:19:27 [scrapy.core.engine] DEBUG: Crawled (200) <GET https://storycorps.org/podcast/a-little-bit-of-kindness/> (referer: https://storycorps.org/podcast/page/2/)\n",
      "2021-03-11 20:19:27 [scrapy.core.engine] DEBUG: Crawled (200) <GET https://storycorps.org/podcast/stubborn-love/> (referer: https://storycorps.org/podcast/page/6/)\n",
      "2021-03-11 20:19:27 [scrapy.core.engine] DEBUG: Crawled (200) <GET https://storycorps.org/podcast/by-the-power-vested-in-me/> (referer: https://storycorps.org/podcast/page/6/)\n",
      "2021-03-11 20:19:27 [scrapy.core.engine] DEBUG: Crawled (200) <GET https://storycorps.org/podcast/finding-our-way-back/> (referer: https://storycorps.org/podcast/page/7/)\n",
      "2021-03-11 20:19:27 [scrapy.downloadermiddlewares.retry] DEBUG: Retrying <GET https://storycorps.org/podcast/a-son-always-remembers-his-father/> (failed 2 times): 429 Unknown Status\n",
      "2021-03-11 20:19:27 [scrapy.core.engine] DEBUG: Crawled (200) <GET https://storycorps.org/podcast/storycorps-534-ghetto-life-101/> (referer: https://storycorps.org/podcast/page/6/)\n",
      "2021-03-11 20:19:27 [scrapy.downloadermiddlewares.retry] DEBUG: Retrying <GET https://storycorps.org/podcast/storycorps-523-years-in-the-making/> (failed 2 times): 429 Unknown Status\n"
     ]
    },
    {
     "name": "stdout",
     "output_type": "stream",
     "text": [
      "['A Light At The End Of The Tunnel']\n",
      "['A Chapter From My Life']\n",
      "['To Live With Your Hands Unfolded']\n",
      "['StoryCorps 536', ' Little Kids, Big Problems']\n",
      "['A Danger To My Country']\n",
      "['Remembering Stonewall', ' 50 Years Later']\n",
      "['StoryCorps 530', ' Too Blue for the Morning News']\n",
      "['A Little Bit Of Kindness']\n"
     ]
    },
    {
     "name": "stderr",
     "output_type": "stream",
     "text": [
      "2021-03-11 20:19:27 [scrapy.downloadermiddlewares.retry] DEBUG: Retrying <GET https://storycorps.org/podcast/storycorps-525-the-good-right-honest-thing/> (failed 2 times): 429 Unknown Status\n",
      "2021-03-11 20:19:27 [scrapy.downloadermiddlewares.retry] DEBUG: Retrying <GET https://storycorps.org/podcast/storycorps-466-callings/> (failed 2 times): 429 Unknown Status\n",
      "2021-03-11 20:19:27 [scrapy.core.engine] DEBUG: Crawled (200) <GET https://storycorps.org/podcast/across-the-great-divide/> (referer: https://storycorps.org/podcast/page/3/)\n",
      "2021-03-11 20:19:27 [scrapy.core.engine] DEBUG: Crawled (200) <GET https://storycorps.org/podcast/storycorps-495-griot/> (referer: https://storycorps.org/podcast/page/9/)\n",
      "2021-03-11 20:19:27 [scrapy.core.engine] DEBUG: Crawled (200) <GET https://storycorps.org/podcast/to-grandmothers-house-we-sorta-go/> (referer: https://storycorps.org/podcast/page/3/)\n",
      "2021-03-11 20:19:27 [scrapy.downloadermiddlewares.retry] DEBUG: Retrying <GET https://storycorps.org/podcast/storycorps-extra-remembering-sandy-hook/> (failed 2 times): 429 Unknown Status\n",
      "2021-03-11 20:19:27 [scrapy.downloadermiddlewares.retry] DEBUG: Retrying <GET https://storycorps.org/podcast/storycorps-514-his-first-and-greatest-teacher/> (failed 2 times): 429 Unknown Status\n",
      "2021-03-11 20:19:27 [scrapy.downloadermiddlewares.retry] DEBUG: Retrying <GET https://storycorps.org/podcast/storycorps-497-meet-them-where-they-are/> (failed 2 times): 429 Unknown Status\n",
      "2021-03-11 20:19:27 [scrapy.downloadermiddlewares.retry] DEBUG: Retrying <GET https://storycorps.org/podcast/storycorps-501-studs-terkel-day/> (failed 2 times): 429 Unknown Status\n",
      "2021-03-11 20:19:28 [scrapy.core.engine] DEBUG: Crawled (200) <GET https://storycorps.org/podcast/storycorps-511-american-talkers-part-1/> (referer: https://storycorps.org/podcast/page/12/)\n",
      "2021-03-11 20:19:28 [scrapy.downloadermiddlewares.retry] DEBUG: Retrying <GET https://storycorps.org/podcast/storycorps-516-married-to-the-mortician/> (failed 2 times): 429 Unknown Status\n",
      "2021-03-11 20:19:28 [scrapy.core.engine] DEBUG: Crawled (200) <GET https://storycorps.org/podcast/storycorps-494-certain-kinds-of-love/> (referer: https://storycorps.org/podcast/page/12/)\n",
      "2021-03-11 20:19:28 [scrapy.core.engine] DEBUG: Crawled (200) <GET https://storycorps.org/podcast/storycorps-440-on-the-other-side-of-death/> (referer: https://storycorps.org/podcast/page/12/)\n",
      "2021-03-11 20:19:28 [scrapy.downloadermiddlewares.retry] DEBUG: Retrying <GET https://storycorps.org/podcast/storycorps-519-in-the-spirit/> (failed 2 times): 429 Unknown Status\n",
      "2021-03-11 20:19:28 [scrapy.downloadermiddlewares.retry] DEBUG: Retrying <GET https://storycorps.org/podcast/storycorps-493-being-human-there-or-here/> (failed 2 times): 429 Unknown Status\n"
     ]
    },
    {
     "name": "stdout",
     "output_type": "stream",
     "text": [
      "['Stubborn Love']\n",
      "['By the Power Vested in Me']\n",
      "['When the World Is Exploding Around You']\n",
      "['StoryCorps 534', ' Ghetto Life 101']\n",
      "['Across The Great Divide']\n",
      "['StoryCorps 495', ' Griot']\n",
      "['To Grandmother’s House We (Sorta) Go']\n"
     ]
    },
    {
     "name": "stderr",
     "output_type": "stream",
     "text": [
      "2021-03-11 20:19:28 [scrapy.core.engine] DEBUG: Crawled (200) <GET https://storycorps.org/podcast/storycorps-439-space-men/> (referer: https://storycorps.org/podcast/page/12/)\n",
      "2021-03-11 20:19:28 [scrapy.core.engine] DEBUG: Crawled (200) <GET https://storycorps.org/podcast/storycorps-500-tough-mother/> (referer: https://storycorps.org/podcast/page/12/)\n",
      "2021-03-11 20:19:28 [scrapy.downloadermiddlewares.retry] DEBUG: Retrying <GET https://storycorps.org/podcast/storycorps-512-american-talkers-part-2/> (failed 2 times): 429 Unknown Status\n",
      "2021-03-11 20:19:28 [scrapy.core.engine] DEBUG: Crawled (200) <GET https://storycorps.org/podcast/storycorps-518-the-conversation/> (referer: https://storycorps.org/podcast/page/13/)\n",
      "2021-03-11 20:19:28 [scrapy.downloadermiddlewares.retry] DEBUG: Retrying <GET https://storycorps.org/podcast/storycorps-462-in-the-neighborhood/> (failed 2 times): 429 Unknown Status\n",
      "2021-03-11 20:19:28 [scrapy.core.engine] DEBUG: Crawled (200) <GET https://storycorps.org/podcast/storycorps-465-at-the-ballpark/> (referer: https://storycorps.org/podcast/page/10/)\n",
      "2021-03-11 20:19:28 [scrapy.core.engine] DEBUG: Crawled (200) <GET https://storycorps.org/podcast/storycorps-extra-listen-more/> (referer: https://storycorps.org/podcast/page/14/)\n",
      "2021-03-11 20:19:28 [scrapy.downloadermiddlewares.retry] DEBUG: Retrying <GET https://storycorps.org/podcast/storycorps-492-old-friends/> (failed 2 times): 429 Unknown Status\n",
      "2021-03-11 20:19:28 [scrapy.downloadermiddlewares.retry] DEBUG: Retrying <GET https://storycorps.org/podcast/storycorps-490-yiddish-radio-project-part-2/> (failed 2 times): 429 Unknown Status\n",
      "2021-03-11 20:19:28 [scrapy.core.engine] DEBUG: Crawled (200) <GET https://storycorps.org/podcast/storycorps-480-gifts-from-our-parents/> (referer: https://storycorps.org/podcast/page/14/)\n",
      "2021-03-11 20:19:28 [scrapy.downloadermiddlewares.retry] DEBUG: Retrying <GET https://storycorps.org/podcast/storycorps-473-upstairs-backstreet-pulse/> (failed 2 times): 429 Unknown Status\n",
      "2021-03-11 20:19:28 [scrapy.downloadermiddlewares.retry] ERROR: Gave up retrying <GET https://storycorps.org/podcast/storycorps-516-married-to-the-mortician/> (failed 3 times): 429 Unknown Status\n",
      "2021-03-11 20:19:28 [scrapy.core.engine] DEBUG: Crawled (429) <GET https://storycorps.org/podcast/storycorps-516-married-to-the-mortician/> (referer: https://storycorps.org/podcast/page/11/)\n",
      "2021-03-11 20:19:28 [scrapy.core.engine] DEBUG: Crawled (200) <GET https://storycorps.org/podcast/storycorps-477-looking-out/> (referer: https://storycorps.org/podcast/page/15/)\n",
      "2021-03-11 20:19:28 [scrapy.core.engine] DEBUG: Crawled (200) <GET https://storycorps.org/podcast/storycorps-487-the-long-run/> (referer: https://storycorps.org/podcast/page/15/)\n"
     ]
    },
    {
     "name": "stdout",
     "output_type": "stream",
     "text": [
      "['StoryCorps 511', ' American Talkers, Part 1']\n",
      "['StoryCorps 494', ' Certain Kinds of Love']\n",
      "['StoryCorps 440', ' On the Other Side of Death']\n",
      "['StoryCorps 439', ' Space Men']\n",
      "['StoryCorps 500', ' Tough Mother']\n",
      "['StoryCorps 518', ' The Conversation']\n",
      "['StoryCorps 465', ' At the Ballpark']\n"
     ]
    },
    {
     "name": "stderr",
     "output_type": "stream",
     "text": [
      "2021-03-11 20:19:28 [scrapy.downloadermiddlewares.retry] ERROR: Gave up retrying <GET https://storycorps.org/podcast/storycorps-519-in-the-spirit/> (failed 3 times): 429 Unknown Status\n",
      "2021-03-11 20:19:28 [scrapy.core.engine] DEBUG: Crawled (429) <GET https://storycorps.org/podcast/storycorps-519-in-the-spirit/> (referer: https://storycorps.org/podcast/page/10/)\n",
      "2021-03-11 20:19:28 [scrapy.downloadermiddlewares.retry] ERROR: Gave up retrying <GET https://storycorps.org/podcast/storycorps-493-being-human-there-or-here/> (failed 3 times): 429 Unknown Status\n",
      "2021-03-11 20:19:28 [scrapy.core.engine] DEBUG: Crawled (429) <GET https://storycorps.org/podcast/storycorps-493-being-human-there-or-here/> (referer: https://storycorps.org/podcast/page/10/)\n",
      "2021-03-11 20:19:28 [scrapy.downloadermiddlewares.retry] ERROR: Gave up retrying <GET https://storycorps.org/podcast/storycorps-514-his-first-and-greatest-teacher/> (failed 3 times): 429 Unknown Status\n",
      "2021-03-11 20:19:28 [scrapy.core.engine] DEBUG: Crawled (429) <GET https://storycorps.org/podcast/storycorps-514-his-first-and-greatest-teacher/> (referer: https://storycorps.org/podcast/page/11/)\n",
      "2021-03-11 20:19:28 [scrapy.downloadermiddlewares.retry] ERROR: Gave up retrying <GET https://storycorps.org/podcast/storycorps-497-meet-them-where-they-are/> (failed 3 times): 429 Unknown Status\n",
      "2021-03-11 20:19:28 [scrapy.core.engine] DEBUG: Crawled (429) <GET https://storycorps.org/podcast/storycorps-497-meet-them-where-they-are/> (referer: https://storycorps.org/podcast/page/11/)\n",
      "2021-03-11 20:19:28 [scrapy.downloadermiddlewares.retry] ERROR: Gave up retrying <GET https://storycorps.org/podcast/storycorps-462-in-the-neighborhood/> (failed 3 times): 429 Unknown Status\n",
      "2021-03-11 20:19:28 [scrapy.core.engine] DEBUG: Crawled (429) <GET https://storycorps.org/podcast/storycorps-462-in-the-neighborhood/> (referer: https://storycorps.org/podcast/page/13/)\n",
      "2021-03-11 20:19:28 [scrapy.core.engine] DEBUG: Crawled (200) <GET https://storycorps.org/podcast/storycorps-512-american-talkers-part-2/> (referer: https://storycorps.org/podcast/page/10/)\n",
      "2021-03-11 20:19:28 [scrapy.core.engine] DEBUG: Crawled (200) <GET https://storycorps.org/podcast/storycorps-501-studs-terkel-day/> (referer: https://storycorps.org/podcast/page/11/)\n",
      "2021-03-11 20:19:28 [scrapy.spidermiddlewares.httperror] INFO: Ignoring response <429 https://storycorps.org/podcast/storycorps-516-married-to-the-mortician/>: HTTP status code is not handled or not allowed\n",
      "2021-03-11 20:19:28 [scrapy.core.engine] DEBUG: Crawled (200) <GET https://storycorps.org/podcast/storycorps-extra-remembering-sandy-hook/> (referer: https://storycorps.org/podcast/page/9/)\n",
      "2021-03-11 20:19:28 [scrapy.downloadermiddlewares.retry] ERROR: Gave up retrying <GET https://storycorps.org/podcast/storycorps-490-yiddish-radio-project-part-2/> (failed 3 times): 429 Unknown Status\n",
      "2021-03-11 20:19:28 [scrapy.core.engine] DEBUG: Crawled (429) <GET https://storycorps.org/podcast/storycorps-490-yiddish-radio-project-part-2/> (referer: https://storycorps.org/podcast/page/13/)\n",
      "2021-03-11 20:19:28 [scrapy.core.engine] DEBUG: Crawled (200) <GET https://storycorps.org/podcast/storycorps-492-old-friends/> (referer: https://storycorps.org/podcast/page/10/)\n",
      "2021-03-11 20:19:28 [scrapy.spidermiddlewares.httperror] INFO: Ignoring response <429 https://storycorps.org/podcast/storycorps-519-in-the-spirit/>: HTTP status code is not handled or not allowed\n",
      "2021-03-11 20:19:28 [scrapy.spidermiddlewares.httperror] INFO: Ignoring response <429 https://storycorps.org/podcast/storycorps-493-being-human-there-or-here/>: HTTP status code is not handled or not allowed\n",
      "2021-03-11 20:19:28 [scrapy.spidermiddlewares.httperror] INFO: Ignoring response <429 https://storycorps.org/podcast/storycorps-514-his-first-and-greatest-teacher/>: HTTP status code is not handled or not allowed\n",
      "2021-03-11 20:19:28 [scrapy.core.engine] DEBUG: Crawled (200) <GET https://storycorps.org/podcast/storycorps-466-callings/> (referer: https://storycorps.org/podcast/page/9/)\n",
      "2021-03-11 20:19:28 [scrapy.spidermiddlewares.httperror] INFO: Ignoring response <429 https://storycorps.org/podcast/storycorps-497-meet-them-where-they-are/>: HTTP status code is not handled or not allowed\n",
      "2021-03-11 20:19:28 [scrapy.spidermiddlewares.httperror] INFO: Ignoring response <429 https://storycorps.org/podcast/storycorps-462-in-the-neighborhood/>: HTTP status code is not handled or not allowed\n"
     ]
    },
    {
     "name": "stdout",
     "output_type": "stream",
     "text": [
      "['StoryCorps EXTRA', ' Listen More']\n",
      "['StoryCorps 480', ' Gifts from Our Parents']\n",
      "['StoryCorps 477', ' Looking Out']\n",
      "['StoryCorps 487', ' In the Long Run']\n",
      "['StoryCorps 512', ' American Talkers, Part 2']"
     ]
    },
    {
     "name": "stderr",
     "output_type": "stream",
     "text": [
      "2021-03-11 20:19:28 [scrapy.downloadermiddlewares.retry] ERROR: Gave up retrying <GET https://storycorps.org/podcast/storycorps-473-upstairs-backstreet-pulse/> (failed 3 times): 429 Unknown Status\n",
      "2021-03-11 20:19:28 [scrapy.core.engine] DEBUG: Crawled (429) <GET https://storycorps.org/podcast/storycorps-473-upstairs-backstreet-pulse/> (referer: https://storycorps.org/podcast/page/14/)\n",
      "2021-03-11 20:19:28 [scrapy.downloadermiddlewares.retry] ERROR: Gave up retrying <GET https://storycorps.org/podcast/storycorps-extra-the-drill/> (failed 3 times): 429 Unknown Status\n",
      "2021-03-11 20:19:28 [scrapy.core.engine] DEBUG: Crawled (429) <GET https://storycorps.org/podcast/storycorps-extra-the-drill/> (referer: https://storycorps.org/podcast/page/8/)\n",
      "2021-03-11 20:19:28 [scrapy.core.engine] DEBUG: Crawled (200) <GET https://storycorps.org/podcast/a-son-always-remembers-his-father/> (referer: https://storycorps.org/podcast/page/6/)\n",
      "2021-03-11 20:19:28 [scrapy.spidermiddlewares.httperror] INFO: Ignoring response <429 https://storycorps.org/podcast/storycorps-490-yiddish-radio-project-part-2/>: HTTP status code is not handled or not allowed\n",
      "2021-03-11 20:19:28 [scrapy.downloadermiddlewares.retry] ERROR: Gave up retrying <GET https://storycorps.org/podcast/storycorps-531-legacies-of-love/> (failed 3 times): 429 Unknown Status\n",
      "2021-03-11 20:19:28 [scrapy.core.engine] DEBUG: Crawled (429) <GET https://storycorps.org/podcast/storycorps-531-legacies-of-love/> (referer: https://storycorps.org/podcast/page/8/)\n",
      "2021-03-11 20:19:28 [scrapy.core.engine] DEBUG: Crawled (200) <GET https://storycorps.org/podcast/storycorps-523-years-in-the-making/> (referer: https://storycorps.org/podcast/page/6/)\n",
      "2021-03-11 20:19:28 [scrapy.core.engine] DEBUG: Crawled (200) <GET https://storycorps.org/podcast/storycorps-525-the-good-right-honest-thing/> (referer: https://storycorps.org/podcast/page/6/)\n",
      "2021-03-11 20:19:28 [scrapy.core.engine] DEBUG: Crawled (200) <GET https://storycorps.org/podcast/make-sure-you-thank-that-teacher/> (referer: https://storycorps.org/podcast/page/2/)\n",
      "2021-03-11 20:19:28 [scrapy.downloadermiddlewares.retry] ERROR: Gave up retrying <GET https://storycorps.org/podcast/storycorps-533-the-senator-the-photographer-and-the-busboy/> (failed 3 times): 429 Unknown Status\n",
      "2021-03-11 20:19:28 [scrapy.core.engine] DEBUG: Crawled (429) <GET https://storycorps.org/podcast/storycorps-533-the-senator-the-photographer-and-the-busboy/> (referer: https://storycorps.org/podcast/page/8/)\n",
      "2021-03-11 20:19:28 [scrapy.spidermiddlewares.httperror] INFO: Ignoring response <429 https://storycorps.org/podcast/storycorps-473-upstairs-backstreet-pulse/>: HTTP status code is not handled or not allowed\n",
      "2021-03-11 20:19:28 [scrapy.downloadermiddlewares.retry] ERROR: Gave up retrying <GET https://storycorps.org/podcast/little-kids-big-questions/> (failed 3 times): 429 Unknown Status\n",
      "2021-03-11 20:19:28 [scrapy.core.engine] DEBUG: Crawled (429) <GET https://storycorps.org/podcast/little-kids-big-questions/> (referer: https://storycorps.org/podcast/page/2/)\n",
      "2021-03-11 20:19:28 [scrapy.core.engine] DEBUG: Crawled (200) <GET https://storycorps.org/podcast/no-ones-going-to-stop-me/> (referer: https://storycorps.org/podcast/page/4/)\n",
      "2021-03-11 20:19:28 [scrapy.downloadermiddlewares.retry] ERROR: Gave up retrying <GET https://storycorps.org/podcast/we-never-spoke-of-it/> (failed 3 times): 429 Unknown Status\n",
      "2021-03-11 20:19:28 [scrapy.core.engine] DEBUG: Crawled (429) <GET https://storycorps.org/podcast/we-never-spoke-of-it/> (referer: https://storycorps.org/podcast/page/5/)\n",
      "2021-03-11 20:19:28 [scrapy.spidermiddlewares.httperror] INFO: Ignoring response <429 https://storycorps.org/podcast/storycorps-extra-the-drill/>: HTTP status code is not handled or not allowed\n",
      "2021-03-11 20:19:28 [scrapy.spidermiddlewares.httperror] INFO: Ignoring response <429 https://storycorps.org/podcast/storycorps-531-legacies-of-love/>: HTTP status code is not handled or not allowed\n"
     ]
    },
    {
     "name": "stdout",
     "output_type": "stream",
     "text": [
      "\n",
      "['StoryCorps 501', ' Studs Terkel Day']\n",
      "['StoryCorps EXTRA', ' Remembering Sandy Hook']\n",
      "['StoryCorps 492', ' Old Friends']\n",
      "['StoryCorps 466', ' Callings']\n",
      "['A Son Always Remembers His Father']\n"
     ]
    },
    {
     "name": "stderr",
     "output_type": "stream",
     "text": [
      "2021-03-11 20:19:28 [scrapy.core.engine] DEBUG: Crawled (200) <GET https://storycorps.org/podcast/second-chances/> (referer: https://storycorps.org/podcast/page/5/)\n",
      "2021-03-11 20:19:28 [scrapy.core.engine] DEBUG: Crawled (404) <GET https://storycorps.org/podcast/page/23/> (referer: None)\n",
      "2021-03-11 20:19:28 [scrapy.core.engine] DEBUG: Crawled (404) <GET https://storycorps.org/podcast/page/25/> (referer: None)\n",
      "2021-03-11 20:19:28 [scrapy.spidermiddlewares.httperror] INFO: Ignoring response <429 https://storycorps.org/podcast/storycorps-533-the-senator-the-photographer-and-the-busboy/>: HTTP status code is not handled or not allowed\n",
      "2021-03-11 20:19:28 [scrapy.downloadermiddlewares.retry] ERROR: Gave up retrying <GET https://storycorps.org/podcast/holiday-gifts-that-cant-be-bought/> (failed 3 times): 429 Unknown Status\n",
      "2021-03-11 20:19:28 [scrapy.core.engine] DEBUG: Crawled (429) <GET https://storycorps.org/podcast/holiday-gifts-that-cant-be-bought/> (referer: https://storycorps.org/podcast/page/4/)\n",
      "2021-03-11 20:19:28 [scrapy.downloadermiddlewares.retry] DEBUG: Retrying <GET https://storycorps.org/podcast/page/28/> (failed 1 times): 429 Unknown Status\n",
      "2021-03-11 20:19:28 [scrapy.core.engine] DEBUG: Crawled (404) <GET https://storycorps.org/podcast/page/26/> (referer: None)\n",
      "2021-03-11 20:19:28 [scrapy.downloadermiddlewares.retry] DEBUG: Retrying <GET https://storycorps.org/podcast/page/27/> (failed 1 times): 429 Unknown Status\n",
      "2021-03-11 20:19:28 [scrapy.spidermiddlewares.httperror] INFO: Ignoring response <429 https://storycorps.org/podcast/little-kids-big-questions/>: HTTP status code is not handled or not allowed\n",
      "2021-03-11 20:19:28 [scrapy.spidermiddlewares.httperror] INFO: Ignoring response <429 https://storycorps.org/podcast/we-never-spoke-of-it/>: HTTP status code is not handled or not allowed\n",
      "2021-03-11 20:19:28 [scrapy.downloadermiddlewares.retry] DEBUG: Retrying <GET https://storycorps.org/podcast/page/29/> (failed 1 times): 429 Unknown Status\n",
      "2021-03-11 20:19:28 [scrapy.core.engine] DEBUG: Crawled (404) <GET https://storycorps.org/podcast/page/24/> (referer: None)\n",
      "2021-03-11 20:19:28 [scrapy.downloadermiddlewares.retry] DEBUG: Retrying <GET https://storycorps.org/podcast/page/28/> (failed 2 times): 429 Unknown Status\n",
      "2021-03-11 20:19:28 [scrapy.core.engine] DEBUG: Crawled (404) <GET https://storycorps.org/podcast/page/27/> (referer: None)\n",
      "2021-03-11 20:19:28 [scrapy.spidermiddlewares.httperror] INFO: Ignoring response <404 https://storycorps.org/podcast/page/23/>: HTTP status code is not handled or not allowed\n",
      "2021-03-11 20:19:28 [scrapy.spidermiddlewares.httperror] INFO: Ignoring response <404 https://storycorps.org/podcast/page/25/>: HTTP status code is not handled or not allowed\n",
      "2021-03-11 20:19:28 [scrapy.spidermiddlewares.httperror] INFO: Ignoring response <429 https://storycorps.org/podcast/holiday-gifts-that-cant-be-bought/>: HTTP status code is not handled or not allowed\n",
      "2021-03-11 20:19:28 [scrapy.spidermiddlewares.httperror] INFO: Ignoring response <404 https://storycorps.org/podcast/page/26/>: HTTP status code is not handled or not allowed\n",
      "2021-03-11 20:19:28 [scrapy.core.engine] DEBUG: Crawled (404) <GET https://storycorps.org/podcast/page/28/> (referer: None)\n",
      "2021-03-11 20:19:28 [scrapy.core.engine] DEBUG: Crawled (404) <GET https://storycorps.org/podcast/page/29/> (referer: None)\n",
      "2021-03-11 20:19:28 [scrapy.spidermiddlewares.httperror] INFO: Ignoring response <404 https://storycorps.org/podcast/page/24/>: HTTP status code is not handled or not allowed\n"
     ]
    },
    {
     "name": "stdout",
     "output_type": "stream",
     "text": [
      "['StoryCorps 523', ' Years in the Making']\n",
      "['StoryCorps 525', ' The Good, Right, Honest Thing']\n",
      "['Make Sure You Thank That Teacher']\n",
      "['No One’s Going to Stop Me']\n",
      "['Second Chances']\n"
     ]
    },
    {
     "name": "stderr",
     "output_type": "stream",
     "text": [
      "2021-03-11 20:19:28 [scrapy.spidermiddlewares.httperror] INFO: Ignoring response <404 https://storycorps.org/podcast/page/27/>: HTTP status code is not handled or not allowed\n",
      "2021-03-11 20:19:28 [scrapy.spidermiddlewares.httperror] INFO: Ignoring response <404 https://storycorps.org/podcast/page/28/>: HTTP status code is not handled or not allowed\n",
      "2021-03-11 20:19:28 [scrapy.spidermiddlewares.httperror] INFO: Ignoring response <404 https://storycorps.org/podcast/page/29/>: HTTP status code is not handled or not allowed\n",
      "2021-03-11 20:19:28 [scrapy.core.engine] INFO: Closing spider (finished)\n",
      "2021-03-11 20:19:28 [scrapy.statscollectors] INFO: Dumping Scrapy stats:\n",
      "{'downloader/request_bytes': 110870,\n",
      " 'downloader/request_count': 310,\n",
      " 'downloader/request_method_count/GET': 310,\n",
      " 'downloader/response_bytes': 2908118,\n",
      " 'downloader/response_count': 310,\n",
      " 'downloader/response_status_count/200': 202,\n",
      " 'downloader/response_status_count/301': 1,\n",
      " 'downloader/response_status_count/404': 9,\n",
      " 'downloader/response_status_count/429': 98,\n",
      " 'elapsed_time_seconds': 6.03976,\n",
      " 'finish_reason': 'finished',\n",
      " 'finish_time': datetime.datetime(2021, 3, 12, 1, 19, 28, 992355),\n",
      " 'httperror/response_ignored_count': 23,\n",
      " 'httperror/response_ignored_status_count/404': 9,\n",
      " 'httperror/response_ignored_status_count/429': 14,\n",
      " 'log_count/DEBUG': 310,\n",
      " 'log_count/ERROR': 14,\n",
      " 'log_count/INFO': 33,\n",
      " 'request_depth_max': 1,\n",
      " 'response_received_count': 225,\n",
      " 'retry/count': 84,\n",
      " 'retry/max_reached': 14,\n",
      " 'retry/reason_count/429 Unknown Status': 84,\n",
      " 'scheduler/dequeued': 310,\n",
      " 'scheduler/dequeued/memory': 310,\n",
      " 'scheduler/enqueued': 310,\n",
      " 'scheduler/enqueued/memory': 310,\n",
      " 'start_time': datetime.datetime(2021, 3, 12, 1, 19, 22, 952595)}\n",
      "2021-03-11 20:19:28 [scrapy.core.engine] INFO: Spider closed (finished)\n"
     ]
    }
   ],
   "source": [
    "process = CrawlerProcess()\n",
    "process.crawl(Story_Corps)\n",
    "process.start()"
   ]
  },
  {
   "cell_type": "code",
   "execution_count": 5,
   "metadata": {},
   "outputs": [
    {
     "data": {
      "text/html": [
       "<div>\n",
       "<style scoped>\n",
       "    .dataframe tbody tr th:only-of-type {\n",
       "        vertical-align: middle;\n",
       "    }\n",
       "\n",
       "    .dataframe tbody tr th {\n",
       "        vertical-align: top;\n",
       "    }\n",
       "\n",
       "    .dataframe thead th {\n",
       "        text-align: right;\n",
       "    }\n",
       "</style>\n",
       "<table border=\"1\" class=\"dataframe\">\n",
       "  <thead>\n",
       "    <tr style=\"text-align: right;\">\n",
       "      <th></th>\n",
       "      <th>Titles</th>\n",
       "      <th>Text</th>\n",
       "    </tr>\n",
       "  </thead>\n",
       "  <tbody>\n",
       "    <tr>\n",
       "      <th>0</th>\n",
       "      <td>[Old Guitars and Purple Hearts]</td>\n",
       "      <td>[Jasmyn Morris (JM):,  On this season of the S...</td>\n",
       "    </tr>\n",
       "    <tr>\n",
       "      <th>1</th>\n",
       "      <td>[StoryCorps 535,  Remorse]</td>\n",
       "      <td>[Michael Garofalo (MG):,  Last week on the pod...</td>\n",
       "    </tr>\n",
       "    <tr>\n",
       "      <th>2</th>\n",
       "      <td>[What Carries Me Through]</td>\n",
       "      <td>[Sylvie Lubow (SL): , When the podcast season ...</td>\n",
       "    </tr>\n",
       "    <tr>\n",
       "      <th>3</th>\n",
       "      <td>[Living My Life Like It’s Golden]</td>\n",
       "      <td>[Kamilah Kashanie (KK):,  On this season of th...</td>\n",
       "    </tr>\n",
       "    <tr>\n",
       "      <th>4</th>\n",
       "      <td>[This Is Where I Leave You]</td>\n",
       "      <td>[&lt;AD&gt;, &lt;THEME MUSIC&gt;, Jasmyn Morris (JM): , It...</td>\n",
       "    </tr>\n",
       "  </tbody>\n",
       "</table>\n",
       "</div>"
      ],
      "text/plain": [
       "                              Titles  \\\n",
       "0    [Old Guitars and Purple Hearts]   \n",
       "1         [StoryCorps 535,  Remorse]   \n",
       "2          [What Carries Me Through]   \n",
       "3  [Living My Life Like It’s Golden]   \n",
       "4        [This Is Where I Leave You]   \n",
       "\n",
       "                                                Text  \n",
       "0  [Jasmyn Morris (JM):,  On this season of the S...  \n",
       "1  [Michael Garofalo (MG):,  Last week on the pod...  \n",
       "2  [Sylvie Lubow (SL): , When the podcast season ...  \n",
       "3  [Kamilah Kashanie (KK):,  On this season of th...  \n",
       "4  [<AD>, <THEME MUSIC>, Jasmyn Morris (JM): , It...  "
      ]
     },
     "execution_count": 5,
     "metadata": {},
     "output_type": "execute_result"
    }
   ],
   "source": [
    "# Build dataframe\n",
    "import pandas as pd\n",
    "\n",
    "StoryCorps_df = pd.DataFrame(storycorps_data,\n",
    "                             columns = ['Titles','Text'])\n",
    "StoryCorps_df.head()"
   ]
  },
  {
   "cell_type": "markdown",
   "metadata": {},
   "source": [
    "#### Title/Episode prettification"
   ]
  },
  {
   "cell_type": "code",
   "execution_count": 6,
   "metadata": {},
   "outputs": [
    {
     "data": {
      "text/plain": [
       "'Old Guitars and Purple Hearts'"
      ]
     },
     "execution_count": 6,
     "metadata": {},
     "output_type": "execute_result"
    }
   ],
   "source": [
    "StoryCorps_df.Titles[:50][0][0]\n",
    "\n",
    "# Weird that some episodes have numbers, some don't\n",
    "# Going to have to split then regex"
   ]
  },
  {
   "cell_type": "code",
   "execution_count": 7,
   "metadata": {},
   "outputs": [
    {
     "data": {
      "text/plain": [
       "0      None\n",
       "1      None\n",
       "2      None\n",
       "3      None\n",
       "4      None\n",
       "       ... \n",
       "177    None\n",
       "178    None\n",
       "179    None\n",
       "180    None\n",
       "181    None\n",
       "Name: Titles, Length: 182, dtype: object"
      ]
     },
     "execution_count": 7,
     "metadata": {},
     "output_type": "execute_result"
    }
   ],
   "source": [
    "# Separate titles and episodes from rough title column\n",
    "titles = []\n",
    "episodes = []\n",
    "\n",
    "StoryCorps_df.Titles.map(lambda t: titles.append(t[-1]))\n",
    "StoryCorps_df.Titles.map(lambda e: episodes.append(e[0]))"
   ]
  },
  {
   "cell_type": "code",
   "execution_count": 8,
   "metadata": {},
   "outputs": [
    {
     "name": "stdout",
     "output_type": "stream",
     "text": [
      "['Old Guitars and Purple Hearts', ' Remorse', 'What Carries Me Through', 'Living My Life Like It’s Golden', 'This Is Where I Leave You', 'The Echoes of Gunfire', ' Beautiful and Terrible', ' Mom', ' Send-Offs', ' Honestly Now']\n",
      "['Old Guitars and Purple Hearts', 'StoryCorps 535', 'What Carries Me Through', 'Living My Life Like It’s Golden', 'This Is Where I Leave You', 'The Echoes of Gunfire', 'StoryCorps 524', 'StoryCorps 426', 'StoryCorps 470', 'StoryCorps 522']\n"
     ]
    }
   ],
   "source": [
    "# titles look good, time to clean up episodes\n",
    "print(titles[:10])\n",
    "print(episodes[:10])"
   ]
  },
  {
   "cell_type": "code",
   "execution_count": 9,
   "metadata": {},
   "outputs": [
    {
     "data": {
      "text/html": [
       "<div>\n",
       "<style scoped>\n",
       "    .dataframe tbody tr th:only-of-type {\n",
       "        vertical-align: middle;\n",
       "    }\n",
       "\n",
       "    .dataframe tbody tr th {\n",
       "        vertical-align: top;\n",
       "    }\n",
       "\n",
       "    .dataframe thead th {\n",
       "        text-align: right;\n",
       "    }\n",
       "</style>\n",
       "<table border=\"1\" class=\"dataframe\">\n",
       "  <thead>\n",
       "    <tr style=\"text-align: right;\">\n",
       "      <th></th>\n",
       "      <th>Titles</th>\n",
       "      <th>Text</th>\n",
       "    </tr>\n",
       "  </thead>\n",
       "  <tbody>\n",
       "    <tr>\n",
       "      <th>0</th>\n",
       "      <td>[Old Guitars and Purple Hearts]</td>\n",
       "      <td>[Jasmyn Morris (JM):,  On this season of the S...</td>\n",
       "    </tr>\n",
       "    <tr>\n",
       "      <th>1</th>\n",
       "      <td>[StoryCorps 535,  Remorse]</td>\n",
       "      <td>[Michael Garofalo (MG):,  Last week on the pod...</td>\n",
       "    </tr>\n",
       "    <tr>\n",
       "      <th>2</th>\n",
       "      <td>[What Carries Me Through]</td>\n",
       "      <td>[Sylvie Lubow (SL): , When the podcast season ...</td>\n",
       "    </tr>\n",
       "    <tr>\n",
       "      <th>3</th>\n",
       "      <td>[Living My Life Like It’s Golden]</td>\n",
       "      <td>[Kamilah Kashanie (KK):,  On this season of th...</td>\n",
       "    </tr>\n",
       "    <tr>\n",
       "      <th>4</th>\n",
       "      <td>[This Is Where I Leave You]</td>\n",
       "      <td>[&lt;AD&gt;, &lt;THEME MUSIC&gt;, Jasmyn Morris (JM): , It...</td>\n",
       "    </tr>\n",
       "  </tbody>\n",
       "</table>\n",
       "</div>"
      ],
      "text/plain": [
       "                              Titles  \\\n",
       "0    [Old Guitars and Purple Hearts]   \n",
       "1         [StoryCorps 535,  Remorse]   \n",
       "2          [What Carries Me Through]   \n",
       "3  [Living My Life Like It’s Golden]   \n",
       "4        [This Is Where I Leave You]   \n",
       "\n",
       "                                                Text  \n",
       "0  [Jasmyn Morris (JM):,  On this season of the S...  \n",
       "1  [Michael Garofalo (MG):,  Last week on the pod...  \n",
       "2  [Sylvie Lubow (SL): , When the podcast season ...  \n",
       "3  [Kamilah Kashanie (KK):,  On this season of th...  \n",
       "4  [<AD>, <THEME MUSIC>, Jasmyn Morris (JM): , It...  "
      ]
     },
     "execution_count": 9,
     "metadata": {},
     "output_type": "execute_result"
    }
   ],
   "source": [
    "# Clean up episodes\n",
    "import re\n",
    "\n",
    "Episodes = [(str(re.findall('\\d+$',e))[2:-2]) for e in episodes]\n",
    "StoryCorps_df.head()\n",
    "        "
   ]
  },
  {
   "cell_type": "code",
   "execution_count": 10,
   "metadata": {},
   "outputs": [
    {
     "data": {
      "text/plain": [
       "['',\n",
       " '535',\n",
       " '',\n",
       " '',\n",
       " '',\n",
       " '',\n",
       " '524',\n",
       " '426',\n",
       " '470',\n",
       " '522',\n",
       " '',\n",
       " '471',\n",
       " '475',\n",
       " '479',\n",
       " '485',\n",
       " '417',\n",
       " '450',\n",
       " '454',\n",
       " '459',\n",
       " '416',\n",
       " '415',\n",
       " '414',\n",
       " '427',\n",
       " '413',\n",
       " '412',\n",
       " '',\n",
       " '',\n",
       " '',\n",
       " '411',\n",
       " '430',\n",
       " '',\n",
       " '',\n",
       " '',\n",
       " '',\n",
       " '',\n",
       " '',\n",
       " '424',\n",
       " '',\n",
       " '',\n",
       " '449',\n",
       " '434',\n",
       " '429',\n",
       " '437',\n",
       " '448',\n",
       " '422',\n",
       " '426',\n",
       " '431',\n",
       " '433',\n",
       " '421',\n",
       " '451',\n",
       " '452',\n",
       " '438',\n",
       " '436',\n",
       " '432',\n",
       " '435',\n",
       " '441',\n",
       " '419',\n",
       " '425',\n",
       " '445',\n",
       " '418',\n",
       " '428',\n",
       " '420',\n",
       " '447',\n",
       " '461',\n",
       " '481',\n",
       " '469',\n",
       " '484',\n",
       " '411',\n",
       " '482',\n",
       " '478',\n",
       " '',\n",
       " '463',\n",
       " '455',\n",
       " '483',\n",
       " '464',\n",
       " '467',\n",
       " '456',\n",
       " '457',\n",
       " '460',\n",
       " '458',\n",
       " '474',\n",
       " '472',\n",
       " '423',\n",
       " '468',\n",
       " '488',\n",
       " '486',\n",
       " '489',\n",
       " '476',\n",
       " '446',\n",
       " '510',\n",
       " '496',\n",
       " '503',\n",
       " '',\n",
       " '513',\n",
       " '507',\n",
       " '',\n",
       " '520',\n",
       " '505',\n",
       " '504',\n",
       " '517',\n",
       " '444',\n",
       " '498',\n",
       " '506',\n",
       " '509',\n",
       " '491',\n",
       " '499',\n",
       " '',\n",
       " '508',\n",
       " '502',\n",
       " '515',\n",
       " '',\n",
       " '',\n",
       " '',\n",
       " '',\n",
       " '',\n",
       " '',\n",
       " '',\n",
       " '',\n",
       " '',\n",
       " '',\n",
       " '453',\n",
       " '537',\n",
       " '',\n",
       " '',\n",
       " '528',\n",
       " '',\n",
       " '529',\n",
       " '521',\n",
       " '532',\n",
       " '526',\n",
       " '',\n",
       " '527',\n",
       " '',\n",
       " '',\n",
       " '',\n",
       " '',\n",
       " '',\n",
       " '',\n",
       " '',\n",
       " '',\n",
       " '',\n",
       " '',\n",
       " '',\n",
       " '',\n",
       " '',\n",
       " '',\n",
       " '',\n",
       " '',\n",
       " '536',\n",
       " '',\n",
       " '',\n",
       " '530',\n",
       " '',\n",
       " '',\n",
       " '',\n",
       " '',\n",
       " '534',\n",
       " '',\n",
       " '495',\n",
       " '',\n",
       " '511',\n",
       " '494',\n",
       " '440',\n",
       " '439',\n",
       " '500',\n",
       " '518',\n",
       " '465',\n",
       " '',\n",
       " '480',\n",
       " '477',\n",
       " '487',\n",
       " '512',\n",
       " '501',\n",
       " '',\n",
       " '492',\n",
       " '466',\n",
       " '',\n",
       " '523',\n",
       " '525',\n",
       " '',\n",
       " '',\n",
       " '']"
      ]
     },
     "execution_count": 10,
     "metadata": {},
     "output_type": "execute_result"
    }
   ],
   "source": [
    "Episodes"
   ]
  },
  {
   "cell_type": "markdown",
   "metadata": {},
   "source": [
    "#### Text prettification"
   ]
  },
  {
   "cell_type": "code",
   "execution_count": 11,
   "metadata": {},
   "outputs": [
    {
     "data": {
      "text/plain": [
       "['Jasmyn Morris (JM):',\n",
       " '\\xa0On this season of the StoryCorps podcast… we’re bringing you stories about reconnecting with people and places from our past. Those moments can be so extraordinary… it’s hard to put into words… the takeaways are intangible…',\n",
       " 'But sometimes, it’s the tangible things that allow us to reconnect in the first place……',\n",
       " 'Rodger McDaniel (RM):',\n",
       " '\\xa025 years later, I got a call from a woman who said, ‘Are you Johnny McDaniel’s son?’ And I said ‘Yes.’ And she said ‘How would you like to have his guitar back?’',\n",
       " 'JM:',\n",
       " '\\xa0In this episode…how reuniting with a long-lost object can give a family some long-awaited closure …',\n",
       " 'Adeline Rockko (AR):',\n",
       " '\\xa0That night when you brought the medal down from your bedroom and I saw it was in the very same box that I had last seen it in, I knew it was in good hands.',\n",
       " 'JM:\\xa0',\n",
       " 'It’s the StoryCorps podcast from NPR. I’m Jasmyn Morris. Stay with us…',\n",
       " '< PROMO >',\n",
       " 'JM:\\xa0',\n",
       " 'With a new year, often comes new goals…or resolutions for the year ahead…and so we start this New Year’s day episode with a story about a man who has spent years focused on one specific goal…',\n",
       " 'Zachariah Fike is a Major in the Vermont Army National Guard. He’s served in the military for 20 years… and he received a Purple Heart for his service in Afghanistan in 2010.',\n",
       " 'But this wasn’t the first time he’d crossed paths with a purple heart. The year before… knowing Zac’s love of old antiques and thrift shops… his mother had given him an old purple heart for Christmas… It had an engraved name on the back… Corrado Piccoli.',\n",
       " 'After doing some research… Zac learned Corrado had been killed in Europe during the Second World War. So Zac tracked down his sister Adeline Rockko to return the medal to its rightful owner. \\xa0',\n",
       " 'And they sat down together at StoryCorps… to remember when Zac first got in touch.',\n",
       " 'Adeline Rockko (AR):',\n",
       " '\\xa0I flooded him with questions. Bang bang bang. One right after the other.',\n",
       " 'Zachariah Fike (ZF):\\xa0',\n",
       " '”What antique shop? Who are you?” She was very stern.',\n",
       " 'AR:',\n",
       " '\\xa0After the conversation ended, I walked away from the phone and I says, “Oh my God, he’s so nice and he’s returning our medal and I treated him this way?”',\n",
       " 'So I called you right back again and apologized and thanked you then. Now this medal was very precious to my parents. And on special occasions, they’d take it out and let us touch it and hold it in our hand. And then my mother would put it back in the trunk in her bedroom. And for awhile I thought,\\xa0',\n",
       " '\\xa0But, as I grew older and missed my brother more and more, I realized well this is the only tangible thing that we have left. So I drove up to Watertown and met with you at your home.',\n",
       " 'ZF:',\n",
       " '\\xa0Yeah… At that point I knew you meant business. I mean, to drive eight hours to come see me.',\n",
       " 'AR:',\n",
       " '\\xa0That night when you brought the medal down from your bedroom and I saw it was in the very same box that I had last seen it in, I knew it was in good hands. And then you brought down your purple heart medal.',\n",
       " 'ZF:',\n",
       " '\\xa0Yep… I was wounded in Afghanistan.',\n",
       " 'AR:',\n",
       " '\\xa0And we got to know each other pretty well.',\n",
       " 'ZF:',\n",
       " '\\xa0We together have talked about planning a trip to Italy and maybe walk some of the ground that your brother would have walked during the war.',\n",
       " 'AR:',\n",
       " '\\xa0I would like to make that trip, really. We were very fortunate that you were the one who ended up with the purple heart and you’re part of our family now.',\n",
       " 'JM:\\xa0',\n",
       " 'That’s Adeline Rockko with the man who found and returned her brother’s Purple Heart… Army National Guard Major Zac Fike.',\n",
       " 'They haven’t made that trip to Italy, but it’s still something they hope to do someday…In the meantime, Zac went on to found the nonprofit Purple Hearts Reunited…which, to date, has returned more than 600 service medals to veterans and military families across the country.',\n",
       " 'And because of Zac’s work, a bill has been introduced to Congress that would make selling Purple Hearts illegal. The act is named after Adeline’s brother Private Corrado Piccoli.',\n",
       " 'Next, a story about how being reunited with a lost family treasure helped a son see his father in a new light…',\n",
       " 'That’s after this short break. Stay with us.',\n",
       " '< SPONSOR >',\n",
       " 'JM:\\xa0',\n",
       " 'Welcome back.',\n",
       " 'For many, the New Year is all about looking ahead, but at StoryCorps, we also like to think of it as an opportunity to look back… That’s what happened when Rodger McDaniel came to one of our StoryBooths.',\n",
       " 'He grew up in Cheyenne, Wyoming, the oldest of four brothers… his parents divorced when he was a kid. and things were rocky for the family…',\n",
       " 'Still… Rodger remembers one thing that always brought him joy: his father’s sparkly blue electric guitar.',\n",
       " 'Rodger McDaniel (RM):',\n",
       " 'Even though my father didn’t have much of a formal education, he taught himself to play the guitar by ear.',\n",
       " 'And what I remember, from my earliest years, were those Friday nights when he and his buddies would gather in the living room of our small home and they would each bring some form of guitar. There were steel guitars and electric guitars and acoustic guitars and bottles of whiskey. And they would sit around until the early hours of the morning playing their guitars and singing gospel music.',\n",
       " 'My dad, over the years, developed quite a problem with alcohol. I recall one evening, he had come home drunk, as he did too frequently. My stepmother, she had told him that, “If you come home drunk again, you sleep in the garage.” And so he headed for the garage and I caught up with him on the back porch of the house and said to him, “Dad, why do you do this?” He looked at me and he said, “It’s inevitable.”',\n",
       " 'And then 25 years later, I got a call from a woman who said, ‘Are you Johnny McDaniel’s son?’ And I said ‘Yes.’ And she said ‘How would you like to have his guitar back?’',\n",
       " 'So I went over to see her and she brought out the guitar and it clearly was his guitar. And',\n",
       " 'she said, ‘I went shopping at an old grocery store in south Cheyenne back in 1969.’',\n",
       " 'From the back of the room she could hear some beautiful guitar music being played and she said, ‘I sat and listened to it until they were done and then I rang the bell. And the butcher came out and I told him what I needed. And a few seconds later, another man came out, whom,’ she said, ‘I now know to have been your father.’ He looked a little bit intoxicated and he said: We just ran out of whiskey and money and I’d be willing to trade you this old guitar for a bottle of whiskey.’ And she said ‘I ran down to the corner liquor store and bought a fifth of whiskey and brought it back and made the trade.’',\n",
       " '‘And I’ve had this guitar ever since and my two sons grew up learning how to play this guitar and now they’re grown and gone and I thought you ought to have it back.’',\n",
       " 'Really up until that time, my dad’s alcoholism and the problems that it brought to the family had defined him in my memory. But it was that story of his old guitar that caused me to think an awful lot about the meaning of grace and forgiveness and how much more than his alcoholism he had been.',\n",
       " 'JM:',\n",
       " '\\xa0Speaking of grace…Rodger went on to spend his much of his career working in the field of alcohol and drug addiction…',\n",
       " '…and after getting his dad’s guitar back, he tried to learn how to play it…unsuccessfully. So it sat in his closet for years. That is, until he got a guitar player for a son-in-law.',\n",
       " 'Rodger McDaniel (RM)',\n",
       " ': I wanted it to be with a musician. It seemed to me that was the best way to make sure that my father’s memory stayed alive.',\n",
       " 'Josh Jacobsen (JJ)',\n",
       " ': I remember feeling very honored, taking care of a piece of history that means something to your family. And, it just meant a lot to me… because you had a lot of trust in me.',\n",
       " 'RM:',\n",
       " '\\xa0I remember the first time I heard you play it. To hear music coming from that old guitar was more meaningful than… I may be able to convey to you.',\n",
       " 'JJ:\\xa0',\n",
       " 'Yeah… they’re familiar with the guitar. And, I play it. And, my hope is that someday I’ve got myself a little family band [laughs].',\n",
       " '\\xa0Yeah, he didn’t leave much behind. And I think, over years, when we tell the little ones the story about their great grandfather, that this will help them learn a little bit more about who he was.',\n",
       " 'JM:',\n",
       " '\\xa0That’s Rodger McDaniel speaking with his son-in-law Josh Jacobsen at StoryCorps in Denver, Colorado.',\n",
       " 'As always, you can leave a voicemail for anyone you’ve heard on this podcast. Give us a call at 301 744 TALK.',\n",
       " 'And write us a review where ever you get your podcasts — tell us what you think. To find out what music we used in this episode and to sign up for your own interview… visit our website, storycorps DOT org.',\n",
       " '\\n',\n",
       " 'For the StoryCorps podcast, I’m Jasmyn Morris. Thanks for listening…and Happy New year.']"
      ]
     },
     "execution_count": 11,
     "metadata": {},
     "output_type": "execute_result"
    }
   ],
   "source": [
    "# No extra text - nice!\n",
    "StoryCorps_df.Text[0]"
   ]
  },
  {
   "cell_type": "code",
   "execution_count": 12,
   "metadata": {},
   "outputs": [
    {
     "data": {
      "text/plain": [
       "'But sometimes, it’s the tangible things that allow us to reconnect in the first place……  Rodger McDaniel (RM):   25 years later, I got a call from a woman who said, ‘Are you Johnny McDaniel’s son?’ And I said ‘Yes.’ And she said ‘How would you like to have his guitar back?’  JM:   In this episode…how reuniting with a long-lost object can give a family some long-awaited closure …  Adeline Rockko (AR):   That night when you brought the medal down from your bedroom and I saw it was in the very same box that I had last seen it in, I knew it was in good hands.  JM:   It’s the StoryCorps podcast from NPR. I’m Jasmyn Morris. Stay with us…  < PROMO >  JM:   With a new year, often comes new goals…or resolutions for the year ahead…and so we start this New Year’s day episode with a story about a man who has spent years focused on one specific goal…  Zachariah Fike is a Major in the Vermont Army National Guard. He’s served in the military for 20 years… and he received a Purple Heart for his service in Afghanistan in 2010.  But this wasn’t the first time he’d crossed paths with a purple heart. The year before… knowing Zac’s love of old antiques and thrift shops… his mother had given him an old purple heart for Christmas… It had an engraved name on the back… Corrado Piccoli.  After doing some research… Zac learned Corrado had been killed in Europe during the Second World War. So Zac tracked down his sister Adeline Rockko to return the medal to its rightful owner.    And they sat down together at StoryCorps… to remember when Zac first got in touch.  Adeline Rockko (AR):   I flooded him with questions. Bang bang bang. One right after the other.  Zachariah Fike (ZF):   ”What antique shop? Who are you?” She was very stern.  AR:   After the conversation ended, I walked away from the phone and I says, “Oh my God, he’s so nice and he’s returning our medal and I treated him this way?”  So I called you right back again and apologized and thanked you then. Now this medal was very precious to my parents. And on special occasions, they’d take it out and let us touch it and hold it in our hand. And then my mother would put it back in the trunk in her bedroom. And for awhile I thought,    But, as I grew older and missed my brother more and more, I realized well this is the only tangible thing that we have left. So I drove up to Watertown and met with you at your home.  ZF:   Yeah… At that point I knew you meant business. I mean, to drive eight hours to come see me.  AR:   That night when you brought the medal down from your bedroom and I saw it was in the very same box that I had last seen it in, I knew it was in good hands. And then you brought down your purple heart medal.  ZF:   Yep… I was wounded in Afghanistan.  AR:   And we got to know each other pretty well.  ZF:   We together have talked about planning a trip to Italy and maybe walk some of the ground that your brother would have walked during the war.  AR:   I would like to make that trip, really. We were very fortunate that you were the one who ended up with the purple heart and you’re part of our family now.  JM:   That’s Adeline Rockko with the man who found and returned her brother’s Purple Heart… Army National Guard Major Zac Fike.  They haven’t made that trip to Italy, but it’s still something they hope to do someday…In the meantime, Zac went on to found the nonprofit Purple Hearts Reunited…which, to date, has returned more than 600 service medals to veterans and military families across the country.  And because of Zac’s work, a bill has been introduced to Congress that would make selling Purple Hearts illegal. The act is named after Adeline’s brother Private Corrado Piccoli.  Next, a story about how being reunited with a lost family treasure helped a son see his father in a new light…  That’s after this short break. Stay with us.  < SPONSOR >  JM:   Welcome back.  For many, the New Year is all about looking ahead, but at StoryCorps, we also like to think of it as an opportunity to look back… That’s what happened when Rodger McDaniel came to one of our StoryBooths.  He grew up in Cheyenne, Wyoming, the oldest of four brothers… his parents divorced when he was a kid. and things were rocky for the family…  Still… Rodger remembers one thing that always brought him joy: his father’s sparkly blue electric guitar.  Rodger McDaniel (RM):  Even though my father didn’t have much of a formal education, he taught himself to play the guitar by ear.  And what I remember, from my earliest years, were those Friday nights when he and his buddies would gather in the living room of our small home and they would each bring some form of guitar. There were steel guitars and electric guitars and acoustic guitars and bottles of whiskey. And they would sit around until the early hours of the morning playing their guitars and singing gospel music.  My dad, over the years, developed quite a problem with alcohol. I recall one evening, he had come home drunk, as he did too frequently. My stepmother, she had told him that, “If you come home drunk again, you sleep in the garage.” And so he headed for the garage and I caught up with him on the back porch of the house and said to him, “Dad, why do you do this?” He looked at me and he said, “It’s inevitable.”  And then 25 years later, I got a call from a woman who said, ‘Are you Johnny McDaniel’s son?’ And I said ‘Yes.’ And she said ‘How would you like to have his guitar back?’  So I went over to see her and she brought out the guitar and it clearly was his guitar. And  she said, ‘I went shopping at an old grocery store in south Cheyenne back in 1969.’  From the back of the room she could hear some beautiful guitar music being played and she said, ‘I sat and listened to it until they were done and then I rang the bell. And the butcher came out and I told him what I needed. And a few seconds later, another man came out, whom,’ she said, ‘I now know to have been your father.’ He looked a little bit intoxicated and he said: We just ran out of whiskey and money and I’d be willing to trade you this old guitar for a bottle of whiskey.’ And she said ‘I ran down to the corner liquor store and bought a fifth of whiskey and brought it back and made the trade.’  ‘And I’ve had this guitar ever since and my two sons grew up learning how to play this guitar and now they’re grown and gone and I thought you ought to have it back.’  Really up until that time, my dad’s alcoholism and the problems that it brought to the family had defined him in my memory. But it was that story of his old guitar that caused me to think an awful lot about the meaning of grace and forgiveness and how much more than his alcoholism he had been.  JM:   Speaking of grace…Rodger went on to spend his much of his career working in the field of alcohol and drug addiction…  …and after getting his dad’s guitar back, he tried to learn how to play it…unsuccessfully. So it sat in his closet for years. That is, until he got a guitar player for a son-in-law.  Rodger McDaniel (RM)  : I wanted it to be with a musician. It seemed to me that was the best way to make sure that my father’s memory stayed alive.  Josh Jacobsen (JJ)  : I remember feeling very honored, taking care of a piece of history that means something to your family. And, it just meant a lot to me… because you had a lot of trust in me.  RM:   I remember the first time I heard you play it. To hear music coming from that old guitar was more meaningful than… I may be able to convey to you.  JJ:   Yeah… they’re familiar with the guitar. And, I play it. And, my hope is that someday I’ve got myself a little family band [laughs].   Yeah, he didn’t leave much behind. And I think, over years, when we tell the little ones the story about their great grandfather, that this will help them learn a little bit more about who he was.  JM:   That’s Rodger McDaniel speaking with his son-in-law Josh Jacobsen at StoryCorps in Denver, Colorado.  As always, you can leave a voicemail for anyone you’ve heard on this podcast. Give us a call at 301 744 TALK.  And write us a review where ever you get your podcasts — tell us what you think. To find out what music we used in this episode and to sign up for your own interview… visit our website, storycorps DOT org.      For the StoryCorps podcast, I’m Jasmyn Morris. Thanks for listening…and Happy New year.'"
      ]
     },
     "execution_count": 12,
     "metadata": {},
     "output_type": "execute_result"
    }
   ],
   "source": [
    "StoryCorps_df['Text'] = StoryCorps_df.Text.map(lambda t: '  '.join(t[2:]).replace('\\n','  ').replace('\\xa0', ' '))\n",
    "StoryCorps_df.Text[0]"
   ]
  },
  {
   "cell_type": "code",
   "execution_count": 13,
   "metadata": {},
   "outputs": [
    {
     "data": {
      "text/html": [
       "<div>\n",
       "<style scoped>\n",
       "    .dataframe tbody tr th:only-of-type {\n",
       "        vertical-align: middle;\n",
       "    }\n",
       "\n",
       "    .dataframe tbody tr th {\n",
       "        vertical-align: top;\n",
       "    }\n",
       "\n",
       "    .dataframe thead th {\n",
       "        text-align: right;\n",
       "    }\n",
       "</style>\n",
       "<table border=\"1\" class=\"dataframe\">\n",
       "  <thead>\n",
       "    <tr style=\"text-align: right;\">\n",
       "      <th></th>\n",
       "    </tr>\n",
       "  </thead>\n",
       "  <tbody>\n",
       "    <tr>\n",
       "      <th>0</th>\n",
       "    </tr>\n",
       "    <tr>\n",
       "      <th>1</th>\n",
       "    </tr>\n",
       "    <tr>\n",
       "      <th>2</th>\n",
       "    </tr>\n",
       "    <tr>\n",
       "      <th>3</th>\n",
       "    </tr>\n",
       "    <tr>\n",
       "      <th>4</th>\n",
       "    </tr>\n",
       "  </tbody>\n",
       "</table>\n",
       "</div>"
      ],
      "text/plain": [
       "Empty DataFrame\n",
       "Columns: []\n",
       "Index: [0, 1, 2, 3, 4]"
      ]
     },
     "execution_count": 13,
     "metadata": {},
     "output_type": "execute_result"
    }
   ],
   "source": [
    "# Fix columns\n",
    "StoryCorps_df = StoryCorps_df.drop(['Titles'], axis=1)\n",
    "Texts = StoryCorps_df.pop('Text')\n",
    "StoryCorps_df.head()"
   ]
  },
  {
   "cell_type": "code",
   "execution_count": 14,
   "metadata": {},
   "outputs": [
    {
     "data": {
      "text/html": [
       "<div>\n",
       "<style scoped>\n",
       "    .dataframe tbody tr th:only-of-type {\n",
       "        vertical-align: middle;\n",
       "    }\n",
       "\n",
       "    .dataframe tbody tr th {\n",
       "        vertical-align: top;\n",
       "    }\n",
       "\n",
       "    .dataframe thead th {\n",
       "        text-align: right;\n",
       "    }\n",
       "</style>\n",
       "<table border=\"1\" class=\"dataframe\">\n",
       "  <thead>\n",
       "    <tr style=\"text-align: right;\">\n",
       "      <th></th>\n",
       "      <th>Episode</th>\n",
       "      <th>Title</th>\n",
       "      <th>Text</th>\n",
       "    </tr>\n",
       "  </thead>\n",
       "  <tbody>\n",
       "    <tr>\n",
       "      <th>0</th>\n",
       "      <td></td>\n",
       "      <td>Old Guitars and Purple Hearts</td>\n",
       "      <td>But sometimes, it’s the tangible things that a...</td>\n",
       "    </tr>\n",
       "    <tr>\n",
       "      <th>1</th>\n",
       "      <td>535</td>\n",
       "      <td>Remorse</td>\n",
       "      <td>LeAlan Jones (LJ):   My name’s LeAlan Jones an...</td>\n",
       "    </tr>\n",
       "    <tr>\n",
       "      <th>2</th>\n",
       "      <td></td>\n",
       "      <td>What Carries Me Through</td>\n",
       "      <td>Josh Belser (JB):   When did you realize COVID...</td>\n",
       "    </tr>\n",
       "    <tr>\n",
       "      <th>3</th>\n",
       "      <td></td>\n",
       "      <td>Living My Life Like It’s Golden</td>\n",
       "      <td>If you’re a regular listener… you may not reco...</td>\n",
       "    </tr>\n",
       "    <tr>\n",
       "      <th>4</th>\n",
       "      <td></td>\n",
       "      <td>This Is Where I Leave You</td>\n",
       "      <td>Jasmyn Morris (JM):   It’s the StoryCorps podc...</td>\n",
       "    </tr>\n",
       "    <tr>\n",
       "      <th>...</th>\n",
       "      <td>...</td>\n",
       "      <td>...</td>\n",
       "      <td>...</td>\n",
       "    </tr>\n",
       "    <tr>\n",
       "      <th>177</th>\n",
       "      <td>523</td>\n",
       "      <td>Years in the Making</td>\n",
       "      <td>Michael Garofalo (MG)  : Not all love stories ...</td>\n",
       "    </tr>\n",
       "    <tr>\n",
       "      <th>178</th>\n",
       "      <td>525</td>\n",
       "      <td>The Good, Right, Honest Thing</td>\n",
       "      <td>Michael Garofalo (MG):   There are risks to sp...</td>\n",
       "    </tr>\n",
       "    <tr>\n",
       "      <th>179</th>\n",
       "      <td></td>\n",
       "      <td>Make Sure You Thank That Teacher</td>\n",
       "      <td>I’m Jasmyn Morris, and on this week’s episode ...</td>\n",
       "    </tr>\n",
       "    <tr>\n",
       "      <th>180</th>\n",
       "      <td></td>\n",
       "      <td>No One’s Going to Stop Me</td>\n",
       "      <td>Over the last 11 episodes, we’ve been sharing...</td>\n",
       "    </tr>\n",
       "    <tr>\n",
       "      <th>181</th>\n",
       "      <td></td>\n",
       "      <td>Second Chances</td>\n",
       "      <td>David Ned (DN):   When you came into the bank,...</td>\n",
       "    </tr>\n",
       "  </tbody>\n",
       "</table>\n",
       "<p>182 rows × 3 columns</p>\n",
       "</div>"
      ],
      "text/plain": [
       "    Episode                             Title  \\\n",
       "0               Old Guitars and Purple Hearts   \n",
       "1       535                           Remorse   \n",
       "2                     What Carries Me Through   \n",
       "3             Living My Life Like It’s Golden   \n",
       "4                   This Is Where I Leave You   \n",
       "..      ...                               ...   \n",
       "177     523               Years in the Making   \n",
       "178     525     The Good, Right, Honest Thing   \n",
       "179          Make Sure You Thank That Teacher   \n",
       "180                 No One’s Going to Stop Me   \n",
       "181                            Second Chances   \n",
       "\n",
       "                                                  Text  \n",
       "0    But sometimes, it’s the tangible things that a...  \n",
       "1    LeAlan Jones (LJ):   My name’s LeAlan Jones an...  \n",
       "2    Josh Belser (JB):   When did you realize COVID...  \n",
       "3    If you’re a regular listener… you may not reco...  \n",
       "4    Jasmyn Morris (JM):   It’s the StoryCorps podc...  \n",
       "..                                                 ...  \n",
       "177  Michael Garofalo (MG)  : Not all love stories ...  \n",
       "178  Michael Garofalo (MG):   There are risks to sp...  \n",
       "179  I’m Jasmyn Morris, and on this week’s episode ...  \n",
       "180   Over the last 11 episodes, we’ve been sharing...  \n",
       "181  David Ned (DN):   When you came into the bank,...  \n",
       "\n",
       "[182 rows x 3 columns]"
      ]
     },
     "execution_count": 14,
     "metadata": {},
     "output_type": "execute_result"
    }
   ],
   "source": [
    "# Add columns\n",
    "StoryCorps_df['Episode'] = Episodes\n",
    "StoryCorps_df['Title'] = titles\n",
    "StoryCorps_df['Text'] = Texts\n",
    "\n",
    "StoryCorps_df"
   ]
  },
  {
   "cell_type": "code",
   "execution_count": null,
   "metadata": {},
   "outputs": [],
   "source": []
  },
  {
   "cell_type": "code",
   "execution_count": null,
   "metadata": {},
   "outputs": [],
   "source": []
  }
 ],
 "metadata": {
  "kernelspec": {
   "display_name": "Python 3",
   "language": "python",
   "name": "python3"
  },
  "language_info": {
   "codemirror_mode": {
    "name": "ipython",
    "version": 3
   },
   "file_extension": ".py",
   "mimetype": "text/x-python",
   "name": "python",
   "nbconvert_exporter": "python",
   "pygments_lexer": "ipython3",
   "version": "3.8.5"
  }
 },
 "nbformat": 4,
 "nbformat_minor": 4
}
