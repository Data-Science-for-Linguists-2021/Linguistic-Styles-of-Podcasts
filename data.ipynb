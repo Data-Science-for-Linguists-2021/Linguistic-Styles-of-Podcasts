{
 "cells": [
  {
   "cell_type": "code",
   "execution_count": 1,
   "metadata": {},
   "outputs": [],
   "source": [
    "import pandas as pd"
   ]
  },
  {
   "cell_type": "code",
   "execution_count": 2,
   "metadata": {},
   "outputs": [],
   "source": [
    "# %store -r freak_df\n",
    "# %store -r Lore_df\n",
    "# %store -r Invisible_df\n",
    "%store -r tal_df\n",
    "# %store -r OnBeing_df\n",
    "%store -r radiolab_df\n",
    "%store -r uu_df\n",
    "# %store -r StoryCorps_df\n",
    "%store -r YWA_df\n",
    "%store -r myDNA_df\n",
    "%store -r Nightvale_df\n",
    "# read in maxfun data then store"
   ]
  },
  {
   "cell_type": "code",
   "execution_count": 3,
   "metadata": {},
   "outputs": [],
   "source": [
    "# create a multindexed dataframe\n",
    "data = pd.concat([Nightvale_df,\n",
    "                  myDNA_df,\n",
    "                  YWA_df,\n",
    "                  # StoryCorps_df,\n",
    "                  uu_df,\n",
    "                  radiolab_df,\n",
    "                  # OnBeing_df,\n",
    "                  # Invisible_df,\n",
    "                  # Lore_df,\n",
    "                  tal_df],\n",
    "                 keys = ['Nightvale','Move Your DNA','You\\'re Wrong About','Unlocking Us','Radiolab','This American Life'])"
   ]
  },
  {
   "cell_type": "code",
   "execution_count": null,
   "metadata": {},
   "outputs": [],
   "source": []
  },
  {
   "cell_type": "code",
   "execution_count": 4,
   "metadata": {
    "scrolled": true
   },
   "outputs": [
    {
     "data": {
      "text/html": [
       "<div>\n",
       "<style scoped>\n",
       "    .dataframe tbody tr th:only-of-type {\n",
       "        vertical-align: middle;\n",
       "    }\n",
       "\n",
       "    .dataframe tbody tr th {\n",
       "        vertical-align: top;\n",
       "    }\n",
       "\n",
       "    .dataframe thead th {\n",
       "        text-align: right;\n",
       "    }\n",
       "</style>\n",
       "<table border=\"1\" class=\"dataframe\">\n",
       "  <thead>\n",
       "    <tr style=\"text-align: right;\">\n",
       "      <th></th>\n",
       "      <th></th>\n",
       "      <th>Episode</th>\n",
       "      <th>Year</th>\n",
       "      <th>Title</th>\n",
       "      <th>Text</th>\n",
       "    </tr>\n",
       "  </thead>\n",
       "  <tbody>\n",
       "    <tr>\n",
       "      <th rowspan=\"5\" valign=\"top\">Nightvale</th>\n",
       "      <th>88</th>\n",
       "      <td>000a</td>\n",
       "      <td>2018</td>\n",
       "      <td>matter of blood part 2</td>\n",
       "      <td>CECIL: As a matter of fact, the facts don’t ma...</td>\n",
       "    </tr>\n",
       "    <tr>\n",
       "      <th>11</th>\n",
       "      <td>001</td>\n",
       "      <td>2012</td>\n",
       "      <td>pilot</td>\n",
       "      <td>And now the news. Old Woman Josie, out near th...</td>\n",
       "    </tr>\n",
       "    <tr>\n",
       "      <th>12</th>\n",
       "      <td>002</td>\n",
       "      <td>2012</td>\n",
       "      <td>glow cloud</td>\n",
       "      <td>And now, the news. Have any of our listeners s...</td>\n",
       "    </tr>\n",
       "    <tr>\n",
       "      <th>40</th>\n",
       "      <td>003</td>\n",
       "      <td>2012</td>\n",
       "      <td>station management</td>\n",
       "      <td>The Night Vale Business Association is proud t...</td>\n",
       "    </tr>\n",
       "    <tr>\n",
       "      <th>14</th>\n",
       "      <td>004</td>\n",
       "      <td>2012</td>\n",
       "      <td>pta meeting</td>\n",
       "      <td>The Pteranodons mostly attacked women with gla...</td>\n",
       "    </tr>\n",
       "    <tr>\n",
       "      <th>...</th>\n",
       "      <th>...</th>\n",
       "      <td>...</td>\n",
       "      <td>...</td>\n",
       "      <td>...</td>\n",
       "      <td>...</td>\n",
       "    </tr>\n",
       "    <tr>\n",
       "      <th rowspan=\"5\" valign=\"top\">This American Life</th>\n",
       "      <th>686</th>\n",
       "      <td>730</td>\n",
       "      <td>NaN</td>\n",
       "      <td>The Empty Chair</td>\n",
       "      <td>Prologue: Prologue        Announcer   A qui...</td>\n",
       "    </tr>\n",
       "    <tr>\n",
       "      <th>685</th>\n",
       "      <td>731</td>\n",
       "      <td>NaN</td>\n",
       "      <td>What Lies Beneath</td>\n",
       "      <td>Prologue: Prologue        Announcer   A qui...</td>\n",
       "    </tr>\n",
       "    <tr>\n",
       "      <th>689</th>\n",
       "      <td>732</td>\n",
       "      <td>NaN</td>\n",
       "      <td>Secrets</td>\n",
       "      <td>Prologue: Prologue        Susan Burton   It...</td>\n",
       "    </tr>\n",
       "    <tr>\n",
       "      <th>688</th>\n",
       "      <td>733</td>\n",
       "      <td>NaN</td>\n",
       "      <td>Warriors in the Garden</td>\n",
       "      <td>Prologue: Prologue        Announcer   A qui...</td>\n",
       "    </tr>\n",
       "    <tr>\n",
       "      <th>0</th>\n",
       "      <td>734</td>\n",
       "      <td>NaN</td>\n",
       "      <td>The Campus Tour Has Been Cancelled</td>\n",
       "      <td>Prologue: Prologue        Ira Glass   OK, L...</td>\n",
       "    </tr>\n",
       "  </tbody>\n",
       "</table>\n",
       "<p>1302 rows × 4 columns</p>\n",
       "</div>"
      ],
      "text/plain": [
       "                       Episode  Year                               Title  \\\n",
       "Nightvale          88     000a  2018              matter of blood part 2   \n",
       "                   11      001  2012                               pilot   \n",
       "                   12      002  2012                          glow cloud   \n",
       "                   40      003  2012                  station management   \n",
       "                   14      004  2012                         pta meeting   \n",
       "...                        ...   ...                                 ...   \n",
       "This American Life 686     730   NaN                     The Empty Chair   \n",
       "                   685     731   NaN                   What Lies Beneath   \n",
       "                   689     732   NaN                             Secrets   \n",
       "                   688     733   NaN              Warriors in the Garden   \n",
       "                   0       734   NaN  The Campus Tour Has Been Cancelled   \n",
       "\n",
       "                                                                     Text  \n",
       "Nightvale          88   CECIL: As a matter of fact, the facts don’t ma...  \n",
       "                   11   And now the news. Old Woman Josie, out near th...  \n",
       "                   12   And now, the news. Have any of our listeners s...  \n",
       "                   40   The Night Vale Business Association is proud t...  \n",
       "                   14   The Pteranodons mostly attacked women with gla...  \n",
       "...                                                                   ...  \n",
       "This American Life 686     Prologue: Prologue        Announcer   A qui...  \n",
       "                   685     Prologue: Prologue        Announcer   A qui...  \n",
       "                   689     Prologue: Prologue        Susan Burton   It...  \n",
       "                   688     Prologue: Prologue        Announcer   A qui...  \n",
       "                   0       Prologue: Prologue        Ira Glass   OK, L...  \n",
       "\n",
       "[1302 rows x 4 columns]"
      ]
     },
     "execution_count": 4,
     "metadata": {},
     "output_type": "execute_result"
    }
   ],
   "source": [
    "data"
   ]
  },
  {
   "cell_type": "markdown",
   "metadata": {},
   "source": [
    "I don't yet have the data from maximum fun (working on web-scraping embedded pdfs), I can start analysis here.  I'm going to start with basic text stats like the ones from homework 2 - token count, word length, sentence length, etc."
   ]
  },
  {
   "cell_type": "code",
   "execution_count": null,
   "metadata": {},
   "outputs": [],
   "source": []
  },
  {
   "cell_type": "code",
   "execution_count": null,
   "metadata": {},
   "outputs": [],
   "source": []
  },
  {
   "cell_type": "code",
   "execution_count": null,
   "metadata": {},
   "outputs": [],
   "source": []
  },
  {
   "cell_type": "code",
   "execution_count": null,
   "metadata": {},
   "outputs": [],
   "source": []
  }
 ],
 "metadata": {
  "kernelspec": {
   "display_name": "Python 3",
   "language": "python",
   "name": "python3"
  },
  "language_info": {
   "codemirror_mode": {
    "name": "ipython",
    "version": 3
   },
   "file_extension": ".py",
   "mimetype": "text/x-python",
   "name": "python",
   "nbconvert_exporter": "python",
   "pygments_lexer": "ipython3",
   "version": "3.8.5"
  }
 },
 "nbformat": 4,
 "nbformat_minor": 4
}
