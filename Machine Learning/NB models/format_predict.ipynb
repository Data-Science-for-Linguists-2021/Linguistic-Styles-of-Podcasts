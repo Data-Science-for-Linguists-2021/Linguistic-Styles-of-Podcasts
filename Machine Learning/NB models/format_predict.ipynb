{
 "cells": [
  {
   "cell_type": "code",
   "execution_count": 1,
   "metadata": {},
   "outputs": [],
   "source": [
    "import numpy as np\n",
    "import pandas as pd"
   ]
  },
  {
   "cell_type": "code",
   "execution_count": 2,
   "metadata": {},
   "outputs": [],
   "source": [
    "y_pred = pd.Series(['news', 'storytelling', 'news', 'storytelling', 'chat', 'storytelling', 'storytelling', 'storytelling', 'news', 'chat', 'chat', 'chat', 'news', 'storytelling', 'storytelling', 'storytelling', 'interview', 'storytelling', 'news', 'storytelling', 'storytelling', 'storytelling', 'storytelling', 'news', 'storytelling', 'recap', 'chat', 'storytelling', 'news', 'storytelling', 'news', 'chat', 'storytelling', 'chat', 'storytelling', 'storytelling', 'chat', 'chat', 'storytelling', 'recap', 'storytelling', 'recap', 'storytelling', 'storytelling', 'storytelling', 'interview', 'chat', 'storytelling', 'storytelling', 'storytelling', 'storytelling', 'storytelling', 'news', 'storytelling', 'storytelling', 'storytelling', 'news', 'storytelling', 'news', 'news', 'interview', 'storytelling', 'storytelling', 'news', 'storytelling', 'storytelling', 'storytelling', 'chat', 'news', 'storytelling', 'news', 'storytelling', 'chat', 'storytelling', 'storytelling', 'storytelling', 'storytelling', 'storytelling', 'storytelling', 'chat', 'chat', 'storytelling', 'storytelling', 'storytelling', 'storytelling', 'storytelling', 'chat', 'storytelling', 'interview', 'news', 'storytelling', 'LARP', 'recap', 'chat', 'storytelling', 'storytelling', 'chat', 'chat', 'storytelling', 'news', 'storytelling', 'storytelling', 'storytelling', 'chat', 'storytelling', 'storytelling', 'storytelling', 'interview', 'storytelling', 'storytelling', 'storytelling', 'storytelling', 'chat', 'storytelling', 'storytelling', 'storytelling', 'storytelling', 'storytelling', 'recap', 'interview', 'chat', 'storytelling', 'recap', 'chat', 'storytelling', 'storytelling', 'storytelling', 'news', 'interview', 'storytelling', 'storytelling', 'chat', 'storytelling', 'recap', 'chat', 'news', 'LARP', 'storytelling', 'interview', 'news', 'news', 'news', 'chat', 'interview', 'storytelling', 'interview', 'news', 'recap', 'storytelling', 'storytelling', 'storytelling', 'storytelling', 'storytelling', 'chat', 'storytelling', 'storytelling', 'interview', 'chat', 'storytelling', 'storytelling', 'storytelling', 'storytelling', 'LARP', 'storytelling', 'storytelling', 'news', 'storytelling', 'recap', 'storytelling', 'storytelling', 'chat', 'storytelling', 'storytelling', 'storytelling', 'chat', 'storytelling', 'storytelling', 'chat', 'storytelling', 'storytelling', 'storytelling', 'storytelling', 'storytelling', 'storytelling', 'storytelling', 'recap', 'storytelling', 'storytelling', 'storytelling', 'news', 'LARP', 'chat', 'storytelling', 'storytelling', 'chat', 'chat', 'chat', 'storytelling', 'interview', 'storytelling', 'storytelling', 'interview', 'storytelling', 'storytelling', 'chat', 'interview', 'storytelling', 'storytelling', 'recap', 'storytelling', 'storytelling', 'storytelling', 'recap', 'storytelling', 'storytelling', 'interview', 'storytelling', 'storytelling', 'recap', 'storytelling', 'news', 'chat', 'news', 'news', 'storytelling', 'interview', 'chat', 'storytelling', 'chat', 'news', 'news', 'storytelling', 'storytelling', 'storytelling', 'storytelling', 'storytelling', 'storytelling', 'chat', 'storytelling', 'chat', 'storytelling', 'storytelling', 'storytelling', 'storytelling', 'storytelling', 'storytelling', 'LARP', 'interview', 'storytelling', 'interview', 'chat', 'storytelling', 'storytelling', 'chat', 'chat', 'storytelling', 'storytelling', 'chat', 'storytelling', 'chat', 'storytelling', 'storytelling', 'chat', 'storytelling', 'storytelling', 'storytelling', 'storytelling', 'storytelling', 'storytelling', 'news', 'storytelling', 'interview', 'LARP', 'storytelling', 'storytelling', 'storytelling', 'chat', 'storytelling', 'storytelling', 'storytelling', 'storytelling', 'news', 'storytelling', 'storytelling', 'storytelling', 'chat', 'storytelling', 'recap', 'storytelling', 'storytelling', 'storytelling', 'storytelling', 'storytelling', 'storytelling', 'chat', 'storytelling', 'LARP', 'chat', 'storytelling', 'storytelling', 'storytelling', 'storytelling', 'storytelling', 'news', 'storytelling', 'storytelling', 'storytelling', 'LARP', 'storytelling', 'storytelling', 'news', 'storytelling', 'storytelling', 'storytelling', 'interview', 'storytelling', 'storytelling'], name='Predicted')"
   ]
  },
  {
   "cell_type": "code",
   "execution_count": 3,
   "metadata": {},
   "outputs": [],
   "source": [
    "y_test = pd.Series(['news', 'storytelling', 'news', 'storytelling', 'chat', 'storytelling', 'storytelling', 'storytelling', 'news', 'chat', 'chat', 'chat', 'news', 'storytelling', 'storytelling', 'storytelling', 'interview', 'storytelling', 'news', 'storytelling', 'chat', 'storytelling', 'storytelling', 'news', 'storytelling', 'recap', 'chat', 'storytelling', 'news', 'storytelling', 'news', 'chat', 'storytelling', 'chat', 'storytelling', 'storytelling', 'chat', 'chat', 'storytelling', 'recap', 'storytelling', 'recap', 'storytelling', 'storytelling', 'storytelling', 'interview', 'chat', 'storytelling', 'storytelling', 'storytelling', 'storytelling', 'storytelling', 'news', 'storytelling', 'storytelling', 'storytelling', 'news', 'storytelling', 'news', 'news', 'interview', 'storytelling', 'storytelling', 'news', 'storytelling', 'storytelling', 'storytelling', 'chat', 'news', 'storytelling', 'news', 'storytelling', 'chat', 'storytelling', 'storytelling', 'storytelling', 'storytelling', 'storytelling', 'storytelling', 'chat', 'chat', 'storytelling', 'storytelling', 'storytelling', 'storytelling', 'storytelling', 'chat', 'storytelling', 'interview', 'news', 'storytelling', 'LARP', 'recap', 'chat', 'storytelling', 'storytelling', 'chat', 'chat', 'storytelling', 'news', 'storytelling', 'storytelling', 'storytelling', 'chat', 'storytelling', 'storytelling', 'storytelling', 'storytelling', 'storytelling', 'storytelling', 'storytelling', 'storytelling', 'chat', 'storytelling', 'storytelling', 'storytelling', 'storytelling', 'storytelling', 'recap', 'interview', 'chat', 'storytelling', 'recap', 'chat', 'chat', 'storytelling', 'storytelling', 'news', 'chat', 'storytelling', 'storytelling', 'chat', 'storytelling', 'recap', 'chat', 'news', 'LARP', 'storytelling', 'interview', 'news', 'news', 'news', 'chat', 'storytelling', 'storytelling', 'interview', 'news', 'recap', 'storytelling', 'storytelling', 'storytelling', 'chat', 'storytelling', 'chat', 'chat', 'storytelling', 'interview', 'chat', 'storytelling', 'storytelling', 'storytelling', 'storytelling', 'LARP', 'storytelling', 'storytelling', 'news', 'storytelling', 'recap', 'storytelling', 'storytelling', 'chat', 'storytelling', 'storytelling', 'storytelling', 'chat', 'storytelling', 'storytelling', 'chat', 'storytelling', 'storytelling', 'storytelling', 'storytelling', 'storytelling', 'storytelling', 'storytelling', 'recap', 'storytelling', 'storytelling', 'storytelling', 'news', 'LARP', 'chat', 'storytelling', 'storytelling', 'chat', 'chat', 'chat', 'storytelling', 'storytelling', 'storytelling', 'storytelling', 'interview', 'storytelling', 'storytelling', 'chat', 'interview', 'storytelling', 'storytelling', 'recap', 'storytelling', 'storytelling', 'chat', 'recap', 'storytelling', 'storytelling', 'interview', 'storytelling', 'storytelling', 'recap', 'storytelling', 'news', 'chat', 'news', 'news', 'storytelling', 'interview', 'chat', 'storytelling', 'chat', 'news', 'news', 'storytelling', 'storytelling', 'storytelling', 'storytelling', 'storytelling', 'storytelling', 'chat', 'storytelling', 'storytelling', 'storytelling', 'storytelling', 'storytelling', 'storytelling', 'storytelling', 'storytelling', 'LARP', 'interview', 'storytelling', 'interview', 'chat', 'storytelling', 'storytelling', 'chat', 'chat', 'storytelling', 'storytelling', 'chat', 'storytelling', 'chat', 'storytelling', 'storytelling', 'chat', 'storytelling', 'storytelling', 'storytelling', 'storytelling', 'storytelling', 'storytelling', 'news', 'storytelling', 'storytelling', 'LARP', 'storytelling', 'storytelling', 'storytelling', 'chat', 'storytelling', 'storytelling', 'storytelling', 'storytelling', 'news', 'storytelling', 'storytelling', 'storytelling', 'chat', 'storytelling', 'recap', 'storytelling', 'storytelling', 'storytelling', 'storytelling', 'storytelling', 'storytelling', 'chat', 'storytelling', 'LARP', 'chat', 'storytelling', 'storytelling', 'storytelling', 'storytelling', 'storytelling', 'news', 'storytelling', 'storytelling', 'storytelling', 'LARP', 'storytelling', 'storytelling', 'news', 'storytelling', 'storytelling', 'storytelling', 'interview', 'storytelling', 'storytelling'], name='True')"
   ]
  },
  {
   "cell_type": "code",
   "execution_count": 4,
   "metadata": {},
   "outputs": [
    {
     "data": {
      "text/plain": [
       "<Figure size 1000x1000 with 2 Axes>"
      ]
     },
     "metadata": {},
     "output_type": "display_data"
    }
   ],
   "source": [
    "from sklearn.metrics import confusion_matrix\n",
    "from sklearn.metrics import accuracy_score\n",
    "\n",
    "import seaborn as sns\n",
    "import matplotlib.pyplot as plt\n",
    "import numpy as np\n",
    "\n",
    "# function to show confusion matrix\n",
    "def plot_cm(y_test, y_pred, model_name, ticks):\n",
    "    fig, ax = plt.subplots(figsize=(10,10))\n",
    "    cm = confusion_matrix(y_test, y_pred)\n",
    "    sns.heatmap(cm, square=True, annot=True, fmt='d', cmap='Blues',\n",
    "                xticklabels=ticks, yticklabels=ticks, ax=ax)\n",
    "    plt.xlabel('predicted label')\n",
    "    plt.ylabel('true label')\n",
    "    plt.title(f'{model_name} accuracy: {accuracy_score(y_test, y_pred)*100:0.4f}%'.format(model_name, accuracy_score(y_test, y_pred)))\n",
    "    fig.savefig('../figures/lexical_features/format_predict.pdf')\n",
    "    plt.show()\n",
    "    \n",
    "plot_cm(y_test, y_pred, 'Format', sorted(set(y_test)))"
   ]
  },
  {
   "cell_type": "markdown",
   "metadata": {},
   "source": []
  },
  {
   "cell_type": "code",
   "execution_count": null,
   "metadata": {},
   "outputs": [],
   "source": [
    "Most Informative Features:\n",
    "LARP: just, uh, yeah, mm, like, okay, es, justin, dak, clint, dr, ct, firbolg, argo, bb, tw, griffin, travis, fitzroy, gr\n",
    "chat: gonna, really, movement, right, justin, think, jesse, yeah, laughs, john, teresa, rachel, know, biz, just, travis, griffin, dani, like, katy\n",
    "interview: wanna, speaker, time, mean, gonna, chuckles, laughs, jordan, people, yeah, really, kind, fades, think, music, bb, just, know, like, jesse\n",
    "news: eyes, new, people, dana, station, secret, did, mayor, city, good, town, time, listeners, know, said, just, like, cecil, night, vale\n",
    "recap: right, uh, know, crosstalk, gonna, think, film, just, clip, movie, yeah, dan, stuart, john, laughs, elliott, like, ben, adam, host\n",
    "storytelling: yeah, say, did, ve, got, right, didn, time, really, think, said, going, jad, don, people, know, glass, just, ira, like\n"
   ]
  }
 ],
 "metadata": {
  "kernelspec": {
   "display_name": "Python 3.7",
   "language": "python",
   "name": "python3"
  },
  "language_info": {
   "codemirror_mode": {
    "name": "ipython",
    "version": 3
   },
   "file_extension": ".py",
   "mimetype": "text/x-python",
   "name": "python",
   "nbconvert_exporter": "python",
   "pygments_lexer": "ipython3",
   "version": "3.7.0"
  }
 },
 "nbformat": 4,
 "nbformat_minor": 4
}
