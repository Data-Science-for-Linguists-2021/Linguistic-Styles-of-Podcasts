{
 "cells": [
  {
   "cell_type": "code",
   "execution_count": 1,
   "metadata": {},
   "outputs": [],
   "source": [
    "import numpy as np\n",
    "import pandas as pd"
   ]
  },
  {
   "cell_type": "code",
   "execution_count": 2,
   "metadata": {},
   "outputs": [],
   "source": [
    "y_pred = pd.Series(['games', 'society', 'health', 'society', 'comedy', 'society', 'society', 'society', 'comedy', 'comedy', 'comedy', 'comedy', 'games', 'society', 'society', 'society', 'comedy', 'society', 'health', 'society', 'comedy', 'society', 'society', 'history', 'society', 'health', 'comedy', 'society', 'health', 'society', 'games', 'comedy', 'society', 'comedy', 'society', 'society', 'comedy', 'comedy', 'society', 'history', 'society', 'history', 'society', 'society', 'society', 'comedy', 'comedy', 'society', 'society', 'society', 'society', 'society', 'health', 'society', 'society', 'society', 'health', 'society', 'health', 'health', 'comedy', 'society', 'society', 'health', 'society', 'society', 'society', 'comedy', 'health', 'society', 'games', 'society', 'comedy', 'society', 'society', 'society', 'society', 'society', 'society', 'comedy', 'comedy', 'society', 'society', 'society', 'society', 'society', 'comedy', 'society', 'comedy', 'health', 'society', 'comedy', 'history', 'comedy', 'society', 'society', 'comedy', 'comedy', 'society', 'health', 'society', 'society', 'society', 'comedy', 'society', 'society', 'society', 'society', 'society', 'society', 'society', 'society', 'comedy', 'society', 'society', 'society', 'society', 'society', 'society', 'comedy', 'comedy', 'society', 'history', 'comedy', 'comedy', 'society', 'society', 'health', 'comedy', 'society', 'society', 'comedy', 'society', 'history', 'comedy', 'health', 'history', 'society', 'comedy', 'health', 'health', 'health', 'comedy', 'society', 'society', 'comedy', 'health', 'history', 'society', 'society', 'society', 'comedy', 'society', 'comedy', 'history', 'society', 'comedy', 'comedy', 'society', 'society', 'society', 'society', 'comedy', 'society', 'society', 'games', 'society', 'history', 'society', 'society', 'comedy', 'society', 'society', 'society', 'comedy', 'society', 'society', 'comedy', 'society', 'society', 'society', 'society', 'society', 'society', 'society', 'history', 'society', 'society', 'society', 'health', 'comedy', 'comedy', 'society', 'society', 'comedy', 'comedy', 'history', 'society', 'society', 'society', 'society', 'comedy', 'society', 'society', 'comedy', 'history', 'society', 'society', 'history', 'society', 'society', 'comedy', 'history', 'society', 'society', 'comedy', 'society', 'society', 'history', 'society', 'health', 'comedy', 'games', 'comedy', 'society', 'comedy', 'comedy', 'society', 'comedy', 'comedy', 'games', 'society', 'society', 'society', 'society', 'society', 'society', 'comedy', 'society', 'society', 'society', 'society', 'society', 'society', 'society', 'society', 'comedy', 'comedy', 'history', 'history', 'comedy', 'society', 'society', 'history', 'comedy', 'society', 'society', 'comedy', 'society', 'history', 'society', 'society', 'comedy', 'society', 'society', 'society', 'society', 'society', 'society', 'health', 'society', 'society', 'comedy', 'society', 'society', 'society', 'comedy', 'society', 'society', 'society', 'society', 'games', 'society', 'society', 'society', 'comedy', 'society', 'history', 'society', 'society', 'society', 'society', 'society', 'society', 'comedy', 'society', 'comedy', 'comedy', 'society', 'society', 'society', 'society', 'society', 'health', 'society', 'society', 'society', 'comedy', 'society', 'society', 'health', 'society', 'society', 'society', 'comedy', 'society', 'society'], name='Predicted')"
   ]
  },
  {
   "cell_type": "code",
   "execution_count": 3,
   "metadata": {},
   "outputs": [],
   "source": [
    "y_test = pd.Series(['games', 'society', 'health', 'society', 'comedy', 'society', 'society', 'society', 'comedy', 'comedy', 'comedy', 'comedy', 'games', 'society', 'society', 'society', 'comedy', 'society', 'health', 'society', 'comedy', 'society', 'society', 'comedy', 'society', 'health', 'comedy', 'society', 'health', 'society', 'games', 'comedy', 'society', 'comedy', 'society', 'society', 'comedy', 'comedy', 'society', 'history', 'society', 'history', 'society', 'society', 'society', 'comedy', 'comedy', 'society', 'society', 'society', 'society', 'society', 'health', 'society', 'society', 'society', 'health', 'society', 'health', 'health', 'comedy', 'society', 'society', 'health', 'society', 'society', 'society', 'comedy', 'health', 'society', 'games', 'society', 'comedy', 'society', 'society', 'society', 'society', 'society', 'society', 'comedy', 'comedy', 'society', 'society', 'society', 'society', 'society', 'comedy', 'society', 'comedy', 'health', 'society', 'comedy', 'history', 'comedy', 'society', 'society', 'comedy', 'comedy', 'society', 'health', 'society', 'society', 'society', 'comedy', 'society', 'society', 'society', 'society', 'society', 'society', 'society', 'society', 'comedy', 'society', 'society', 'society', 'society', 'society', 'history', 'comedy', 'comedy', 'society', 'history', 'comedy', 'comedy', 'society', 'society', 'health', 'comedy', 'society', 'society', 'comedy', 'society', 'history', 'comedy', 'health', 'comedy', 'society', 'comedy', 'health', 'health', 'health', 'comedy', 'society', 'society', 'comedy', 'health', 'history', 'society', 'society', 'society', 'comedy', 'society', 'comedy', 'comedy', 'society', 'comedy', 'comedy', 'society', 'society', 'society', 'society', 'comedy', 'society', 'society', 'games', 'society', 'history', 'society', 'society', 'comedy', 'society', 'society', 'society', 'comedy', 'society', 'society', 'comedy', 'society', 'society', 'society', 'society', 'society', 'society', 'society', 'history', 'society', 'society', 'society', 'health', 'comedy', 'comedy', 'society', 'society', 'comedy', 'comedy', 'comedy', 'society', 'society', 'society', 'society', 'comedy', 'society', 'society', 'comedy', 'comedy', 'society', 'society', 'history', 'society', 'society', 'comedy', 'history', 'society', 'society', 'comedy', 'society', 'society', 'history', 'society', 'health', 'comedy', 'games', 'comedy', 'society', 'comedy', 'comedy', 'society', 'comedy', 'comedy', 'games', 'society', 'society', 'society', 'society', 'society', 'society', 'comedy', 'society', 'society', 'society', 'society', 'society', 'society', 'society', 'society', 'comedy', 'comedy', 'history', 'comedy', 'comedy', 'society', 'society', 'comedy', 'comedy', 'society', 'society', 'comedy', 'society', 'comedy', 'society', 'society', 'comedy', 'society', 'society', 'society', 'society', 'society', 'society', 'health', 'society', 'society', 'comedy', 'society', 'society', 'society', 'comedy', 'society', 'society', 'society', 'society', 'games', 'society', 'society', 'society', 'comedy', 'society', 'history', 'society', 'society', 'society', 'society', 'society', 'society', 'comedy', 'society', 'comedy', 'comedy', 'society', 'society', 'society', 'society', 'society', 'health', 'society', 'society', 'society', 'comedy', 'society', 'society', 'health', 'society', 'society', 'society', 'comedy', 'society', 'society'], name='True')"
   ]
  },
  {
   "cell_type": "code",
   "execution_count": 4,
   "metadata": {},
   "outputs": [
    {
     "data": {
      "text/plain": [
       "<Figure size 1000x1000 with 2 Axes>"
      ]
     },
     "metadata": {},
     "output_type": "display_data"
    }
   ],
   "source": [
    "from sklearn.metrics import confusion_matrix\n",
    "from sklearn.metrics import accuracy_score\n",
    "\n",
    "import seaborn as sns\n",
    "import matplotlib.pyplot as plt\n",
    "import numpy as np\n",
    "\n",
    "# function to show confusion matrix\n",
    "def plot_cm(y_test, y_pred, model_name, ticks):\n",
    "    fig, ax = plt.subplots(figsize=(10,10))\n",
    "    cm = confusion_matrix(y_test, y_pred)\n",
    "    sns.heatmap(cm, square=True, annot=True, fmt='d', cmap='Blues',\n",
    "                xticklabels=ticks, yticklabels=ticks, ax=ax)\n",
    "    plt.xlabel('predicted label')\n",
    "    plt.ylabel('true label')\n",
    "    plt.title(f'{model_name} accuracy: {accuracy_score(y_test, y_pred)*100:0.4f}%'.format(model_name, accuracy_score(y_test, y_pred)))\n",
    "    fig.savefig('../figures/lexical_features/tag1_predict.pdf')\n",
    "    plt.show()\n",
    "    \n",
    "plot_cm(y_test, y_pred, 'Tag1', sorted(set(y_test)))"
   ]
  },
  {
   "cell_type": "markdown",
   "metadata": {},
   "source": []
  },
  {
   "cell_type": "markdown",
   "metadata": {},
   "source": [
    "Most Informative Features:\n",
    "comedy: time, host, john, carlos, think, cecil, yeah, justin, night, travis, rachel, biz, laughs, just, jesse, know, vale, night_vale, griffin, like\n",
    "games: uh, just, yeah, mm, okay, like, justin, dak, es, clint, dr, ct, firbolg, argo, bb, tw, griffin, travis, fitzroy, gr\n",
    "health: things, way, exercise, body, time, katy_yeah, yeah, stephanie, going, really, people, right, bb, think, know, movement, just, like, dani, katy\n",
    "history: people, think, yeah, movie, know, sarah, just, host_yeah, mike, laughs, john, ben, adam, adam_host, ben_host, john_host, like, host, justin, sydnee\n",
    "society: did, say, got, ve, right, didn, time, really, think, said, going, don, jad, people, know, just, glass, ira_glass, ira, like"
   ]
  }
 ],
 "metadata": {
  "kernelspec": {
   "display_name": "Python 3.7",
   "language": "python",
   "name": "python3"
  },
  "language_info": {
   "codemirror_mode": {
    "name": "ipython",
    "version": 3
   },
   "file_extension": ".py",
   "mimetype": "text/x-python",
   "name": "python",
   "nbconvert_exporter": "python",
   "pygments_lexer": "ipython3",
   "version": "3.7.0"
  }
 },
 "nbformat": 4,
 "nbformat_minor": 4
}
