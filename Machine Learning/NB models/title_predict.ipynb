{
 "cells": [
  {
   "cell_type": "code",
   "execution_count": 1,
   "metadata": {},
   "outputs": [],
   "source": [
    "import numpy as np\n",
    "import pandas as pd"
   ]
  },
  {
   "cell_type": "code",
   "execution_count": 2,
   "metadata": {},
   "outputs": [],
   "source": [
    "y_pred = pd.Series(['Bullseye with Jesse Thorn', 'This American Life', 'Unlocking Us', 'Welcome to Nightvale', 'Move Your DNA', 'Bullseye with Jesse Thorn', 'This American Life', 'Bullseye with Jesse Thorn', 'Move Your DNA', 'Bullseye with Jesse Thorn', 'Bullseye with Jesse Thorn', 'One Bad Mother', 'Radiolab', 'Bullseye with Jesse Thorn', 'Bullseye with Jesse Thorn', 'Bullseye with Jesse Thorn', 'Radiolab', 'Welcome to Nightvale', 'Bullseye with Jesse Thorn', 'One Bad Mother', 'Bullseye with Jesse Thorn', 'Bullseye with Jesse Thorn', 'Bullseye with Jesse Thorn', 'Radiolab', 'Radiolab', 'This American Life', 'Bullseye with Jesse Thorn', 'Bullseye with Jesse Thorn', 'Bullseye with Jesse Thorn', 'Bullseye with Jesse Thorn', 'NeoScum', 'Bullseye with Jesse Thorn', 'Bullseye with Jesse Thorn', 'Friendly Fire', 'This American Life', 'Bullseye with Jesse Thorn', 'Friendly Fire', 'Friendly Fire', 'Bullseye with Jesse Thorn', 'This American Life', 'NeoScum', 'Bullseye with Jesse Thorn', 'Bullseye with Jesse Thorn', 'Move Your DNA', 'Radiolab', 'Bullseye with Jesse Thorn', 'This American Life', 'Unlocking Us', 'Bullseye with Jesse Thorn', 'Bullseye with Jesse Thorn', 'Welcome to Nightvale', 'Welcome to Nightvale', 'Bullseye with Jesse Thorn', 'Bullseye with Jesse Thorn', 'Bullseye with Jesse Thorn', 'This American Life', 'Bullseye with Jesse Thorn', 'Bullseye with Jesse Thorn', 'Judge John Hodgman', 'Bullseye with Jesse Thorn', 'Sawbones', 'This American Life', 'Bullseye with Jesse Thorn', 'MBMBaM', 'Bullseye with Jesse Thorn', 'Radiolab', 'Bullseye with Jesse Thorn', 'Move Your DNA', 'Bullseye with Jesse Thorn', 'This American Life', 'This American Life', 'Wonderful', 'Move Your DNA', 'Bullseye with Jesse Thorn', 'Bullseye with Jesse Thorn', 'Bullseye with Jesse Thorn', 'Bullseye with Jesse Thorn', 'This American Life', 'The Adventure Zone', 'One Bad Mother', 'Bullseye with Jesse Thorn', 'NeoScum', 'Bullseye with Jesse Thorn', 'This American Life', 'Radiolab', 'This American Life', 'Switchblade Sisters', 'Bullseye with Jesse Thorn', 'Bullseye with Jesse Thorn', 'Radiolab', 'Move Your DNA', 'Radiolab', 'Friendly Fire', 'This American Life', 'Bullseye with Jesse Thorn', 'Sawbones', 'Bullseye with Jesse Thorn', 'Bullseye with Jesse Thorn', 'Bullseye with Jesse Thorn', 'Move Your DNA', 'This American Life', 'Welcome to Nightvale', 'This American Life', 'Bullseye with Jesse Thorn', 'One Bad Mother', 'Bullseye with Jesse Thorn', 'Radiolab', 'This American Life', 'Welcome to Nightvale', \"You're Wrong About\", 'Bullseye with Jesse Thorn', 'This American Life', 'Move Your DNA', 'This American Life', 'Bullseye with Jesse Thorn', 'This American Life', 'Bullseye with Jesse Thorn', 'This American Life', 'Bullseye with Jesse Thorn', 'Judge John Hodgman', 'Bullseye with Jesse Thorn', 'One Bad Mother', 'Friendly Fire', 'Bullseye with Jesse Thorn', 'Bullseye with Jesse Thorn', 'Bullseye with Jesse Thorn', 'Bullseye with Jesse Thorn', 'This American Life', 'Bullseye with Jesse Thorn', 'Bullseye with Jesse Thorn', 'Bullseye with Jesse Thorn', 'Bullseye with Jesse Thorn', 'Bullseye with Jesse Thorn', 'Friendly Fire', 'Bullseye with Jesse Thorn', 'Radiolab', 'Bullseye with Jesse Thorn', 'The Adventure Zone', 'Unlocking Us', 'Radiolab', 'Radiolab', 'Bullseye with Jesse Thorn', 'Welcome to Nightvale', 'Bullseye with Jesse Thorn', 'One Bad Mother', 'Bullseye with Jesse Thorn', 'Bullseye with Jesse Thorn', 'Friendly Fire', 'Bullseye with Jesse Thorn', 'Bullseye with Jesse Thorn', 'This American Life', 'Bullseye with Jesse Thorn', 'Bullseye with Jesse Thorn', 'This American Life', 'Move Your DNA', 'Bullseye with Jesse Thorn', 'One Bad Mother', 'Friendly Fire', 'Bullseye with Jesse Thorn', 'Move Your DNA', 'Bullseye with Jesse Thorn', 'Bullseye with Jesse Thorn', 'Bullseye with Jesse Thorn', 'Bullseye with Jesse Thorn', 'This American Life', 'One Bad Mother', 'Bullseye with Jesse Thorn', 'Bullseye with Jesse Thorn', 'Bullseye with Jesse Thorn', 'Shmanners', 'Bullseye with Jesse Thorn', 'Bullseye with Jesse Thorn', 'Bullseye with Jesse Thorn', 'Welcome to Nightvale', 'Bullseye with Jesse Thorn', 'Bullseye with Jesse Thorn', 'This American Life', 'Move Your DNA', 'This American Life', 'This American Life', 'Radiolab', 'Bullseye with Jesse Thorn', 'Bullseye with Jesse Thorn', 'Bullseye with Jesse Thorn', 'Bullseye with Jesse Thorn', 'This American Life', 'The Flophouse', 'Welcome to Nightvale', 'Bullseye with Jesse Thorn', 'Bullseye with Jesse Thorn', 'The Adventure Zone', 'Bullseye with Jesse Thorn', 'Unlocking Us', 'Welcome to Nightvale', 'Bullseye with Jesse Thorn', 'Radiolab', 'Bullseye with Jesse Thorn', 'Bullseye with Jesse Thorn', 'Radiolab', 'Bullseye with Jesse Thorn', 'Bullseye with Jesse Thorn', 'Bullseye with Jesse Thorn', 'This American Life', 'This American Life', 'Friendly Fire', 'One Bad Mother', 'This American Life', 'Judge John Hodgman', 'Bullseye with Jesse Thorn', 'Radiolab', 'Bullseye with Jesse Thorn', 'Welcome to Nightvale', 'Switchblade Sisters', 'Bullseye with Jesse Thorn', 'Bullseye with Jesse Thorn', 'Radiolab', 'Bullseye with Jesse Thorn', 'Bullseye with Jesse Thorn', 'Friendly Fire', 'Bullseye with Jesse Thorn', 'Bullseye with Jesse Thorn', 'Wonderful', 'Radiolab', 'Welcome to Nightvale', 'Bullseye with Jesse Thorn', 'Radiolab', 'Bullseye with Jesse Thorn', 'Bullseye with Jesse Thorn', 'One Bad Mother', 'Radiolab', 'Radiolab', 'Welcome to Nightvale', 'Radiolab', 'This American Life', 'MBMBaM', 'Welcome to Nightvale', 'Bullseye with Jesse Thorn', 'Bullseye with Jesse Thorn', 'Radiolab', 'This American Life', 'Bullseye with Jesse Thorn', 'This American Life', 'The Flophouse', 'Bullseye with Jesse Thorn', 'Shmanners', 'This American Life', 'Bullseye with Jesse Thorn', 'Radiolab', 'Friendly Fire', 'Sawbones', 'Bullseye with Jesse Thorn', 'Welcome to Nightvale', 'The Adventure Zone', 'Bullseye with Jesse Thorn', 'Friendly Fire', 'Welcome to Nightvale', 'This American Life', 'Bullseye with Jesse Thorn', 'This American Life', 'Move Your DNA', 'Welcome to Nightvale', 'Bullseye with Jesse Thorn', 'Bullseye with Jesse Thorn', 'Bullseye with Jesse Thorn', 'Bullseye with Jesse Thorn', 'Bullseye with Jesse Thorn', 'Bullseye with Jesse Thorn', 'Unlocking Us', 'Shmanners', 'Switchblade Sisters', 'This American Life', 'Welcome to Nightvale', 'Bullseye with Jesse Thorn', 'The Adventure Zone', 'Bullseye with Jesse Thorn', 'This American Life', 'Move Your DNA', 'The Adventure Zone', 'Welcome to Nightvale', 'Bullseye with Jesse Thorn', 'Radiolab', 'Bullseye with Jesse Thorn', 'This American Life', 'Bullseye with Jesse Thorn', 'This American Life', 'Welcome to Nightvale', 'Bullseye with Jesse Thorn', 'This American Life', 'Bullseye with Jesse Thorn', 'Radiolab', 'Move Your DNA', 'Bullseye with Jesse Thorn', 'Bullseye with Jesse Thorn', 'Bullseye with Jesse Thorn', 'Bullseye with Jesse Thorn', 'NeoScum', 'Bullseye with Jesse Thorn', 'Move Your DNA', 'Judge John Hodgman', 'Bullseye with Jesse Thorn', 'Bullseye with Jesse Thorn', 'This American Life', 'This American Life', 'Judge John Hodgman', 'Bullseye with Jesse Thorn', 'This American Life', 'Bullseye with Jesse Thorn', 'Switchblade Sisters', 'The Flophouse', 'This American Life', 'Sawbones', 'Bullseye with Jesse Thorn', 'Bullseye with Jesse Thorn', 'Bullseye with Jesse Thorn', 'Bullseye with Jesse Thorn', 'Bullseye with Jesse Thorn', 'Bullseye with Jesse Thorn'], name='Predicted')"
   ]
  },
  {
   "cell_type": "code",
   "execution_count": 3,
   "metadata": {},
   "outputs": [],
   "source": [
    "y_test = pd.Series(['Radiolab', 'This American Life', 'Sawbones', 'This American Life', 'Move Your DNA', 'This American Life', 'This American Life', 'Wonderful', 'Radiolab', 'Bullseye with Jesse Thorn', 'Judge John Hodgman', 'One Bad Mother', 'Radiolab', 'This American Life', 'This American Life', 'Welcome to Nightvale', 'Radiolab', 'Welcome to Nightvale', 'Shmanners', 'This American Life', 'NeoScum', 'Welcome to Nightvale', 'This American Life', 'Radiolab', 'This American Life', 'Switchblade Sisters', 'NeoScum', 'This American Life', 'Radiolab', 'Welcome to Nightvale', 'Radiolab', 'One Bad Mother', 'This American Life', 'Friendly Fire', 'This American Life', 'This American Life', 'Friendly Fire', 'Friendly Fire', 'Welcome to Nightvale', 'The Adventure Zone', 'Welcome to Nightvale', 'The Flophouse', 'This American Life', 'This American Life', 'Welcome to Nightvale', 'Radiolab', 'Move Your DNA', 'Unlocking Us', 'Welcome to Nightvale', 'This American Life', 'This American Life', 'Welcome to Nightvale', 'Radiolab', 'This American Life', 'This American Life', 'This American Life', 'Radiolab', 'This American Life', 'Radiolab', 'Radiolab', 'Radiolab', 'Wonderful', 'This American Life', 'Sawbones', 'Wonderful', 'This American Life', 'This American Life', 'Move Your DNA', 'Shmanners', 'This American Life', 'Radiolab', 'This American Life', 'Move Your DNA', 'This American Life', 'Welcome to Nightvale', 'This American Life', 'This American Life', 'This American Life', 'This American Life', 'One Bad Mother', 'MBMBaM', 'Welcome to Nightvale', 'Welcome to Nightvale', 'This American Life', 'This American Life', 'This American Life', 'Bullseye with Jesse Thorn', 'Welcome to Nightvale', 'Radiolab', 'Radiolab', 'This American Life', 'Bullseye with Jesse Thorn', 'The Greatest Generation', 'Judge John Hodgman', 'This American Life', 'This American Life', 'NeoScum', 'Move Your DNA', 'This American Life', 'Shmanners', 'This American Life', 'Welcome to Nightvale', 'This American Life', 'MBMBaM', 'This American Life', 'Welcome to Nightvale', 'This American Life', 'This American Life', 'This American Life', \"You're Wrong About\", 'This American Life', 'This American Life', 'Move Your DNA', 'This American Life', 'Welcome to Nightvale', 'This American Life', 'This American Life', 'Welcome to Nightvale', 'The Flophouse', 'Radiolab', 'Judge John Hodgman', 'Welcome to Nightvale', 'The Greatest Generation', 'NeoScum', 'MBMBaM', 'This American Life', 'This American Life', 'Sawbones', 'Move Your DNA', 'This American Life', 'This American Life', 'Bullseye with Jesse Thorn', 'This American Life', 'The Greatest Generation', 'MBMBaM', 'Radiolab', 'Bullseye with Jesse Thorn', 'This American Life', 'Radiolab', 'Radiolab', 'Radiolab', 'Shmanners', 'Move Your DNA', 'This American Life', 'This American Life', 'Radiolab', 'Radiolab', 'The Greatest Generation', 'This American Life', 'Wonderful', 'This American Life', 'Move Your DNA', 'This American Life', 'One Bad Mother', 'Move Your DNA', 'This American Life', 'Radiolab', 'Friendly Fire', 'This American Life', 'This American Life', 'This American Life', 'This American Life', 'Bullseye with Jesse Thorn', 'This American Life', 'This American Life', 'Radiolab', 'Welcome to Nightvale', 'The Adventure Zone', 'This American Life', 'This American Life', 'Radiolab', 'This American Life', 'This American Life', 'Welcome to Nightvale', 'Move Your DNA', 'This American Life', 'This American Life', 'Move Your DNA', 'This American Life', 'This American Life', 'This American Life', 'This American Life', 'This American Life', 'This American Life', 'This American Life', 'The Flophouse', 'This American Life', 'This American Life', 'This American Life', 'Sawbones', 'Bullseye with Jesse Thorn', 'Bullseye with Jesse Thorn', 'Unlocking Us', 'This American Life', 'Move Your DNA', 'MBMBaM', 'Move Your DNA', 'This American Life', 'Wonderful', 'Welcome to Nightvale', 'This American Life', 'Radiolab', 'Welcome to Nightvale', 'Wonderful', 'Friendly Fire', 'Radiolab', 'This American Life', 'This American Life', 'The Adventure Zone', \"You're Wrong About\", 'This American Life', 'Move Your DNA', 'Switchblade Sisters', 'This American Life', 'This American Life', 'Radiolab', 'Welcome to Nightvale', 'This American Life', 'The Greatest Generation', 'This American Life', 'Sawbones', 'Judge John Hodgman', 'Radiolab', 'Radiolab', 'This American Life', 'Radiolab', 'Move Your DNA', 'This American Life', 'One Bad Mother', 'Radiolab', 'Radiolab', 'Welcome to Nightvale', 'This American Life', 'This American Life', 'This American Life', 'This American Life', 'This American Life', 'One Bad Mother', 'This American Life', 'This American Life', 'This American Life', 'This American Life', 'This American Life', 'This American Life', 'This American Life', 'This American Life', 'Bullseye with Jesse Thorn', 'Radiolab', 'The Greatest Generation', 'Radiolab', 'Bullseye with Jesse Thorn', 'This American Life', 'Welcome to Nightvale', 'Move Your DNA', 'Friendly Fire', 'Welcome to Nightvale', 'This American Life', 'Judge John Hodgman', 'This American Life', 'Move Your DNA', 'Welcome to Nightvale', 'This American Life', 'Move Your DNA', 'This American Life', 'This American Life', 'This American Life', 'This American Life', 'This American Life', 'This American Life', 'Switchblade Sisters', 'This American Life', 'This American Life', 'Bullseye with Jesse Thorn', 'This American Life', 'This American Life', 'This American Life', 'Move Your DNA', 'This American Life', 'Welcome to Nightvale', 'This American Life', 'This American Life', 'Radiolab', 'This American Life', 'This American Life', 'This American Life', 'Judge John Hodgman', 'This American Life', 'The Adventure Zone', 'Welcome to Nightvale', 'This American Life', 'This American Life', 'This American Life', 'This American Life', 'This American Life', 'MBMBaM', 'This American Life', 'Bullseye with Jesse Thorn', 'Move Your DNA', 'This American Life', 'Welcome to Nightvale', 'Welcome to Nightvale', 'This American Life', 'Welcome to Nightvale', 'Shmanners', 'This American Life', 'This American Life', 'Welcome to Nightvale', 'Bullseye with Jesse Thorn', 'This American Life', 'This American Life', 'Sawbones', 'Welcome to Nightvale', 'This American Life', 'This American Life', 'Radiolab', 'This American Life', 'This American Life'], name='True')"
   ]
  },
  {
   "cell_type": "code",
   "execution_count": 4,
   "metadata": {},
   "outputs": [
    {
     "data": {
      "text/plain": [
       "<Figure size 1000x1000 with 2 Axes>"
      ]
     },
     "metadata": {},
     "output_type": "display_data"
    }
   ],
   "source": [
    "from sklearn.metrics import confusion_matrix\n",
    "from sklearn.metrics import accuracy_score\n",
    "\n",
    "import seaborn as sns\n",
    "import matplotlib.pyplot as plt\n",
    "import numpy as np\n",
    "\n",
    "# function to show confusion matrix\n",
    "def plot_cm(y_test, y_pred, model_name, ticks):\n",
    "    fig, ax = plt.subplots(figsize=(10,10))\n",
    "    cm = confusion_matrix(y_test, y_pred)\n",
    "    sns.heatmap(cm, square=True, annot=True, fmt='d', cmap='Blues',\n",
    "                xticklabels=ticks, yticklabels=ticks, ax=ax)\n",
    "    plt.xlabel('predicted label')\n",
    "    plt.ylabel('true label')\n",
    "    plt.title(f'{model_name} accuracy: {accuracy_score(y_test, y_pred)*100:0.4f}%'.format(model_name, accuracy_score(y_test, y_pred)))\n",
    "    fig.savefig('../figures/lexical_features/title_predict.pdf')\n",
    "    plt.show()\n",
    "    \n",
    "plot_cm(y_test, y_pred, 'Title', sorted(set(y_test)))"
   ]
  },
  {
   "cell_type": "code",
   "execution_count": null,
   "metadata": {},
   "outputs": [],
   "source": []
  },
  {
   "cell_type": "markdown",
   "metadata": {},
   "source": [
    "Most Informative Features:\n",
    "Bullseye with Jesse Thorn: ramy, life, nominated, 2020, bullseye, isley, van, songwriter, david, padma, toast, creator, grammy, cartoonist, fargo, ted, black, author, comedian, kyle\n",
    "Friendly Fire: motherhood, motivation, musician, mountain, movement, movements, moves, movies, moving, movnat, mr, mrs, mudstone, murder, murphy, museum, mousetrap, zone, draft, final\n",
    "Judge John Hodgman: ruck, store, tippecanoe, salad, quilts, vampirical, supply, weird, parties, emily, neverlandmark, dance, animal, club, scallops, cat, thief, terrarium, torte, sandwich\n",
    "MBMBaM: eyes, blood, 202, angels, vicki, prescription, naming, ragnarok, thicker, bros, tesseract, viscous, mopeytones, ratashootie, radical, wizard, metallica, throw, pepperoni, quantum\n",
    "Move Your DNA: social, media, actions, school, katy, natural, breastfeeding, alignment, feet, did, food, ecology, taking, action, base, nature, moves, matters, mailbag, movement\n",
    "NeoScum: away, action, stephen, camera, lights, rhon, good, dead, edge, walking, quarter, fight, riddance, actions, raw, come, open, run, looking, night\n",
    "One Bad Mother: slay, myth, reading, symptom, halloween, wants, todd, rennebohm, ursin, kids, obm, memories, help, ll, parenting, really, peasy, year, talk, plus\n",
    "Radiolab: little, graham, special, oliver, redux, right, crispr, presents, post, border, trilogy, line, sex, breaking, radiolab, gonads, perfect, episode, latif, dispatch\n",
    "Sawbones: media, voters, osteopathic, 19, sterilization, oleander, trials, immunity, 202, death, mewing, osmosis, needles, nostalgia, medicine, questions, medical, vaccine, health, covid\n",
    "Shmanners: ask, sales, pirate, norman, pasta, noodles, rockwell, mayor, rummage, pt1, beer, love, poetry, transgender, treasure, suspenders, potter, parties, pt, idioms\n",
    "Switchblade Sisters: prince, relic, thirst, natalie, thelma, unpregnant, rachel, prevenge, wolves, border, romola, heist, double, emily, reichardt, pillaged, sandoval, murphy, actor, director\n",
    "The Adventure Zone: hell, rock, day, place, special, creative, like, pal, princi, frenemies, writing, halloween, work, little, hand, things, trip, high, open, sunk\n",
    "The Flophouse: negro, halloween, happy, mcelroy, justin, scooby, money, flynn, wild, uninvited, thorn, battle, plane, worlds, slayer, island, weeks, christmas, monsters, live\n",
    "The Greatest Generation: motherhood, motivation, musician, mountain, movement, movements, moves, movies, moving, movnat, mr, mrs, mudstone, murder, murphy, museum, mousetrap, zone, draft, final\n",
    "This American Life: living, father, secret, enemy, house, change, money, life, valentine, come, save, christmas, middle, home, know, thing, words, slam, poultry, day\n",
    "Unlocking Us: man, black, art, lives, race, priya, parker, recognizing, yaba, words, uncomfortable, moment, walsh, rudolph, actions, melinda, john, love, dr, brené\n",
    "Welcome to Nightvale: council, faceless, boy, whos, marvin, fall, love, door, ajar, matter, egemony, flight, sandstorm, town, blood, week, monologues, heist, time, story\n",
    "Wonderful: hot, red, noids, michaels, thats, rare, party, inside, powerful, dance, yuuuuup, pilot, scent, ricolaaaaaahhhh, funeral, grandpa, milk, atomic, potions, gak\n",
    "You're Wrong About: saving, miss, movement, news, dark, strike, newsboys, bonus, relatives, vs, vaccine, metal, gore, tipper, heavy, prison, williams, vanessa, trial, simpson\n",
    "\n"
   ]
  }
 ],
 "metadata": {
  "kernelspec": {
   "display_name": "Python 3.7",
   "language": "python",
   "name": "python3"
  },
  "language_info": {
   "codemirror_mode": {
    "name": "ipython",
    "version": 3
   },
   "file_extension": ".py",
   "mimetype": "text/x-python",
   "name": "python",
   "nbconvert_exporter": "python",
   "pygments_lexer": "ipython3",
   "version": "3.7.0"
  }
 },
 "nbformat": 4,
 "nbformat_minor": 4
}
